{
 "cells": [
  {
   "cell_type": "code",
   "execution_count": 24,
   "metadata": {},
   "outputs": [],
   "source": [
    "import sklearn\n",
    "import pandas as pd\n",
    "import numpy as np\n",
    "import matplotlib.pyplot as plt\n",
    "import plotly.express as px"
   ]
  },
  {
   "cell_type": "code",
   "execution_count": 25,
   "metadata": {},
   "outputs": [
    {
     "data": {
      "text/html": [
       "<div>\n",
       "<style scoped>\n",
       "    .dataframe tbody tr th:only-of-type {\n",
       "        vertical-align: middle;\n",
       "    }\n",
       "\n",
       "    .dataframe tbody tr th {\n",
       "        vertical-align: top;\n",
       "    }\n",
       "\n",
       "    .dataframe thead th {\n",
       "        text-align: right;\n",
       "    }\n",
       "</style>\n",
       "<table border=\"1\" class=\"dataframe\">\n",
       "  <thead>\n",
       "    <tr style=\"text-align: right;\">\n",
       "      <th></th>\n",
       "      <th>laptop_ID</th>\n",
       "      <th>Company</th>\n",
       "      <th>Product</th>\n",
       "      <th>TypeName</th>\n",
       "      <th>Inches</th>\n",
       "      <th>ScreenResolution</th>\n",
       "      <th>Cpu</th>\n",
       "      <th>Ram</th>\n",
       "      <th>Memory</th>\n",
       "      <th>Gpu</th>\n",
       "      <th>OpSys</th>\n",
       "      <th>Weight</th>\n",
       "      <th>Price_in_euros</th>\n",
       "    </tr>\n",
       "  </thead>\n",
       "  <tbody>\n",
       "    <tr>\n",
       "      <th>0</th>\n",
       "      <td>1</td>\n",
       "      <td>Apple</td>\n",
       "      <td>MacBook Pro</td>\n",
       "      <td>Ultrabook</td>\n",
       "      <td>13.3</td>\n",
       "      <td>IPS Panel Retina Display 2560x1600</td>\n",
       "      <td>Intel Core i5 2.3GHz</td>\n",
       "      <td>8GB</td>\n",
       "      <td>128GB SSD</td>\n",
       "      <td>Intel Iris Plus Graphics 640</td>\n",
       "      <td>macOS</td>\n",
       "      <td>1.37kg</td>\n",
       "      <td>1339.69</td>\n",
       "    </tr>\n",
       "    <tr>\n",
       "      <th>1</th>\n",
       "      <td>2</td>\n",
       "      <td>Apple</td>\n",
       "      <td>Macbook Air</td>\n",
       "      <td>Ultrabook</td>\n",
       "      <td>13.3</td>\n",
       "      <td>1440x900</td>\n",
       "      <td>Intel Core i5 1.8GHz</td>\n",
       "      <td>8GB</td>\n",
       "      <td>128GB Flash Storage</td>\n",
       "      <td>Intel HD Graphics 6000</td>\n",
       "      <td>macOS</td>\n",
       "      <td>1.34kg</td>\n",
       "      <td>898.94</td>\n",
       "    </tr>\n",
       "    <tr>\n",
       "      <th>2</th>\n",
       "      <td>3</td>\n",
       "      <td>HP</td>\n",
       "      <td>250 G6</td>\n",
       "      <td>Notebook</td>\n",
       "      <td>15.6</td>\n",
       "      <td>Full HD 1920x1080</td>\n",
       "      <td>Intel Core i5 7200U 2.5GHz</td>\n",
       "      <td>8GB</td>\n",
       "      <td>256GB SSD</td>\n",
       "      <td>Intel HD Graphics 620</td>\n",
       "      <td>No OS</td>\n",
       "      <td>1.86kg</td>\n",
       "      <td>575.00</td>\n",
       "    </tr>\n",
       "    <tr>\n",
       "      <th>3</th>\n",
       "      <td>4</td>\n",
       "      <td>Apple</td>\n",
       "      <td>MacBook Pro</td>\n",
       "      <td>Ultrabook</td>\n",
       "      <td>15.4</td>\n",
       "      <td>IPS Panel Retina Display 2880x1800</td>\n",
       "      <td>Intel Core i7 2.7GHz</td>\n",
       "      <td>16GB</td>\n",
       "      <td>512GB SSD</td>\n",
       "      <td>AMD Radeon Pro 455</td>\n",
       "      <td>macOS</td>\n",
       "      <td>1.83kg</td>\n",
       "      <td>2537.45</td>\n",
       "    </tr>\n",
       "    <tr>\n",
       "      <th>4</th>\n",
       "      <td>5</td>\n",
       "      <td>Apple</td>\n",
       "      <td>MacBook Pro</td>\n",
       "      <td>Ultrabook</td>\n",
       "      <td>13.3</td>\n",
       "      <td>IPS Panel Retina Display 2560x1600</td>\n",
       "      <td>Intel Core i5 3.1GHz</td>\n",
       "      <td>8GB</td>\n",
       "      <td>256GB SSD</td>\n",
       "      <td>Intel Iris Plus Graphics 650</td>\n",
       "      <td>macOS</td>\n",
       "      <td>1.37kg</td>\n",
       "      <td>1803.60</td>\n",
       "    </tr>\n",
       "  </tbody>\n",
       "</table>\n",
       "</div>"
      ],
      "text/plain": [
       "   laptop_ID Company      Product   TypeName  Inches  \\\n",
       "0          1   Apple  MacBook Pro  Ultrabook    13.3   \n",
       "1          2   Apple  Macbook Air  Ultrabook    13.3   \n",
       "2          3      HP       250 G6   Notebook    15.6   \n",
       "3          4   Apple  MacBook Pro  Ultrabook    15.4   \n",
       "4          5   Apple  MacBook Pro  Ultrabook    13.3   \n",
       "\n",
       "                     ScreenResolution                         Cpu   Ram  \\\n",
       "0  IPS Panel Retina Display 2560x1600        Intel Core i5 2.3GHz   8GB   \n",
       "1                            1440x900        Intel Core i5 1.8GHz   8GB   \n",
       "2                   Full HD 1920x1080  Intel Core i5 7200U 2.5GHz   8GB   \n",
       "3  IPS Panel Retina Display 2880x1800        Intel Core i7 2.7GHz  16GB   \n",
       "4  IPS Panel Retina Display 2560x1600        Intel Core i5 3.1GHz   8GB   \n",
       "\n",
       "                Memory                           Gpu  OpSys  Weight  \\\n",
       "0            128GB SSD  Intel Iris Plus Graphics 640  macOS  1.37kg   \n",
       "1  128GB Flash Storage        Intel HD Graphics 6000  macOS  1.34kg   \n",
       "2            256GB SSD         Intel HD Graphics 620  No OS  1.86kg   \n",
       "3            512GB SSD            AMD Radeon Pro 455  macOS  1.83kg   \n",
       "4            256GB SSD  Intel Iris Plus Graphics 650  macOS  1.37kg   \n",
       "\n",
       "   Price_in_euros  \n",
       "0         1339.69  \n",
       "1          898.94  \n",
       "2          575.00  \n",
       "3         2537.45  \n",
       "4         1803.60  "
      ]
     },
     "execution_count": 25,
     "metadata": {},
     "output_type": "execute_result"
    }
   ],
   "source": [
    "df = pd.read_csv('datasets/laptop_prices.csv')\n",
    "\n",
    "df.head()"
   ]
  },
  {
   "cell_type": "code",
   "execution_count": 26,
   "metadata": {},
   "outputs": [
    {
     "name": "stdout",
     "output_type": "stream",
     "text": [
      "<class 'pandas.core.frame.DataFrame'>\n",
      "RangeIndex: 1303 entries, 0 to 1302\n",
      "Data columns (total 13 columns):\n",
      " #   Column            Non-Null Count  Dtype  \n",
      "---  ------            --------------  -----  \n",
      " 0   laptop_ID         1303 non-null   int64  \n",
      " 1   Company           1303 non-null   object \n",
      " 2   Product           1303 non-null   object \n",
      " 3   TypeName          1303 non-null   object \n",
      " 4   Inches            1303 non-null   float64\n",
      " 5   ScreenResolution  1303 non-null   object \n",
      " 6   Cpu               1303 non-null   object \n",
      " 7   Ram               1303 non-null   object \n",
      " 8   Memory            1303 non-null   object \n",
      " 9   Gpu               1303 non-null   object \n",
      " 10  OpSys             1303 non-null   object \n",
      " 11  Weight            1303 non-null   object \n",
      " 12  Price_in_euros    1303 non-null   float64\n",
      "dtypes: float64(2), int64(1), object(10)\n",
      "memory usage: 132.5+ KB\n"
     ]
    }
   ],
   "source": [
    "df.info()\n"
   ]
  },
  {
   "cell_type": "code",
   "execution_count": 27,
   "metadata": {},
   "outputs": [
    {
     "data": {
      "application/vnd.plotly.v1+json": {
       "config": {
        "plotlyServerURL": "https://plot.ly"
       },
       "data": [
        {
         "alignmentgroup": "True",
         "bingroup": "x",
         "hovertemplate": "Company=%{x}<br>count=%{y}<extra></extra>",
         "legendgroup": "",
         "marker": {
          "color": "#636efa",
          "pattern": {
           "shape": ""
          }
         },
         "name": "",
         "offsetgroup": "",
         "orientation": "v",
         "showlegend": false,
         "type": "histogram",
         "x": [
          "Apple",
          "Apple",
          "HP",
          "Apple",
          "Apple",
          "Acer",
          "Apple",
          "Apple",
          "Asus",
          "Acer",
          "HP",
          "HP",
          "Apple",
          "Dell",
          "Apple",
          "Apple",
          "Dell",
          "Apple",
          "Lenovo",
          "Dell",
          "Asus",
          "Lenovo",
          "HP",
          "Dell",
          "HP",
          "Dell",
          "Apple",
          "Dell",
          "Dell",
          "HP",
          "Chuwi",
          "Asus",
          "HP",
          "Dell",
          "Apple",
          "Lenovo",
          "Acer",
          "Dell",
          "HP",
          "HP",
          "Asus",
          "Dell",
          "Asus",
          "Acer",
          "Dell",
          "Apple",
          "Lenovo",
          "Asus",
          "Dell",
          "Asus",
          "Lenovo",
          "Acer",
          "HP",
          "HP",
          "Acer",
          "Dell",
          "HP",
          "Asus",
          "MSI",
          "Asus",
          "Dell",
          "Dell",
          "Lenovo",
          "Asus",
          "HP",
          "Asus",
          "HP",
          "HP",
          "Lenovo",
          "Asus",
          "Microsoft",
          "Dell",
          "Dell",
          "MSI",
          "Acer",
          "Asus",
          "Lenovo",
          "Dell",
          "Acer",
          "HP",
          "Dell",
          "Apple",
          "HP",
          "Lenovo",
          "Acer",
          "Dell",
          "HP",
          "HP",
          "Asus",
          "Dell",
          "Asus",
          "Acer",
          "HP",
          "Dell",
          "Asus",
          "Acer",
          "Dell",
          "Dell",
          "Asus",
          "HP",
          "HP",
          "HP",
          "Dell",
          "HP",
          "Microsoft",
          "HP",
          "Lenovo",
          "Asus",
          "MSI",
          "Lenovo",
          "Asus",
          "Dell",
          "Lenovo",
          "HP",
          "Dell",
          "HP",
          "HP",
          "Dell",
          "Asus",
          "Asus",
          "Acer",
          "MSI",
          "Lenovo",
          "HP",
          "Acer",
          "HP",
          "HP",
          "Asus",
          "Dell",
          "HP",
          "Dell",
          "Dell",
          "Acer",
          "Acer",
          "HP",
          "HP",
          "Lenovo",
          "Asus",
          "Lenovo",
          "HP",
          "Acer",
          "Lenovo",
          "Lenovo",
          "Toshiba",
          "HP",
          "Asus",
          "HP",
          "Asus",
          "MSI",
          "Acer",
          "Dell",
          "Dell",
          "Lenovo",
          "MSI",
          "HP",
          "HP",
          "Lenovo",
          "Asus",
          "Dell",
          "Toshiba",
          "Asus",
          "Acer",
          "Dell",
          "Lenovo",
          "Acer",
          "MSI",
          "Acer",
          "Dell",
          "Acer",
          "HP",
          "Huawei",
          "HP",
          "Lenovo",
          "Toshiba",
          "HP",
          "Dell",
          "Acer",
          "MSI",
          "Lenovo",
          "HP",
          "Dell",
          "Dell",
          "Lenovo",
          "Toshiba",
          "Xiaomi",
          "Dell",
          "Dell",
          "Lenovo",
          "Acer",
          "Dell",
          "Lenovo",
          "Vero",
          "Xiaomi",
          "Lenovo",
          "Dell",
          "HP",
          "Razer",
          "HP",
          "HP",
          "HP",
          "Dell",
          "Lenovo",
          "Acer",
          "Lenovo",
          "Dell",
          "Lenovo",
          "Dell",
          "Dell",
          "Dell",
          "Lenovo",
          "Acer",
          "Asus",
          "HP",
          "Lenovo",
          "Huawei",
          "Dell",
          "Lenovo",
          "HP",
          "Dell",
          "Dell",
          "Dell",
          "Lenovo",
          "Toshiba",
          "HP",
          "Dell",
          "Acer",
          "Dell",
          "Asus",
          "Asus",
          "HP",
          "Asus",
          "HP",
          "Lenovo",
          "Dell",
          "Acer",
          "Dell",
          "Acer",
          "Asus",
          "Asus",
          "Acer",
          "Lenovo",
          "Asus",
          "Asus",
          "Dell",
          "Lenovo",
          "Dell",
          "HP",
          "Asus",
          "HP",
          "Apple",
          "Dell",
          "Asus",
          "Asus",
          "Lenovo",
          "Acer",
          "Dell",
          "HP",
          "HP",
          "MSI",
          "Lenovo",
          "Dell",
          "Lenovo",
          "HP",
          "Dell",
          "Dell",
          "Dell",
          "Asus",
          "Lenovo",
          "HP",
          "Lenovo",
          "Apple",
          "Asus",
          "Dell",
          "Lenovo",
          "Toshiba",
          "Dell",
          "Dell",
          "Acer",
          "Lenovo",
          "Lenovo",
          "Lenovo",
          "Dell",
          "Lenovo",
          "Lenovo",
          "Acer",
          "Acer",
          "Lenovo",
          "Asus",
          "Lenovo",
          "Lenovo",
          "Acer",
          "Asus",
          "HP",
          "Dell",
          "Lenovo",
          "Lenovo",
          "Acer",
          "Dell",
          "Lenovo",
          "Asus",
          "Asus",
          "Asus",
          "Lenovo",
          "Lenovo",
          "Asus",
          "Lenovo",
          "HP",
          "Toshiba",
          "Lenovo",
          "HP",
          "Lenovo",
          "Dell",
          "MSI",
          "Acer",
          "Asus",
          "Dell",
          "HP",
          "Lenovo",
          "HP",
          "Acer",
          "HP",
          "Lenovo",
          "Asus",
          "HP",
          "Acer",
          "Lenovo",
          "Acer",
          "Asus",
          "HP",
          "Dell",
          "MSI",
          "Toshiba",
          "Asus",
          "Lenovo",
          "Asus",
          "HP",
          "Dell",
          "HP",
          "Asus",
          "Dell",
          "Dell",
          "Lenovo",
          "HP",
          "Lenovo",
          "Dell",
          "Lenovo",
          "HP",
          "Dell",
          "Asus",
          "Dell",
          "Dell",
          "HP",
          "MSI",
          "HP",
          "Toshiba",
          "Dell",
          "Lenovo",
          "Dell",
          "Dell",
          "Dell",
          "HP",
          "Asus",
          "Lenovo",
          "HP",
          "Lenovo",
          "HP",
          "Dell",
          "Lenovo",
          "Dell",
          "HP",
          "Asus",
          "Acer",
          "Asus",
          "Lenovo",
          "Dell",
          "HP",
          "Lenovo",
          "Dell",
          "Asus",
          "Acer",
          "HP",
          "Lenovo",
          "Asus",
          "Lenovo",
          "Asus",
          "Lenovo",
          "Lenovo",
          "Dell",
          "Dell",
          "Lenovo",
          "Asus",
          "Asus",
          "Acer",
          "MSI",
          "Dell",
          "HP",
          "Lenovo",
          "Lenovo",
          "Dell",
          "Lenovo",
          "Lenovo",
          "Asus",
          "Lenovo",
          "Acer",
          "MSI",
          "Asus",
          "Toshiba",
          "Dell",
          "Lenovo",
          "Lenovo",
          "Lenovo",
          "Lenovo",
          "HP",
          "Acer",
          "Asus",
          "Dell",
          "Dell",
          "HP",
          "Dell",
          "Lenovo",
          "Lenovo",
          "Chuwi",
          "HP",
          "Asus",
          "Dell",
          "Dell",
          "Dell",
          "Dell",
          "HP",
          "Mediacom",
          "Samsung",
          "Lenovo",
          "Lenovo",
          "Lenovo",
          "Lenovo",
          "Asus",
          "HP",
          "Google",
          "Lenovo",
          "Asus",
          "Lenovo",
          "Dell",
          "Lenovo",
          "Lenovo",
          "HP",
          "Dell",
          "Acer",
          "Dell",
          "MSI",
          "Microsoft",
          "HP",
          "Dell",
          "HP",
          "Lenovo",
          "Dell",
          "Dell",
          "Dell",
          "Microsoft",
          "Microsoft",
          "HP",
          "Acer",
          "Acer",
          "Asus",
          "Lenovo",
          "Lenovo",
          "Asus",
          "Acer",
          "Dell",
          "HP",
          "Lenovo",
          "HP",
          "HP",
          "Google",
          "Dell",
          "Asus",
          "Dell",
          "Dell",
          "Lenovo",
          "Dell",
          "Toshiba",
          "Dell",
          "Dell",
          "HP",
          "Chuwi",
          "Lenovo",
          "Lenovo",
          "Dell",
          "Dell",
          "Lenovo",
          "Asus",
          "Lenovo",
          "Toshiba",
          "Asus",
          "Acer",
          "Asus",
          "Lenovo",
          "Lenovo",
          "HP",
          "Lenovo",
          "Lenovo",
          "Asus",
          "HP",
          "Lenovo",
          "Lenovo",
          "Lenovo",
          "Lenovo",
          "Asus",
          "Acer",
          "HP",
          "Lenovo",
          "Dell",
          "Acer",
          "Dell",
          "Dell",
          "Xiaomi",
          "Asus",
          "HP",
          "Asus",
          "HP",
          "Asus",
          "Lenovo",
          "HP",
          "Dell",
          "HP",
          "Dell",
          "Lenovo",
          "Lenovo",
          "Lenovo",
          "Dell",
          "Dell",
          "Dell",
          "Toshiba",
          "Asus",
          "Mediacom",
          "Asus",
          "Dell",
          "Dell",
          "HP",
          "HP",
          "Lenovo",
          "Dell",
          "Dell",
          "HP",
          "Acer",
          "Asus",
          "HP",
          "Lenovo",
          "Lenovo",
          "HP",
          "Lenovo",
          "Lenovo",
          "Dell",
          "Dell",
          "HP",
          "HP",
          "Asus",
          "Mediacom",
          "Lenovo",
          "HP",
          "Dell",
          "Acer",
          "Lenovo",
          "HP",
          "Lenovo",
          "Asus",
          "Dell",
          "Dell",
          "Fujitsu",
          "Lenovo",
          "Lenovo",
          "HP",
          "HP",
          "HP",
          "Lenovo",
          "Lenovo",
          "Mediacom",
          "Toshiba",
          "Lenovo",
          "MSI",
          "Dell",
          "Mediacom",
          "Dell",
          "HP",
          "Dell",
          "Dell",
          "MSI",
          "HP",
          "Lenovo",
          "Lenovo",
          "Asus",
          "Asus",
          "Lenovo",
          "Dell",
          "Samsung",
          "Lenovo",
          "Lenovo",
          "Lenovo",
          "Lenovo",
          "Dell",
          "Dell",
          "HP",
          "HP",
          "Acer",
          "MSI",
          "Dell",
          "MSI",
          "Toshiba",
          "Lenovo",
          "Lenovo",
          "Acer",
          "Lenovo",
          "Dell",
          "Dell",
          "Dell",
          "Dell",
          "Asus",
          "Dell",
          "HP",
          "MSI",
          "Acer",
          "HP",
          "Lenovo",
          "Dell",
          "Fujitsu",
          "HP",
          "Lenovo",
          "Mediacom",
          "Lenovo",
          "Asus",
          "Dell",
          "Asus",
          "Dell",
          "Lenovo",
          "Lenovo",
          "Asus",
          "Asus",
          "Dell",
          "Lenovo",
          "Lenovo",
          "Dell",
          "Lenovo",
          "HP",
          "Lenovo",
          "Asus",
          "Acer",
          "Lenovo",
          "Acer",
          "Razer",
          "Toshiba",
          "Lenovo",
          "Asus",
          "Acer",
          "Dell",
          "MSI",
          "HP",
          "Toshiba",
          "Dell",
          "Dell",
          "Lenovo",
          "Dell",
          "Dell",
          "Lenovo",
          "Lenovo",
          "HP",
          "MSI",
          "Toshiba",
          "Dell",
          "HP",
          "Toshiba",
          "Acer",
          "Microsoft",
          "Lenovo",
          "Lenovo",
          "Lenovo",
          "HP",
          "MSI",
          "Asus",
          "HP",
          "LG",
          "Acer",
          "MSI",
          "Asus",
          "Dell",
          "HP",
          "Lenovo",
          "Dell",
          "HP",
          "Dell",
          "HP",
          "Lenovo",
          "Acer",
          "Lenovo",
          "HP",
          "Lenovo",
          "Toshiba",
          "Acer",
          "Lenovo",
          "Asus",
          "Toshiba",
          "HP",
          "Dell",
          "Lenovo",
          "Lenovo",
          "Lenovo",
          "Lenovo",
          "Dell",
          "Acer",
          "Lenovo",
          "Lenovo",
          "HP",
          "Lenovo",
          "Dell",
          "Dell",
          "Asus",
          "Dell",
          "Lenovo",
          "Dell",
          "Lenovo",
          "Mediacom",
          "HP",
          "Lenovo",
          "HP",
          "Lenovo",
          "Dell",
          "MSI",
          "Lenovo",
          "Dell",
          "Dell",
          "Dell",
          "HP",
          "Acer",
          "Dell",
          "HP",
          "Acer",
          "Lenovo",
          "Lenovo",
          "HP",
          "Dell",
          "MSI",
          "Acer",
          "Dell",
          "Dell",
          "Toshiba",
          "Lenovo",
          "Lenovo",
          "Acer",
          "Samsung",
          "HP",
          "Dell",
          "HP",
          "Lenovo",
          "HP",
          "Asus",
          "Lenovo",
          "Asus",
          "Lenovo",
          "HP",
          "HP",
          "Dell",
          "Acer",
          "Lenovo",
          "Dell",
          "Google",
          "Asus",
          "Dell",
          "Acer",
          "Asus",
          "Dell",
          "Samsung",
          "Acer",
          "Dell",
          "Samsung",
          "Toshiba",
          "Dell",
          "HP",
          "Asus",
          "Lenovo",
          "Acer",
          "Razer",
          "Asus",
          "Dell",
          "Asus",
          "Toshiba",
          "Lenovo",
          "Lenovo",
          "MSI",
          "MSI",
          "Lenovo",
          "Acer",
          "Dell",
          "Asus",
          "Vero",
          "Lenovo",
          "Lenovo",
          "Apple",
          "Lenovo",
          "Asus",
          "Dell",
          "Lenovo",
          "Dell",
          "HP",
          "Asus",
          "Dell",
          "Dell",
          "Dell",
          "HP",
          "Toshiba",
          "HP",
          "Dell",
          "Lenovo",
          "HP",
          "MSI",
          "Samsung",
          "Dell",
          "Dell",
          "Lenovo",
          "Razer",
          "HP",
          "Dell",
          "Dell",
          "Lenovo",
          "Toshiba",
          "Lenovo",
          "MSI",
          "Lenovo",
          "Toshiba",
          "Asus",
          "Dell",
          "Acer",
          "Acer",
          "Razer",
          "Lenovo",
          "Asus",
          "Lenovo",
          "Lenovo",
          "Dell",
          "Asus",
          "Toshiba",
          "Lenovo",
          "Asus",
          "Asus",
          "Dell",
          "HP",
          "Dell",
          "HP",
          "Dell",
          "HP",
          "Asus",
          "HP",
          "HP",
          "HP",
          "Asus",
          "Dell",
          "Lenovo",
          "Asus",
          "Dell",
          "Asus",
          "HP",
          "Dell",
          "Lenovo",
          "Lenovo",
          "HP",
          "Toshiba",
          "Lenovo",
          "Dell",
          "HP",
          "Toshiba",
          "Lenovo",
          "Acer",
          "Dell",
          "Lenovo",
          "Lenovo",
          "Toshiba",
          "Lenovo",
          "Samsung",
          "Dell",
          "Asus",
          "Xiaomi",
          "Dell",
          "HP",
          "HP",
          "HP",
          "Asus",
          "Lenovo",
          "Dell",
          "HP",
          "Dell",
          "Asus",
          "Acer",
          "Lenovo",
          "HP",
          "HP",
          "Samsung",
          "Lenovo",
          "MSI",
          "Toshiba",
          "Dell",
          "HP",
          "Dell",
          "Dell",
          "Dell",
          "Asus",
          "Dell",
          "Lenovo",
          "Lenovo",
          "LG",
          "HP",
          "Acer",
          "Lenovo",
          "LG",
          "Dell",
          "HP",
          "Lenovo",
          "HP",
          "Acer",
          "Lenovo",
          "HP",
          "MSI",
          "Dell",
          "MSI",
          "Dell",
          "HP",
          "HP",
          "Toshiba",
          "Lenovo",
          "Dell",
          "Lenovo",
          "HP",
          "Dell",
          "HP",
          "Lenovo",
          "HP",
          "HP",
          "Lenovo",
          "Toshiba",
          "HP",
          "Dell",
          "MSI",
          "Dell",
          "Dell",
          "HP",
          "Asus",
          "Acer",
          "Toshiba",
          "Lenovo",
          "Lenovo",
          "Dell",
          "Lenovo",
          "Dell",
          "Acer",
          "HP",
          "Dell",
          "Toshiba",
          "Asus",
          "Lenovo",
          "Dell",
          "Dell",
          "HP",
          "Dell",
          "Acer",
          "Toshiba",
          "Lenovo",
          "Acer",
          "Toshiba",
          "HP",
          "Dell",
          "Dell",
          "HP",
          "Dell",
          "Lenovo",
          "Dell",
          "Dell",
          "Dell",
          "Toshiba",
          "Asus",
          "HP",
          "Lenovo",
          "Asus",
          "HP",
          "Asus",
          "Dell",
          "Toshiba",
          "Lenovo",
          "Fujitsu",
          "Toshiba",
          "Dell",
          "HP",
          "Lenovo",
          "Dell",
          "Dell",
          "HP",
          "HP",
          "Lenovo",
          "Lenovo",
          "Dell",
          "Asus",
          "HP",
          "Acer",
          "Asus",
          "HP",
          "Acer",
          "HP",
          "Dell",
          "HP",
          "Toshiba",
          "HP",
          "HP",
          "HP",
          "HP",
          "HP",
          "Dell",
          "HP",
          "HP",
          "HP",
          "HP",
          "Toshiba",
          "HP",
          "Lenovo",
          "Toshiba",
          "HP",
          "Dell",
          "Toshiba",
          "HP",
          "HP",
          "Dell",
          "HP",
          "HP",
          "HP",
          "Dell",
          "HP",
          "HP",
          "Acer",
          "MSI",
          "HP",
          "HP",
          "HP",
          "HP",
          "Toshiba",
          "Dell",
          "HP",
          "Lenovo",
          "Vero",
          "Toshiba",
          "Lenovo",
          "HP",
          "HP",
          "HP",
          "MSI",
          "Lenovo",
          "Asus",
          "Lenovo",
          "HP",
          "Dell",
          "HP",
          "Dell",
          "HP",
          "HP",
          "Acer",
          "Dell",
          "MSI",
          "HP",
          "Asus",
          "Dell",
          "Dell",
          "MSI",
          "Dell",
          "Asus",
          "Dell",
          "Dell",
          "Apple",
          "Dell",
          "HP",
          "HP",
          "HP",
          "Lenovo",
          "Lenovo",
          "Lenovo",
          "MSI",
          "Lenovo",
          "HP",
          "Lenovo",
          "Lenovo",
          "Lenovo",
          "HP",
          "Dell",
          "HP",
          "HP",
          "Lenovo",
          "HP",
          "Acer",
          "Dell",
          "HP",
          "Asus",
          "Dell",
          "HP",
          "Acer",
          "Dell",
          "MSI",
          "HP",
          "Asus",
          "Dell",
          "Dell",
          "Acer",
          "HP",
          "Lenovo",
          "Dell",
          "MSI",
          "Lenovo",
          "HP",
          "Asus",
          "HP",
          "Dell",
          "Lenovo",
          "HP",
          "Lenovo",
          "Dell",
          "Lenovo",
          "Razer",
          "Toshiba",
          "Asus",
          "Vero",
          "HP",
          "HP",
          "Dell",
          "Asus",
          "Lenovo",
          "Lenovo",
          "HP",
          "Lenovo",
          "HP",
          "HP",
          "Lenovo",
          "Asus",
          "HP",
          "Acer",
          "Lenovo",
          "HP",
          "Dell",
          "MSI",
          "HP",
          "Lenovo",
          "MSI",
          "HP",
          "HP",
          "HP",
          "HP",
          "HP",
          "Dell",
          "HP",
          "Lenovo",
          "Lenovo",
          "HP",
          "Lenovo",
          "Dell",
          "Dell",
          "HP",
          "MSI",
          "Lenovo",
          "Lenovo",
          "HP",
          "Lenovo",
          "MSI",
          "HP",
          "Lenovo",
          "HP",
          "Dell",
          "Lenovo",
          "Lenovo",
          "HP",
          "MSI",
          "HP",
          "HP",
          "Asus",
          "Lenovo",
          "Lenovo",
          "Asus",
          "Lenovo",
          "Lenovo",
          "MSI",
          "HP",
          "Lenovo",
          "Lenovo",
          "Dell",
          "Acer",
          "HP",
          "Asus",
          "Dell",
          "Acer",
          "Dell",
          "Acer",
          "Lenovo",
          "Samsung",
          "HP",
          "Apple",
          "Dell",
          "HP",
          "Lenovo",
          "Asus",
          "Acer",
          "MSI",
          "Dell",
          "Lenovo",
          "Dell",
          "Dell",
          "Asus",
          "Dell",
          "HP",
          "Lenovo",
          "Acer",
          "Asus",
          "Apple",
          "Asus",
          "MSI",
          "Dell",
          "Asus",
          "Acer",
          "Acer",
          "Lenovo",
          "Lenovo",
          "Acer",
          "Lenovo",
          "MSI",
          "HP",
          "Dell",
          "Dell",
          "Asus",
          "Dell",
          "Dell",
          "Lenovo",
          "MSI",
          "Lenovo",
          "Razer",
          "Dell",
          "MSI",
          "Apple",
          "HP",
          "HP",
          "Dell",
          "MSI",
          "Lenovo",
          "Lenovo",
          "Asus",
          "Acer",
          "Dell",
          "HP",
          "Asus",
          "Dell",
          "Asus",
          "Lenovo",
          "Dell",
          "Dell",
          "HP",
          "Lenovo",
          "Lenovo",
          "Dell",
          "Asus",
          "Asus",
          "Dell",
          "Lenovo",
          "MSI",
          "Lenovo",
          "Asus",
          "Dell",
          "Acer",
          "Dell",
          "Lenovo",
          "HP",
          "Dell",
          "HP",
          "Asus",
          "Lenovo",
          "Lenovo",
          "Lenovo",
          "HP",
          "Asus",
          "Asus",
          "Dell",
          "Acer",
          "Dell",
          "Lenovo",
          "HP",
          "Dell",
          "HP",
          "Asus",
          "Lenovo",
          "Lenovo",
          "Lenovo",
          "HP",
          "Asus",
          "Asus",
          "Dell",
          "Acer",
          "Dell",
          "Lenovo",
          "HP",
          "Dell",
          "HP",
          "Asus",
          "Lenovo",
          "Lenovo",
          "Lenovo",
          "HP",
          "Asus"
         ],
         "xaxis": "x",
         "yaxis": "y"
        }
       ],
       "layout": {
        "barmode": "relative",
        "legend": {
         "tracegroupgap": 0
        },
        "template": {
         "data": {
          "bar": [
           {
            "error_x": {
             "color": "#2a3f5f"
            },
            "error_y": {
             "color": "#2a3f5f"
            },
            "marker": {
             "line": {
              "color": "#E5ECF6",
              "width": 0.5
             },
             "pattern": {
              "fillmode": "overlay",
              "size": 10,
              "solidity": 0.2
             }
            },
            "type": "bar"
           }
          ],
          "barpolar": [
           {
            "marker": {
             "line": {
              "color": "#E5ECF6",
              "width": 0.5
             },
             "pattern": {
              "fillmode": "overlay",
              "size": 10,
              "solidity": 0.2
             }
            },
            "type": "barpolar"
           }
          ],
          "carpet": [
           {
            "aaxis": {
             "endlinecolor": "#2a3f5f",
             "gridcolor": "white",
             "linecolor": "white",
             "minorgridcolor": "white",
             "startlinecolor": "#2a3f5f"
            },
            "baxis": {
             "endlinecolor": "#2a3f5f",
             "gridcolor": "white",
             "linecolor": "white",
             "minorgridcolor": "white",
             "startlinecolor": "#2a3f5f"
            },
            "type": "carpet"
           }
          ],
          "choropleth": [
           {
            "colorbar": {
             "outlinewidth": 0,
             "ticks": ""
            },
            "type": "choropleth"
           }
          ],
          "contour": [
           {
            "colorbar": {
             "outlinewidth": 0,
             "ticks": ""
            },
            "colorscale": [
             [
              0,
              "#0d0887"
             ],
             [
              0.1111111111111111,
              "#46039f"
             ],
             [
              0.2222222222222222,
              "#7201a8"
             ],
             [
              0.3333333333333333,
              "#9c179e"
             ],
             [
              0.4444444444444444,
              "#bd3786"
             ],
             [
              0.5555555555555556,
              "#d8576b"
             ],
             [
              0.6666666666666666,
              "#ed7953"
             ],
             [
              0.7777777777777778,
              "#fb9f3a"
             ],
             [
              0.8888888888888888,
              "#fdca26"
             ],
             [
              1,
              "#f0f921"
             ]
            ],
            "type": "contour"
           }
          ],
          "contourcarpet": [
           {
            "colorbar": {
             "outlinewidth": 0,
             "ticks": ""
            },
            "type": "contourcarpet"
           }
          ],
          "heatmap": [
           {
            "colorbar": {
             "outlinewidth": 0,
             "ticks": ""
            },
            "colorscale": [
             [
              0,
              "#0d0887"
             ],
             [
              0.1111111111111111,
              "#46039f"
             ],
             [
              0.2222222222222222,
              "#7201a8"
             ],
             [
              0.3333333333333333,
              "#9c179e"
             ],
             [
              0.4444444444444444,
              "#bd3786"
             ],
             [
              0.5555555555555556,
              "#d8576b"
             ],
             [
              0.6666666666666666,
              "#ed7953"
             ],
             [
              0.7777777777777778,
              "#fb9f3a"
             ],
             [
              0.8888888888888888,
              "#fdca26"
             ],
             [
              1,
              "#f0f921"
             ]
            ],
            "type": "heatmap"
           }
          ],
          "heatmapgl": [
           {
            "colorbar": {
             "outlinewidth": 0,
             "ticks": ""
            },
            "colorscale": [
             [
              0,
              "#0d0887"
             ],
             [
              0.1111111111111111,
              "#46039f"
             ],
             [
              0.2222222222222222,
              "#7201a8"
             ],
             [
              0.3333333333333333,
              "#9c179e"
             ],
             [
              0.4444444444444444,
              "#bd3786"
             ],
             [
              0.5555555555555556,
              "#d8576b"
             ],
             [
              0.6666666666666666,
              "#ed7953"
             ],
             [
              0.7777777777777778,
              "#fb9f3a"
             ],
             [
              0.8888888888888888,
              "#fdca26"
             ],
             [
              1,
              "#f0f921"
             ]
            ],
            "type": "heatmapgl"
           }
          ],
          "histogram": [
           {
            "marker": {
             "pattern": {
              "fillmode": "overlay",
              "size": 10,
              "solidity": 0.2
             }
            },
            "type": "histogram"
           }
          ],
          "histogram2d": [
           {
            "colorbar": {
             "outlinewidth": 0,
             "ticks": ""
            },
            "colorscale": [
             [
              0,
              "#0d0887"
             ],
             [
              0.1111111111111111,
              "#46039f"
             ],
             [
              0.2222222222222222,
              "#7201a8"
             ],
             [
              0.3333333333333333,
              "#9c179e"
             ],
             [
              0.4444444444444444,
              "#bd3786"
             ],
             [
              0.5555555555555556,
              "#d8576b"
             ],
             [
              0.6666666666666666,
              "#ed7953"
             ],
             [
              0.7777777777777778,
              "#fb9f3a"
             ],
             [
              0.8888888888888888,
              "#fdca26"
             ],
             [
              1,
              "#f0f921"
             ]
            ],
            "type": "histogram2d"
           }
          ],
          "histogram2dcontour": [
           {
            "colorbar": {
             "outlinewidth": 0,
             "ticks": ""
            },
            "colorscale": [
             [
              0,
              "#0d0887"
             ],
             [
              0.1111111111111111,
              "#46039f"
             ],
             [
              0.2222222222222222,
              "#7201a8"
             ],
             [
              0.3333333333333333,
              "#9c179e"
             ],
             [
              0.4444444444444444,
              "#bd3786"
             ],
             [
              0.5555555555555556,
              "#d8576b"
             ],
             [
              0.6666666666666666,
              "#ed7953"
             ],
             [
              0.7777777777777778,
              "#fb9f3a"
             ],
             [
              0.8888888888888888,
              "#fdca26"
             ],
             [
              1,
              "#f0f921"
             ]
            ],
            "type": "histogram2dcontour"
           }
          ],
          "mesh3d": [
           {
            "colorbar": {
             "outlinewidth": 0,
             "ticks": ""
            },
            "type": "mesh3d"
           }
          ],
          "parcoords": [
           {
            "line": {
             "colorbar": {
              "outlinewidth": 0,
              "ticks": ""
             }
            },
            "type": "parcoords"
           }
          ],
          "pie": [
           {
            "automargin": true,
            "type": "pie"
           }
          ],
          "scatter": [
           {
            "fillpattern": {
             "fillmode": "overlay",
             "size": 10,
             "solidity": 0.2
            },
            "type": "scatter"
           }
          ],
          "scatter3d": [
           {
            "line": {
             "colorbar": {
              "outlinewidth": 0,
              "ticks": ""
             }
            },
            "marker": {
             "colorbar": {
              "outlinewidth": 0,
              "ticks": ""
             }
            },
            "type": "scatter3d"
           }
          ],
          "scattercarpet": [
           {
            "marker": {
             "colorbar": {
              "outlinewidth": 0,
              "ticks": ""
             }
            },
            "type": "scattercarpet"
           }
          ],
          "scattergeo": [
           {
            "marker": {
             "colorbar": {
              "outlinewidth": 0,
              "ticks": ""
             }
            },
            "type": "scattergeo"
           }
          ],
          "scattergl": [
           {
            "marker": {
             "colorbar": {
              "outlinewidth": 0,
              "ticks": ""
             }
            },
            "type": "scattergl"
           }
          ],
          "scattermapbox": [
           {
            "marker": {
             "colorbar": {
              "outlinewidth": 0,
              "ticks": ""
             }
            },
            "type": "scattermapbox"
           }
          ],
          "scatterpolar": [
           {
            "marker": {
             "colorbar": {
              "outlinewidth": 0,
              "ticks": ""
             }
            },
            "type": "scatterpolar"
           }
          ],
          "scatterpolargl": [
           {
            "marker": {
             "colorbar": {
              "outlinewidth": 0,
              "ticks": ""
             }
            },
            "type": "scatterpolargl"
           }
          ],
          "scatterternary": [
           {
            "marker": {
             "colorbar": {
              "outlinewidth": 0,
              "ticks": ""
             }
            },
            "type": "scatterternary"
           }
          ],
          "surface": [
           {
            "colorbar": {
             "outlinewidth": 0,
             "ticks": ""
            },
            "colorscale": [
             [
              0,
              "#0d0887"
             ],
             [
              0.1111111111111111,
              "#46039f"
             ],
             [
              0.2222222222222222,
              "#7201a8"
             ],
             [
              0.3333333333333333,
              "#9c179e"
             ],
             [
              0.4444444444444444,
              "#bd3786"
             ],
             [
              0.5555555555555556,
              "#d8576b"
             ],
             [
              0.6666666666666666,
              "#ed7953"
             ],
             [
              0.7777777777777778,
              "#fb9f3a"
             ],
             [
              0.8888888888888888,
              "#fdca26"
             ],
             [
              1,
              "#f0f921"
             ]
            ],
            "type": "surface"
           }
          ],
          "table": [
           {
            "cells": {
             "fill": {
              "color": "#EBF0F8"
             },
             "line": {
              "color": "white"
             }
            },
            "header": {
             "fill": {
              "color": "#C8D4E3"
             },
             "line": {
              "color": "white"
             }
            },
            "type": "table"
           }
          ]
         },
         "layout": {
          "annotationdefaults": {
           "arrowcolor": "#2a3f5f",
           "arrowhead": 0,
           "arrowwidth": 1
          },
          "autotypenumbers": "strict",
          "coloraxis": {
           "colorbar": {
            "outlinewidth": 0,
            "ticks": ""
           }
          },
          "colorscale": {
           "diverging": [
            [
             0,
             "#8e0152"
            ],
            [
             0.1,
             "#c51b7d"
            ],
            [
             0.2,
             "#de77ae"
            ],
            [
             0.3,
             "#f1b6da"
            ],
            [
             0.4,
             "#fde0ef"
            ],
            [
             0.5,
             "#f7f7f7"
            ],
            [
             0.6,
             "#e6f5d0"
            ],
            [
             0.7,
             "#b8e186"
            ],
            [
             0.8,
             "#7fbc41"
            ],
            [
             0.9,
             "#4d9221"
            ],
            [
             1,
             "#276419"
            ]
           ],
           "sequential": [
            [
             0,
             "#0d0887"
            ],
            [
             0.1111111111111111,
             "#46039f"
            ],
            [
             0.2222222222222222,
             "#7201a8"
            ],
            [
             0.3333333333333333,
             "#9c179e"
            ],
            [
             0.4444444444444444,
             "#bd3786"
            ],
            [
             0.5555555555555556,
             "#d8576b"
            ],
            [
             0.6666666666666666,
             "#ed7953"
            ],
            [
             0.7777777777777778,
             "#fb9f3a"
            ],
            [
             0.8888888888888888,
             "#fdca26"
            ],
            [
             1,
             "#f0f921"
            ]
           ],
           "sequentialminus": [
            [
             0,
             "#0d0887"
            ],
            [
             0.1111111111111111,
             "#46039f"
            ],
            [
             0.2222222222222222,
             "#7201a8"
            ],
            [
             0.3333333333333333,
             "#9c179e"
            ],
            [
             0.4444444444444444,
             "#bd3786"
            ],
            [
             0.5555555555555556,
             "#d8576b"
            ],
            [
             0.6666666666666666,
             "#ed7953"
            ],
            [
             0.7777777777777778,
             "#fb9f3a"
            ],
            [
             0.8888888888888888,
             "#fdca26"
            ],
            [
             1,
             "#f0f921"
            ]
           ]
          },
          "colorway": [
           "#636efa",
           "#EF553B",
           "#00cc96",
           "#ab63fa",
           "#FFA15A",
           "#19d3f3",
           "#FF6692",
           "#B6E880",
           "#FF97FF",
           "#FECB52"
          ],
          "font": {
           "color": "#2a3f5f"
          },
          "geo": {
           "bgcolor": "white",
           "lakecolor": "white",
           "landcolor": "#E5ECF6",
           "showlakes": true,
           "showland": true,
           "subunitcolor": "white"
          },
          "hoverlabel": {
           "align": "left"
          },
          "hovermode": "closest",
          "mapbox": {
           "style": "light"
          },
          "paper_bgcolor": "white",
          "plot_bgcolor": "#E5ECF6",
          "polar": {
           "angularaxis": {
            "gridcolor": "white",
            "linecolor": "white",
            "ticks": ""
           },
           "bgcolor": "#E5ECF6",
           "radialaxis": {
            "gridcolor": "white",
            "linecolor": "white",
            "ticks": ""
           }
          },
          "scene": {
           "xaxis": {
            "backgroundcolor": "#E5ECF6",
            "gridcolor": "white",
            "gridwidth": 2,
            "linecolor": "white",
            "showbackground": true,
            "ticks": "",
            "zerolinecolor": "white"
           },
           "yaxis": {
            "backgroundcolor": "#E5ECF6",
            "gridcolor": "white",
            "gridwidth": 2,
            "linecolor": "white",
            "showbackground": true,
            "ticks": "",
            "zerolinecolor": "white"
           },
           "zaxis": {
            "backgroundcolor": "#E5ECF6",
            "gridcolor": "white",
            "gridwidth": 2,
            "linecolor": "white",
            "showbackground": true,
            "ticks": "",
            "zerolinecolor": "white"
           }
          },
          "shapedefaults": {
           "line": {
            "color": "#2a3f5f"
           }
          },
          "ternary": {
           "aaxis": {
            "gridcolor": "white",
            "linecolor": "white",
            "ticks": ""
           },
           "baxis": {
            "gridcolor": "white",
            "linecolor": "white",
            "ticks": ""
           },
           "bgcolor": "#E5ECF6",
           "caxis": {
            "gridcolor": "white",
            "linecolor": "white",
            "ticks": ""
           }
          },
          "title": {
           "x": 0.05
          },
          "xaxis": {
           "automargin": true,
           "gridcolor": "white",
           "linecolor": "white",
           "ticks": "",
           "title": {
            "standoff": 15
           },
           "zerolinecolor": "white",
           "zerolinewidth": 2
          },
          "yaxis": {
           "automargin": true,
           "gridcolor": "white",
           "linecolor": "white",
           "ticks": "",
           "title": {
            "standoff": 15
           },
           "zerolinecolor": "white",
           "zerolinewidth": 2
          }
         }
        },
        "title": {
         "text": "Amount of laptops per brand"
        },
        "xaxis": {
         "anchor": "y",
         "domain": [
          0,
          1
         ],
         "title": {
          "text": "Company"
         }
        },
        "yaxis": {
         "anchor": "x",
         "domain": [
          0,
          1
         ],
         "title": {
          "text": "count"
         }
        }
       }
      }
     },
     "metadata": {},
     "output_type": "display_data"
    }
   ],
   "source": [
    "fig = px.histogram(df, x='Company', title='Amount of laptops per brand')\n",
    "fig.write_image('images/amount_of_laptops_per_brand.png')\n",
    "\n",
    "fig.show()"
   ]
  },
  {
   "cell_type": "code",
   "execution_count": 28,
   "metadata": {},
   "outputs": [
    {
     "data": {
      "application/vnd.plotly.v1+json": {
       "config": {
        "plotlyServerURL": "https://plot.ly"
       },
       "data": [
        {
         "alignmentgroup": "True",
         "hovertemplate": "Company=%{x}<br>Price_in_euros=%{y}<extra></extra>",
         "legendgroup": "",
         "marker": {
          "color": "#636efa"
         },
         "name": "",
         "notched": false,
         "offsetgroup": "",
         "orientation": "v",
         "showlegend": false,
         "type": "box",
         "x": [
          "Apple",
          "Apple",
          "HP",
          "Apple",
          "Apple",
          "Acer",
          "Apple",
          "Apple",
          "Asus",
          "Acer",
          "HP",
          "HP",
          "Apple",
          "Dell",
          "Apple",
          "Apple",
          "Dell",
          "Apple",
          "Lenovo",
          "Dell",
          "Asus",
          "Lenovo",
          "HP",
          "Dell",
          "HP",
          "Dell",
          "Apple",
          "Dell",
          "Dell",
          "HP",
          "Chuwi",
          "Asus",
          "HP",
          "Dell",
          "Apple",
          "Lenovo",
          "Acer",
          "Dell",
          "HP",
          "HP",
          "Asus",
          "Dell",
          "Asus",
          "Acer",
          "Dell",
          "Apple",
          "Lenovo",
          "Asus",
          "Dell",
          "Asus",
          "Lenovo",
          "Acer",
          "HP",
          "HP",
          "Acer",
          "Dell",
          "HP",
          "Asus",
          "MSI",
          "Asus",
          "Dell",
          "Dell",
          "Lenovo",
          "Asus",
          "HP",
          "Asus",
          "HP",
          "HP",
          "Lenovo",
          "Asus",
          "Microsoft",
          "Dell",
          "Dell",
          "MSI",
          "Acer",
          "Asus",
          "Lenovo",
          "Dell",
          "Acer",
          "HP",
          "Dell",
          "Apple",
          "HP",
          "Lenovo",
          "Acer",
          "Dell",
          "HP",
          "HP",
          "Asus",
          "Dell",
          "Asus",
          "Acer",
          "HP",
          "Dell",
          "Asus",
          "Acer",
          "Dell",
          "Dell",
          "Asus",
          "HP",
          "HP",
          "HP",
          "Dell",
          "HP",
          "Microsoft",
          "HP",
          "Lenovo",
          "Asus",
          "MSI",
          "Lenovo",
          "Asus",
          "Dell",
          "Lenovo",
          "HP",
          "Dell",
          "HP",
          "HP",
          "Dell",
          "Asus",
          "Asus",
          "Acer",
          "MSI",
          "Lenovo",
          "HP",
          "Acer",
          "HP",
          "HP",
          "Asus",
          "Dell",
          "HP",
          "Dell",
          "Dell",
          "Acer",
          "Acer",
          "HP",
          "HP",
          "Lenovo",
          "Asus",
          "Lenovo",
          "HP",
          "Acer",
          "Lenovo",
          "Lenovo",
          "Toshiba",
          "HP",
          "Asus",
          "HP",
          "Asus",
          "MSI",
          "Acer",
          "Dell",
          "Dell",
          "Lenovo",
          "MSI",
          "HP",
          "HP",
          "Lenovo",
          "Asus",
          "Dell",
          "Toshiba",
          "Asus",
          "Acer",
          "Dell",
          "Lenovo",
          "Acer",
          "MSI",
          "Acer",
          "Dell",
          "Acer",
          "HP",
          "Huawei",
          "HP",
          "Lenovo",
          "Toshiba",
          "HP",
          "Dell",
          "Acer",
          "MSI",
          "Lenovo",
          "HP",
          "Dell",
          "Dell",
          "Lenovo",
          "Toshiba",
          "Xiaomi",
          "Dell",
          "Dell",
          "Lenovo",
          "Acer",
          "Dell",
          "Lenovo",
          "Vero",
          "Xiaomi",
          "Lenovo",
          "Dell",
          "HP",
          "Razer",
          "HP",
          "HP",
          "HP",
          "Dell",
          "Lenovo",
          "Acer",
          "Lenovo",
          "Dell",
          "Lenovo",
          "Dell",
          "Dell",
          "Dell",
          "Lenovo",
          "Acer",
          "Asus",
          "HP",
          "Lenovo",
          "Huawei",
          "Dell",
          "Lenovo",
          "HP",
          "Dell",
          "Dell",
          "Dell",
          "Lenovo",
          "Toshiba",
          "HP",
          "Dell",
          "Acer",
          "Dell",
          "Asus",
          "Asus",
          "HP",
          "Asus",
          "HP",
          "Lenovo",
          "Dell",
          "Acer",
          "Dell",
          "Acer",
          "Asus",
          "Asus",
          "Acer",
          "Lenovo",
          "Asus",
          "Asus",
          "Dell",
          "Lenovo",
          "Dell",
          "HP",
          "Asus",
          "HP",
          "Apple",
          "Dell",
          "Asus",
          "Asus",
          "Lenovo",
          "Acer",
          "Dell",
          "HP",
          "HP",
          "MSI",
          "Lenovo",
          "Dell",
          "Lenovo",
          "HP",
          "Dell",
          "Dell",
          "Dell",
          "Asus",
          "Lenovo",
          "HP",
          "Lenovo",
          "Apple",
          "Asus",
          "Dell",
          "Lenovo",
          "Toshiba",
          "Dell",
          "Dell",
          "Acer",
          "Lenovo",
          "Lenovo",
          "Lenovo",
          "Dell",
          "Lenovo",
          "Lenovo",
          "Acer",
          "Acer",
          "Lenovo",
          "Asus",
          "Lenovo",
          "Lenovo",
          "Acer",
          "Asus",
          "HP",
          "Dell",
          "Lenovo",
          "Lenovo",
          "Acer",
          "Dell",
          "Lenovo",
          "Asus",
          "Asus",
          "Asus",
          "Lenovo",
          "Lenovo",
          "Asus",
          "Lenovo",
          "HP",
          "Toshiba",
          "Lenovo",
          "HP",
          "Lenovo",
          "Dell",
          "MSI",
          "Acer",
          "Asus",
          "Dell",
          "HP",
          "Lenovo",
          "HP",
          "Acer",
          "HP",
          "Lenovo",
          "Asus",
          "HP",
          "Acer",
          "Lenovo",
          "Acer",
          "Asus",
          "HP",
          "Dell",
          "MSI",
          "Toshiba",
          "Asus",
          "Lenovo",
          "Asus",
          "HP",
          "Dell",
          "HP",
          "Asus",
          "Dell",
          "Dell",
          "Lenovo",
          "HP",
          "Lenovo",
          "Dell",
          "Lenovo",
          "HP",
          "Dell",
          "Asus",
          "Dell",
          "Dell",
          "HP",
          "MSI",
          "HP",
          "Toshiba",
          "Dell",
          "Lenovo",
          "Dell",
          "Dell",
          "Dell",
          "HP",
          "Asus",
          "Lenovo",
          "HP",
          "Lenovo",
          "HP",
          "Dell",
          "Lenovo",
          "Dell",
          "HP",
          "Asus",
          "Acer",
          "Asus",
          "Lenovo",
          "Dell",
          "HP",
          "Lenovo",
          "Dell",
          "Asus",
          "Acer",
          "HP",
          "Lenovo",
          "Asus",
          "Lenovo",
          "Asus",
          "Lenovo",
          "Lenovo",
          "Dell",
          "Dell",
          "Lenovo",
          "Asus",
          "Asus",
          "Acer",
          "MSI",
          "Dell",
          "HP",
          "Lenovo",
          "Lenovo",
          "Dell",
          "Lenovo",
          "Lenovo",
          "Asus",
          "Lenovo",
          "Acer",
          "MSI",
          "Asus",
          "Toshiba",
          "Dell",
          "Lenovo",
          "Lenovo",
          "Lenovo",
          "Lenovo",
          "HP",
          "Acer",
          "Asus",
          "Dell",
          "Dell",
          "HP",
          "Dell",
          "Lenovo",
          "Lenovo",
          "Chuwi",
          "HP",
          "Asus",
          "Dell",
          "Dell",
          "Dell",
          "Dell",
          "HP",
          "Mediacom",
          "Samsung",
          "Lenovo",
          "Lenovo",
          "Lenovo",
          "Lenovo",
          "Asus",
          "HP",
          "Google",
          "Lenovo",
          "Asus",
          "Lenovo",
          "Dell",
          "Lenovo",
          "Lenovo",
          "HP",
          "Dell",
          "Acer",
          "Dell",
          "MSI",
          "Microsoft",
          "HP",
          "Dell",
          "HP",
          "Lenovo",
          "Dell",
          "Dell",
          "Dell",
          "Microsoft",
          "Microsoft",
          "HP",
          "Acer",
          "Acer",
          "Asus",
          "Lenovo",
          "Lenovo",
          "Asus",
          "Acer",
          "Dell",
          "HP",
          "Lenovo",
          "HP",
          "HP",
          "Google",
          "Dell",
          "Asus",
          "Dell",
          "Dell",
          "Lenovo",
          "Dell",
          "Toshiba",
          "Dell",
          "Dell",
          "HP",
          "Chuwi",
          "Lenovo",
          "Lenovo",
          "Dell",
          "Dell",
          "Lenovo",
          "Asus",
          "Lenovo",
          "Toshiba",
          "Asus",
          "Acer",
          "Asus",
          "Lenovo",
          "Lenovo",
          "HP",
          "Lenovo",
          "Lenovo",
          "Asus",
          "HP",
          "Lenovo",
          "Lenovo",
          "Lenovo",
          "Lenovo",
          "Asus",
          "Acer",
          "HP",
          "Lenovo",
          "Dell",
          "Acer",
          "Dell",
          "Dell",
          "Xiaomi",
          "Asus",
          "HP",
          "Asus",
          "HP",
          "Asus",
          "Lenovo",
          "HP",
          "Dell",
          "HP",
          "Dell",
          "Lenovo",
          "Lenovo",
          "Lenovo",
          "Dell",
          "Dell",
          "Dell",
          "Toshiba",
          "Asus",
          "Mediacom",
          "Asus",
          "Dell",
          "Dell",
          "HP",
          "HP",
          "Lenovo",
          "Dell",
          "Dell",
          "HP",
          "Acer",
          "Asus",
          "HP",
          "Lenovo",
          "Lenovo",
          "HP",
          "Lenovo",
          "Lenovo",
          "Dell",
          "Dell",
          "HP",
          "HP",
          "Asus",
          "Mediacom",
          "Lenovo",
          "HP",
          "Dell",
          "Acer",
          "Lenovo",
          "HP",
          "Lenovo",
          "Asus",
          "Dell",
          "Dell",
          "Fujitsu",
          "Lenovo",
          "Lenovo",
          "HP",
          "HP",
          "HP",
          "Lenovo",
          "Lenovo",
          "Mediacom",
          "Toshiba",
          "Lenovo",
          "MSI",
          "Dell",
          "Mediacom",
          "Dell",
          "HP",
          "Dell",
          "Dell",
          "MSI",
          "HP",
          "Lenovo",
          "Lenovo",
          "Asus",
          "Asus",
          "Lenovo",
          "Dell",
          "Samsung",
          "Lenovo",
          "Lenovo",
          "Lenovo",
          "Lenovo",
          "Dell",
          "Dell",
          "HP",
          "HP",
          "Acer",
          "MSI",
          "Dell",
          "MSI",
          "Toshiba",
          "Lenovo",
          "Lenovo",
          "Acer",
          "Lenovo",
          "Dell",
          "Dell",
          "Dell",
          "Dell",
          "Asus",
          "Dell",
          "HP",
          "MSI",
          "Acer",
          "HP",
          "Lenovo",
          "Dell",
          "Fujitsu",
          "HP",
          "Lenovo",
          "Mediacom",
          "Lenovo",
          "Asus",
          "Dell",
          "Asus",
          "Dell",
          "Lenovo",
          "Lenovo",
          "Asus",
          "Asus",
          "Dell",
          "Lenovo",
          "Lenovo",
          "Dell",
          "Lenovo",
          "HP",
          "Lenovo",
          "Asus",
          "Acer",
          "Lenovo",
          "Acer",
          "Razer",
          "Toshiba",
          "Lenovo",
          "Asus",
          "Acer",
          "Dell",
          "MSI",
          "HP",
          "Toshiba",
          "Dell",
          "Dell",
          "Lenovo",
          "Dell",
          "Dell",
          "Lenovo",
          "Lenovo",
          "HP",
          "MSI",
          "Toshiba",
          "Dell",
          "HP",
          "Toshiba",
          "Acer",
          "Microsoft",
          "Lenovo",
          "Lenovo",
          "Lenovo",
          "HP",
          "MSI",
          "Asus",
          "HP",
          "LG",
          "Acer",
          "MSI",
          "Asus",
          "Dell",
          "HP",
          "Lenovo",
          "Dell",
          "HP",
          "Dell",
          "HP",
          "Lenovo",
          "Acer",
          "Lenovo",
          "HP",
          "Lenovo",
          "Toshiba",
          "Acer",
          "Lenovo",
          "Asus",
          "Toshiba",
          "HP",
          "Dell",
          "Lenovo",
          "Lenovo",
          "Lenovo",
          "Lenovo",
          "Dell",
          "Acer",
          "Lenovo",
          "Lenovo",
          "HP",
          "Lenovo",
          "Dell",
          "Dell",
          "Asus",
          "Dell",
          "Lenovo",
          "Dell",
          "Lenovo",
          "Mediacom",
          "HP",
          "Lenovo",
          "HP",
          "Lenovo",
          "Dell",
          "MSI",
          "Lenovo",
          "Dell",
          "Dell",
          "Dell",
          "HP",
          "Acer",
          "Dell",
          "HP",
          "Acer",
          "Lenovo",
          "Lenovo",
          "HP",
          "Dell",
          "MSI",
          "Acer",
          "Dell",
          "Dell",
          "Toshiba",
          "Lenovo",
          "Lenovo",
          "Acer",
          "Samsung",
          "HP",
          "Dell",
          "HP",
          "Lenovo",
          "HP",
          "Asus",
          "Lenovo",
          "Asus",
          "Lenovo",
          "HP",
          "HP",
          "Dell",
          "Acer",
          "Lenovo",
          "Dell",
          "Google",
          "Asus",
          "Dell",
          "Acer",
          "Asus",
          "Dell",
          "Samsung",
          "Acer",
          "Dell",
          "Samsung",
          "Toshiba",
          "Dell",
          "HP",
          "Asus",
          "Lenovo",
          "Acer",
          "Razer",
          "Asus",
          "Dell",
          "Asus",
          "Toshiba",
          "Lenovo",
          "Lenovo",
          "MSI",
          "MSI",
          "Lenovo",
          "Acer",
          "Dell",
          "Asus",
          "Vero",
          "Lenovo",
          "Lenovo",
          "Apple",
          "Lenovo",
          "Asus",
          "Dell",
          "Lenovo",
          "Dell",
          "HP",
          "Asus",
          "Dell",
          "Dell",
          "Dell",
          "HP",
          "Toshiba",
          "HP",
          "Dell",
          "Lenovo",
          "HP",
          "MSI",
          "Samsung",
          "Dell",
          "Dell",
          "Lenovo",
          "Razer",
          "HP",
          "Dell",
          "Dell",
          "Lenovo",
          "Toshiba",
          "Lenovo",
          "MSI",
          "Lenovo",
          "Toshiba",
          "Asus",
          "Dell",
          "Acer",
          "Acer",
          "Razer",
          "Lenovo",
          "Asus",
          "Lenovo",
          "Lenovo",
          "Dell",
          "Asus",
          "Toshiba",
          "Lenovo",
          "Asus",
          "Asus",
          "Dell",
          "HP",
          "Dell",
          "HP",
          "Dell",
          "HP",
          "Asus",
          "HP",
          "HP",
          "HP",
          "Asus",
          "Dell",
          "Lenovo",
          "Asus",
          "Dell",
          "Asus",
          "HP",
          "Dell",
          "Lenovo",
          "Lenovo",
          "HP",
          "Toshiba",
          "Lenovo",
          "Dell",
          "HP",
          "Toshiba",
          "Lenovo",
          "Acer",
          "Dell",
          "Lenovo",
          "Lenovo",
          "Toshiba",
          "Lenovo",
          "Samsung",
          "Dell",
          "Asus",
          "Xiaomi",
          "Dell",
          "HP",
          "HP",
          "HP",
          "Asus",
          "Lenovo",
          "Dell",
          "HP",
          "Dell",
          "Asus",
          "Acer",
          "Lenovo",
          "HP",
          "HP",
          "Samsung",
          "Lenovo",
          "MSI",
          "Toshiba",
          "Dell",
          "HP",
          "Dell",
          "Dell",
          "Dell",
          "Asus",
          "Dell",
          "Lenovo",
          "Lenovo",
          "LG",
          "HP",
          "Acer",
          "Lenovo",
          "LG",
          "Dell",
          "HP",
          "Lenovo",
          "HP",
          "Acer",
          "Lenovo",
          "HP",
          "MSI",
          "Dell",
          "MSI",
          "Dell",
          "HP",
          "HP",
          "Toshiba",
          "Lenovo",
          "Dell",
          "Lenovo",
          "HP",
          "Dell",
          "HP",
          "Lenovo",
          "HP",
          "HP",
          "Lenovo",
          "Toshiba",
          "HP",
          "Dell",
          "MSI",
          "Dell",
          "Dell",
          "HP",
          "Asus",
          "Acer",
          "Toshiba",
          "Lenovo",
          "Lenovo",
          "Dell",
          "Lenovo",
          "Dell",
          "Acer",
          "HP",
          "Dell",
          "Toshiba",
          "Asus",
          "Lenovo",
          "Dell",
          "Dell",
          "HP",
          "Dell",
          "Acer",
          "Toshiba",
          "Lenovo",
          "Acer",
          "Toshiba",
          "HP",
          "Dell",
          "Dell",
          "HP",
          "Dell",
          "Lenovo",
          "Dell",
          "Dell",
          "Dell",
          "Toshiba",
          "Asus",
          "HP",
          "Lenovo",
          "Asus",
          "HP",
          "Asus",
          "Dell",
          "Toshiba",
          "Lenovo",
          "Fujitsu",
          "Toshiba",
          "Dell",
          "HP",
          "Lenovo",
          "Dell",
          "Dell",
          "HP",
          "HP",
          "Lenovo",
          "Lenovo",
          "Dell",
          "Asus",
          "HP",
          "Acer",
          "Asus",
          "HP",
          "Acer",
          "HP",
          "Dell",
          "HP",
          "Toshiba",
          "HP",
          "HP",
          "HP",
          "HP",
          "HP",
          "Dell",
          "HP",
          "HP",
          "HP",
          "HP",
          "Toshiba",
          "HP",
          "Lenovo",
          "Toshiba",
          "HP",
          "Dell",
          "Toshiba",
          "HP",
          "HP",
          "Dell",
          "HP",
          "HP",
          "HP",
          "Dell",
          "HP",
          "HP",
          "Acer",
          "MSI",
          "HP",
          "HP",
          "HP",
          "HP",
          "Toshiba",
          "Dell",
          "HP",
          "Lenovo",
          "Vero",
          "Toshiba",
          "Lenovo",
          "HP",
          "HP",
          "HP",
          "MSI",
          "Lenovo",
          "Asus",
          "Lenovo",
          "HP",
          "Dell",
          "HP",
          "Dell",
          "HP",
          "HP",
          "Acer",
          "Dell",
          "MSI",
          "HP",
          "Asus",
          "Dell",
          "Dell",
          "MSI",
          "Dell",
          "Asus",
          "Dell",
          "Dell",
          "Apple",
          "Dell",
          "HP",
          "HP",
          "HP",
          "Lenovo",
          "Lenovo",
          "Lenovo",
          "MSI",
          "Lenovo",
          "HP",
          "Lenovo",
          "Lenovo",
          "Lenovo",
          "HP",
          "Dell",
          "HP",
          "HP",
          "Lenovo",
          "HP",
          "Acer",
          "Dell",
          "HP",
          "Asus",
          "Dell",
          "HP",
          "Acer",
          "Dell",
          "MSI",
          "HP",
          "Asus",
          "Dell",
          "Dell",
          "Acer",
          "HP",
          "Lenovo",
          "Dell",
          "MSI",
          "Lenovo",
          "HP",
          "Asus",
          "HP",
          "Dell",
          "Lenovo",
          "HP",
          "Lenovo",
          "Dell",
          "Lenovo",
          "Razer",
          "Toshiba",
          "Asus",
          "Vero",
          "HP",
          "HP",
          "Dell",
          "Asus",
          "Lenovo",
          "Lenovo",
          "HP",
          "Lenovo",
          "HP",
          "HP",
          "Lenovo",
          "Asus",
          "HP",
          "Acer",
          "Lenovo",
          "HP",
          "Dell",
          "MSI",
          "HP",
          "Lenovo",
          "MSI",
          "HP",
          "HP",
          "HP",
          "HP",
          "HP",
          "Dell",
          "HP",
          "Lenovo",
          "Lenovo",
          "HP",
          "Lenovo",
          "Dell",
          "Dell",
          "HP",
          "MSI",
          "Lenovo",
          "Lenovo",
          "HP",
          "Lenovo",
          "MSI",
          "HP",
          "Lenovo",
          "HP",
          "Dell",
          "Lenovo",
          "Lenovo",
          "HP",
          "MSI",
          "HP",
          "HP",
          "Asus",
          "Lenovo",
          "Lenovo",
          "Asus",
          "Lenovo",
          "Lenovo",
          "MSI",
          "HP",
          "Lenovo",
          "Lenovo",
          "Dell",
          "Acer",
          "HP",
          "Asus",
          "Dell",
          "Acer",
          "Dell",
          "Acer",
          "Lenovo",
          "Samsung",
          "HP",
          "Apple",
          "Dell",
          "HP",
          "Lenovo",
          "Asus",
          "Acer",
          "MSI",
          "Dell",
          "Lenovo",
          "Dell",
          "Dell",
          "Asus",
          "Dell",
          "HP",
          "Lenovo",
          "Acer",
          "Asus",
          "Apple",
          "Asus",
          "MSI",
          "Dell",
          "Asus",
          "Acer",
          "Acer",
          "Lenovo",
          "Lenovo",
          "Acer",
          "Lenovo",
          "MSI",
          "HP",
          "Dell",
          "Dell",
          "Asus",
          "Dell",
          "Dell",
          "Lenovo",
          "MSI",
          "Lenovo",
          "Razer",
          "Dell",
          "MSI",
          "Apple",
          "HP",
          "HP",
          "Dell",
          "MSI",
          "Lenovo",
          "Lenovo",
          "Asus",
          "Acer",
          "Dell",
          "HP",
          "Asus",
          "Dell",
          "Asus",
          "Lenovo",
          "Dell",
          "Dell",
          "HP",
          "Lenovo",
          "Lenovo",
          "Dell",
          "Asus",
          "Asus",
          "Dell",
          "Lenovo",
          "MSI",
          "Lenovo",
          "Asus",
          "Dell",
          "Acer",
          "Dell",
          "Lenovo",
          "HP",
          "Dell",
          "HP",
          "Asus",
          "Lenovo",
          "Lenovo",
          "Lenovo",
          "HP",
          "Asus",
          "Asus",
          "Dell",
          "Acer",
          "Dell",
          "Lenovo",
          "HP",
          "Dell",
          "HP",
          "Asus",
          "Lenovo",
          "Lenovo",
          "Lenovo",
          "HP",
          "Asus",
          "Asus",
          "Dell",
          "Acer",
          "Dell",
          "Lenovo",
          "HP",
          "Dell",
          "HP",
          "Asus",
          "Lenovo",
          "Lenovo",
          "Lenovo",
          "HP",
          "Asus"
         ],
         "x0": " ",
         "xaxis": "x",
         "y": [
          1339.69,
          898.94,
          575,
          2537.45,
          1803.6,
          400,
          2139.97,
          1158.7,
          1495,
          770,
          393.9,
          344.99,
          2439.97,
          498.9,
          1262.4,
          1518.55,
          745,
          2858,
          499,
          979,
          191.9,
          999,
          258,
          819,
          659,
          418.64,
          1099,
          800,
          1298,
          896,
          244.99,
          199,
          439,
          1869,
          998,
          249,
          367,
          979,
          488.69,
          879,
          389,
          1499,
          522.99,
          682,
          999,
          1419,
          369,
          1299,
          639,
          466,
          319,
          841,
          398.49,
          1103,
          384,
          767.8,
          439,
          586.19,
          2449,
          415,
          1299,
          879,
          599,
          941,
          690,
          1983,
          438.69,
          229,
          549,
          949,
          1089,
          955,
          870,
          1095,
          389,
          949,
          519,
          855,
          530,
          977,
          1096.16,
          1510,
          860,
          399,
          395,
          1349,
          699,
          598.99,
          1449,
          1649,
          699,
          689,
          1197,
          1195,
          1049,
          847,
          599.9,
          485,
          577,
          1249,
          719,
          349,
          647,
          1119,
          1340,
          659,
          414.9,
          1193,
          1299,
          1480,
          1262,
          1379,
          1399,
          722,
          1629,
          1398.99,
          1084,
          1130.33,
          564,
          1118,
          479,
          2241.5,
          629,
          1271,
          451,
          259,
          812,
          277.99,
          1396,
          928,
          638.99,
          449,
          884,
          572,
          598,
          988,
          252.36,
          938,
          499,
          699,
          655,
          1116.02,
          869,
          602,
          369,
          1099,
          2014,
          344,
          2029,
          447,
          1249.26,
          899,
          498,
          1890,
          1082,
          619,
          629,
          1315,
          1049,
          447,
          403,
          805,
          728,
          1079,
          348,
          1799,
          363.51,
          1060.49,
          854,
          754,
          1349,
          699,
          309,
          489,
          923,
          459,
          449,
          2799,
          813,
          1499,
          1049,
          1399,
          1849,
          793,
          1199,
          1549,
          2397,
          779,
          989,
          1085,
          2824,
          260,
          999.9,
          698,
          839,
          914,
          6099,
          959,
          1379,
          1045,
          1845,
          493,
          742,
          1749,
          3055,
          1398,
          439,
          1949,
          1449,
          597,
          779,
          1407,
          349,
          549,
          1499,
          931.88,
          589,
          1031,
          1149,
          1279,
          677.35,
          899,
          1363,
          794,
          2456.34,
          832,
          859.01,
          769,
          891,
          1269,
          398.99,
          330,
          1499,
          859,
          689,
          899,
          390,
          575,
          3890,
          846,
          589,
          1145,
          889,
          879,
          1079,
          985,
          559,
          2999,
          675,
          2040,
          819,
          1799,
          469,
          1849,
          702,
          949,
          445.9,
          1059,
          2499,
          1699,
          1142,
          444,
          722,
          657,
          565,
          799,
          1499,
          467,
          1018,
          880,
          1958.9,
          1549,
          735.07,
          2499,
          812,
          713.07,
          1099,
          745,
          489,
          849,
          859,
          428,
          829,
          579,
          951,
          659,
          1097,
          977,
          1179,
          659.01,
          199,
          1187,
          489,
          1829,
          739,
          1299,
          979,
          2884.86,
          499,
          1468,
          509,
          2122,
          649,
          549,
          1265,
          359.99,
          1975,
          1043,
          819,
          469,
          999,
          2499,
          2099,
          469,
          275,
          844,
          2449,
          459.9,
          980,
          485,
          1292,
          589,
          1094,
          902,
          659,
          292,
          549,
          1049.9,
          1335,
          2639,
          1199,
          943,
          1334,
          449,
          999,
          1268,
          1049,
          1144,
          274.99,
          1142.75,
          274.9,
          899,
          716,
          2099,
          1579,
          1129,
          279,
          1607.96,
          375,
          663,
          2027.42,
          1304,
          1409,
          1738.27,
          1403,
          970.9,
          321.99,
          999,
          557.37,
          1427,
          439,
          945,
          719,
          639,
          499,
          389,
          1085,
          809,
          899,
          1750,
          1099,
          426,
          2199,
          489,
          869.01,
          488.99,
          553,
          309,
          286,
          846,
          1191,
          403.5,
          1655,
          1099,
          1748.9,
          2282,
          549,
          1369,
          2135,
          2509,
          1039,
          1591,
          693.99,
          1349,
          778.87,
          499,
          1229.56,
          938,
          2712,
          2625,
          306,
          1529,
          1144.5,
          879,
          2249,
          1873,
          1747,
          1680,
          409,
          304.45,
          1925,
          1943,
          469,
          789.01,
          928,
          598.9,
          689,
          1500,
          539.95,
          1215.38,
          1899,
          449,
          1427,
          597,
          2799,
          1159,
          1142.4,
          1099,
          1999,
          299,
          269,
          1010,
          599,
          2445,
          2449,
          1695,
          347,
          2199,
          2382,
          559,
          519,
          749,
          1429,
          349,
          1099,
          1179,
          441.8,
          1993,
          1027.74,
          2589,
          589,
          1975,
          1534,
          1345,
          979,
          479,
          2046,
          989,
          1799,
          639.9,
          544,
          435,
          749,
          799,
          2090,
          304,
          469,
          759,
          1699,
          1858,
          1999,
          1154,
          1275,
          1841.85,
          1299,
          740,
          2408,
          1364,
          675,
          1672,
          1262,
          586.6,
          726,
          248.9,
          565,
          1049,
          2338,
          1899,
          1798,
          1950,
          1011.99,
          2799,
          1350,
          579,
          1269,
          1099,
          898.9,
          1749,
          949,
          911,
          340,
          618.99,
          1599,
          299,
          265,
          949,
          1224,
          613,
          1323,
          1149,
          899,
          639,
          836,
          1219.24,
          1399.95,
          245,
          521.47,
          2968,
          889,
          1504,
          1399,
          1399,
          1279.73,
          689,
          889,
          1340,
          799,
          459,
          585,
          1377,
          3012.77,
          860,
          1299,
          369,
          1649,
          1369,
          797.41,
          398.99,
          1799,
          859,
          1399,
          735.87,
          1145,
          798,
          349,
          705.5,
          785,
          462.35,
          397,
          1729,
          499,
          1116.99,
          2699,
          544.15,
          1280,
          224,
          255,
          949,
          568.9,
          617.9,
          349,
          630,
          1965,
          2999,
          839,
          1599,
          959,
          739,
          344,
          990,
          1860.99,
          389,
          649,
          830,
          685,
          249,
          1865,
          2663,
          2729,
          749.01,
          389,
          1008.52,
          719,
          1537.39,
          295,
          2349,
          1498,
          1673,
          609,
          1770,
          739,
          949,
          603,
          1699,
          529,
          459,
          2025,
          1474,
          1670,
          1763,
          1219,
          668.48,
          329,
          2199,
          465,
          2299,
          1399,
          564,
          1299,
          349,
          4899,
          879.01,
          443.9,
          359,
          869,
          1168,
          569,
          1389,
          2267.86,
          379,
          1124,
          1465,
          776,
          799,
          932,
          899,
          239,
          468,
          639.01,
          1820,
          1900,
          1479,
          829,
          579,
          399,
          906.62,
          1869,
          249,
          1757.42,
          2399,
          1109,
          520.9,
          2450,
          1169,
          450,
          274,
          919,
          2599,
          1213,
          1584,
          2799,
          709,
          1449.9,
          1191.8,
          364.9,
          1064,
          919,
          1135,
          1196,
          3147.37,
          1229,
          419,
          535,
          539,
          1486.77,
          498,
          955,
          745,
          1258,
          412,
          1867.85,
          817.95,
          1034,
          349,
          699,
          1294,
          1135,
          495,
          2299,
          1299,
          997.9,
          419,
          2051,
          699,
          1499,
          2813.75,
          612.61,
          545.67,
          569,
          318,
          375,
          699,
          1907.99,
          2590,
          973,
          269,
          1749,
          669,
          1877,
          689,
          819,
          399,
          429,
          621.45,
          450,
          795,
          999,
          1855,
          1191,
          655.01,
          1249,
          1089,
          726,
          298,
          1426.66,
          857.07,
          1179,
          298,
          265,
          1200,
          1686.64,
          836.6,
          1499,
          3659.4,
          1348.48,
          489.9,
          719,
          649,
          589.52,
          489,
          1935,
          649,
          650,
          559,
          960,
          779,
          2419,
          659,
          2094.48,
          410.8,
          1207,
          665,
          1535,
          999,
          3299,
          330,
          1649,
          539,
          1126.71,
          4389,
          475,
          1900,
          579,
          1096,
          849.9,
          1199,
          1099,
          1561,
          2868.99,
          599,
          1048,
          1859,
          1559,
          1129,
          849,
          655,
          470.34,
          1099,
          1599,
          298,
          1181.27,
          1799,
          1020,
          1099,
          1244,
          839,
          2370,
          636,
          2899,
          581.9,
          3588.8,
          2350,
          1764,
          329,
          2299,
          1891,
          1089,
          999,
          2299,
          985,
          1339,
          202.9,
          1970,
          959,
          1165,
          2330,
          299,
          810,
          1349,
          739,
          2064.9,
          1099,
          1499,
          1749,
          744,
          1389,
          780,
          629,
          1679,
          609,
          1749,
          2415,
          1499,
          961,
          789.81,
          1859,
          1799,
          385,
          2505.02,
          755,
          489.9,
          1090,
          2499,
          1199,
          1875,
          499,
          1358,
          585,
          355,
          619,
          5499,
          2099,
          519,
          1186,
          1650,
          2774.63,
          2419,
          669,
          325,
          590,
          1799,
          3072.89,
          910,
          713.99,
          1870,
          739,
          615,
          1026,
          2277,
          1468,
          299,
          1899,
          865,
          1903,
          787,
          945,
          449,
          2559,
          649,
          469,
          850.66,
          1349,
          1285,
          1017,
          2240,
          910,
          1095,
          1950,
          902,
          1778,
          1055,
          479,
          1388,
          735,
          1849,
          1690,
          398.99,
          935,
          912.5,
          839,
          1700,
          684.8,
          348,
          669,
          369,
          1799,
          455.7,
          1369.9,
          297,
          379,
          1265,
          1399,
          1699,
          1799,
          2649,
          1475,
          929,
          900,
          614,
          935,
          2013.1,
          1279,
          1649,
          2049,
          1962.99,
          2099,
          1483,
          359,
          789,
          1899,
          1205,
          3100,
          789,
          1018.99,
          499,
          881,
          960,
          1599,
          1349,
          1119.91,
          684.99,
          1296.99,
          1149,
          1975,
          1825,
          729.9,
          1650,
          1165,
          708.06,
          1149,
          309,
          1579,
          288.9,
          1799,
          1105,
          1669,
          558.6,
          1199,
          1639,
          2758,
          1399,
          530,
          619,
          1119,
          1299,
          999,
          1472.2,
          685,
          659,
          349,
          2249,
          1775,
          1460,
          1159,
          1488.99,
          3154,
          1899,
          775,
          1268,
          389,
          1535,
          1760,
          1009,
          1790,
          846.5,
          465.62,
          825,
          685,
          3149,
          695,
          1899,
          1962.98,
          2800,
          1180,
          2049.9,
          979,
          1002,
          1799,
          579,
          1749,
          1299,
          1195,
          549,
          649,
          915,
          599,
          806,
          1189,
          749,
          1119,
          1908,
          499,
          270.62,
          1349,
          889,
          1150,
          1349,
          380,
          1799,
          2089,
          1260,
          1189,
          547,
          779,
          1195,
          1099.99,
          1205,
          1449,
          1049.26,
          684,
          949,
          1539,
          1590,
          1887.21,
          800,
          1210,
          769.99,
          2968,
          1490,
          2229,
          795.99,
          1590,
          1149,
          1185.43,
          1046.44,
          1559,
          1189,
          1060,
          1624,
          1080,
          973,
          409,
          1191.8,
          1195,
          1228.99,
          1349,
          742,
          1725,
          1062.95,
          1010.51,
          847,
          210.8,
          1425,
          1049.6,
          1000,
          2103.34,
          1469,
          1545.64,
          2289.99,
          287.9,
          2620,
          979,
          1094,
          979,
          2254,
          705.15,
          499,
          449,
          1299,
          1819,
          1070,
          998,
          559,
          989.99,
          1929,
          1458,
          3975,
          798.01,
          1329,
          1300,
          481.98,
          1199,
          1199,
          1090,
          1713.49,
          659,
          977,
          2499,
          540,
          940,
          1399,
          3240,
          646.27,
          2049,
          750,
          1030.99,
          1495,
          1199,
          615,
          387,
          393.49,
          345.99,
          1599,
          818.35,
          1599,
          799,
          638.8,
          1599,
          500,
          2299,
          1135.15,
          1166.97,
          209,
          2899,
          1199,
          1413.1,
          1511.19,
          867,
          398,
          1339,
          1699,
          769.15,
          429,
          1969,
          549,
          1379,
          2749.99,
          1029,
          2226,
          1312.49,
          196,
          1690,
          1513,
          523.63,
          435,
          1669,
          479,
          1895,
          989,
          1129,
          629,
          2050.38,
          278,
          752,
          616,
          1099,
          3949.4,
          784,
          2399,
          2171.72,
          2440,
          1142.8,
          1629,
          2229,
          1799,
          1899,
          2296.95,
          1009.9,
          1579,
          2339,
          339,
          297,
          599,
          1199,
          2250.68,
          478.89,
          1492.8,
          2299,
          788.49,
          2041,
          1499,
          1769,
          899,
          459,
          476.99,
          1498,
          1390,
          468,
          249,
          839,
          679,
          1159,
          369,
          398,
          709,
          769,
          825,
          1305,
          2153.37,
          650,
          1637,
          831,
          895.01,
          333,
          799,
          909,
          1179,
          691,
          1099,
          2599,
          819,
          659,
          485,
          1163,
          1199,
          1327,
          368,
          2150,
          272,
          2048.9,
          499,
          629,
          1285,
          2680,
          1169,
          889,
          579,
          299,
          629,
          2449,
          1279,
          1749,
          1948.99,
          999,
          1949,
          174,
          598,
          539,
          1272,
          1149,
          1529,
          1476.11,
          529,
          1713.37,
          509,
          309,
          1477,
          521.86,
          1029,
          1149,
          1650,
          3499,
          469.01,
          1598,
          959,
          478,
          2198.19,
          737,
          1169,
          1499,
          597.57,
          1280,
          361.8,
          1799,
          1099.99,
          1600,
          875,
          2325,
          573,
          1813,
          324,
          399,
          569,
          1072,
          443.99,
          339,
          1900,
          490,
          895,
          1229,
          833.01,
          729,
          459,
          289,
          379,
          899,
          549.99,
          805.99,
          209,
          720.32,
          638,
          1499,
          229,
          764,
          369,
          729,
          459,
          289,
          379,
          899,
          549.99,
          805.99,
          209,
          720.32,
          638,
          1499,
          229,
          764,
          369,
          729,
          459,
          289,
          379,
          899,
          549.99,
          805.99,
          209,
          720.32,
          638,
          1499,
          229,
          764,
          369
         ],
         "y0": " ",
         "yaxis": "y"
        }
       ],
       "layout": {
        "boxmode": "group",
        "legend": {
         "tracegroupgap": 0
        },
        "template": {
         "data": {
          "bar": [
           {
            "error_x": {
             "color": "#2a3f5f"
            },
            "error_y": {
             "color": "#2a3f5f"
            },
            "marker": {
             "line": {
              "color": "#E5ECF6",
              "width": 0.5
             },
             "pattern": {
              "fillmode": "overlay",
              "size": 10,
              "solidity": 0.2
             }
            },
            "type": "bar"
           }
          ],
          "barpolar": [
           {
            "marker": {
             "line": {
              "color": "#E5ECF6",
              "width": 0.5
             },
             "pattern": {
              "fillmode": "overlay",
              "size": 10,
              "solidity": 0.2
             }
            },
            "type": "barpolar"
           }
          ],
          "carpet": [
           {
            "aaxis": {
             "endlinecolor": "#2a3f5f",
             "gridcolor": "white",
             "linecolor": "white",
             "minorgridcolor": "white",
             "startlinecolor": "#2a3f5f"
            },
            "baxis": {
             "endlinecolor": "#2a3f5f",
             "gridcolor": "white",
             "linecolor": "white",
             "minorgridcolor": "white",
             "startlinecolor": "#2a3f5f"
            },
            "type": "carpet"
           }
          ],
          "choropleth": [
           {
            "colorbar": {
             "outlinewidth": 0,
             "ticks": ""
            },
            "type": "choropleth"
           }
          ],
          "contour": [
           {
            "colorbar": {
             "outlinewidth": 0,
             "ticks": ""
            },
            "colorscale": [
             [
              0,
              "#0d0887"
             ],
             [
              0.1111111111111111,
              "#46039f"
             ],
             [
              0.2222222222222222,
              "#7201a8"
             ],
             [
              0.3333333333333333,
              "#9c179e"
             ],
             [
              0.4444444444444444,
              "#bd3786"
             ],
             [
              0.5555555555555556,
              "#d8576b"
             ],
             [
              0.6666666666666666,
              "#ed7953"
             ],
             [
              0.7777777777777778,
              "#fb9f3a"
             ],
             [
              0.8888888888888888,
              "#fdca26"
             ],
             [
              1,
              "#f0f921"
             ]
            ],
            "type": "contour"
           }
          ],
          "contourcarpet": [
           {
            "colorbar": {
             "outlinewidth": 0,
             "ticks": ""
            },
            "type": "contourcarpet"
           }
          ],
          "heatmap": [
           {
            "colorbar": {
             "outlinewidth": 0,
             "ticks": ""
            },
            "colorscale": [
             [
              0,
              "#0d0887"
             ],
             [
              0.1111111111111111,
              "#46039f"
             ],
             [
              0.2222222222222222,
              "#7201a8"
             ],
             [
              0.3333333333333333,
              "#9c179e"
             ],
             [
              0.4444444444444444,
              "#bd3786"
             ],
             [
              0.5555555555555556,
              "#d8576b"
             ],
             [
              0.6666666666666666,
              "#ed7953"
             ],
             [
              0.7777777777777778,
              "#fb9f3a"
             ],
             [
              0.8888888888888888,
              "#fdca26"
             ],
             [
              1,
              "#f0f921"
             ]
            ],
            "type": "heatmap"
           }
          ],
          "heatmapgl": [
           {
            "colorbar": {
             "outlinewidth": 0,
             "ticks": ""
            },
            "colorscale": [
             [
              0,
              "#0d0887"
             ],
             [
              0.1111111111111111,
              "#46039f"
             ],
             [
              0.2222222222222222,
              "#7201a8"
             ],
             [
              0.3333333333333333,
              "#9c179e"
             ],
             [
              0.4444444444444444,
              "#bd3786"
             ],
             [
              0.5555555555555556,
              "#d8576b"
             ],
             [
              0.6666666666666666,
              "#ed7953"
             ],
             [
              0.7777777777777778,
              "#fb9f3a"
             ],
             [
              0.8888888888888888,
              "#fdca26"
             ],
             [
              1,
              "#f0f921"
             ]
            ],
            "type": "heatmapgl"
           }
          ],
          "histogram": [
           {
            "marker": {
             "pattern": {
              "fillmode": "overlay",
              "size": 10,
              "solidity": 0.2
             }
            },
            "type": "histogram"
           }
          ],
          "histogram2d": [
           {
            "colorbar": {
             "outlinewidth": 0,
             "ticks": ""
            },
            "colorscale": [
             [
              0,
              "#0d0887"
             ],
             [
              0.1111111111111111,
              "#46039f"
             ],
             [
              0.2222222222222222,
              "#7201a8"
             ],
             [
              0.3333333333333333,
              "#9c179e"
             ],
             [
              0.4444444444444444,
              "#bd3786"
             ],
             [
              0.5555555555555556,
              "#d8576b"
             ],
             [
              0.6666666666666666,
              "#ed7953"
             ],
             [
              0.7777777777777778,
              "#fb9f3a"
             ],
             [
              0.8888888888888888,
              "#fdca26"
             ],
             [
              1,
              "#f0f921"
             ]
            ],
            "type": "histogram2d"
           }
          ],
          "histogram2dcontour": [
           {
            "colorbar": {
             "outlinewidth": 0,
             "ticks": ""
            },
            "colorscale": [
             [
              0,
              "#0d0887"
             ],
             [
              0.1111111111111111,
              "#46039f"
             ],
             [
              0.2222222222222222,
              "#7201a8"
             ],
             [
              0.3333333333333333,
              "#9c179e"
             ],
             [
              0.4444444444444444,
              "#bd3786"
             ],
             [
              0.5555555555555556,
              "#d8576b"
             ],
             [
              0.6666666666666666,
              "#ed7953"
             ],
             [
              0.7777777777777778,
              "#fb9f3a"
             ],
             [
              0.8888888888888888,
              "#fdca26"
             ],
             [
              1,
              "#f0f921"
             ]
            ],
            "type": "histogram2dcontour"
           }
          ],
          "mesh3d": [
           {
            "colorbar": {
             "outlinewidth": 0,
             "ticks": ""
            },
            "type": "mesh3d"
           }
          ],
          "parcoords": [
           {
            "line": {
             "colorbar": {
              "outlinewidth": 0,
              "ticks": ""
             }
            },
            "type": "parcoords"
           }
          ],
          "pie": [
           {
            "automargin": true,
            "type": "pie"
           }
          ],
          "scatter": [
           {
            "fillpattern": {
             "fillmode": "overlay",
             "size": 10,
             "solidity": 0.2
            },
            "type": "scatter"
           }
          ],
          "scatter3d": [
           {
            "line": {
             "colorbar": {
              "outlinewidth": 0,
              "ticks": ""
             }
            },
            "marker": {
             "colorbar": {
              "outlinewidth": 0,
              "ticks": ""
             }
            },
            "type": "scatter3d"
           }
          ],
          "scattercarpet": [
           {
            "marker": {
             "colorbar": {
              "outlinewidth": 0,
              "ticks": ""
             }
            },
            "type": "scattercarpet"
           }
          ],
          "scattergeo": [
           {
            "marker": {
             "colorbar": {
              "outlinewidth": 0,
              "ticks": ""
             }
            },
            "type": "scattergeo"
           }
          ],
          "scattergl": [
           {
            "marker": {
             "colorbar": {
              "outlinewidth": 0,
              "ticks": ""
             }
            },
            "type": "scattergl"
           }
          ],
          "scattermapbox": [
           {
            "marker": {
             "colorbar": {
              "outlinewidth": 0,
              "ticks": ""
             }
            },
            "type": "scattermapbox"
           }
          ],
          "scatterpolar": [
           {
            "marker": {
             "colorbar": {
              "outlinewidth": 0,
              "ticks": ""
             }
            },
            "type": "scatterpolar"
           }
          ],
          "scatterpolargl": [
           {
            "marker": {
             "colorbar": {
              "outlinewidth": 0,
              "ticks": ""
             }
            },
            "type": "scatterpolargl"
           }
          ],
          "scatterternary": [
           {
            "marker": {
             "colorbar": {
              "outlinewidth": 0,
              "ticks": ""
             }
            },
            "type": "scatterternary"
           }
          ],
          "surface": [
           {
            "colorbar": {
             "outlinewidth": 0,
             "ticks": ""
            },
            "colorscale": [
             [
              0,
              "#0d0887"
             ],
             [
              0.1111111111111111,
              "#46039f"
             ],
             [
              0.2222222222222222,
              "#7201a8"
             ],
             [
              0.3333333333333333,
              "#9c179e"
             ],
             [
              0.4444444444444444,
              "#bd3786"
             ],
             [
              0.5555555555555556,
              "#d8576b"
             ],
             [
              0.6666666666666666,
              "#ed7953"
             ],
             [
              0.7777777777777778,
              "#fb9f3a"
             ],
             [
              0.8888888888888888,
              "#fdca26"
             ],
             [
              1,
              "#f0f921"
             ]
            ],
            "type": "surface"
           }
          ],
          "table": [
           {
            "cells": {
             "fill": {
              "color": "#EBF0F8"
             },
             "line": {
              "color": "white"
             }
            },
            "header": {
             "fill": {
              "color": "#C8D4E3"
             },
             "line": {
              "color": "white"
             }
            },
            "type": "table"
           }
          ]
         },
         "layout": {
          "annotationdefaults": {
           "arrowcolor": "#2a3f5f",
           "arrowhead": 0,
           "arrowwidth": 1
          },
          "autotypenumbers": "strict",
          "coloraxis": {
           "colorbar": {
            "outlinewidth": 0,
            "ticks": ""
           }
          },
          "colorscale": {
           "diverging": [
            [
             0,
             "#8e0152"
            ],
            [
             0.1,
             "#c51b7d"
            ],
            [
             0.2,
             "#de77ae"
            ],
            [
             0.3,
             "#f1b6da"
            ],
            [
             0.4,
             "#fde0ef"
            ],
            [
             0.5,
             "#f7f7f7"
            ],
            [
             0.6,
             "#e6f5d0"
            ],
            [
             0.7,
             "#b8e186"
            ],
            [
             0.8,
             "#7fbc41"
            ],
            [
             0.9,
             "#4d9221"
            ],
            [
             1,
             "#276419"
            ]
           ],
           "sequential": [
            [
             0,
             "#0d0887"
            ],
            [
             0.1111111111111111,
             "#46039f"
            ],
            [
             0.2222222222222222,
             "#7201a8"
            ],
            [
             0.3333333333333333,
             "#9c179e"
            ],
            [
             0.4444444444444444,
             "#bd3786"
            ],
            [
             0.5555555555555556,
             "#d8576b"
            ],
            [
             0.6666666666666666,
             "#ed7953"
            ],
            [
             0.7777777777777778,
             "#fb9f3a"
            ],
            [
             0.8888888888888888,
             "#fdca26"
            ],
            [
             1,
             "#f0f921"
            ]
           ],
           "sequentialminus": [
            [
             0,
             "#0d0887"
            ],
            [
             0.1111111111111111,
             "#46039f"
            ],
            [
             0.2222222222222222,
             "#7201a8"
            ],
            [
             0.3333333333333333,
             "#9c179e"
            ],
            [
             0.4444444444444444,
             "#bd3786"
            ],
            [
             0.5555555555555556,
             "#d8576b"
            ],
            [
             0.6666666666666666,
             "#ed7953"
            ],
            [
             0.7777777777777778,
             "#fb9f3a"
            ],
            [
             0.8888888888888888,
             "#fdca26"
            ],
            [
             1,
             "#f0f921"
            ]
           ]
          },
          "colorway": [
           "#636efa",
           "#EF553B",
           "#00cc96",
           "#ab63fa",
           "#FFA15A",
           "#19d3f3",
           "#FF6692",
           "#B6E880",
           "#FF97FF",
           "#FECB52"
          ],
          "font": {
           "color": "#2a3f5f"
          },
          "geo": {
           "bgcolor": "white",
           "lakecolor": "white",
           "landcolor": "#E5ECF6",
           "showlakes": true,
           "showland": true,
           "subunitcolor": "white"
          },
          "hoverlabel": {
           "align": "left"
          },
          "hovermode": "closest",
          "mapbox": {
           "style": "light"
          },
          "paper_bgcolor": "white",
          "plot_bgcolor": "#E5ECF6",
          "polar": {
           "angularaxis": {
            "gridcolor": "white",
            "linecolor": "white",
            "ticks": ""
           },
           "bgcolor": "#E5ECF6",
           "radialaxis": {
            "gridcolor": "white",
            "linecolor": "white",
            "ticks": ""
           }
          },
          "scene": {
           "xaxis": {
            "backgroundcolor": "#E5ECF6",
            "gridcolor": "white",
            "gridwidth": 2,
            "linecolor": "white",
            "showbackground": true,
            "ticks": "",
            "zerolinecolor": "white"
           },
           "yaxis": {
            "backgroundcolor": "#E5ECF6",
            "gridcolor": "white",
            "gridwidth": 2,
            "linecolor": "white",
            "showbackground": true,
            "ticks": "",
            "zerolinecolor": "white"
           },
           "zaxis": {
            "backgroundcolor": "#E5ECF6",
            "gridcolor": "white",
            "gridwidth": 2,
            "linecolor": "white",
            "showbackground": true,
            "ticks": "",
            "zerolinecolor": "white"
           }
          },
          "shapedefaults": {
           "line": {
            "color": "#2a3f5f"
           }
          },
          "ternary": {
           "aaxis": {
            "gridcolor": "white",
            "linecolor": "white",
            "ticks": ""
           },
           "baxis": {
            "gridcolor": "white",
            "linecolor": "white",
            "ticks": ""
           },
           "bgcolor": "#E5ECF6",
           "caxis": {
            "gridcolor": "white",
            "linecolor": "white",
            "ticks": ""
           }
          },
          "title": {
           "x": 0.05
          },
          "xaxis": {
           "automargin": true,
           "gridcolor": "white",
           "linecolor": "white",
           "ticks": "",
           "title": {
            "standoff": 15
           },
           "zerolinecolor": "white",
           "zerolinewidth": 2
          },
          "yaxis": {
           "automargin": true,
           "gridcolor": "white",
           "linecolor": "white",
           "ticks": "",
           "title": {
            "standoff": 15
           },
           "zerolinecolor": "white",
           "zerolinewidth": 2
          }
         }
        },
        "title": {
         "text": "Laptop prices by brand"
        },
        "xaxis": {
         "anchor": "y",
         "domain": [
          0,
          1
         ],
         "title": {
          "text": "Company"
         }
        },
        "yaxis": {
         "anchor": "x",
         "domain": [
          0,
          1
         ],
         "title": {
          "text": "Price_in_euros"
         }
        }
       }
      }
     },
     "metadata": {},
     "output_type": "display_data"
    }
   ],
   "source": [
    "fig = px.box(df, x='Company', y='Price_in_euros', title='Laptop prices by brand')\n",
    "\n",
    "fig.write_image(\"images/laptop_prices_by_brand.png\")\n",
    "\n",
    "fig.show()"
   ]
  },
  {
   "attachments": {},
   "cell_type": "markdown",
   "metadata": {},
   "source": []
  },
  {
   "cell_type": "code",
   "execution_count": 29,
   "metadata": {},
   "outputs": [
    {
     "data": {
      "application/vnd.plotly.v1+json": {
       "config": {
        "plotlyServerURL": "https://plot.ly"
       },
       "data": [
        {
         "alignmentgroup": "True",
         "hovertemplate": "TypeName=%{x}<br>Price_in_euros=%{y}<extra></extra>",
         "legendgroup": "",
         "marker": {
          "color": "#636efa"
         },
         "name": "",
         "notched": false,
         "offsetgroup": "",
         "orientation": "v",
         "showlegend": false,
         "type": "box",
         "x": [
          "Ultrabook",
          "Ultrabook",
          "Notebook",
          "Ultrabook",
          "Ultrabook",
          "Notebook",
          "Ultrabook",
          "Ultrabook",
          "Ultrabook",
          "Ultrabook",
          "Notebook",
          "Notebook",
          "Ultrabook",
          "Notebook",
          "Ultrabook",
          "Ultrabook",
          "Notebook",
          "Ultrabook",
          "Notebook",
          "Ultrabook",
          "Netbook",
          "Gaming",
          "Notebook",
          "2 in 1 Convertible",
          "Ultrabook",
          "Notebook",
          "Ultrabook",
          "Notebook",
          "Ultrabook",
          "Notebook",
          "Notebook",
          "Notebook",
          "Notebook",
          "Ultrabook",
          "Ultrabook",
          "Notebook",
          "Notebook",
          "Notebook",
          "Notebook",
          "Notebook",
          "Notebook",
          "Gaming",
          "Notebook",
          "Notebook",
          "2 in 1 Convertible",
          "Ultrabook",
          "Notebook",
          "Gaming",
          "Notebook",
          "Notebook",
          "2 in 1 Convertible",
          "Notebook",
          "Notebook",
          "Notebook",
          "Notebook",
          "Notebook",
          "Notebook",
          "Notebook",
          "Gaming",
          "Notebook",
          "Notebook",
          "Ultrabook",
          "Notebook",
          "Notebook",
          "Notebook",
          "Ultrabook",
          "Notebook",
          "Notebook",
          "Notebook",
          "Gaming",
          "Ultrabook",
          "Ultrabook",
          "Notebook",
          "Gaming",
          "Notebook",
          "Gaming",
          "Notebook",
          "Notebook",
          "Notebook",
          "Notebook",
          "Ultrabook",
          "Ultrabook",
          "Notebook",
          "Notebook",
          "Notebook",
          "Gaming",
          "Ultrabook",
          "Notebook",
          "Gaming",
          "Ultrabook",
          "Gaming",
          "Notebook",
          "Notebook",
          "Gaming",
          "Ultrabook",
          "2 in 1 Convertible",
          "Notebook",
          "Notebook",
          "Notebook",
          "Gaming",
          "Notebook",
          "Notebook",
          "Notebook",
          "Ultrabook",
          "Ultrabook",
          "Notebook",
          "Notebook",
          "Ultrabook",
          "Gaming",
          "Notebook",
          "Ultrabook",
          "Ultrabook",
          "2 in 1 Convertible",
          "Notebook",
          "Ultrabook",
          "2 in 1 Convertible",
          "Notebook",
          "Notebook",
          "Notebook",
          "Notebook",
          "Notebook",
          "Gaming",
          "Notebook",
          "Notebook",
          "Notebook",
          "Notebook",
          "Notebook",
          "Notebook",
          "Notebook",
          "Notebook",
          "Notebook",
          "Notebook",
          "Ultrabook",
          "Notebook",
          "Notebook",
          "Notebook",
          "Notebook",
          "Gaming",
          "Notebook",
          "Notebook",
          "Notebook",
          "Notebook",
          "Gaming",
          "Notebook",
          "Notebook",
          "Ultrabook",
          "Ultrabook",
          "Notebook",
          "Gaming",
          "Notebook",
          "Gaming",
          "Gaming",
          "Notebook",
          "Gaming",
          "Ultrabook",
          "Notebook",
          "2 in 1 Convertible",
          "2 in 1 Convertible",
          "2 in 1 Convertible",
          "Notebook",
          "Notebook",
          "Notebook",
          "Notebook",
          "Gaming",
          "Notebook",
          "Gaming",
          "Notebook",
          "Gaming",
          "Notebook",
          "Notebook",
          "Ultrabook",
          "Notebook",
          "Notebook",
          "Notebook",
          "Notebook",
          "Notebook",
          "Notebook",
          "Gaming",
          "Notebook",
          "2 in 1 Convertible",
          "Notebook",
          "Ultrabook",
          "2 in 1 Convertible",
          "Notebook",
          "Notebook",
          "Notebook",
          "Notebook",
          "Gaming",
          "Ultrabook",
          "Notebook",
          "2 in 1 Convertible",
          "Notebook",
          "Ultrabook",
          "Notebook",
          "2 in 1 Convertible",
          "Notebook",
          "Gaming",
          "Notebook",
          "Gaming",
          "Notebook",
          "Gaming",
          "Notebook",
          "Notebook",
          "Gaming",
          "Workstation",
          "Gaming",
          "Notebook",
          "Ultrabook",
          "Ultrabook",
          "Notebook",
          "Notebook",
          "Gaming",
          "Notebook",
          "Notebook",
          "Ultrabook",
          "Ultrabook",
          "Notebook",
          "Notebook",
          "Ultrabook",
          "2 in 1 Convertible",
          "Notebook",
          "2 in 1 Convertible",
          "Ultrabook",
          "Notebook",
          "Gaming",
          "Notebook",
          "Notebook",
          "Notebook",
          "Notebook",
          "Notebook",
          "Notebook",
          "Notebook",
          "Gaming",
          "Notebook",
          "2 in 1 Convertible",
          "Notebook",
          "Notebook",
          "Notebook",
          "Gaming",
          "Gaming",
          "Notebook",
          "Notebook",
          "Notebook",
          "Gaming",
          "2 in 1 Convertible",
          "Notebook",
          "Notebook",
          "Gaming",
          "Notebook",
          "Ultrabook",
          "2 in 1 Convertible",
          "Gaming",
          "Notebook",
          "2 in 1 Convertible",
          "Notebook",
          "Ultrabook",
          "Notebook",
          "Notebook",
          "Gaming",
          "2 in 1 Convertible",
          "Notebook",
          "Notebook",
          "Notebook",
          "Notebook",
          "Notebook",
          "2 in 1 Convertible",
          "2 in 1 Convertible",
          "Notebook",
          "Notebook",
          "Notebook",
          "Ultrabook",
          "Gaming",
          "Notebook",
          "2 in 1 Convertible",
          "Notebook",
          "Notebook",
          "Notebook",
          "Notebook",
          "Notebook",
          "Notebook",
          "Notebook",
          "Notebook",
          "Gaming",
          "Notebook",
          "Notebook",
          "Notebook",
          "Notebook",
          "Ultrabook",
          "Gaming",
          "Notebook",
          "Notebook",
          "Gaming",
          "Notebook",
          "Notebook",
          "Notebook",
          "Gaming",
          "Notebook",
          "Workstation",
          "Notebook",
          "Ultrabook",
          "Notebook",
          "Gaming",
          "Notebook",
          "Notebook",
          "Gaming",
          "Notebook",
          "2 in 1 Convertible",
          "Notebook",
          "Notebook",
          "Notebook",
          "Notebook",
          "Ultrabook",
          "Gaming",
          "Notebook",
          "2 in 1 Convertible",
          "Notebook",
          "2 in 1 Convertible",
          "Notebook",
          "Notebook",
          "Notebook",
          "Notebook",
          "Notebook",
          "Notebook",
          "Notebook",
          "Notebook",
          "Notebook",
          "Notebook",
          "Ultrabook",
          "Ultrabook",
          "Notebook",
          "Gaming",
          "Notebook",
          "Notebook",
          "Notebook",
          "Gaming",
          "Notebook",
          "Ultrabook",
          "Notebook",
          "Notebook",
          "Notebook",
          "Notebook",
          "Notebook",
          "Notebook",
          "2 in 1 Convertible",
          "Ultrabook",
          "Gaming",
          "Notebook",
          "Ultrabook",
          "2 in 1 Convertible",
          "Ultrabook",
          "Notebook",
          "Notebook",
          "Gaming",
          "Workstation",
          "Notebook",
          "Notebook",
          "Notebook",
          "Gaming",
          "Notebook",
          "Notebook",
          "Notebook",
          "Notebook",
          "Notebook",
          "Notebook",
          "Notebook",
          "Notebook",
          "Notebook",
          "Gaming",
          "Notebook",
          "Ultrabook",
          "2 in 1 Convertible",
          "Notebook",
          "Gaming",
          "Notebook",
          "2 in 1 Convertible",
          "Notebook",
          "Netbook",
          "Notebook",
          "Notebook",
          "Notebook",
          "Gaming",
          "Notebook",
          "Gaming",
          "Notebook",
          "Ultrabook",
          "Ultrabook",
          "Notebook",
          "Workstation",
          "Workstation",
          "2 in 1 Convertible",
          "Gaming",
          "Gaming",
          "Notebook",
          "Gaming",
          "Notebook",
          "Ultrabook",
          "Notebook",
          "Notebook",
          "Workstation",
          "Ultrabook",
          "Notebook",
          "Gaming",
          "Notebook",
          "Notebook",
          "Gaming",
          "Ultrabook",
          "Ultrabook",
          "Ultrabook",
          "Notebook",
          "Notebook",
          "Workstation",
          "Ultrabook",
          "Notebook",
          "2 in 1 Convertible",
          "2 in 1 Convertible",
          "Notebook",
          "Notebook",
          "Ultrabook",
          "Notebook",
          "Ultrabook",
          "2 in 1 Convertible",
          "Notebook",
          "Notebook",
          "Notebook",
          "Gaming",
          "Gaming",
          "Notebook",
          "Ultrabook",
          "Gaming",
          "2 in 1 Convertible",
          "Netbook",
          "Notebook",
          "Notebook",
          "Workstation",
          "Notebook",
          "Gaming",
          "Notebook",
          "Ultrabook",
          "Ultrabook",
          "Notebook",
          "Notebook",
          "Notebook",
          "Ultrabook",
          "Notebook",
          "Gaming",
          "Notebook",
          "Notebook",
          "Workstation",
          "Gaming",
          "Ultrabook",
          "Notebook",
          "Workstation",
          "Workstation",
          "Notebook",
          "Notebook",
          "2 in 1 Convertible",
          "Notebook",
          "Ultrabook",
          "Ultrabook",
          "Notebook",
          "Notebook",
          "Netbook",
          "Notebook",
          "Notebook",
          "Notebook",
          "Notebook",
          "Notebook",
          "Notebook",
          "Gaming",
          "Ultrabook",
          "2 in 1 Convertible",
          "Notebook",
          "Ultrabook",
          "Ultrabook",
          "Notebook",
          "Notebook",
          "Workstation",
          "Notebook",
          "Notebook",
          "Notebook",
          "Notebook",
          "Notebook",
          "Notebook",
          "Notebook",
          "Notebook",
          "Notebook",
          "Workstation",
          "Notebook",
          "Ultrabook",
          "Ultrabook",
          "Notebook",
          "Ultrabook",
          "Gaming",
          "Notebook",
          "Gaming",
          "Ultrabook",
          "Notebook",
          "Notebook",
          "Notebook",
          "Notebook",
          "Netbook",
          "Notebook",
          "2 in 1 Convertible",
          "Notebook",
          "Netbook",
          "Notebook",
          "Notebook",
          "Notebook",
          "Ultrabook",
          "Gaming",
          "Ultrabook",
          "Notebook",
          "Notebook",
          "Notebook",
          "Notebook",
          "Netbook",
          "Notebook",
          "Gaming",
          "Notebook",
          "Gaming",
          "Gaming",
          "Ultrabook",
          "Notebook",
          "Notebook",
          "Notebook",
          "Notebook",
          "Notebook",
          "Notebook",
          "Notebook",
          "Notebook",
          "Gaming",
          "Notebook",
          "Notebook",
          "Notebook",
          "Gaming",
          "Notebook",
          "Notebook",
          "Notebook",
          "Gaming",
          "Notebook",
          "Ultrabook",
          "Notebook",
          "Ultrabook",
          "Gaming",
          "Notebook",
          "Notebook",
          "Notebook",
          "Notebook",
          "Notebook",
          "Notebook",
          "Notebook",
          "Notebook",
          "Gaming",
          "Notebook",
          "Notebook",
          "Notebook",
          "Notebook",
          "Notebook",
          "Notebook",
          "Notebook",
          "2 in 1 Convertible",
          "Notebook",
          "Ultrabook",
          "Notebook",
          "Notebook",
          "Ultrabook",
          "Notebook",
          "Notebook",
          "Notebook",
          "Notebook",
          "Workstation",
          "Notebook",
          "Notebook",
          "Notebook",
          "Notebook",
          "Notebook",
          "Ultrabook",
          "Gaming",
          "Gaming",
          "Notebook",
          "Notebook",
          "Notebook",
          "Notebook",
          "Notebook",
          "Netbook",
          "Gaming",
          "Gaming",
          "Ultrabook",
          "Notebook",
          "Gaming",
          "2 in 1 Convertible",
          "Notebook",
          "2 in 1 Convertible",
          "Notebook",
          "Notebook",
          "Notebook",
          "2 in 1 Convertible",
          "Notebook",
          "2 in 1 Convertible",
          "Workstation",
          "Notebook",
          "Notebook",
          "Notebook",
          "Gaming",
          "Notebook",
          "Gaming",
          "Notebook",
          "Notebook",
          "2 in 1 Convertible",
          "Notebook",
          "Notebook",
          "Gaming",
          "Notebook",
          "Notebook",
          "Notebook",
          "Gaming",
          "Notebook",
          "Ultrabook",
          "Gaming",
          "2 in 1 Convertible",
          "Notebook",
          "Notebook",
          "Notebook",
          "Notebook",
          "Notebook",
          "Notebook",
          "Notebook",
          "Notebook",
          "2 in 1 Convertible",
          "Notebook",
          "Ultrabook",
          "Gaming",
          "Notebook",
          "Notebook",
          "Notebook",
          "Notebook",
          "Ultrabook",
          "Notebook",
          "2 in 1 Convertible",
          "Notebook",
          "Gaming",
          "Notebook",
          "Ultrabook",
          "Gaming",
          "Notebook",
          "Notebook",
          "Ultrabook",
          "Gaming",
          "Notebook",
          "Ultrabook",
          "Gaming",
          "Gaming",
          "Ultrabook",
          "Gaming",
          "Notebook",
          "Notebook",
          "Notebook",
          "Notebook",
          "Gaming",
          "Gaming",
          "Notebook",
          "Notebook",
          "Notebook",
          "Notebook",
          "Gaming",
          "Notebook",
          "Notebook",
          "Notebook",
          "Notebook",
          "Notebook",
          "Ultrabook",
          "Notebook",
          "2 in 1 Convertible",
          "Notebook",
          "2 in 1 Convertible",
          "Gaming",
          "Ultrabook",
          "2 in 1 Convertible",
          "Ultrabook",
          "Gaming",
          "Gaming",
          "Notebook",
          "Gaming",
          "Notebook",
          "2 in 1 Convertible",
          "Gaming",
          "Notebook",
          "Notebook",
          "Notebook",
          "Notebook",
          "Notebook",
          "Notebook",
          "Workstation",
          "2 in 1 Convertible",
          "Notebook",
          "Netbook",
          "2 in 1 Convertible",
          "2 in 1 Convertible",
          "Ultrabook",
          "Notebook",
          "Gaming",
          "Notebook",
          "Notebook",
          "Notebook",
          "Notebook",
          "Notebook",
          "2 in 1 Convertible",
          "Workstation",
          "Notebook",
          "Notebook",
          "Gaming",
          "Notebook",
          "Notebook",
          "Notebook",
          "Notebook",
          "Notebook",
          "Notebook",
          "Notebook",
          "Notebook",
          "Notebook",
          "Ultrabook",
          "2 in 1 Convertible",
          "Ultrabook",
          "Gaming",
          "Gaming",
          "Notebook",
          "Notebook",
          "2 in 1 Convertible",
          "Notebook",
          "Notebook",
          "Gaming",
          "Notebook",
          "Notebook",
          "Notebook",
          "Notebook",
          "Notebook",
          "Workstation",
          "2 in 1 Convertible",
          "Gaming",
          "Notebook",
          "Notebook",
          "Notebook",
          "Notebook",
          "2 in 1 Convertible",
          "Workstation",
          "Notebook",
          "Ultrabook",
          "Notebook",
          "Notebook",
          "Workstation",
          "Netbook",
          "Notebook",
          "Notebook",
          "Ultrabook",
          "Notebook",
          "2 in 1 Convertible",
          "Notebook",
          "Workstation",
          "Gaming",
          "Notebook",
          "Gaming",
          "Ultrabook",
          "Ultrabook",
          "Ultrabook",
          "Notebook",
          "Notebook",
          "Notebook",
          "Gaming",
          "Ultrabook",
          "Notebook",
          "Notebook",
          "2 in 1 Convertible",
          "Notebook",
          "Gaming",
          "Ultrabook",
          "2 in 1 Convertible",
          "Notebook",
          "Notebook",
          "Gaming",
          "Notebook",
          "Gaming",
          "Gaming",
          "Ultrabook",
          "Notebook",
          "Ultrabook",
          "Gaming",
          "Gaming",
          "Gaming",
          "Gaming",
          "Gaming",
          "Gaming",
          "Notebook",
          "2 in 1 Convertible",
          "2 in 1 Convertible",
          "Ultrabook",
          "2 in 1 Convertible",
          "Notebook",
          "Notebook",
          "2 in 1 Convertible",
          "Notebook",
          "Workstation",
          "Notebook",
          "Ultrabook",
          "Notebook",
          "Netbook",
          "Netbook",
          "Notebook",
          "Notebook",
          "Gaming",
          "Notebook",
          "Gaming",
          "Gaming",
          "Ultrabook",
          "Notebook",
          "Notebook",
          "Ultrabook",
          "Ultrabook",
          "Netbook",
          "Gaming",
          "Notebook",
          "Notebook",
          "Ultrabook",
          "Ultrabook",
          "Gaming",
          "Ultrabook",
          "Notebook",
          "2 in 1 Convertible",
          "Notebook",
          "Netbook",
          "Notebook",
          "Gaming",
          "Ultrabook",
          "Notebook",
          "Notebook",
          "Notebook",
          "Gaming",
          "Gaming",
          "Notebook",
          "Notebook",
          "Notebook",
          "Gaming",
          "Gaming",
          "Notebook",
          "Notebook",
          "Ultrabook",
          "Notebook",
          "2 in 1 Convertible",
          "Ultrabook",
          "2 in 1 Convertible",
          "Ultrabook",
          "Notebook",
          "Gaming",
          "Notebook",
          "Ultrabook",
          "Notebook",
          "Notebook",
          "Notebook",
          "2 in 1 Convertible",
          "Notebook",
          "Notebook",
          "Notebook",
          "Notebook",
          "Notebook",
          "Gaming",
          "Ultrabook",
          "Notebook",
          "Ultrabook",
          "2 in 1 Convertible",
          "Notebook",
          "Workstation",
          "Notebook",
          "Notebook",
          "Notebook",
          "Notebook",
          "Ultrabook",
          "Ultrabook",
          "Notebook",
          "Ultrabook",
          "Notebook",
          "Notebook",
          "2 in 1 Convertible",
          "2 in 1 Convertible",
          "Notebook",
          "Notebook",
          "Notebook",
          "2 in 1 Convertible",
          "Notebook",
          "Gaming",
          "Netbook",
          "Notebook",
          "Notebook",
          "2 in 1 Convertible",
          "Ultrabook",
          "Ultrabook",
          "Gaming",
          "Notebook",
          "Gaming",
          "Notebook",
          "Notebook",
          "Notebook",
          "2 in 1 Convertible",
          "Gaming",
          "2 in 1 Convertible",
          "Ultrabook",
          "Notebook",
          "Ultrabook",
          "Netbook",
          "Notebook",
          "Notebook",
          "Ultrabook",
          "Notebook",
          "Ultrabook",
          "Notebook",
          "Notebook",
          "Notebook",
          "Notebook",
          "Notebook",
          "Gaming",
          "Gaming",
          "Gaming",
          "Notebook",
          "Ultrabook",
          "Ultrabook",
          "Notebook",
          "2 in 1 Convertible",
          "Notebook",
          "Ultrabook",
          "Notebook",
          "Notebook",
          "Notebook",
          "Notebook",
          "Ultrabook",
          "Notebook",
          "2 in 1 Convertible",
          "Notebook",
          "Netbook",
          "Notebook",
          "Gaming",
          "Ultrabook",
          "Gaming",
          "Gaming",
          "Notebook",
          "Notebook",
          "Notebook",
          "2 in 1 Convertible",
          "Gaming",
          "Ultrabook",
          "Notebook",
          "Notebook",
          "Notebook",
          "Workstation",
          "Ultrabook",
          "Notebook",
          "2 in 1 Convertible",
          "Ultrabook",
          "Gaming",
          "2 in 1 Convertible",
          "2 in 1 Convertible",
          "Ultrabook",
          "2 in 1 Convertible",
          "Notebook",
          "Ultrabook",
          "Notebook",
          "Ultrabook",
          "Notebook",
          "Notebook",
          "Notebook",
          "Notebook",
          "Gaming",
          "Notebook",
          "2 in 1 Convertible",
          "Ultrabook",
          "Gaming",
          "Notebook",
          "Gaming",
          "Notebook",
          "Notebook",
          "2 in 1 Convertible",
          "Notebook",
          "Gaming",
          "2 in 1 Convertible",
          "Notebook",
          "Notebook",
          "Notebook",
          "Notebook",
          "Notebook",
          "Notebook",
          "Gaming",
          "Notebook",
          "Notebook",
          "Netbook",
          "Notebook",
          "Notebook",
          "Notebook",
          "2 in 1 Convertible",
          "Notebook",
          "Ultrabook",
          "Notebook",
          "Gaming",
          "Ultrabook",
          "Gaming",
          "Notebook",
          "Notebook",
          "Notebook",
          "Notebook",
          "Notebook",
          "Notebook",
          "Ultrabook",
          "Notebook",
          "Notebook",
          "Gaming",
          "Ultrabook",
          "Notebook",
          "Ultrabook",
          "Notebook",
          "Notebook",
          "Notebook",
          "Notebook",
          "Notebook",
          "Notebook",
          "2 in 1 Convertible",
          "Ultrabook",
          "Notebook",
          "Notebook",
          "Notebook",
          "Ultrabook",
          "Notebook",
          "Notebook",
          "Ultrabook",
          "Notebook",
          "Notebook",
          "Notebook",
          "Gaming",
          "Notebook",
          "Notebook",
          "Ultrabook",
          "Notebook",
          "Ultrabook",
          "Notebook",
          "Notebook",
          "2 in 1 Convertible",
          "Notebook",
          "Notebook",
          "Notebook",
          "Notebook",
          "Notebook",
          "Notebook",
          "Gaming",
          "Gaming",
          "Netbook",
          "Notebook",
          "Notebook",
          "2 in 1 Convertible",
          "Notebook",
          "Ultrabook",
          "Notebook",
          "Notebook",
          "Notebook",
          "2 in 1 Convertible",
          "Gaming",
          "Notebook",
          "Gaming",
          "Notebook",
          "Notebook",
          "Gaming",
          "Ultrabook",
          "Gaming",
          "2 in 1 Convertible",
          "Gaming",
          "Ultrabook",
          "Notebook",
          "Notebook",
          "Ultrabook",
          "Notebook",
          "Ultrabook",
          "Notebook",
          "Notebook",
          "Gaming",
          "Notebook",
          "Notebook",
          "Ultrabook",
          "Gaming",
          "2 in 1 Convertible",
          "Ultrabook",
          "Notebook",
          "Notebook",
          "Workstation",
          "Notebook",
          "Notebook",
          "Notebook",
          "Notebook",
          "Notebook",
          "Gaming",
          "Ultrabook",
          "Netbook",
          "Notebook",
          "Notebook",
          "Gaming",
          "Notebook",
          "Gaming",
          "Ultrabook",
          "Ultrabook",
          "Notebook",
          "Workstation",
          "Gaming",
          "Ultrabook",
          "Gaming",
          "2 in 1 Convertible",
          "Notebook",
          "Gaming",
          "Notebook",
          "Notebook",
          "Notebook",
          "Ultrabook",
          "2 in 1 Convertible",
          "Ultrabook",
          "Gaming",
          "Ultrabook",
          "Ultrabook",
          "Gaming",
          "Notebook",
          "Notebook",
          "Notebook",
          "Notebook",
          "Notebook",
          "2 in 1 Convertible",
          "2 in 1 Convertible",
          "Ultrabook",
          "Gaming",
          "Gaming",
          "Notebook",
          "2 in 1 Convertible",
          "Notebook",
          "Ultrabook",
          "Notebook",
          "Notebook",
          "Workstation",
          "Notebook",
          "Gaming",
          "Ultrabook",
          "2 in 1 Convertible",
          "Gaming",
          "2 in 1 Convertible",
          "Workstation",
          "2 in 1 Convertible",
          "Workstation",
          "Ultrabook",
          "Notebook",
          "Notebook",
          "2 in 1 Convertible",
          "Notebook",
          "Notebook",
          "Notebook",
          "Gaming",
          "Notebook",
          "Notebook",
          "Gaming",
          "Ultrabook",
          "Notebook",
          "2 in 1 Convertible",
          "Ultrabook",
          "Gaming",
          "Gaming",
          "Notebook",
          "Notebook",
          "Gaming",
          "Notebook",
          "Notebook",
          "Notebook",
          "Gaming",
          "Notebook",
          "Notebook",
          "Notebook",
          "Notebook",
          "Notebook",
          "Notebook",
          "Notebook",
          "Gaming",
          "Gaming",
          "Notebook",
          "2 in 1 Convertible",
          "Ultrabook",
          "Notebook",
          "Notebook",
          "Notebook",
          "Gaming",
          "2 in 1 Convertible",
          "Notebook",
          "Ultrabook",
          "Gaming",
          "Gaming",
          "2 in 1 Convertible",
          "Notebook",
          "Ultrabook",
          "2 in 1 Convertible",
          "Notebook",
          "Notebook",
          "Gaming",
          "Notebook",
          "Gaming",
          "Notebook",
          "Notebook",
          "2 in 1 Convertible",
          "Ultrabook",
          "Gaming",
          "Notebook",
          "Notebook",
          "Notebook",
          "Notebook",
          "Gaming",
          "Ultrabook",
          "Notebook",
          "Gaming",
          "2 in 1 Convertible",
          "Gaming",
          "Netbook",
          "Notebook",
          "Notebook",
          "Gaming",
          "2 in 1 Convertible",
          "Notebook",
          "Gaming",
          "Notebook",
          "Ultrabook",
          "2 in 1 Convertible",
          "Notebook",
          "Ultrabook",
          "Notebook",
          "Gaming",
          "Gaming",
          "Netbook",
          "Gaming",
          "Notebook",
          "Gaming",
          "Ultrabook",
          "Notebook",
          "Ultrabook",
          "Notebook",
          "Gaming",
          "Notebook",
          "Notebook",
          "Ultrabook",
          "Notebook",
          "2 in 1 Convertible",
          "Notebook",
          "Gaming",
          "Notebook",
          "Gaming",
          "Notebook",
          "2 in 1 Convertible",
          "Notebook",
          "Notebook",
          "Notebook",
          "Notebook",
          "Notebook",
          "Notebook",
          "Gaming",
          "Notebook",
          "Notebook",
          "Gaming",
          "2 in 1 Convertible",
          "Ultrabook",
          "Notebook",
          "Notebook",
          "Notebook",
          "Notebook",
          "Notebook",
          "Notebook",
          "Netbook",
          "Notebook",
          "2 in 1 Convertible",
          "2 in 1 Convertible",
          "Notebook",
          "Notebook",
          "Notebook",
          "Ultrabook",
          "Notebook",
          "Notebook",
          "Notebook",
          "Notebook",
          "Notebook",
          "Notebook",
          "Netbook",
          "Notebook",
          "2 in 1 Convertible",
          "2 in 1 Convertible",
          "Notebook",
          "Notebook",
          "Notebook",
          "Ultrabook",
          "Notebook",
          "Notebook",
          "Notebook",
          "Notebook",
          "Notebook",
          "Notebook",
          "Netbook",
          "Notebook",
          "2 in 1 Convertible",
          "2 in 1 Convertible",
          "Notebook",
          "Notebook",
          "Notebook"
         ],
         "x0": " ",
         "xaxis": "x",
         "y": [
          1339.69,
          898.94,
          575,
          2537.45,
          1803.6,
          400,
          2139.97,
          1158.7,
          1495,
          770,
          393.9,
          344.99,
          2439.97,
          498.9,
          1262.4,
          1518.55,
          745,
          2858,
          499,
          979,
          191.9,
          999,
          258,
          819,
          659,
          418.64,
          1099,
          800,
          1298,
          896,
          244.99,
          199,
          439,
          1869,
          998,
          249,
          367,
          979,
          488.69,
          879,
          389,
          1499,
          522.99,
          682,
          999,
          1419,
          369,
          1299,
          639,
          466,
          319,
          841,
          398.49,
          1103,
          384,
          767.8,
          439,
          586.19,
          2449,
          415,
          1299,
          879,
          599,
          941,
          690,
          1983,
          438.69,
          229,
          549,
          949,
          1089,
          955,
          870,
          1095,
          389,
          949,
          519,
          855,
          530,
          977,
          1096.16,
          1510,
          860,
          399,
          395,
          1349,
          699,
          598.99,
          1449,
          1649,
          699,
          689,
          1197,
          1195,
          1049,
          847,
          599.9,
          485,
          577,
          1249,
          719,
          349,
          647,
          1119,
          1340,
          659,
          414.9,
          1193,
          1299,
          1480,
          1262,
          1379,
          1399,
          722,
          1629,
          1398.99,
          1084,
          1130.33,
          564,
          1118,
          479,
          2241.5,
          629,
          1271,
          451,
          259,
          812,
          277.99,
          1396,
          928,
          638.99,
          449,
          884,
          572,
          598,
          988,
          252.36,
          938,
          499,
          699,
          655,
          1116.02,
          869,
          602,
          369,
          1099,
          2014,
          344,
          2029,
          447,
          1249.26,
          899,
          498,
          1890,
          1082,
          619,
          629,
          1315,
          1049,
          447,
          403,
          805,
          728,
          1079,
          348,
          1799,
          363.51,
          1060.49,
          854,
          754,
          1349,
          699,
          309,
          489,
          923,
          459,
          449,
          2799,
          813,
          1499,
          1049,
          1399,
          1849,
          793,
          1199,
          1549,
          2397,
          779,
          989,
          1085,
          2824,
          260,
          999.9,
          698,
          839,
          914,
          6099,
          959,
          1379,
          1045,
          1845,
          493,
          742,
          1749,
          3055,
          1398,
          439,
          1949,
          1449,
          597,
          779,
          1407,
          349,
          549,
          1499,
          931.88,
          589,
          1031,
          1149,
          1279,
          677.35,
          899,
          1363,
          794,
          2456.34,
          832,
          859.01,
          769,
          891,
          1269,
          398.99,
          330,
          1499,
          859,
          689,
          899,
          390,
          575,
          3890,
          846,
          589,
          1145,
          889,
          879,
          1079,
          985,
          559,
          2999,
          675,
          2040,
          819,
          1799,
          469,
          1849,
          702,
          949,
          445.9,
          1059,
          2499,
          1699,
          1142,
          444,
          722,
          657,
          565,
          799,
          1499,
          467,
          1018,
          880,
          1958.9,
          1549,
          735.07,
          2499,
          812,
          713.07,
          1099,
          745,
          489,
          849,
          859,
          428,
          829,
          579,
          951,
          659,
          1097,
          977,
          1179,
          659.01,
          199,
          1187,
          489,
          1829,
          739,
          1299,
          979,
          2884.86,
          499,
          1468,
          509,
          2122,
          649,
          549,
          1265,
          359.99,
          1975,
          1043,
          819,
          469,
          999,
          2499,
          2099,
          469,
          275,
          844,
          2449,
          459.9,
          980,
          485,
          1292,
          589,
          1094,
          902,
          659,
          292,
          549,
          1049.9,
          1335,
          2639,
          1199,
          943,
          1334,
          449,
          999,
          1268,
          1049,
          1144,
          274.99,
          1142.75,
          274.9,
          899,
          716,
          2099,
          1579,
          1129,
          279,
          1607.96,
          375,
          663,
          2027.42,
          1304,
          1409,
          1738.27,
          1403,
          970.9,
          321.99,
          999,
          557.37,
          1427,
          439,
          945,
          719,
          639,
          499,
          389,
          1085,
          809,
          899,
          1750,
          1099,
          426,
          2199,
          489,
          869.01,
          488.99,
          553,
          309,
          286,
          846,
          1191,
          403.5,
          1655,
          1099,
          1748.9,
          2282,
          549,
          1369,
          2135,
          2509,
          1039,
          1591,
          693.99,
          1349,
          778.87,
          499,
          1229.56,
          938,
          2712,
          2625,
          306,
          1529,
          1144.5,
          879,
          2249,
          1873,
          1747,
          1680,
          409,
          304.45,
          1925,
          1943,
          469,
          789.01,
          928,
          598.9,
          689,
          1500,
          539.95,
          1215.38,
          1899,
          449,
          1427,
          597,
          2799,
          1159,
          1142.4,
          1099,
          1999,
          299,
          269,
          1010,
          599,
          2445,
          2449,
          1695,
          347,
          2199,
          2382,
          559,
          519,
          749,
          1429,
          349,
          1099,
          1179,
          441.8,
          1993,
          1027.74,
          2589,
          589,
          1975,
          1534,
          1345,
          979,
          479,
          2046,
          989,
          1799,
          639.9,
          544,
          435,
          749,
          799,
          2090,
          304,
          469,
          759,
          1699,
          1858,
          1999,
          1154,
          1275,
          1841.85,
          1299,
          740,
          2408,
          1364,
          675,
          1672,
          1262,
          586.6,
          726,
          248.9,
          565,
          1049,
          2338,
          1899,
          1798,
          1950,
          1011.99,
          2799,
          1350,
          579,
          1269,
          1099,
          898.9,
          1749,
          949,
          911,
          340,
          618.99,
          1599,
          299,
          265,
          949,
          1224,
          613,
          1323,
          1149,
          899,
          639,
          836,
          1219.24,
          1399.95,
          245,
          521.47,
          2968,
          889,
          1504,
          1399,
          1399,
          1279.73,
          689,
          889,
          1340,
          799,
          459,
          585,
          1377,
          3012.77,
          860,
          1299,
          369,
          1649,
          1369,
          797.41,
          398.99,
          1799,
          859,
          1399,
          735.87,
          1145,
          798,
          349,
          705.5,
          785,
          462.35,
          397,
          1729,
          499,
          1116.99,
          2699,
          544.15,
          1280,
          224,
          255,
          949,
          568.9,
          617.9,
          349,
          630,
          1965,
          2999,
          839,
          1599,
          959,
          739,
          344,
          990,
          1860.99,
          389,
          649,
          830,
          685,
          249,
          1865,
          2663,
          2729,
          749.01,
          389,
          1008.52,
          719,
          1537.39,
          295,
          2349,
          1498,
          1673,
          609,
          1770,
          739,
          949,
          603,
          1699,
          529,
          459,
          2025,
          1474,
          1670,
          1763,
          1219,
          668.48,
          329,
          2199,
          465,
          2299,
          1399,
          564,
          1299,
          349,
          4899,
          879.01,
          443.9,
          359,
          869,
          1168,
          569,
          1389,
          2267.86,
          379,
          1124,
          1465,
          776,
          799,
          932,
          899,
          239,
          468,
          639.01,
          1820,
          1900,
          1479,
          829,
          579,
          399,
          906.62,
          1869,
          249,
          1757.42,
          2399,
          1109,
          520.9,
          2450,
          1169,
          450,
          274,
          919,
          2599,
          1213,
          1584,
          2799,
          709,
          1449.9,
          1191.8,
          364.9,
          1064,
          919,
          1135,
          1196,
          3147.37,
          1229,
          419,
          535,
          539,
          1486.77,
          498,
          955,
          745,
          1258,
          412,
          1867.85,
          817.95,
          1034,
          349,
          699,
          1294,
          1135,
          495,
          2299,
          1299,
          997.9,
          419,
          2051,
          699,
          1499,
          2813.75,
          612.61,
          545.67,
          569,
          318,
          375,
          699,
          1907.99,
          2590,
          973,
          269,
          1749,
          669,
          1877,
          689,
          819,
          399,
          429,
          621.45,
          450,
          795,
          999,
          1855,
          1191,
          655.01,
          1249,
          1089,
          726,
          298,
          1426.66,
          857.07,
          1179,
          298,
          265,
          1200,
          1686.64,
          836.6,
          1499,
          3659.4,
          1348.48,
          489.9,
          719,
          649,
          589.52,
          489,
          1935,
          649,
          650,
          559,
          960,
          779,
          2419,
          659,
          2094.48,
          410.8,
          1207,
          665,
          1535,
          999,
          3299,
          330,
          1649,
          539,
          1126.71,
          4389,
          475,
          1900,
          579,
          1096,
          849.9,
          1199,
          1099,
          1561,
          2868.99,
          599,
          1048,
          1859,
          1559,
          1129,
          849,
          655,
          470.34,
          1099,
          1599,
          298,
          1181.27,
          1799,
          1020,
          1099,
          1244,
          839,
          2370,
          636,
          2899,
          581.9,
          3588.8,
          2350,
          1764,
          329,
          2299,
          1891,
          1089,
          999,
          2299,
          985,
          1339,
          202.9,
          1970,
          959,
          1165,
          2330,
          299,
          810,
          1349,
          739,
          2064.9,
          1099,
          1499,
          1749,
          744,
          1389,
          780,
          629,
          1679,
          609,
          1749,
          2415,
          1499,
          961,
          789.81,
          1859,
          1799,
          385,
          2505.02,
          755,
          489.9,
          1090,
          2499,
          1199,
          1875,
          499,
          1358,
          585,
          355,
          619,
          5499,
          2099,
          519,
          1186,
          1650,
          2774.63,
          2419,
          669,
          325,
          590,
          1799,
          3072.89,
          910,
          713.99,
          1870,
          739,
          615,
          1026,
          2277,
          1468,
          299,
          1899,
          865,
          1903,
          787,
          945,
          449,
          2559,
          649,
          469,
          850.66,
          1349,
          1285,
          1017,
          2240,
          910,
          1095,
          1950,
          902,
          1778,
          1055,
          479,
          1388,
          735,
          1849,
          1690,
          398.99,
          935,
          912.5,
          839,
          1700,
          684.8,
          348,
          669,
          369,
          1799,
          455.7,
          1369.9,
          297,
          379,
          1265,
          1399,
          1699,
          1799,
          2649,
          1475,
          929,
          900,
          614,
          935,
          2013.1,
          1279,
          1649,
          2049,
          1962.99,
          2099,
          1483,
          359,
          789,
          1899,
          1205,
          3100,
          789,
          1018.99,
          499,
          881,
          960,
          1599,
          1349,
          1119.91,
          684.99,
          1296.99,
          1149,
          1975,
          1825,
          729.9,
          1650,
          1165,
          708.06,
          1149,
          309,
          1579,
          288.9,
          1799,
          1105,
          1669,
          558.6,
          1199,
          1639,
          2758,
          1399,
          530,
          619,
          1119,
          1299,
          999,
          1472.2,
          685,
          659,
          349,
          2249,
          1775,
          1460,
          1159,
          1488.99,
          3154,
          1899,
          775,
          1268,
          389,
          1535,
          1760,
          1009,
          1790,
          846.5,
          465.62,
          825,
          685,
          3149,
          695,
          1899,
          1962.98,
          2800,
          1180,
          2049.9,
          979,
          1002,
          1799,
          579,
          1749,
          1299,
          1195,
          549,
          649,
          915,
          599,
          806,
          1189,
          749,
          1119,
          1908,
          499,
          270.62,
          1349,
          889,
          1150,
          1349,
          380,
          1799,
          2089,
          1260,
          1189,
          547,
          779,
          1195,
          1099.99,
          1205,
          1449,
          1049.26,
          684,
          949,
          1539,
          1590,
          1887.21,
          800,
          1210,
          769.99,
          2968,
          1490,
          2229,
          795.99,
          1590,
          1149,
          1185.43,
          1046.44,
          1559,
          1189,
          1060,
          1624,
          1080,
          973,
          409,
          1191.8,
          1195,
          1228.99,
          1349,
          742,
          1725,
          1062.95,
          1010.51,
          847,
          210.8,
          1425,
          1049.6,
          1000,
          2103.34,
          1469,
          1545.64,
          2289.99,
          287.9,
          2620,
          979,
          1094,
          979,
          2254,
          705.15,
          499,
          449,
          1299,
          1819,
          1070,
          998,
          559,
          989.99,
          1929,
          1458,
          3975,
          798.01,
          1329,
          1300,
          481.98,
          1199,
          1199,
          1090,
          1713.49,
          659,
          977,
          2499,
          540,
          940,
          1399,
          3240,
          646.27,
          2049,
          750,
          1030.99,
          1495,
          1199,
          615,
          387,
          393.49,
          345.99,
          1599,
          818.35,
          1599,
          799,
          638.8,
          1599,
          500,
          2299,
          1135.15,
          1166.97,
          209,
          2899,
          1199,
          1413.1,
          1511.19,
          867,
          398,
          1339,
          1699,
          769.15,
          429,
          1969,
          549,
          1379,
          2749.99,
          1029,
          2226,
          1312.49,
          196,
          1690,
          1513,
          523.63,
          435,
          1669,
          479,
          1895,
          989,
          1129,
          629,
          2050.38,
          278,
          752,
          616,
          1099,
          3949.4,
          784,
          2399,
          2171.72,
          2440,
          1142.8,
          1629,
          2229,
          1799,
          1899,
          2296.95,
          1009.9,
          1579,
          2339,
          339,
          297,
          599,
          1199,
          2250.68,
          478.89,
          1492.8,
          2299,
          788.49,
          2041,
          1499,
          1769,
          899,
          459,
          476.99,
          1498,
          1390,
          468,
          249,
          839,
          679,
          1159,
          369,
          398,
          709,
          769,
          825,
          1305,
          2153.37,
          650,
          1637,
          831,
          895.01,
          333,
          799,
          909,
          1179,
          691,
          1099,
          2599,
          819,
          659,
          485,
          1163,
          1199,
          1327,
          368,
          2150,
          272,
          2048.9,
          499,
          629,
          1285,
          2680,
          1169,
          889,
          579,
          299,
          629,
          2449,
          1279,
          1749,
          1948.99,
          999,
          1949,
          174,
          598,
          539,
          1272,
          1149,
          1529,
          1476.11,
          529,
          1713.37,
          509,
          309,
          1477,
          521.86,
          1029,
          1149,
          1650,
          3499,
          469.01,
          1598,
          959,
          478,
          2198.19,
          737,
          1169,
          1499,
          597.57,
          1280,
          361.8,
          1799,
          1099.99,
          1600,
          875,
          2325,
          573,
          1813,
          324,
          399,
          569,
          1072,
          443.99,
          339,
          1900,
          490,
          895,
          1229,
          833.01,
          729,
          459,
          289,
          379,
          899,
          549.99,
          805.99,
          209,
          720.32,
          638,
          1499,
          229,
          764,
          369,
          729,
          459,
          289,
          379,
          899,
          549.99,
          805.99,
          209,
          720.32,
          638,
          1499,
          229,
          764,
          369,
          729,
          459,
          289,
          379,
          899,
          549.99,
          805.99,
          209,
          720.32,
          638,
          1499,
          229,
          764,
          369
         ],
         "y0": " ",
         "yaxis": "y"
        }
       ],
       "layout": {
        "boxmode": "group",
        "legend": {
         "tracegroupgap": 0
        },
        "template": {
         "data": {
          "bar": [
           {
            "error_x": {
             "color": "#2a3f5f"
            },
            "error_y": {
             "color": "#2a3f5f"
            },
            "marker": {
             "line": {
              "color": "#E5ECF6",
              "width": 0.5
             },
             "pattern": {
              "fillmode": "overlay",
              "size": 10,
              "solidity": 0.2
             }
            },
            "type": "bar"
           }
          ],
          "barpolar": [
           {
            "marker": {
             "line": {
              "color": "#E5ECF6",
              "width": 0.5
             },
             "pattern": {
              "fillmode": "overlay",
              "size": 10,
              "solidity": 0.2
             }
            },
            "type": "barpolar"
           }
          ],
          "carpet": [
           {
            "aaxis": {
             "endlinecolor": "#2a3f5f",
             "gridcolor": "white",
             "linecolor": "white",
             "minorgridcolor": "white",
             "startlinecolor": "#2a3f5f"
            },
            "baxis": {
             "endlinecolor": "#2a3f5f",
             "gridcolor": "white",
             "linecolor": "white",
             "minorgridcolor": "white",
             "startlinecolor": "#2a3f5f"
            },
            "type": "carpet"
           }
          ],
          "choropleth": [
           {
            "colorbar": {
             "outlinewidth": 0,
             "ticks": ""
            },
            "type": "choropleth"
           }
          ],
          "contour": [
           {
            "colorbar": {
             "outlinewidth": 0,
             "ticks": ""
            },
            "colorscale": [
             [
              0,
              "#0d0887"
             ],
             [
              0.1111111111111111,
              "#46039f"
             ],
             [
              0.2222222222222222,
              "#7201a8"
             ],
             [
              0.3333333333333333,
              "#9c179e"
             ],
             [
              0.4444444444444444,
              "#bd3786"
             ],
             [
              0.5555555555555556,
              "#d8576b"
             ],
             [
              0.6666666666666666,
              "#ed7953"
             ],
             [
              0.7777777777777778,
              "#fb9f3a"
             ],
             [
              0.8888888888888888,
              "#fdca26"
             ],
             [
              1,
              "#f0f921"
             ]
            ],
            "type": "contour"
           }
          ],
          "contourcarpet": [
           {
            "colorbar": {
             "outlinewidth": 0,
             "ticks": ""
            },
            "type": "contourcarpet"
           }
          ],
          "heatmap": [
           {
            "colorbar": {
             "outlinewidth": 0,
             "ticks": ""
            },
            "colorscale": [
             [
              0,
              "#0d0887"
             ],
             [
              0.1111111111111111,
              "#46039f"
             ],
             [
              0.2222222222222222,
              "#7201a8"
             ],
             [
              0.3333333333333333,
              "#9c179e"
             ],
             [
              0.4444444444444444,
              "#bd3786"
             ],
             [
              0.5555555555555556,
              "#d8576b"
             ],
             [
              0.6666666666666666,
              "#ed7953"
             ],
             [
              0.7777777777777778,
              "#fb9f3a"
             ],
             [
              0.8888888888888888,
              "#fdca26"
             ],
             [
              1,
              "#f0f921"
             ]
            ],
            "type": "heatmap"
           }
          ],
          "heatmapgl": [
           {
            "colorbar": {
             "outlinewidth": 0,
             "ticks": ""
            },
            "colorscale": [
             [
              0,
              "#0d0887"
             ],
             [
              0.1111111111111111,
              "#46039f"
             ],
             [
              0.2222222222222222,
              "#7201a8"
             ],
             [
              0.3333333333333333,
              "#9c179e"
             ],
             [
              0.4444444444444444,
              "#bd3786"
             ],
             [
              0.5555555555555556,
              "#d8576b"
             ],
             [
              0.6666666666666666,
              "#ed7953"
             ],
             [
              0.7777777777777778,
              "#fb9f3a"
             ],
             [
              0.8888888888888888,
              "#fdca26"
             ],
             [
              1,
              "#f0f921"
             ]
            ],
            "type": "heatmapgl"
           }
          ],
          "histogram": [
           {
            "marker": {
             "pattern": {
              "fillmode": "overlay",
              "size": 10,
              "solidity": 0.2
             }
            },
            "type": "histogram"
           }
          ],
          "histogram2d": [
           {
            "colorbar": {
             "outlinewidth": 0,
             "ticks": ""
            },
            "colorscale": [
             [
              0,
              "#0d0887"
             ],
             [
              0.1111111111111111,
              "#46039f"
             ],
             [
              0.2222222222222222,
              "#7201a8"
             ],
             [
              0.3333333333333333,
              "#9c179e"
             ],
             [
              0.4444444444444444,
              "#bd3786"
             ],
             [
              0.5555555555555556,
              "#d8576b"
             ],
             [
              0.6666666666666666,
              "#ed7953"
             ],
             [
              0.7777777777777778,
              "#fb9f3a"
             ],
             [
              0.8888888888888888,
              "#fdca26"
             ],
             [
              1,
              "#f0f921"
             ]
            ],
            "type": "histogram2d"
           }
          ],
          "histogram2dcontour": [
           {
            "colorbar": {
             "outlinewidth": 0,
             "ticks": ""
            },
            "colorscale": [
             [
              0,
              "#0d0887"
             ],
             [
              0.1111111111111111,
              "#46039f"
             ],
             [
              0.2222222222222222,
              "#7201a8"
             ],
             [
              0.3333333333333333,
              "#9c179e"
             ],
             [
              0.4444444444444444,
              "#bd3786"
             ],
             [
              0.5555555555555556,
              "#d8576b"
             ],
             [
              0.6666666666666666,
              "#ed7953"
             ],
             [
              0.7777777777777778,
              "#fb9f3a"
             ],
             [
              0.8888888888888888,
              "#fdca26"
             ],
             [
              1,
              "#f0f921"
             ]
            ],
            "type": "histogram2dcontour"
           }
          ],
          "mesh3d": [
           {
            "colorbar": {
             "outlinewidth": 0,
             "ticks": ""
            },
            "type": "mesh3d"
           }
          ],
          "parcoords": [
           {
            "line": {
             "colorbar": {
              "outlinewidth": 0,
              "ticks": ""
             }
            },
            "type": "parcoords"
           }
          ],
          "pie": [
           {
            "automargin": true,
            "type": "pie"
           }
          ],
          "scatter": [
           {
            "fillpattern": {
             "fillmode": "overlay",
             "size": 10,
             "solidity": 0.2
            },
            "type": "scatter"
           }
          ],
          "scatter3d": [
           {
            "line": {
             "colorbar": {
              "outlinewidth": 0,
              "ticks": ""
             }
            },
            "marker": {
             "colorbar": {
              "outlinewidth": 0,
              "ticks": ""
             }
            },
            "type": "scatter3d"
           }
          ],
          "scattercarpet": [
           {
            "marker": {
             "colorbar": {
              "outlinewidth": 0,
              "ticks": ""
             }
            },
            "type": "scattercarpet"
           }
          ],
          "scattergeo": [
           {
            "marker": {
             "colorbar": {
              "outlinewidth": 0,
              "ticks": ""
             }
            },
            "type": "scattergeo"
           }
          ],
          "scattergl": [
           {
            "marker": {
             "colorbar": {
              "outlinewidth": 0,
              "ticks": ""
             }
            },
            "type": "scattergl"
           }
          ],
          "scattermapbox": [
           {
            "marker": {
             "colorbar": {
              "outlinewidth": 0,
              "ticks": ""
             }
            },
            "type": "scattermapbox"
           }
          ],
          "scatterpolar": [
           {
            "marker": {
             "colorbar": {
              "outlinewidth": 0,
              "ticks": ""
             }
            },
            "type": "scatterpolar"
           }
          ],
          "scatterpolargl": [
           {
            "marker": {
             "colorbar": {
              "outlinewidth": 0,
              "ticks": ""
             }
            },
            "type": "scatterpolargl"
           }
          ],
          "scatterternary": [
           {
            "marker": {
             "colorbar": {
              "outlinewidth": 0,
              "ticks": ""
             }
            },
            "type": "scatterternary"
           }
          ],
          "surface": [
           {
            "colorbar": {
             "outlinewidth": 0,
             "ticks": ""
            },
            "colorscale": [
             [
              0,
              "#0d0887"
             ],
             [
              0.1111111111111111,
              "#46039f"
             ],
             [
              0.2222222222222222,
              "#7201a8"
             ],
             [
              0.3333333333333333,
              "#9c179e"
             ],
             [
              0.4444444444444444,
              "#bd3786"
             ],
             [
              0.5555555555555556,
              "#d8576b"
             ],
             [
              0.6666666666666666,
              "#ed7953"
             ],
             [
              0.7777777777777778,
              "#fb9f3a"
             ],
             [
              0.8888888888888888,
              "#fdca26"
             ],
             [
              1,
              "#f0f921"
             ]
            ],
            "type": "surface"
           }
          ],
          "table": [
           {
            "cells": {
             "fill": {
              "color": "#EBF0F8"
             },
             "line": {
              "color": "white"
             }
            },
            "header": {
             "fill": {
              "color": "#C8D4E3"
             },
             "line": {
              "color": "white"
             }
            },
            "type": "table"
           }
          ]
         },
         "layout": {
          "annotationdefaults": {
           "arrowcolor": "#2a3f5f",
           "arrowhead": 0,
           "arrowwidth": 1
          },
          "autotypenumbers": "strict",
          "coloraxis": {
           "colorbar": {
            "outlinewidth": 0,
            "ticks": ""
           }
          },
          "colorscale": {
           "diverging": [
            [
             0,
             "#8e0152"
            ],
            [
             0.1,
             "#c51b7d"
            ],
            [
             0.2,
             "#de77ae"
            ],
            [
             0.3,
             "#f1b6da"
            ],
            [
             0.4,
             "#fde0ef"
            ],
            [
             0.5,
             "#f7f7f7"
            ],
            [
             0.6,
             "#e6f5d0"
            ],
            [
             0.7,
             "#b8e186"
            ],
            [
             0.8,
             "#7fbc41"
            ],
            [
             0.9,
             "#4d9221"
            ],
            [
             1,
             "#276419"
            ]
           ],
           "sequential": [
            [
             0,
             "#0d0887"
            ],
            [
             0.1111111111111111,
             "#46039f"
            ],
            [
             0.2222222222222222,
             "#7201a8"
            ],
            [
             0.3333333333333333,
             "#9c179e"
            ],
            [
             0.4444444444444444,
             "#bd3786"
            ],
            [
             0.5555555555555556,
             "#d8576b"
            ],
            [
             0.6666666666666666,
             "#ed7953"
            ],
            [
             0.7777777777777778,
             "#fb9f3a"
            ],
            [
             0.8888888888888888,
             "#fdca26"
            ],
            [
             1,
             "#f0f921"
            ]
           ],
           "sequentialminus": [
            [
             0,
             "#0d0887"
            ],
            [
             0.1111111111111111,
             "#46039f"
            ],
            [
             0.2222222222222222,
             "#7201a8"
            ],
            [
             0.3333333333333333,
             "#9c179e"
            ],
            [
             0.4444444444444444,
             "#bd3786"
            ],
            [
             0.5555555555555556,
             "#d8576b"
            ],
            [
             0.6666666666666666,
             "#ed7953"
            ],
            [
             0.7777777777777778,
             "#fb9f3a"
            ],
            [
             0.8888888888888888,
             "#fdca26"
            ],
            [
             1,
             "#f0f921"
            ]
           ]
          },
          "colorway": [
           "#636efa",
           "#EF553B",
           "#00cc96",
           "#ab63fa",
           "#FFA15A",
           "#19d3f3",
           "#FF6692",
           "#B6E880",
           "#FF97FF",
           "#FECB52"
          ],
          "font": {
           "color": "#2a3f5f"
          },
          "geo": {
           "bgcolor": "white",
           "lakecolor": "white",
           "landcolor": "#E5ECF6",
           "showlakes": true,
           "showland": true,
           "subunitcolor": "white"
          },
          "hoverlabel": {
           "align": "left"
          },
          "hovermode": "closest",
          "mapbox": {
           "style": "light"
          },
          "paper_bgcolor": "white",
          "plot_bgcolor": "#E5ECF6",
          "polar": {
           "angularaxis": {
            "gridcolor": "white",
            "linecolor": "white",
            "ticks": ""
           },
           "bgcolor": "#E5ECF6",
           "radialaxis": {
            "gridcolor": "white",
            "linecolor": "white",
            "ticks": ""
           }
          },
          "scene": {
           "xaxis": {
            "backgroundcolor": "#E5ECF6",
            "gridcolor": "white",
            "gridwidth": 2,
            "linecolor": "white",
            "showbackground": true,
            "ticks": "",
            "zerolinecolor": "white"
           },
           "yaxis": {
            "backgroundcolor": "#E5ECF6",
            "gridcolor": "white",
            "gridwidth": 2,
            "linecolor": "white",
            "showbackground": true,
            "ticks": "",
            "zerolinecolor": "white"
           },
           "zaxis": {
            "backgroundcolor": "#E5ECF6",
            "gridcolor": "white",
            "gridwidth": 2,
            "linecolor": "white",
            "showbackground": true,
            "ticks": "",
            "zerolinecolor": "white"
           }
          },
          "shapedefaults": {
           "line": {
            "color": "#2a3f5f"
           }
          },
          "ternary": {
           "aaxis": {
            "gridcolor": "white",
            "linecolor": "white",
            "ticks": ""
           },
           "baxis": {
            "gridcolor": "white",
            "linecolor": "white",
            "ticks": ""
           },
           "bgcolor": "#E5ECF6",
           "caxis": {
            "gridcolor": "white",
            "linecolor": "white",
            "ticks": ""
           }
          },
          "title": {
           "x": 0.05
          },
          "xaxis": {
           "automargin": true,
           "gridcolor": "white",
           "linecolor": "white",
           "ticks": "",
           "title": {
            "standoff": 15
           },
           "zerolinecolor": "white",
           "zerolinewidth": 2
          },
          "yaxis": {
           "automargin": true,
           "gridcolor": "white",
           "linecolor": "white",
           "ticks": "",
           "title": {
            "standoff": 15
           },
           "zerolinecolor": "white",
           "zerolinewidth": 2
          }
         }
        },
        "title": {
         "text": "Laptop prices by type"
        },
        "xaxis": {
         "anchor": "y",
         "domain": [
          0,
          1
         ],
         "title": {
          "text": "TypeName"
         }
        },
        "yaxis": {
         "anchor": "x",
         "domain": [
          0,
          1
         ],
         "title": {
          "text": "Price_in_euros"
         }
        }
       }
      }
     },
     "metadata": {},
     "output_type": "display_data"
    }
   ],
   "source": [
    "fig = px.box(df, x='TypeName', y='Price_in_euros', title='Laptop prices by type')\n",
    "\n",
    "fig.write_image(\"images/laptop_prices_by_brand_and_gpu.png\")\n",
    "\n",
    "fig.show()"
   ]
  },
  {
   "cell_type": "code",
   "execution_count": 30,
   "metadata": {},
   "outputs": [
    {
     "data": {
      "application/vnd.plotly.v1+json": {
       "config": {
        "plotlyServerURL": "https://plot.ly"
       },
       "data": [
        {
         "alignmentgroup": "True",
         "hovertemplate": "Company=Apple<br>TypeName=%{x}<br>Price_in_euros=%{y}<extra></extra>",
         "legendgroup": "Apple",
         "marker": {
          "color": "#636efa"
         },
         "name": "Apple",
         "notched": false,
         "offsetgroup": "Apple",
         "orientation": "v",
         "showlegend": true,
         "type": "box",
         "x": [
          "Ultrabook",
          "Ultrabook",
          "Ultrabook",
          "Ultrabook",
          "Ultrabook",
          "Ultrabook",
          "Ultrabook",
          "Ultrabook",
          "Ultrabook",
          "Ultrabook",
          "Ultrabook",
          "Ultrabook",
          "Ultrabook",
          "Ultrabook",
          "Ultrabook",
          "Ultrabook",
          "Ultrabook",
          "Ultrabook",
          "Ultrabook",
          "Ultrabook",
          "Ultrabook"
         ],
         "x0": " ",
         "xaxis": "x",
         "y": [
          1339.69,
          898.94,
          2537.45,
          1803.6,
          2139.97,
          1158.7,
          2439.97,
          1262.4,
          1518.55,
          2858,
          1099,
          998,
          1419,
          1510,
          2040,
          1958.9,
          1165,
          1300,
          1163,
          1279,
          959
         ],
         "y0": " ",
         "yaxis": "y"
        },
        {
         "alignmentgroup": "True",
         "hovertemplate": "Company=HP<br>TypeName=%{x}<br>Price_in_euros=%{y}<extra></extra>",
         "legendgroup": "HP",
         "marker": {
          "color": "#EF553B"
         },
         "name": "HP",
         "notched": false,
         "offsetgroup": "HP",
         "orientation": "v",
         "showlegend": true,
         "type": "box",
         "x": [
          "Notebook",
          "Notebook",
          "Notebook",
          "Notebook",
          "Ultrabook",
          "Notebook",
          "Notebook",
          "Notebook",
          "Notebook",
          "Notebook",
          "Notebook",
          "Notebook",
          "Notebook",
          "Notebook",
          "Notebook",
          "Notebook",
          "Notebook",
          "Ultrabook",
          "Notebook",
          "Notebook",
          "Gaming",
          "Notebook",
          "Notebook",
          "Ultrabook",
          "Notebook",
          "Notebook",
          "2 in 1 Convertible",
          "Notebook",
          "Notebook",
          "Notebook",
          "Notebook",
          "Notebook",
          "Notebook",
          "Notebook",
          "Notebook",
          "Notebook",
          "Ultrabook",
          "Ultrabook",
          "Notebook",
          "Notebook",
          "Notebook",
          "Notebook",
          "2 in 1 Convertible",
          "Notebook",
          "Notebook",
          "Gaming",
          "Notebook",
          "Notebook",
          "Notebook",
          "Notebook",
          "Notebook",
          "Notebook",
          "Notebook",
          "Notebook",
          "Notebook",
          "Notebook",
          "Notebook",
          "Notebook",
          "Notebook",
          "2 in 1 Convertible",
          "Notebook",
          "2 in 1 Convertible",
          "Notebook",
          "Notebook",
          "Notebook",
          "Ultrabook",
          "Notebook",
          "Notebook",
          "Notebook",
          "Notebook",
          "Notebook",
          "Workstation",
          "Notebook",
          "Notebook",
          "Notebook",
          "Ultrabook",
          "Notebook",
          "Gaming",
          "Ultrabook",
          "Notebook",
          "Ultrabook",
          "Notebook",
          "Gaming",
          "Notebook",
          "Gaming",
          "Notebook",
          "Workstation",
          "Notebook",
          "Gaming",
          "2 in 1 Convertible",
          "Notebook",
          "Notebook",
          "Notebook",
          "Notebook",
          "Ultrabook",
          "Notebook",
          "Notebook",
          "Ultrabook",
          "Notebook",
          "Notebook",
          "Gaming",
          "Ultrabook",
          "Notebook",
          "Notebook",
          "Notebook",
          "Notebook",
          "Notebook",
          "Ultrabook",
          "Workstation",
          "Notebook",
          "Notebook",
          "Notebook",
          "Gaming",
          "Notebook",
          "Notebook",
          "Ultrabook",
          "Notebook",
          "Notebook",
          "Notebook",
          "Notebook",
          "Notebook",
          "Notebook",
          "2 in 1 Convertible",
          "2 in 1 Convertible",
          "Notebook",
          "Notebook",
          "Notebook",
          "Workstation",
          "Notebook",
          "Notebook",
          "Notebook",
          "2 in 1 Convertible",
          "Notebook",
          "Notebook",
          "Workstation",
          "Notebook",
          "Workstation",
          "Notebook",
          "Notebook",
          "Workstation",
          "Ultrabook",
          "Workstation",
          "Netbook",
          "Notebook",
          "Gaming",
          "Netbook",
          "Notebook",
          "Ultrabook",
          "2 in 1 Convertible",
          "2 in 1 Convertible",
          "Ultrabook",
          "Notebook",
          "2 in 1 Convertible",
          "Notebook",
          "Notebook",
          "Notebook",
          "2 in 1 Convertible",
          "2 in 1 Convertible",
          "2 in 1 Convertible",
          "Notebook",
          "2 in 1 Convertible",
          "Notebook",
          "Netbook",
          "Ultrabook",
          "Notebook",
          "Notebook",
          "Ultrabook",
          "Ultrabook",
          "Notebook",
          "Notebook",
          "Ultrabook",
          "Notebook",
          "Netbook",
          "Gaming",
          "Workstation",
          "2 in 1 Convertible",
          "Notebook",
          "Notebook",
          "Notebook",
          "Notebook",
          "Notebook",
          "Netbook",
          "Notebook",
          "Ultrabook",
          "Ultrabook",
          "Notebook",
          "Notebook",
          "Notebook",
          "Notebook",
          "Ultrabook",
          "Notebook",
          "Notebook",
          "Ultrabook",
          "Notebook",
          "Ultrabook",
          "Notebook",
          "Notebook",
          "Notebook",
          "Notebook",
          "Notebook",
          "Ultrabook",
          "Notebook",
          "Notebook",
          "Notebook",
          "Notebook",
          "Notebook",
          "Notebook",
          "Ultrabook",
          "Notebook",
          "Notebook",
          "Notebook",
          "Notebook",
          "Notebook",
          "Notebook",
          "Notebook",
          "Notebook",
          "Notebook",
          "Notebook",
          "Notebook",
          "Ultrabook",
          "Notebook",
          "Notebook",
          "Ultrabook",
          "Notebook",
          "Workstation",
          "Notebook",
          "Notebook",
          "Netbook",
          "Notebook",
          "Workstation",
          "Notebook",
          "Notebook",
          "Ultrabook",
          "Notebook",
          "Notebook",
          "Ultrabook",
          "Gaming",
          "Notebook",
          "Ultrabook",
          "Workstation",
          "Ultrabook",
          "2 in 1 Convertible",
          "Workstation",
          "2 in 1 Convertible",
          "Workstation",
          "Ultrabook",
          "Notebook",
          "Notebook",
          "Notebook",
          "2 in 1 Convertible",
          "Gaming",
          "Notebook",
          "Notebook",
          "Notebook",
          "Notebook",
          "Notebook",
          "Notebook",
          "Notebook",
          "Notebook",
          "Notebook",
          "Notebook",
          "Notebook",
          "Ultrabook",
          "Notebook",
          "Notebook",
          "Notebook",
          "Netbook",
          "Notebook",
          "Notebook",
          "Netbook",
          "Notebook",
          "Notebook",
          "Netbook",
          "Notebook"
         ],
         "x0": " ",
         "xaxis": "x",
         "y": [
          575,
          393.9,
          344.99,
          258,
          659,
          896,
          439,
          488.69,
          879,
          398.49,
          1103,
          439,
          690,
          438.69,
          229,
          977,
          860,
          699,
          598.99,
          1197,
          1249,
          719,
          349,
          1119,
          659,
          722,
          1398.99,
          1084,
          1271,
          259,
          812,
          928,
          598,
          988,
          699,
          369,
          2014,
          1082,
          619,
          754,
          699,
          923,
          1499,
          914,
          959,
          1379,
          1045,
          349,
          1031,
          794,
          1269,
          330,
          559,
          675,
          445.9,
          1059,
          722,
          1018,
          489,
          1975,
          469,
          2449,
          980,
          1292,
          902,
          1335,
          1268,
          1144,
          716,
          279,
          1304,
          1738.27,
          439,
          639,
          389,
          1750,
          488.99,
          1191,
          499,
          469,
          1500,
          1427,
          1999,
          347,
          1099,
          589,
          1534,
          639.9,
          1699,
          1999,
          1154,
          726,
          1749,
          618.99,
          1323,
          521.47,
          889,
          1399,
          689,
          398.99,
          1799,
          1145,
          705.5,
          397,
          544.15,
          1280,
          568.9,
          1965,
          1860.99,
          389,
          649,
          719,
          1498,
          1219,
          668.48,
          1389,
          1124,
          932,
          520.9,
          364.9,
          539,
          745,
          699,
          495,
          699,
          612.61,
          569,
          1907.99,
          689,
          655.01,
          1200,
          836.6,
          489,
          650,
          2419,
          539,
          4389,
          1900,
          1099,
          1561,
          1244,
          2064.9,
          1389,
          629,
          1749,
          385,
          910,
          1870,
          615,
          2277,
          1468,
          299,
          2559,
          1349,
          910,
          839,
          1700,
          684.8,
          1799,
          1265,
          1399,
          900,
          1483,
          3100,
          1018.99,
          960,
          1296.99,
          1149,
          1165,
          1149,
          1579,
          288.9,
          1669,
          1399,
          2249,
          775,
          846.5,
          685,
          979,
          579,
          806,
          1908,
          499,
          1349,
          2089,
          1189,
          779,
          1099.99,
          1205,
          1449,
          1049.26,
          684,
          1539,
          1590,
          1887.21,
          800,
          769.99,
          2229,
          1149,
          1185.43,
          1559,
          1189,
          1060,
          1080,
          973,
          1195,
          1228.99,
          1349,
          742,
          1010.51,
          1000,
          2103.34,
          1469,
          979,
          979,
          705.15,
          499,
          1070,
          1199,
          1199,
          1090,
          940,
          2049,
          1030.99,
          1495,
          615,
          345.99,
          1599,
          500,
          2899,
          398,
          1699,
          1969,
          1690,
          1513,
          1895,
          1129,
          629,
          752,
          3949.4,
          2171.72,
          1629,
          2229,
          1799,
          1899,
          2296.95,
          1579,
          297,
          478.89,
          2041,
          899,
          476.99,
          249,
          679,
          1159,
          650,
          799,
          485,
          1327,
          579,
          529,
          478,
          2198.19,
          1099.99,
          399,
          549.99,
          209,
          764,
          549.99,
          209,
          764,
          549.99,
          209,
          764
         ],
         "y0": " ",
         "yaxis": "y"
        },
        {
         "alignmentgroup": "True",
         "hovertemplate": "Company=Acer<br>TypeName=%{x}<br>Price_in_euros=%{y}<extra></extra>",
         "legendgroup": "Acer",
         "marker": {
          "color": "#00cc96"
         },
         "name": "Acer",
         "notched": false,
         "offsetgroup": "Acer",
         "orientation": "v",
         "showlegend": true,
         "type": "box",
         "x": [
          "Notebook",
          "Ultrabook",
          "Notebook",
          "Notebook",
          "Notebook",
          "Notebook",
          "Notebook",
          "Notebook",
          "Notebook",
          "Notebook",
          "2 in 1 Convertible",
          "Notebook",
          "Notebook",
          "Ultrabook",
          "Notebook",
          "Notebook",
          "Notebook",
          "Notebook",
          "Notebook",
          "Notebook",
          "Notebook",
          "Notebook",
          "Ultrabook",
          "Notebook",
          "Notebook",
          "Notebook",
          "2 in 1 Convertible",
          "Notebook",
          "Gaming",
          "Notebook",
          "Notebook",
          "Notebook",
          "Notebook",
          "Notebook",
          "Notebook",
          "Notebook",
          "Notebook",
          "Notebook",
          "Notebook",
          "Notebook",
          "Notebook",
          "Notebook",
          "Notebook",
          "2 in 1 Convertible",
          "Notebook",
          "Notebook",
          "Netbook",
          "Notebook",
          "Notebook",
          "Notebook",
          "Notebook",
          "Gaming",
          "2 in 1 Convertible",
          "Notebook",
          "Notebook",
          "2 in 1 Convertible",
          "Notebook",
          "Ultrabook",
          "Gaming",
          "Notebook",
          "Gaming",
          "Notebook",
          "Netbook",
          "2 in 1 Convertible",
          "Gaming",
          "Notebook",
          "Notebook",
          "Notebook",
          "Notebook",
          "Notebook",
          "Notebook",
          "Notebook",
          "Gaming",
          "Netbook",
          "Notebook",
          "Notebook",
          "Netbook",
          "Notebook",
          "Notebook",
          "Notebook",
          "Notebook",
          "2 in 1 Convertible",
          "Notebook",
          "Notebook",
          "Gaming",
          "Notebook",
          "Notebook",
          "Notebook",
          "Notebook",
          "Notebook",
          "Notebook",
          "Notebook",
          "Notebook",
          "Gaming",
          "Notebook",
          "Notebook",
          "Netbook",
          "Notebook",
          "2 in 1 Convertible",
          "Notebook",
          "Notebook",
          "Notebook",
          "Notebook"
         ],
         "x0": " ",
         "xaxis": "x",
         "y": [
          400,
          770,
          367,
          682,
          841,
          384,
          389,
          530,
          395,
          689,
          847,
          479,
          451,
          884,
          572,
          655,
          447,
          805,
          348,
          363.51,
          854,
          449,
          989,
          742,
          779,
          832,
          689,
          390,
          846,
          702,
          745,
          951,
          659,
          199,
          979,
          469,
          485,
          659,
          549,
          426,
          846,
          693.99,
          879,
          789.01,
          441.8,
          544,
          435,
          469,
          579,
          613,
          639,
          798,
          349,
          329,
          349,
          379,
          450,
          919,
          709,
          412,
          1299,
          375,
          269,
          999,
          1935,
          559,
          410.8,
          330,
          599,
          655,
          298,
          636,
          2299,
          355,
          619,
          902,
          297,
          359,
          499,
          619,
          349,
          389,
          1009,
          380,
          1260,
          409,
          449,
          387,
          799,
          209,
          616,
          333,
          691,
          2599,
          272,
          629,
          174,
          598,
          1149,
          361.8,
          289,
          289,
          289
         ],
         "y0": " ",
         "yaxis": "y"
        },
        {
         "alignmentgroup": "True",
         "hovertemplate": "Company=Asus<br>TypeName=%{x}<br>Price_in_euros=%{y}<extra></extra>",
         "legendgroup": "Asus",
         "marker": {
          "color": "#ab63fa"
         },
         "name": "Asus",
         "notched": false,
         "offsetgroup": "Asus",
         "orientation": "v",
         "showlegend": true,
         "type": "box",
         "x": [
          "Ultrabook",
          "Netbook",
          "Notebook",
          "Notebook",
          "Notebook",
          "Gaming",
          "Notebook",
          "Notebook",
          "Notebook",
          "Notebook",
          "Ultrabook",
          "Gaming",
          "Gaming",
          "Gaming",
          "Gaming",
          "Ultrabook",
          "Notebook",
          "Ultrabook",
          "Ultrabook",
          "Notebook",
          "Notebook",
          "Notebook",
          "Gaming",
          "Ultrabook",
          "Notebook",
          "2 in 1 Convertible",
          "Notebook",
          "Gaming",
          "Notebook",
          "Notebook",
          "Notebook",
          "Notebook",
          "Gaming",
          "Notebook",
          "Notebook",
          "Gaming",
          "Gaming",
          "Notebook",
          "2 in 1 Convertible",
          "Gaming",
          "Ultrabook",
          "Gaming",
          "Ultrabook",
          "Notebook",
          "Gaming",
          "Gaming",
          "2 in 1 Convertible",
          "Notebook",
          "Ultrabook",
          "Notebook",
          "Gaming",
          "Notebook",
          "2 in 1 Convertible",
          "Notebook",
          "2 in 1 Convertible",
          "Gaming",
          "Notebook",
          "Gaming",
          "Ultrabook",
          "Gaming",
          "Gaming",
          "Gaming",
          "Ultrabook",
          "2 in 1 Convertible",
          "Notebook",
          "Gaming",
          "Notebook",
          "Notebook",
          "Notebook",
          "Notebook",
          "Ultrabook",
          "Gaming",
          "Gaming",
          "Netbook",
          "Notebook",
          "Netbook",
          "Gaming",
          "Gaming",
          "Notebook",
          "Gaming",
          "Notebook",
          "Notebook",
          "Notebook",
          "Gaming",
          "2 in 1 Convertible",
          "Gaming",
          "2 in 1 Convertible",
          "Ultrabook",
          "Notebook",
          "Notebook",
          "Gaming",
          "Gaming",
          "Ultrabook",
          "Notebook",
          "2 in 1 Convertible",
          "Notebook",
          "Notebook",
          "Notebook",
          "Ultrabook",
          "Notebook",
          "2 in 1 Convertible",
          "Notebook",
          "Gaming",
          "Gaming",
          "Notebook",
          "Notebook",
          "2 in 1 Convertible",
          "Notebook",
          "Gaming",
          "Notebook",
          "Gaming",
          "Ultrabook",
          "Gaming",
          "Notebook",
          "Notebook",
          "Notebook",
          "Notebook",
          "Gaming",
          "Gaming",
          "Notebook",
          "2 in 1 Convertible",
          "Gaming",
          "2 in 1 Convertible",
          "Gaming",
          "Notebook",
          "Gaming",
          "Netbook",
          "Gaming",
          "Gaming",
          "Gaming",
          "Gaming",
          "Gaming",
          "Gaming",
          "Notebook",
          "Notebook",
          "Notebook",
          "Notebook",
          "Gaming",
          "Gaming",
          "Gaming",
          "Gaming",
          "Notebook",
          "Gaming",
          "Notebook",
          "Ultrabook",
          "Gaming",
          "Gaming",
          "Notebook",
          "Gaming",
          "Ultrabook",
          "Notebook",
          "Notebook",
          "Ultrabook",
          "Notebook",
          "Notebook",
          "Ultrabook",
          "Notebook",
          "Notebook"
         ],
         "x0": " ",
         "xaxis": "x",
         "y": [
          1495,
          191.9,
          199,
          389,
          522.99,
          1299,
          466,
          586.19,
          415,
          941,
          1983,
          949,
          949,
          1449,
          699,
          1049,
          577,
          1193,
          1262,
          564,
          1118,
          277.99,
          938,
          1099,
          344,
          1315,
          403,
          1407,
          769,
          891,
          398.99,
          575,
          3890,
          1145,
          889,
          2999,
          1799,
          469,
          1499,
          1549,
          977,
          1187,
          1468,
          509,
          2122,
          1265,
          275,
          1094,
          1049.9,
          1334,
          999,
          274.99,
          375,
          945,
          1099,
          2199,
          286,
          1655,
          1748.9,
          1039,
          1591,
          1529,
          1873,
          928,
          597,
          1695,
          559,
          749,
          304,
          1299,
          1950,
          1350,
          1269,
          340,
          1224,
          245,
          2968,
          1504,
          1299,
          1649,
          349,
          224,
          839,
          1770,
          739,
          1168,
          639.01,
          1900,
          399,
          906.62,
          1169,
          2799,
          1135,
          419,
          669,
          298,
          579,
          849.9,
          1129,
          470.34,
          839,
          581.9,
          2350,
          1339,
          299,
          1099,
          1358,
          519,
          2419,
          590,
          1799,
          1026,
          1899,
          787,
          449,
          398.99,
          348,
          1369.9,
          1279,
          530,
          1159,
          2049.9,
          1799,
          1749,
          1150,
          1799,
          287.9,
          998,
          3975,
          1599,
          2299,
          1339,
          1312.49,
          435,
          278,
          369,
          769,
          909,
          2150,
          1169,
          2449,
          1749,
          1949,
          309,
          1280,
          1600,
          2325,
          339,
          1900,
          729,
          720.32,
          369,
          729,
          720.32,
          369,
          729,
          720.32,
          369
         ],
         "y0": " ",
         "yaxis": "y"
        },
        {
         "alignmentgroup": "True",
         "hovertemplate": "Company=Dell<br>TypeName=%{x}<br>Price_in_euros=%{y}<extra></extra>",
         "legendgroup": "Dell",
         "marker": {
          "color": "#FFA15A"
         },
         "name": "Dell",
         "notched": false,
         "offsetgroup": "Dell",
         "orientation": "v",
         "showlegend": true,
         "type": "box",
         "x": [
          "Notebook",
          "Notebook",
          "Ultrabook",
          "2 in 1 Convertible",
          "Notebook",
          "Notebook",
          "Ultrabook",
          "Ultrabook",
          "Notebook",
          "Gaming",
          "2 in 1 Convertible",
          "Notebook",
          "Notebook",
          "Notebook",
          "Ultrabook",
          "Ultrabook",
          "Notebook",
          "Notebook",
          "Ultrabook",
          "Gaming",
          "Ultrabook",
          "Gaming",
          "Notebook",
          "Notebook",
          "Notebook",
          "Ultrabook",
          "Ultrabook",
          "Notebook",
          "Notebook",
          "Notebook",
          "Notebook",
          "Gaming",
          "Gaming",
          "2 in 1 Convertible",
          "Notebook",
          "Gaming",
          "Notebook",
          "Notebook",
          "Ultrabook",
          "Notebook",
          "Notebook",
          "Notebook",
          "2 in 1 Convertible",
          "Gaming",
          "Workstation",
          "Notebook",
          "Ultrabook",
          "Ultrabook",
          "Ultrabook",
          "Ultrabook",
          "2 in 1 Convertible",
          "Notebook",
          "Gaming",
          "Notebook",
          "Notebook",
          "Notebook",
          "Gaming",
          "Notebook",
          "2 in 1 Convertible",
          "Ultrabook",
          "Notebook",
          "Notebook",
          "Notebook",
          "2 in 1 Convertible",
          "Notebook",
          "Notebook",
          "Notebook",
          "Notebook",
          "Notebook",
          "Workstation",
          "Ultrabook",
          "Notebook",
          "Notebook",
          "Ultrabook",
          "Notebook",
          "Notebook",
          "Ultrabook",
          "Ultrabook",
          "Ultrabook",
          "Notebook",
          "Notebook",
          "Gaming",
          "Notebook",
          "Notebook",
          "Notebook",
          "Notebook",
          "2 in 1 Convertible",
          "Notebook",
          "Workstation",
          "Workstation",
          "Notebook",
          "Workstation",
          "Ultrabook",
          "Notebook",
          "Notebook",
          "Notebook",
          "Gaming",
          "Gaming",
          "Notebook",
          "Ultrabook",
          "Notebook",
          "Notebook",
          "Workstation",
          "Workstation",
          "Notebook",
          "2 in 1 Convertible",
          "Notebook",
          "Notebook",
          "Ultrabook",
          "Notebook",
          "Workstation",
          "Notebook",
          "Notebook",
          "Notebook",
          "Workstation",
          "Notebook",
          "Ultrabook",
          "Notebook",
          "Notebook",
          "Notebook",
          "Notebook",
          "Notebook",
          "Notebook",
          "Gaming",
          "Notebook",
          "Notebook",
          "Ultrabook",
          "Notebook",
          "Notebook",
          "Gaming",
          "Notebook",
          "Ultrabook",
          "Notebook",
          "Notebook",
          "Notebook",
          "Notebook",
          "Netbook",
          "2 in 1 Convertible",
          "2 in 1 Convertible",
          "Workstation",
          "Notebook",
          "Gaming",
          "Notebook",
          "Notebook",
          "Notebook",
          "Notebook",
          "Notebook",
          "Notebook",
          "Gaming",
          "Ultrabook",
          "Notebook",
          "Ultrabook",
          "Notebook",
          "Notebook",
          "Gaming",
          "Notebook",
          "Notebook",
          "Gaming",
          "Gaming",
          "Notebook",
          "Gaming",
          "Notebook",
          "Notebook",
          "Notebook",
          "Notebook",
          "Notebook",
          "Gaming",
          "Notebook",
          "2 in 1 Convertible",
          "Notebook",
          "Notebook",
          "2 in 1 Convertible",
          "Notebook",
          "Notebook",
          "Notebook",
          "Gaming",
          "Ultrabook",
          "Notebook",
          "Gaming",
          "Notebook",
          "Gaming",
          "Gaming",
          "Gaming",
          "Notebook",
          "Notebook",
          "Ultrabook",
          "Notebook",
          "Netbook",
          "Gaming",
          "Notebook",
          "Notebook",
          "Gaming",
          "Notebook",
          "Notebook",
          "Gaming",
          "Gaming",
          "Notebook",
          "Notebook",
          "Notebook",
          "Notebook",
          "Notebook",
          "Ultrabook",
          "Workstation",
          "Ultrabook",
          "Notebook",
          "Notebook",
          "Notebook",
          "Gaming",
          "Notebook",
          "Notebook",
          "2 in 1 Convertible",
          "2 in 1 Convertible",
          "Notebook",
          "Gaming",
          "Notebook",
          "Notebook",
          "Notebook",
          "Notebook",
          "Ultrabook",
          "Gaming",
          "Ultrabook",
          "Notebook",
          "Ultrabook",
          "Gaming",
          "2 in 1 Convertible",
          "Ultrabook",
          "Notebook",
          "Notebook",
          "Gaming",
          "2 in 1 Convertible",
          "Ultrabook",
          "Gaming",
          "2 in 1 Convertible",
          "Notebook",
          "Notebook",
          "Notebook",
          "2 in 1 Convertible",
          "Notebook",
          "Gaming",
          "2 in 1 Convertible",
          "Notebook",
          "Ultrabook",
          "Notebook",
          "2 in 1 Convertible",
          "Ultrabook",
          "2 in 1 Convertible",
          "Notebook",
          "Notebook",
          "Ultrabook",
          "2 in 1 Convertible",
          "Gaming",
          "Notebook",
          "Notebook",
          "Notebook",
          "Ultrabook",
          "Notebook",
          "Ultrabook",
          "Ultrabook",
          "Ultrabook",
          "Notebook",
          "Ultrabook",
          "Notebook",
          "Notebook",
          "Notebook",
          "Gaming",
          "Notebook",
          "Gaming",
          "Notebook",
          "2 in 1 Convertible",
          "Ultrabook",
          "2 in 1 Convertible",
          "Notebook",
          "2 in 1 Convertible",
          "Ultrabook",
          "Notebook",
          "2 in 1 Convertible",
          "Ultrabook",
          "2 in 1 Convertible",
          "Ultrabook",
          "Notebook",
          "Notebook",
          "Notebook",
          "2 in 1 Convertible",
          "Notebook",
          "2 in 1 Convertible",
          "Notebook",
          "Notebook",
          "Notebook",
          "Notebook",
          "Notebook",
          "Notebook",
          "Notebook",
          "Notebook",
          "Notebook",
          "Notebook",
          "Notebook",
          "Notebook"
         ],
         "x0": " ",
         "xaxis": "x",
         "y": [
          498.9,
          745,
          979,
          819,
          418.64,
          800,
          1298,
          1869,
          979,
          1499,
          999,
          639,
          767.8,
          1299,
          879,
          955,
          870,
          855,
          1096.16,
          1349,
          1649,
          1195,
          599.9,
          485,
          647,
          1379,
          1629,
          1130.33,
          1396,
          638.99,
          449,
          1249.26,
          899,
          1049,
          728,
          1060.49,
          459,
          1049,
          1399,
          1549,
          2397,
          1085,
          839,
          1845,
          3055,
          439,
          1949,
          1449,
          931.88,
          1149,
          1279,
          677.35,
          2456.34,
          859.01,
          859,
          899,
          879,
          985,
          819,
          949,
          1142,
          657,
          565,
          799,
          735.07,
          713.07,
          1099,
          428,
          1829,
          2884.86,
          2499,
          844,
          2639,
          1049,
          1142.75,
          274.9,
          1579,
          1607.96,
          663,
          2027.42,
          970.9,
          999,
          557.37,
          1427,
          1085,
          899,
          869.01,
          309,
          1369,
          2135,
          778.87,
          2712,
          1680,
          598.9,
          689,
          539.95,
          2799,
          1159,
          1142.4,
          1099,
          749,
          1179,
          1993,
          1975,
          979,
          479,
          2046,
          759,
          1841.85,
          740,
          2408,
          675,
          1262,
          586.6,
          2338,
          1899,
          899,
          836,
          1219.24,
          1279.73,
          889,
          585,
          1377,
          3012.77,
          1369,
          797.41,
          1399,
          735.87,
          1116.99,
          2699,
          617.9,
          1599,
          959,
          749.01,
          1008.52,
          1537.39,
          295,
          603,
          1670,
          1763,
          465,
          879.01,
          443.9,
          359,
          869,
          569,
          776,
          1820,
          1479,
          1869,
          2399,
          1449.9,
          919,
          1135,
          3147.37,
          1229,
          955,
          2051,
          2813.75,
          545.67,
          819,
          795,
          1089,
          726,
          1426.66,
          1179,
          3659.4,
          719,
          649,
          589.52,
          649,
          659,
          1207,
          665,
          1126.71,
          2868.99,
          1859,
          849,
          1099,
          1181.27,
          1099,
          3588.8,
          985,
          810,
          739,
          1499,
          1749,
          744,
          1679,
          961,
          789.81,
          2505.02,
          755,
          585,
          2774.63,
          3072.89,
          713.99,
          739,
          865,
          945,
          649,
          2240,
          1778,
          1690,
          912.5,
          369,
          455.7,
          929,
          614,
          935,
          2013.1,
          1649,
          1205,
          1349,
          684.99,
          729.9,
          708.06,
          558.6,
          1639,
          2758,
          1472.2,
          659,
          1775,
          3154,
          1899,
          1268,
          465.62,
          825,
          3149,
          1899,
          1962.98,
          2800,
          1299,
          599,
          749,
          1119,
          889,
          547,
          949,
          795.99,
          1046.44,
          1624,
          1062.95,
          1094,
          2254,
          1299,
          559,
          989.99,
          1458,
          798.01,
          1329,
          481.98,
          750,
          393.49,
          818.35,
          638.8,
          1135.15,
          1166.97,
          1413.1,
          769.15,
          1379,
          523.63,
          784,
          1009.9,
          1199,
          2250.68,
          1498,
          895.01,
          1179,
          1099,
          1199,
          499,
          1285,
          2680,
          889,
          999,
          1713.37,
          509,
          1477,
          521.86,
          469.01,
          737,
          1799,
          875,
          1813,
          324,
          443.99,
          490,
          459,
          379,
          805.99,
          459,
          379,
          805.99,
          459,
          379,
          805.99
         ],
         "y0": " ",
         "yaxis": "y"
        },
        {
         "alignmentgroup": "True",
         "hovertemplate": "Company=Lenovo<br>TypeName=%{x}<br>Price_in_euros=%{y}<extra></extra>",
         "legendgroup": "Lenovo",
         "marker": {
          "color": "#19d3f3"
         },
         "name": "Lenovo",
         "notched": false,
         "offsetgroup": "Lenovo",
         "orientation": "v",
         "showlegend": true,
         "type": "box",
         "x": [
          "Notebook",
          "Gaming",
          "Notebook",
          "Notebook",
          "2 in 1 Convertible",
          "Notebook",
          "Notebook",
          "Notebook",
          "Notebook",
          "Notebook",
          "Notebook",
          "2 in 1 Convertible",
          "Notebook",
          "Notebook",
          "Notebook",
          "Notebook",
          "Gaming",
          "Notebook",
          "2 in 1 Convertible",
          "Gaming",
          "Notebook",
          "Notebook",
          "2 in 1 Convertible",
          "Gaming",
          "2 in 1 Convertible",
          "Notebook",
          "Notebook",
          "Gaming",
          "Gaming",
          "Notebook",
          "Notebook",
          "Notebook",
          "2 in 1 Convertible",
          "Gaming",
          "Notebook",
          "2 in 1 Convertible",
          "2 in 1 Convertible",
          "2 in 1 Convertible",
          "Notebook",
          "Notebook",
          "Notebook",
          "2 in 1 Convertible",
          "Notebook",
          "Notebook",
          "Notebook",
          "Gaming",
          "Notebook",
          "Notebook",
          "Gaming",
          "Notebook",
          "Notebook",
          "Gaming",
          "Notebook",
          "Notebook",
          "Notebook",
          "Notebook",
          "Notebook",
          "Notebook",
          "Notebook",
          "Notebook",
          "Notebook",
          "Notebook",
          "Notebook",
          "2 in 1 Convertible",
          "Gaming",
          "Notebook",
          "Notebook",
          "Notebook",
          "Gaming",
          "Notebook",
          "Netbook",
          "Notebook",
          "Notebook",
          "Ultrabook",
          "Notebook",
          "2 in 1 Convertible",
          "Notebook",
          "Notebook",
          "Ultrabook",
          "Notebook",
          "Notebook",
          "Notebook",
          "Notebook",
          "Workstation",
          "Ultrabook",
          "Ultrabook",
          "2 in 1 Convertible",
          "Notebook",
          "Notebook",
          "Workstation",
          "Notebook",
          "Ultrabook",
          "Notebook",
          "Ultrabook",
          "Notebook",
          "Notebook",
          "Notebook",
          "Notebook",
          "Ultrabook",
          "Notebook",
          "Notebook",
          "Notebook",
          "Ultrabook",
          "Notebook",
          "Ultrabook",
          "Notebook",
          "Notebook",
          "Notebook",
          "2 in 1 Convertible",
          "Notebook",
          "Netbook",
          "Notebook",
          "Gaming",
          "Gaming",
          "Notebook",
          "Notebook",
          "Notebook",
          "Notebook",
          "Notebook",
          "Notebook",
          "Notebook",
          "Notebook",
          "Notebook",
          "Notebook",
          "Notebook",
          "Notebook",
          "Notebook",
          "Notebook",
          "Notebook",
          "Gaming",
          "Ultrabook",
          "Notebook",
          "Notebook",
          "Notebook",
          "Notebook",
          "2 in 1 Convertible",
          "Notebook",
          "Notebook",
          "2 in 1 Convertible",
          "Notebook",
          "Notebook",
          "Notebook",
          "Notebook",
          "Notebook",
          "Notebook",
          "Notebook",
          "2 in 1 Convertible",
          "Gaming",
          "Ultrabook",
          "Notebook",
          "Ultrabook",
          "Gaming",
          "Notebook",
          "Notebook",
          "Notebook",
          "2 in 1 Convertible",
          "Notebook",
          "2 in 1 Convertible",
          "Notebook",
          "Notebook",
          "2 in 1 Convertible",
          "2 in 1 Convertible",
          "Notebook",
          "Notebook",
          "Notebook",
          "Notebook",
          "Workstation",
          "Notebook",
          "Gaming",
          "Notebook",
          "Notebook",
          "Ultrabook",
          "Ultrabook",
          "Notebook",
          "Notebook",
          "Notebook",
          "2 in 1 Convertible",
          "Workstation",
          "Netbook",
          "Ultrabook",
          "2 in 1 Convertible",
          "Gaming",
          "Notebook",
          "Notebook",
          "Ultrabook",
          "Gaming",
          "2 in 1 Convertible",
          "2 in 1 Convertible",
          "2 in 1 Convertible",
          "2 in 1 Convertible",
          "Notebook",
          "Ultrabook",
          "Notebook",
          "Ultrabook",
          "Ultrabook",
          "Ultrabook",
          "Notebook",
          "Notebook",
          "Notebook",
          "Ultrabook",
          "Notebook",
          "Notebook",
          "Gaming",
          "2 in 1 Convertible",
          "Notebook",
          "Notebook",
          "Notebook",
          "Notebook",
          "Notebook",
          "Ultrabook",
          "Ultrabook",
          "Notebook",
          "Notebook",
          "Notebook",
          "Notebook",
          "2 in 1 Convertible",
          "Ultrabook",
          "Notebook",
          "2 in 1 Convertible",
          "2 in 1 Convertible",
          "Gaming",
          "Notebook",
          "Ultrabook",
          "Ultrabook",
          "Notebook",
          "Notebook",
          "Notebook",
          "Gaming",
          "Notebook",
          "Notebook",
          "Notebook",
          "2 in 1 Convertible",
          "Notebook",
          "Gaming",
          "Notebook",
          "Ultrabook",
          "Notebook",
          "Notebook",
          "Notebook",
          "Ultrabook",
          "Gaming",
          "2 in 1 Convertible",
          "Notebook",
          "Gaming",
          "2 in 1 Convertible",
          "Notebook",
          "2 in 1 Convertible",
          "Gaming",
          "2 in 1 Convertible",
          "2 in 1 Convertible",
          "Gaming",
          "2 in 1 Convertible",
          "Notebook",
          "2 in 1 Convertible",
          "2 in 1 Convertible",
          "Notebook",
          "Notebook",
          "Ultrabook",
          "Notebook",
          "Ultrabook",
          "Notebook",
          "Notebook",
          "Notebook",
          "Notebook",
          "Notebook",
          "Notebook",
          "Gaming",
          "2 in 1 Convertible",
          "Ultrabook",
          "Gaming",
          "Notebook",
          "Notebook",
          "Notebook",
          "Notebook",
          "Gaming",
          "Notebook",
          "Gaming",
          "Netbook",
          "Notebook",
          "Notebook",
          "Notebook",
          "Notebook",
          "Notebook",
          "Notebook",
          "2 in 1 Convertible",
          "Notebook",
          "2 in 1 Convertible",
          "2 in 1 Convertible",
          "Notebook",
          "Notebook",
          "2 in 1 Convertible",
          "2 in 1 Convertible",
          "Notebook",
          "Notebook",
          "2 in 1 Convertible",
          "2 in 1 Convertible",
          "Notebook"
         ],
         "x0": " ",
         "xaxis": "x",
         "y": [
          499,
          999,
          249,
          369,
          319,
          599,
          549,
          519,
          399,
          414.9,
          1480,
          1399,
          629,
          252.36,
          499,
          1116.02,
          869,
          498,
          629,
          1079,
          309,
          813,
          1849,
          779,
          2824,
          698,
          493,
          1749,
          1398,
          597,
          549,
          589,
          899,
          1499,
          589,
          1079,
          1849,
          1699,
          444,
          467,
          880,
          2499,
          489,
          849,
          859,
          829,
          579,
          1097,
          1179,
          659.01,
          739,
          1299,
          499,
          649,
          549,
          359.99,
          819,
          999,
          459.9,
          589,
          292,
          449,
          899,
          2099,
          1129,
          321.99,
          719,
          499,
          809,
          489,
          553,
          403.5,
          1099,
          2282,
          549,
          2509,
          1229.56,
          938,
          2625,
          306,
          1144.5,
          409,
          304.45,
          1925,
          1943,
          1215.38,
          1899,
          1010,
          599,
          2445,
          2449,
          2382,
          519,
          1429,
          349,
          1345,
          799,
          2090,
          1858,
          1364,
          565,
          1049,
          1798,
          1011.99,
          1099,
          898.9,
          949,
          911,
          1599,
          299,
          265,
          949,
          1149,
          1399,
          1340,
          799,
          459,
          859,
          785,
          462.35,
          1729,
          499,
          949,
          630,
          2999,
          344,
          990,
          830,
          685,
          2663,
          1673,
          609,
          949,
          529,
          459,
          2025,
          1474,
          564,
          1299,
          4899,
          1465,
          899,
          468,
          829,
          579,
          249,
          1757.42,
          1109,
          2450,
          274,
          1584,
          1196,
          419,
          535,
          817.95,
          1034,
          349,
          1499,
          318,
          699,
          2590,
          1749,
          399,
          429,
          621.45,
          450,
          1855,
          1191,
          1249,
          857.07,
          298,
          1686.64,
          1499,
          489.9,
          960,
          779,
          999,
          3299,
          475,
          1096,
          1199,
          1048,
          2370,
          329,
          2299,
          999,
          1970,
          959,
          2330,
          1349,
          609,
          1859,
          489.9,
          2499,
          1875,
          2099,
          1186,
          1650,
          325,
          1903,
          469,
          850.66,
          1017,
          1950,
          1055,
          479,
          735,
          669,
          379,
          1799,
          2049,
          1962.99,
          789,
          789,
          881,
          1825,
          1650,
          309,
          1799,
          1299,
          999,
          685,
          1488.99,
          1760,
          695,
          1002,
          549,
          1189,
          270.62,
          1349,
          2968,
          847,
          1049.6,
          2289.99,
          2620,
          1713.49,
          659,
          977,
          540,
          1399,
          3240,
          646.27,
          1199,
          1199,
          867,
          429,
          549,
          2749.99,
          1669,
          479,
          989,
          2050.38,
          1099,
          2440,
          2339,
          339,
          599,
          2299,
          788.49,
          1499,
          459,
          1390,
          468,
          398,
          709,
          825,
          1305,
          1637,
          831,
          819,
          368,
          629,
          299,
          539,
          1272,
          1529,
          1029,
          1650,
          1499,
          597.57,
          573,
          569,
          1072,
          895,
          833.01,
          899,
          638,
          1499,
          229,
          899,
          638,
          1499,
          229,
          899,
          638,
          1499,
          229
         ],
         "y0": " ",
         "yaxis": "y"
        },
        {
         "alignmentgroup": "True",
         "hovertemplate": "Company=Chuwi<br>TypeName=%{x}<br>Price_in_euros=%{y}<extra></extra>",
         "legendgroup": "Chuwi",
         "marker": {
          "color": "#FF6692"
         },
         "name": "Chuwi",
         "notched": false,
         "offsetgroup": "Chuwi",
         "orientation": "v",
         "showlegend": true,
         "type": "box",
         "x": [
          "Notebook",
          "Notebook",
          "Notebook"
         ],
         "x0": " ",
         "xaxis": "x",
         "y": [
          244.99,
          449,
          248.9
         ],
         "y0": " ",
         "yaxis": "y"
        },
        {
         "alignmentgroup": "True",
         "hovertemplate": "Company=MSI<br>TypeName=%{x}<br>Price_in_euros=%{y}<extra></extra>",
         "legendgroup": "MSI",
         "marker": {
          "color": "#B6E880"
         },
         "name": "MSI",
         "notched": false,
         "offsetgroup": "MSI",
         "orientation": "v",
         "showlegend": true,
         "type": "box",
         "x": [
          "Gaming",
          "Gaming",
          "Gaming",
          "Gaming",
          "Gaming",
          "Gaming",
          "Gaming",
          "Gaming",
          "Gaming",
          "Gaming",
          "Gaming",
          "Gaming",
          "Gaming",
          "Gaming",
          "Gaming",
          "Gaming",
          "Gaming",
          "Gaming",
          "Gaming",
          "Gaming",
          "Gaming",
          "Gaming",
          "Gaming",
          "Gaming",
          "Gaming",
          "Gaming",
          "Gaming",
          "Gaming",
          "Gaming",
          "Gaming",
          "Gaming",
          "Gaming",
          "Gaming",
          "Gaming",
          "Gaming",
          "Gaming",
          "Gaming",
          "Gaming",
          "Gaming",
          "Gaming",
          "Gaming",
          "Gaming",
          "Gaming",
          "Gaming",
          "Gaming",
          "Gaming",
          "Gaming",
          "Gaming",
          "Gaming",
          "Gaming",
          "Gaming",
          "Gaming",
          "Gaming",
          "Gaming"
         ],
         "x0": " ",
         "xaxis": "x",
         "y": [
          2449,
          1095,
          1299,
          2241.5,
          2029,
          1890,
          1799,
          2799,
          2499,
          2099,
          1199,
          1409,
          1349,
          2249,
          1027.74,
          2729,
          2349,
          2199,
          2299,
          2267.86,
          1191.8,
          1486.77,
          1294,
          997.9,
          1348.48,
          2094.48,
          1891,
          1089,
          2415,
          1199,
          2649,
          1599,
          1119.91,
          1199,
          1191.8,
          1545.64,
          1819,
          1929,
          2499,
          1599,
          1511.19,
          2399,
          1142.8,
          1492.8,
          1769,
          839,
          2153.37,
          2048.9,
          1948.99,
          1476.11,
          1149,
          1598,
          1169,
          1229
         ],
         "y0": " ",
         "yaxis": "y"
        },
        {
         "alignmentgroup": "True",
         "hovertemplate": "Company=Microsoft<br>TypeName=%{x}<br>Price_in_euros=%{y}<extra></extra>",
         "legendgroup": "Microsoft",
         "marker": {
          "color": "#FF97FF"
         },
         "name": "Microsoft",
         "notched": false,
         "offsetgroup": "Microsoft",
         "orientation": "v",
         "showlegend": true,
         "type": "box",
         "x": [
          "Ultrabook",
          "Ultrabook",
          "Ultrabook",
          "Ultrabook",
          "Ultrabook",
          "Ultrabook"
         ],
         "x0": " ",
         "xaxis": "x",
         "y": [
          1089,
          1340,
          2589,
          989,
          1799,
          1867.85
         ],
         "y0": " ",
         "yaxis": "y"
        },
        {
         "alignmentgroup": "True",
         "hovertemplate": "Company=Toshiba<br>TypeName=%{x}<br>Price_in_euros=%{y}<extra></extra>",
         "legendgroup": "Toshiba",
         "marker": {
          "color": "#FECB52"
         },
         "name": "Toshiba",
         "notched": false,
         "offsetgroup": "Toshiba",
         "orientation": "v",
         "showlegend": true,
         "type": "box",
         "x": [
          "Notebook",
          "Notebook",
          "Notebook",
          "Notebook",
          "Ultrabook",
          "Notebook",
          "Notebook",
          "Notebook",
          "Notebook",
          "Ultrabook",
          "Notebook",
          "Ultrabook",
          "Notebook",
          "Ultrabook",
          "Notebook",
          "Notebook",
          "Notebook",
          "Notebook",
          "Notebook",
          "Notebook",
          "Ultrabook",
          "Notebook",
          "Notebook",
          "Ultrabook",
          "Notebook",
          "Ultrabook",
          "Notebook",
          "Notebook",
          "Notebook",
          "Ultrabook",
          "Notebook",
          "Notebook",
          "Notebook",
          "Notebook",
          "Notebook",
          "Notebook",
          "Notebook",
          "Ultrabook",
          "Notebook",
          "Notebook",
          "Notebook",
          "Notebook",
          "Notebook",
          "Notebook",
          "Ultrabook",
          "Ultrabook",
          "Notebook",
          "Ultrabook"
         ],
         "x0": " ",
         "xaxis": "x",
         "y": [
          602,
          447,
          489,
          793,
          1363,
          812,
          1043,
          943,
          1403,
          1747,
          1672,
          2799,
          860,
          1865,
          1399,
          1213,
          1064,
          498,
          1258,
          973,
          1877,
          1535,
          1020,
          1764,
          780,
          1090,
          499,
          669,
          1285,
          1095,
          1388,
          1475,
          1975,
          1105,
          1119,
          1460,
          1535,
          1790,
          1180,
          1195,
          915,
          1195,
          1210,
          1490,
          1590,
          1725,
          1425,
          2226
         ],
         "y0": " ",
         "yaxis": "y"
        },
        {
         "alignmentgroup": "True",
         "hovertemplate": "Company=Huawei<br>TypeName=%{x}<br>Price_in_euros=%{y}<extra></extra>",
         "legendgroup": "Huawei",
         "marker": {
          "color": "#636efa"
         },
         "name": "Huawei",
         "notched": false,
         "offsetgroup": "Huawei",
         "orientation": "v",
         "showlegend": true,
         "type": "box",
         "x": [
          "Ultrabook",
          "Ultrabook"
         ],
         "x0": " ",
         "xaxis": "x",
         "y": [
          1349,
          1499
         ],
         "y0": " ",
         "yaxis": "y"
        },
        {
         "alignmentgroup": "True",
         "hovertemplate": "Company=Xiaomi<br>TypeName=%{x}<br>Price_in_euros=%{y}<extra></extra>",
         "legendgroup": "Xiaomi",
         "marker": {
          "color": "#EF553B"
         },
         "name": "Xiaomi",
         "notched": false,
         "offsetgroup": "Xiaomi",
         "orientation": "v",
         "showlegend": true,
         "type": "box",
         "x": [
          "Notebook",
          "Ultrabook",
          "Notebook",
          "Ultrabook"
         ],
         "x0": " ",
         "xaxis": "x",
         "y": [
          1199,
          999.9,
          1399.95,
          935
         ],
         "y0": " ",
         "yaxis": "y"
        },
        {
         "alignmentgroup": "True",
         "hovertemplate": "Company=Vero<br>TypeName=%{x}<br>Price_in_euros=%{y}<extra></extra>",
         "legendgroup": "Vero",
         "marker": {
          "color": "#00cc96"
         },
         "name": "Vero",
         "notched": false,
         "offsetgroup": "Vero",
         "orientation": "v",
         "showlegend": true,
         "type": "box",
         "x": [
          "Notebook",
          "Notebook",
          "Notebook",
          "Notebook"
         ],
         "x0": " ",
         "xaxis": "x",
         "y": [
          260,
          202.9,
          210.8,
          196
         ],
         "y0": " ",
         "yaxis": "y"
        },
        {
         "alignmentgroup": "True",
         "hovertemplate": "Company=Razer<br>TypeName=%{x}<br>Price_in_euros=%{y}<extra></extra>",
         "legendgroup": "Razer",
         "marker": {
          "color": "#ab63fa"
         },
         "name": "Razer",
         "notched": false,
         "offsetgroup": "Razer",
         "orientation": "v",
         "showlegend": true,
         "type": "box",
         "x": [
          "Gaming",
          "Gaming",
          "Gaming",
          "Ultrabook",
          "Gaming",
          "Ultrabook",
          "Gaming"
         ],
         "x0": " ",
         "xaxis": "x",
         "y": [
          6099,
          2599,
          2899,
          1799,
          5499,
          1029,
          3499
         ],
         "y0": " ",
         "yaxis": "y"
        },
        {
         "alignmentgroup": "True",
         "hovertemplate": "Company=Mediacom<br>TypeName=%{x}<br>Price_in_euros=%{y}<extra></extra>",
         "legendgroup": "Mediacom",
         "marker": {
          "color": "#FFA15A"
         },
         "name": "Mediacom",
         "notched": false,
         "offsetgroup": "Mediacom",
         "orientation": "v",
         "showlegend": true,
         "type": "box",
         "x": [
          "2 in 1 Convertible",
          "Notebook",
          "Notebook",
          "Notebook",
          "Notebook",
          "Notebook",
          "Notebook"
         ],
         "x0": " ",
         "xaxis": "x",
         "y": [
          299,
          369,
          255,
          249,
          389,
          239,
          265
         ],
         "y0": " ",
         "yaxis": "y"
        },
        {
         "alignmentgroup": "True",
         "hovertemplate": "Company=Samsung<br>TypeName=%{x}<br>Price_in_euros=%{y}<extra></extra>",
         "legendgroup": "Samsung",
         "marker": {
          "color": "#19d3f3"
         },
         "name": "Samsung",
         "notched": false,
         "offsetgroup": "Samsung",
         "orientation": "v",
         "showlegend": true,
         "type": "box",
         "x": [
          "Netbook",
          "Notebook",
          "Ultrabook",
          "Ultrabook",
          "2 in 1 Convertible",
          "Ultrabook",
          "Ultrabook",
          "Ultrabook",
          "2 in 1 Convertible"
         ],
         "x0": " ",
         "xaxis": "x",
         "y": [
          269,
          1699,
          1649,
          1599,
          1799,
          1499,
          1849,
          1699,
          659
         ],
         "y0": " ",
         "yaxis": "y"
        },
        {
         "alignmentgroup": "True",
         "hovertemplate": "Company=Google<br>TypeName=%{x}<br>Price_in_euros=%{y}<extra></extra>",
         "legendgroup": "Google",
         "marker": {
          "color": "#FF6692"
         },
         "name": "Google",
         "notched": false,
         "offsetgroup": "Google",
         "orientation": "v",
         "showlegend": true,
         "type": "box",
         "x": [
          "Ultrabook",
          "Ultrabook",
          "Ultrabook"
         ],
         "x0": " ",
         "xaxis": "x",
         "y": [
          2199,
          1275,
          1559
         ],
         "y0": " ",
         "yaxis": "y"
        },
        {
         "alignmentgroup": "True",
         "hovertemplate": "Company=Fujitsu<br>TypeName=%{x}<br>Price_in_euros=%{y}<extra></extra>",
         "legendgroup": "Fujitsu",
         "marker": {
          "color": "#B6E880"
         },
         "name": "Fujitsu",
         "notched": false,
         "offsetgroup": "Fujitsu",
         "orientation": "v",
         "showlegend": true,
         "type": "box",
         "x": [
          "Notebook",
          "Notebook",
          "Notebook"
         ],
         "x0": " ",
         "xaxis": "x",
         "y": [
          739,
          799,
          649
         ],
         "y0": " ",
         "yaxis": "y"
        },
        {
         "alignmentgroup": "True",
         "hovertemplate": "Company=LG<br>TypeName=%{x}<br>Price_in_euros=%{y}<extra></extra>",
         "legendgroup": "LG",
         "marker": {
          "color": "#FF97FF"
         },
         "name": "LG",
         "notched": false,
         "offsetgroup": "LG",
         "orientation": "v",
         "showlegend": true,
         "type": "box",
         "x": [
          "Ultrabook",
          "Ultrabook",
          "Ultrabook"
         ],
         "x0": " ",
         "xaxis": "x",
         "y": [
          2299,
          2099,
          1899
         ],
         "y0": " ",
         "yaxis": "y"
        }
       ],
       "layout": {
        "boxmode": "group",
        "legend": {
         "title": {
          "text": "Company"
         },
         "tracegroupgap": 0
        },
        "template": {
         "data": {
          "bar": [
           {
            "error_x": {
             "color": "#2a3f5f"
            },
            "error_y": {
             "color": "#2a3f5f"
            },
            "marker": {
             "line": {
              "color": "#E5ECF6",
              "width": 0.5
             },
             "pattern": {
              "fillmode": "overlay",
              "size": 10,
              "solidity": 0.2
             }
            },
            "type": "bar"
           }
          ],
          "barpolar": [
           {
            "marker": {
             "line": {
              "color": "#E5ECF6",
              "width": 0.5
             },
             "pattern": {
              "fillmode": "overlay",
              "size": 10,
              "solidity": 0.2
             }
            },
            "type": "barpolar"
           }
          ],
          "carpet": [
           {
            "aaxis": {
             "endlinecolor": "#2a3f5f",
             "gridcolor": "white",
             "linecolor": "white",
             "minorgridcolor": "white",
             "startlinecolor": "#2a3f5f"
            },
            "baxis": {
             "endlinecolor": "#2a3f5f",
             "gridcolor": "white",
             "linecolor": "white",
             "minorgridcolor": "white",
             "startlinecolor": "#2a3f5f"
            },
            "type": "carpet"
           }
          ],
          "choropleth": [
           {
            "colorbar": {
             "outlinewidth": 0,
             "ticks": ""
            },
            "type": "choropleth"
           }
          ],
          "contour": [
           {
            "colorbar": {
             "outlinewidth": 0,
             "ticks": ""
            },
            "colorscale": [
             [
              0,
              "#0d0887"
             ],
             [
              0.1111111111111111,
              "#46039f"
             ],
             [
              0.2222222222222222,
              "#7201a8"
             ],
             [
              0.3333333333333333,
              "#9c179e"
             ],
             [
              0.4444444444444444,
              "#bd3786"
             ],
             [
              0.5555555555555556,
              "#d8576b"
             ],
             [
              0.6666666666666666,
              "#ed7953"
             ],
             [
              0.7777777777777778,
              "#fb9f3a"
             ],
             [
              0.8888888888888888,
              "#fdca26"
             ],
             [
              1,
              "#f0f921"
             ]
            ],
            "type": "contour"
           }
          ],
          "contourcarpet": [
           {
            "colorbar": {
             "outlinewidth": 0,
             "ticks": ""
            },
            "type": "contourcarpet"
           }
          ],
          "heatmap": [
           {
            "colorbar": {
             "outlinewidth": 0,
             "ticks": ""
            },
            "colorscale": [
             [
              0,
              "#0d0887"
             ],
             [
              0.1111111111111111,
              "#46039f"
             ],
             [
              0.2222222222222222,
              "#7201a8"
             ],
             [
              0.3333333333333333,
              "#9c179e"
             ],
             [
              0.4444444444444444,
              "#bd3786"
             ],
             [
              0.5555555555555556,
              "#d8576b"
             ],
             [
              0.6666666666666666,
              "#ed7953"
             ],
             [
              0.7777777777777778,
              "#fb9f3a"
             ],
             [
              0.8888888888888888,
              "#fdca26"
             ],
             [
              1,
              "#f0f921"
             ]
            ],
            "type": "heatmap"
           }
          ],
          "heatmapgl": [
           {
            "colorbar": {
             "outlinewidth": 0,
             "ticks": ""
            },
            "colorscale": [
             [
              0,
              "#0d0887"
             ],
             [
              0.1111111111111111,
              "#46039f"
             ],
             [
              0.2222222222222222,
              "#7201a8"
             ],
             [
              0.3333333333333333,
              "#9c179e"
             ],
             [
              0.4444444444444444,
              "#bd3786"
             ],
             [
              0.5555555555555556,
              "#d8576b"
             ],
             [
              0.6666666666666666,
              "#ed7953"
             ],
             [
              0.7777777777777778,
              "#fb9f3a"
             ],
             [
              0.8888888888888888,
              "#fdca26"
             ],
             [
              1,
              "#f0f921"
             ]
            ],
            "type": "heatmapgl"
           }
          ],
          "histogram": [
           {
            "marker": {
             "pattern": {
              "fillmode": "overlay",
              "size": 10,
              "solidity": 0.2
             }
            },
            "type": "histogram"
           }
          ],
          "histogram2d": [
           {
            "colorbar": {
             "outlinewidth": 0,
             "ticks": ""
            },
            "colorscale": [
             [
              0,
              "#0d0887"
             ],
             [
              0.1111111111111111,
              "#46039f"
             ],
             [
              0.2222222222222222,
              "#7201a8"
             ],
             [
              0.3333333333333333,
              "#9c179e"
             ],
             [
              0.4444444444444444,
              "#bd3786"
             ],
             [
              0.5555555555555556,
              "#d8576b"
             ],
             [
              0.6666666666666666,
              "#ed7953"
             ],
             [
              0.7777777777777778,
              "#fb9f3a"
             ],
             [
              0.8888888888888888,
              "#fdca26"
             ],
             [
              1,
              "#f0f921"
             ]
            ],
            "type": "histogram2d"
           }
          ],
          "histogram2dcontour": [
           {
            "colorbar": {
             "outlinewidth": 0,
             "ticks": ""
            },
            "colorscale": [
             [
              0,
              "#0d0887"
             ],
             [
              0.1111111111111111,
              "#46039f"
             ],
             [
              0.2222222222222222,
              "#7201a8"
             ],
             [
              0.3333333333333333,
              "#9c179e"
             ],
             [
              0.4444444444444444,
              "#bd3786"
             ],
             [
              0.5555555555555556,
              "#d8576b"
             ],
             [
              0.6666666666666666,
              "#ed7953"
             ],
             [
              0.7777777777777778,
              "#fb9f3a"
             ],
             [
              0.8888888888888888,
              "#fdca26"
             ],
             [
              1,
              "#f0f921"
             ]
            ],
            "type": "histogram2dcontour"
           }
          ],
          "mesh3d": [
           {
            "colorbar": {
             "outlinewidth": 0,
             "ticks": ""
            },
            "type": "mesh3d"
           }
          ],
          "parcoords": [
           {
            "line": {
             "colorbar": {
              "outlinewidth": 0,
              "ticks": ""
             }
            },
            "type": "parcoords"
           }
          ],
          "pie": [
           {
            "automargin": true,
            "type": "pie"
           }
          ],
          "scatter": [
           {
            "fillpattern": {
             "fillmode": "overlay",
             "size": 10,
             "solidity": 0.2
            },
            "type": "scatter"
           }
          ],
          "scatter3d": [
           {
            "line": {
             "colorbar": {
              "outlinewidth": 0,
              "ticks": ""
             }
            },
            "marker": {
             "colorbar": {
              "outlinewidth": 0,
              "ticks": ""
             }
            },
            "type": "scatter3d"
           }
          ],
          "scattercarpet": [
           {
            "marker": {
             "colorbar": {
              "outlinewidth": 0,
              "ticks": ""
             }
            },
            "type": "scattercarpet"
           }
          ],
          "scattergeo": [
           {
            "marker": {
             "colorbar": {
              "outlinewidth": 0,
              "ticks": ""
             }
            },
            "type": "scattergeo"
           }
          ],
          "scattergl": [
           {
            "marker": {
             "colorbar": {
              "outlinewidth": 0,
              "ticks": ""
             }
            },
            "type": "scattergl"
           }
          ],
          "scattermapbox": [
           {
            "marker": {
             "colorbar": {
              "outlinewidth": 0,
              "ticks": ""
             }
            },
            "type": "scattermapbox"
           }
          ],
          "scatterpolar": [
           {
            "marker": {
             "colorbar": {
              "outlinewidth": 0,
              "ticks": ""
             }
            },
            "type": "scatterpolar"
           }
          ],
          "scatterpolargl": [
           {
            "marker": {
             "colorbar": {
              "outlinewidth": 0,
              "ticks": ""
             }
            },
            "type": "scatterpolargl"
           }
          ],
          "scatterternary": [
           {
            "marker": {
             "colorbar": {
              "outlinewidth": 0,
              "ticks": ""
             }
            },
            "type": "scatterternary"
           }
          ],
          "surface": [
           {
            "colorbar": {
             "outlinewidth": 0,
             "ticks": ""
            },
            "colorscale": [
             [
              0,
              "#0d0887"
             ],
             [
              0.1111111111111111,
              "#46039f"
             ],
             [
              0.2222222222222222,
              "#7201a8"
             ],
             [
              0.3333333333333333,
              "#9c179e"
             ],
             [
              0.4444444444444444,
              "#bd3786"
             ],
             [
              0.5555555555555556,
              "#d8576b"
             ],
             [
              0.6666666666666666,
              "#ed7953"
             ],
             [
              0.7777777777777778,
              "#fb9f3a"
             ],
             [
              0.8888888888888888,
              "#fdca26"
             ],
             [
              1,
              "#f0f921"
             ]
            ],
            "type": "surface"
           }
          ],
          "table": [
           {
            "cells": {
             "fill": {
              "color": "#EBF0F8"
             },
             "line": {
              "color": "white"
             }
            },
            "header": {
             "fill": {
              "color": "#C8D4E3"
             },
             "line": {
              "color": "white"
             }
            },
            "type": "table"
           }
          ]
         },
         "layout": {
          "annotationdefaults": {
           "arrowcolor": "#2a3f5f",
           "arrowhead": 0,
           "arrowwidth": 1
          },
          "autotypenumbers": "strict",
          "coloraxis": {
           "colorbar": {
            "outlinewidth": 0,
            "ticks": ""
           }
          },
          "colorscale": {
           "diverging": [
            [
             0,
             "#8e0152"
            ],
            [
             0.1,
             "#c51b7d"
            ],
            [
             0.2,
             "#de77ae"
            ],
            [
             0.3,
             "#f1b6da"
            ],
            [
             0.4,
             "#fde0ef"
            ],
            [
             0.5,
             "#f7f7f7"
            ],
            [
             0.6,
             "#e6f5d0"
            ],
            [
             0.7,
             "#b8e186"
            ],
            [
             0.8,
             "#7fbc41"
            ],
            [
             0.9,
             "#4d9221"
            ],
            [
             1,
             "#276419"
            ]
           ],
           "sequential": [
            [
             0,
             "#0d0887"
            ],
            [
             0.1111111111111111,
             "#46039f"
            ],
            [
             0.2222222222222222,
             "#7201a8"
            ],
            [
             0.3333333333333333,
             "#9c179e"
            ],
            [
             0.4444444444444444,
             "#bd3786"
            ],
            [
             0.5555555555555556,
             "#d8576b"
            ],
            [
             0.6666666666666666,
             "#ed7953"
            ],
            [
             0.7777777777777778,
             "#fb9f3a"
            ],
            [
             0.8888888888888888,
             "#fdca26"
            ],
            [
             1,
             "#f0f921"
            ]
           ],
           "sequentialminus": [
            [
             0,
             "#0d0887"
            ],
            [
             0.1111111111111111,
             "#46039f"
            ],
            [
             0.2222222222222222,
             "#7201a8"
            ],
            [
             0.3333333333333333,
             "#9c179e"
            ],
            [
             0.4444444444444444,
             "#bd3786"
            ],
            [
             0.5555555555555556,
             "#d8576b"
            ],
            [
             0.6666666666666666,
             "#ed7953"
            ],
            [
             0.7777777777777778,
             "#fb9f3a"
            ],
            [
             0.8888888888888888,
             "#fdca26"
            ],
            [
             1,
             "#f0f921"
            ]
           ]
          },
          "colorway": [
           "#636efa",
           "#EF553B",
           "#00cc96",
           "#ab63fa",
           "#FFA15A",
           "#19d3f3",
           "#FF6692",
           "#B6E880",
           "#FF97FF",
           "#FECB52"
          ],
          "font": {
           "color": "#2a3f5f"
          },
          "geo": {
           "bgcolor": "white",
           "lakecolor": "white",
           "landcolor": "#E5ECF6",
           "showlakes": true,
           "showland": true,
           "subunitcolor": "white"
          },
          "hoverlabel": {
           "align": "left"
          },
          "hovermode": "closest",
          "mapbox": {
           "style": "light"
          },
          "paper_bgcolor": "white",
          "plot_bgcolor": "#E5ECF6",
          "polar": {
           "angularaxis": {
            "gridcolor": "white",
            "linecolor": "white",
            "ticks": ""
           },
           "bgcolor": "#E5ECF6",
           "radialaxis": {
            "gridcolor": "white",
            "linecolor": "white",
            "ticks": ""
           }
          },
          "scene": {
           "xaxis": {
            "backgroundcolor": "#E5ECF6",
            "gridcolor": "white",
            "gridwidth": 2,
            "linecolor": "white",
            "showbackground": true,
            "ticks": "",
            "zerolinecolor": "white"
           },
           "yaxis": {
            "backgroundcolor": "#E5ECF6",
            "gridcolor": "white",
            "gridwidth": 2,
            "linecolor": "white",
            "showbackground": true,
            "ticks": "",
            "zerolinecolor": "white"
           },
           "zaxis": {
            "backgroundcolor": "#E5ECF6",
            "gridcolor": "white",
            "gridwidth": 2,
            "linecolor": "white",
            "showbackground": true,
            "ticks": "",
            "zerolinecolor": "white"
           }
          },
          "shapedefaults": {
           "line": {
            "color": "#2a3f5f"
           }
          },
          "ternary": {
           "aaxis": {
            "gridcolor": "white",
            "linecolor": "white",
            "ticks": ""
           },
           "baxis": {
            "gridcolor": "white",
            "linecolor": "white",
            "ticks": ""
           },
           "bgcolor": "#E5ECF6",
           "caxis": {
            "gridcolor": "white",
            "linecolor": "white",
            "ticks": ""
           }
          },
          "title": {
           "x": 0.05
          },
          "xaxis": {
           "automargin": true,
           "gridcolor": "white",
           "linecolor": "white",
           "ticks": "",
           "title": {
            "standoff": 15
           },
           "zerolinecolor": "white",
           "zerolinewidth": 2
          },
          "yaxis": {
           "automargin": true,
           "gridcolor": "white",
           "linecolor": "white",
           "ticks": "",
           "title": {
            "standoff": 15
           },
           "zerolinecolor": "white",
           "zerolinewidth": 2
          }
         }
        },
        "title": {
         "text": "Laptop prices by brand and type"
        },
        "xaxis": {
         "anchor": "y",
         "domain": [
          0,
          1
         ],
         "title": {
          "text": "TypeName"
         }
        },
        "yaxis": {
         "anchor": "x",
         "domain": [
          0,
          1
         ],
         "title": {
          "text": "Price_in_euros"
         }
        }
       }
      }
     },
     "metadata": {},
     "output_type": "display_data"
    }
   ],
   "source": [
    "fig = px.box(df, x='TypeName', y='Price_in_euros', title='Laptop prices by brand and type', color='Company')\n",
    "\n",
    "fig.write_image(\"images/laptop_prices_by_brand_and_type.png\")\n",
    "\n",
    "fig.show()"
   ]
  },
  {
   "cell_type": "code",
   "execution_count": 31,
   "metadata": {},
   "outputs": [
    {
     "data": {
      "application/vnd.plotly.v1+json": {
       "config": {
        "plotlyServerURL": "https://plot.ly"
       },
       "data": [
        {
         "alignmentgroup": "True",
         "bingroup": "x",
         "hovertemplate": "Price_in_euros=%{x}<br>count=%{y}<extra></extra>",
         "legendgroup": "",
         "marker": {
          "color": "#636efa",
          "pattern": {
           "shape": ""
          }
         },
         "name": "",
         "offsetgroup": "",
         "orientation": "v",
         "showlegend": false,
         "type": "histogram",
         "x": [
          1339.69,
          898.94,
          575,
          2537.45,
          1803.6,
          400,
          2139.97,
          1158.7,
          1495,
          770,
          393.9,
          344.99,
          2439.97,
          498.9,
          1262.4,
          1518.55,
          745,
          2858,
          499,
          979,
          191.9,
          999,
          258,
          819,
          659,
          418.64,
          1099,
          800,
          1298,
          896,
          244.99,
          199,
          439,
          1869,
          998,
          249,
          367,
          979,
          488.69,
          879,
          389,
          1499,
          522.99,
          682,
          999,
          1419,
          369,
          1299,
          639,
          466,
          319,
          841,
          398.49,
          1103,
          384,
          767.8,
          439,
          586.19,
          2449,
          415,
          1299,
          879,
          599,
          941,
          690,
          1983,
          438.69,
          229,
          549,
          949,
          1089,
          955,
          870,
          1095,
          389,
          949,
          519,
          855,
          530,
          977,
          1096.16,
          1510,
          860,
          399,
          395,
          1349,
          699,
          598.99,
          1449,
          1649,
          699,
          689,
          1197,
          1195,
          1049,
          847,
          599.9,
          485,
          577,
          1249,
          719,
          349,
          647,
          1119,
          1340,
          659,
          414.9,
          1193,
          1299,
          1480,
          1262,
          1379,
          1399,
          722,
          1629,
          1398.99,
          1084,
          1130.33,
          564,
          1118,
          479,
          2241.5,
          629,
          1271,
          451,
          259,
          812,
          277.99,
          1396,
          928,
          638.99,
          449,
          884,
          572,
          598,
          988,
          252.36,
          938,
          499,
          699,
          655,
          1116.02,
          869,
          602,
          369,
          1099,
          2014,
          344,
          2029,
          447,
          1249.26,
          899,
          498,
          1890,
          1082,
          619,
          629,
          1315,
          1049,
          447,
          403,
          805,
          728,
          1079,
          348,
          1799,
          363.51,
          1060.49,
          854,
          754,
          1349,
          699,
          309,
          489,
          923,
          459,
          449,
          2799,
          813,
          1499,
          1049,
          1399,
          1849,
          793,
          1199,
          1549,
          2397,
          779,
          989,
          1085,
          2824,
          260,
          999.9,
          698,
          839,
          914,
          6099,
          959,
          1379,
          1045,
          1845,
          493,
          742,
          1749,
          3055,
          1398,
          439,
          1949,
          1449,
          597,
          779,
          1407,
          349,
          549,
          1499,
          931.88,
          589,
          1031,
          1149,
          1279,
          677.35,
          899,
          1363,
          794,
          2456.34,
          832,
          859.01,
          769,
          891,
          1269,
          398.99,
          330,
          1499,
          859,
          689,
          899,
          390,
          575,
          3890,
          846,
          589,
          1145,
          889,
          879,
          1079,
          985,
          559,
          2999,
          675,
          2040,
          819,
          1799,
          469,
          1849,
          702,
          949,
          445.9,
          1059,
          2499,
          1699,
          1142,
          444,
          722,
          657,
          565,
          799,
          1499,
          467,
          1018,
          880,
          1958.9,
          1549,
          735.07,
          2499,
          812,
          713.07,
          1099,
          745,
          489,
          849,
          859,
          428,
          829,
          579,
          951,
          659,
          1097,
          977,
          1179,
          659.01,
          199,
          1187,
          489,
          1829,
          739,
          1299,
          979,
          2884.86,
          499,
          1468,
          509,
          2122,
          649,
          549,
          1265,
          359.99,
          1975,
          1043,
          819,
          469,
          999,
          2499,
          2099,
          469,
          275,
          844,
          2449,
          459.9,
          980,
          485,
          1292,
          589,
          1094,
          902,
          659,
          292,
          549,
          1049.9,
          1335,
          2639,
          1199,
          943,
          1334,
          449,
          999,
          1268,
          1049,
          1144,
          274.99,
          1142.75,
          274.9,
          899,
          716,
          2099,
          1579,
          1129,
          279,
          1607.96,
          375,
          663,
          2027.42,
          1304,
          1409,
          1738.27,
          1403,
          970.9,
          321.99,
          999,
          557.37,
          1427,
          439,
          945,
          719,
          639,
          499,
          389,
          1085,
          809,
          899,
          1750,
          1099,
          426,
          2199,
          489,
          869.01,
          488.99,
          553,
          309,
          286,
          846,
          1191,
          403.5,
          1655,
          1099,
          1748.9,
          2282,
          549,
          1369,
          2135,
          2509,
          1039,
          1591,
          693.99,
          1349,
          778.87,
          499,
          1229.56,
          938,
          2712,
          2625,
          306,
          1529,
          1144.5,
          879,
          2249,
          1873,
          1747,
          1680,
          409,
          304.45,
          1925,
          1943,
          469,
          789.01,
          928,
          598.9,
          689,
          1500,
          539.95,
          1215.38,
          1899,
          449,
          1427,
          597,
          2799,
          1159,
          1142.4,
          1099,
          1999,
          299,
          269,
          1010,
          599,
          2445,
          2449,
          1695,
          347,
          2199,
          2382,
          559,
          519,
          749,
          1429,
          349,
          1099,
          1179,
          441.8,
          1993,
          1027.74,
          2589,
          589,
          1975,
          1534,
          1345,
          979,
          479,
          2046,
          989,
          1799,
          639.9,
          544,
          435,
          749,
          799,
          2090,
          304,
          469,
          759,
          1699,
          1858,
          1999,
          1154,
          1275,
          1841.85,
          1299,
          740,
          2408,
          1364,
          675,
          1672,
          1262,
          586.6,
          726,
          248.9,
          565,
          1049,
          2338,
          1899,
          1798,
          1950,
          1011.99,
          2799,
          1350,
          579,
          1269,
          1099,
          898.9,
          1749,
          949,
          911,
          340,
          618.99,
          1599,
          299,
          265,
          949,
          1224,
          613,
          1323,
          1149,
          899,
          639,
          836,
          1219.24,
          1399.95,
          245,
          521.47,
          2968,
          889,
          1504,
          1399,
          1399,
          1279.73,
          689,
          889,
          1340,
          799,
          459,
          585,
          1377,
          3012.77,
          860,
          1299,
          369,
          1649,
          1369,
          797.41,
          398.99,
          1799,
          859,
          1399,
          735.87,
          1145,
          798,
          349,
          705.5,
          785,
          462.35,
          397,
          1729,
          499,
          1116.99,
          2699,
          544.15,
          1280,
          224,
          255,
          949,
          568.9,
          617.9,
          349,
          630,
          1965,
          2999,
          839,
          1599,
          959,
          739,
          344,
          990,
          1860.99,
          389,
          649,
          830,
          685,
          249,
          1865,
          2663,
          2729,
          749.01,
          389,
          1008.52,
          719,
          1537.39,
          295,
          2349,
          1498,
          1673,
          609,
          1770,
          739,
          949,
          603,
          1699,
          529,
          459,
          2025,
          1474,
          1670,
          1763,
          1219,
          668.48,
          329,
          2199,
          465,
          2299,
          1399,
          564,
          1299,
          349,
          4899,
          879.01,
          443.9,
          359,
          869,
          1168,
          569,
          1389,
          2267.86,
          379,
          1124,
          1465,
          776,
          799,
          932,
          899,
          239,
          468,
          639.01,
          1820,
          1900,
          1479,
          829,
          579,
          399,
          906.62,
          1869,
          249,
          1757.42,
          2399,
          1109,
          520.9,
          2450,
          1169,
          450,
          274,
          919,
          2599,
          1213,
          1584,
          2799,
          709,
          1449.9,
          1191.8,
          364.9,
          1064,
          919,
          1135,
          1196,
          3147.37,
          1229,
          419,
          535,
          539,
          1486.77,
          498,
          955,
          745,
          1258,
          412,
          1867.85,
          817.95,
          1034,
          349,
          699,
          1294,
          1135,
          495,
          2299,
          1299,
          997.9,
          419,
          2051,
          699,
          1499,
          2813.75,
          612.61,
          545.67,
          569,
          318,
          375,
          699,
          1907.99,
          2590,
          973,
          269,
          1749,
          669,
          1877,
          689,
          819,
          399,
          429,
          621.45,
          450,
          795,
          999,
          1855,
          1191,
          655.01,
          1249,
          1089,
          726,
          298,
          1426.66,
          857.07,
          1179,
          298,
          265,
          1200,
          1686.64,
          836.6,
          1499,
          3659.4,
          1348.48,
          489.9,
          719,
          649,
          589.52,
          489,
          1935,
          649,
          650,
          559,
          960,
          779,
          2419,
          659,
          2094.48,
          410.8,
          1207,
          665,
          1535,
          999,
          3299,
          330,
          1649,
          539,
          1126.71,
          4389,
          475,
          1900,
          579,
          1096,
          849.9,
          1199,
          1099,
          1561,
          2868.99,
          599,
          1048,
          1859,
          1559,
          1129,
          849,
          655,
          470.34,
          1099,
          1599,
          298,
          1181.27,
          1799,
          1020,
          1099,
          1244,
          839,
          2370,
          636,
          2899,
          581.9,
          3588.8,
          2350,
          1764,
          329,
          2299,
          1891,
          1089,
          999,
          2299,
          985,
          1339,
          202.9,
          1970,
          959,
          1165,
          2330,
          299,
          810,
          1349,
          739,
          2064.9,
          1099,
          1499,
          1749,
          744,
          1389,
          780,
          629,
          1679,
          609,
          1749,
          2415,
          1499,
          961,
          789.81,
          1859,
          1799,
          385,
          2505.02,
          755,
          489.9,
          1090,
          2499,
          1199,
          1875,
          499,
          1358,
          585,
          355,
          619,
          5499,
          2099,
          519,
          1186,
          1650,
          2774.63,
          2419,
          669,
          325,
          590,
          1799,
          3072.89,
          910,
          713.99,
          1870,
          739,
          615,
          1026,
          2277,
          1468,
          299,
          1899,
          865,
          1903,
          787,
          945,
          449,
          2559,
          649,
          469,
          850.66,
          1349,
          1285,
          1017,
          2240,
          910,
          1095,
          1950,
          902,
          1778,
          1055,
          479,
          1388,
          735,
          1849,
          1690,
          398.99,
          935,
          912.5,
          839,
          1700,
          684.8,
          348,
          669,
          369,
          1799,
          455.7,
          1369.9,
          297,
          379,
          1265,
          1399,
          1699,
          1799,
          2649,
          1475,
          929,
          900,
          614,
          935,
          2013.1,
          1279,
          1649,
          2049,
          1962.99,
          2099,
          1483,
          359,
          789,
          1899,
          1205,
          3100,
          789,
          1018.99,
          499,
          881,
          960,
          1599,
          1349,
          1119.91,
          684.99,
          1296.99,
          1149,
          1975,
          1825,
          729.9,
          1650,
          1165,
          708.06,
          1149,
          309,
          1579,
          288.9,
          1799,
          1105,
          1669,
          558.6,
          1199,
          1639,
          2758,
          1399,
          530,
          619,
          1119,
          1299,
          999,
          1472.2,
          685,
          659,
          349,
          2249,
          1775,
          1460,
          1159,
          1488.99,
          3154,
          1899,
          775,
          1268,
          389,
          1535,
          1760,
          1009,
          1790,
          846.5,
          465.62,
          825,
          685,
          3149,
          695,
          1899,
          1962.98,
          2800,
          1180,
          2049.9,
          979,
          1002,
          1799,
          579,
          1749,
          1299,
          1195,
          549,
          649,
          915,
          599,
          806,
          1189,
          749,
          1119,
          1908,
          499,
          270.62,
          1349,
          889,
          1150,
          1349,
          380,
          1799,
          2089,
          1260,
          1189,
          547,
          779,
          1195,
          1099.99,
          1205,
          1449,
          1049.26,
          684,
          949,
          1539,
          1590,
          1887.21,
          800,
          1210,
          769.99,
          2968,
          1490,
          2229,
          795.99,
          1590,
          1149,
          1185.43,
          1046.44,
          1559,
          1189,
          1060,
          1624,
          1080,
          973,
          409,
          1191.8,
          1195,
          1228.99,
          1349,
          742,
          1725,
          1062.95,
          1010.51,
          847,
          210.8,
          1425,
          1049.6,
          1000,
          2103.34,
          1469,
          1545.64,
          2289.99,
          287.9,
          2620,
          979,
          1094,
          979,
          2254,
          705.15,
          499,
          449,
          1299,
          1819,
          1070,
          998,
          559,
          989.99,
          1929,
          1458,
          3975,
          798.01,
          1329,
          1300,
          481.98,
          1199,
          1199,
          1090,
          1713.49,
          659,
          977,
          2499,
          540,
          940,
          1399,
          3240,
          646.27,
          2049,
          750,
          1030.99,
          1495,
          1199,
          615,
          387,
          393.49,
          345.99,
          1599,
          818.35,
          1599,
          799,
          638.8,
          1599,
          500,
          2299,
          1135.15,
          1166.97,
          209,
          2899,
          1199,
          1413.1,
          1511.19,
          867,
          398,
          1339,
          1699,
          769.15,
          429,
          1969,
          549,
          1379,
          2749.99,
          1029,
          2226,
          1312.49,
          196,
          1690,
          1513,
          523.63,
          435,
          1669,
          479,
          1895,
          989,
          1129,
          629,
          2050.38,
          278,
          752,
          616,
          1099,
          3949.4,
          784,
          2399,
          2171.72,
          2440,
          1142.8,
          1629,
          2229,
          1799,
          1899,
          2296.95,
          1009.9,
          1579,
          2339,
          339,
          297,
          599,
          1199,
          2250.68,
          478.89,
          1492.8,
          2299,
          788.49,
          2041,
          1499,
          1769,
          899,
          459,
          476.99,
          1498,
          1390,
          468,
          249,
          839,
          679,
          1159,
          369,
          398,
          709,
          769,
          825,
          1305,
          2153.37,
          650,
          1637,
          831,
          895.01,
          333,
          799,
          909,
          1179,
          691,
          1099,
          2599,
          819,
          659,
          485,
          1163,
          1199,
          1327,
          368,
          2150,
          272,
          2048.9,
          499,
          629,
          1285,
          2680,
          1169,
          889,
          579,
          299,
          629,
          2449,
          1279,
          1749,
          1948.99,
          999,
          1949,
          174,
          598,
          539,
          1272,
          1149,
          1529,
          1476.11,
          529,
          1713.37,
          509,
          309,
          1477,
          521.86,
          1029,
          1149,
          1650,
          3499,
          469.01,
          1598,
          959,
          478,
          2198.19,
          737,
          1169,
          1499,
          597.57,
          1280,
          361.8,
          1799,
          1099.99,
          1600,
          875,
          2325,
          573,
          1813,
          324,
          399,
          569,
          1072,
          443.99,
          339,
          1900,
          490,
          895,
          1229,
          833.01,
          729,
          459,
          289,
          379,
          899,
          549.99,
          805.99,
          209,
          720.32,
          638,
          1499,
          229,
          764,
          369,
          729,
          459,
          289,
          379,
          899,
          549.99,
          805.99,
          209,
          720.32,
          638,
          1499,
          229,
          764,
          369,
          729,
          459,
          289,
          379,
          899,
          549.99,
          805.99,
          209,
          720.32,
          638,
          1499,
          229,
          764,
          369
         ],
         "xaxis": "x",
         "yaxis": "y"
        }
       ],
       "layout": {
        "barmode": "relative",
        "legend": {
         "tracegroupgap": 0
        },
        "template": {
         "data": {
          "bar": [
           {
            "error_x": {
             "color": "#2a3f5f"
            },
            "error_y": {
             "color": "#2a3f5f"
            },
            "marker": {
             "line": {
              "color": "#E5ECF6",
              "width": 0.5
             },
             "pattern": {
              "fillmode": "overlay",
              "size": 10,
              "solidity": 0.2
             }
            },
            "type": "bar"
           }
          ],
          "barpolar": [
           {
            "marker": {
             "line": {
              "color": "#E5ECF6",
              "width": 0.5
             },
             "pattern": {
              "fillmode": "overlay",
              "size": 10,
              "solidity": 0.2
             }
            },
            "type": "barpolar"
           }
          ],
          "carpet": [
           {
            "aaxis": {
             "endlinecolor": "#2a3f5f",
             "gridcolor": "white",
             "linecolor": "white",
             "minorgridcolor": "white",
             "startlinecolor": "#2a3f5f"
            },
            "baxis": {
             "endlinecolor": "#2a3f5f",
             "gridcolor": "white",
             "linecolor": "white",
             "minorgridcolor": "white",
             "startlinecolor": "#2a3f5f"
            },
            "type": "carpet"
           }
          ],
          "choropleth": [
           {
            "colorbar": {
             "outlinewidth": 0,
             "ticks": ""
            },
            "type": "choropleth"
           }
          ],
          "contour": [
           {
            "colorbar": {
             "outlinewidth": 0,
             "ticks": ""
            },
            "colorscale": [
             [
              0,
              "#0d0887"
             ],
             [
              0.1111111111111111,
              "#46039f"
             ],
             [
              0.2222222222222222,
              "#7201a8"
             ],
             [
              0.3333333333333333,
              "#9c179e"
             ],
             [
              0.4444444444444444,
              "#bd3786"
             ],
             [
              0.5555555555555556,
              "#d8576b"
             ],
             [
              0.6666666666666666,
              "#ed7953"
             ],
             [
              0.7777777777777778,
              "#fb9f3a"
             ],
             [
              0.8888888888888888,
              "#fdca26"
             ],
             [
              1,
              "#f0f921"
             ]
            ],
            "type": "contour"
           }
          ],
          "contourcarpet": [
           {
            "colorbar": {
             "outlinewidth": 0,
             "ticks": ""
            },
            "type": "contourcarpet"
           }
          ],
          "heatmap": [
           {
            "colorbar": {
             "outlinewidth": 0,
             "ticks": ""
            },
            "colorscale": [
             [
              0,
              "#0d0887"
             ],
             [
              0.1111111111111111,
              "#46039f"
             ],
             [
              0.2222222222222222,
              "#7201a8"
             ],
             [
              0.3333333333333333,
              "#9c179e"
             ],
             [
              0.4444444444444444,
              "#bd3786"
             ],
             [
              0.5555555555555556,
              "#d8576b"
             ],
             [
              0.6666666666666666,
              "#ed7953"
             ],
             [
              0.7777777777777778,
              "#fb9f3a"
             ],
             [
              0.8888888888888888,
              "#fdca26"
             ],
             [
              1,
              "#f0f921"
             ]
            ],
            "type": "heatmap"
           }
          ],
          "heatmapgl": [
           {
            "colorbar": {
             "outlinewidth": 0,
             "ticks": ""
            },
            "colorscale": [
             [
              0,
              "#0d0887"
             ],
             [
              0.1111111111111111,
              "#46039f"
             ],
             [
              0.2222222222222222,
              "#7201a8"
             ],
             [
              0.3333333333333333,
              "#9c179e"
             ],
             [
              0.4444444444444444,
              "#bd3786"
             ],
             [
              0.5555555555555556,
              "#d8576b"
             ],
             [
              0.6666666666666666,
              "#ed7953"
             ],
             [
              0.7777777777777778,
              "#fb9f3a"
             ],
             [
              0.8888888888888888,
              "#fdca26"
             ],
             [
              1,
              "#f0f921"
             ]
            ],
            "type": "heatmapgl"
           }
          ],
          "histogram": [
           {
            "marker": {
             "pattern": {
              "fillmode": "overlay",
              "size": 10,
              "solidity": 0.2
             }
            },
            "type": "histogram"
           }
          ],
          "histogram2d": [
           {
            "colorbar": {
             "outlinewidth": 0,
             "ticks": ""
            },
            "colorscale": [
             [
              0,
              "#0d0887"
             ],
             [
              0.1111111111111111,
              "#46039f"
             ],
             [
              0.2222222222222222,
              "#7201a8"
             ],
             [
              0.3333333333333333,
              "#9c179e"
             ],
             [
              0.4444444444444444,
              "#bd3786"
             ],
             [
              0.5555555555555556,
              "#d8576b"
             ],
             [
              0.6666666666666666,
              "#ed7953"
             ],
             [
              0.7777777777777778,
              "#fb9f3a"
             ],
             [
              0.8888888888888888,
              "#fdca26"
             ],
             [
              1,
              "#f0f921"
             ]
            ],
            "type": "histogram2d"
           }
          ],
          "histogram2dcontour": [
           {
            "colorbar": {
             "outlinewidth": 0,
             "ticks": ""
            },
            "colorscale": [
             [
              0,
              "#0d0887"
             ],
             [
              0.1111111111111111,
              "#46039f"
             ],
             [
              0.2222222222222222,
              "#7201a8"
             ],
             [
              0.3333333333333333,
              "#9c179e"
             ],
             [
              0.4444444444444444,
              "#bd3786"
             ],
             [
              0.5555555555555556,
              "#d8576b"
             ],
             [
              0.6666666666666666,
              "#ed7953"
             ],
             [
              0.7777777777777778,
              "#fb9f3a"
             ],
             [
              0.8888888888888888,
              "#fdca26"
             ],
             [
              1,
              "#f0f921"
             ]
            ],
            "type": "histogram2dcontour"
           }
          ],
          "mesh3d": [
           {
            "colorbar": {
             "outlinewidth": 0,
             "ticks": ""
            },
            "type": "mesh3d"
           }
          ],
          "parcoords": [
           {
            "line": {
             "colorbar": {
              "outlinewidth": 0,
              "ticks": ""
             }
            },
            "type": "parcoords"
           }
          ],
          "pie": [
           {
            "automargin": true,
            "type": "pie"
           }
          ],
          "scatter": [
           {
            "fillpattern": {
             "fillmode": "overlay",
             "size": 10,
             "solidity": 0.2
            },
            "type": "scatter"
           }
          ],
          "scatter3d": [
           {
            "line": {
             "colorbar": {
              "outlinewidth": 0,
              "ticks": ""
             }
            },
            "marker": {
             "colorbar": {
              "outlinewidth": 0,
              "ticks": ""
             }
            },
            "type": "scatter3d"
           }
          ],
          "scattercarpet": [
           {
            "marker": {
             "colorbar": {
              "outlinewidth": 0,
              "ticks": ""
             }
            },
            "type": "scattercarpet"
           }
          ],
          "scattergeo": [
           {
            "marker": {
             "colorbar": {
              "outlinewidth": 0,
              "ticks": ""
             }
            },
            "type": "scattergeo"
           }
          ],
          "scattergl": [
           {
            "marker": {
             "colorbar": {
              "outlinewidth": 0,
              "ticks": ""
             }
            },
            "type": "scattergl"
           }
          ],
          "scattermapbox": [
           {
            "marker": {
             "colorbar": {
              "outlinewidth": 0,
              "ticks": ""
             }
            },
            "type": "scattermapbox"
           }
          ],
          "scatterpolar": [
           {
            "marker": {
             "colorbar": {
              "outlinewidth": 0,
              "ticks": ""
             }
            },
            "type": "scatterpolar"
           }
          ],
          "scatterpolargl": [
           {
            "marker": {
             "colorbar": {
              "outlinewidth": 0,
              "ticks": ""
             }
            },
            "type": "scatterpolargl"
           }
          ],
          "scatterternary": [
           {
            "marker": {
             "colorbar": {
              "outlinewidth": 0,
              "ticks": ""
             }
            },
            "type": "scatterternary"
           }
          ],
          "surface": [
           {
            "colorbar": {
             "outlinewidth": 0,
             "ticks": ""
            },
            "colorscale": [
             [
              0,
              "#0d0887"
             ],
             [
              0.1111111111111111,
              "#46039f"
             ],
             [
              0.2222222222222222,
              "#7201a8"
             ],
             [
              0.3333333333333333,
              "#9c179e"
             ],
             [
              0.4444444444444444,
              "#bd3786"
             ],
             [
              0.5555555555555556,
              "#d8576b"
             ],
             [
              0.6666666666666666,
              "#ed7953"
             ],
             [
              0.7777777777777778,
              "#fb9f3a"
             ],
             [
              0.8888888888888888,
              "#fdca26"
             ],
             [
              1,
              "#f0f921"
             ]
            ],
            "type": "surface"
           }
          ],
          "table": [
           {
            "cells": {
             "fill": {
              "color": "#EBF0F8"
             },
             "line": {
              "color": "white"
             }
            },
            "header": {
             "fill": {
              "color": "#C8D4E3"
             },
             "line": {
              "color": "white"
             }
            },
            "type": "table"
           }
          ]
         },
         "layout": {
          "annotationdefaults": {
           "arrowcolor": "#2a3f5f",
           "arrowhead": 0,
           "arrowwidth": 1
          },
          "autotypenumbers": "strict",
          "coloraxis": {
           "colorbar": {
            "outlinewidth": 0,
            "ticks": ""
           }
          },
          "colorscale": {
           "diverging": [
            [
             0,
             "#8e0152"
            ],
            [
             0.1,
             "#c51b7d"
            ],
            [
             0.2,
             "#de77ae"
            ],
            [
             0.3,
             "#f1b6da"
            ],
            [
             0.4,
             "#fde0ef"
            ],
            [
             0.5,
             "#f7f7f7"
            ],
            [
             0.6,
             "#e6f5d0"
            ],
            [
             0.7,
             "#b8e186"
            ],
            [
             0.8,
             "#7fbc41"
            ],
            [
             0.9,
             "#4d9221"
            ],
            [
             1,
             "#276419"
            ]
           ],
           "sequential": [
            [
             0,
             "#0d0887"
            ],
            [
             0.1111111111111111,
             "#46039f"
            ],
            [
             0.2222222222222222,
             "#7201a8"
            ],
            [
             0.3333333333333333,
             "#9c179e"
            ],
            [
             0.4444444444444444,
             "#bd3786"
            ],
            [
             0.5555555555555556,
             "#d8576b"
            ],
            [
             0.6666666666666666,
             "#ed7953"
            ],
            [
             0.7777777777777778,
             "#fb9f3a"
            ],
            [
             0.8888888888888888,
             "#fdca26"
            ],
            [
             1,
             "#f0f921"
            ]
           ],
           "sequentialminus": [
            [
             0,
             "#0d0887"
            ],
            [
             0.1111111111111111,
             "#46039f"
            ],
            [
             0.2222222222222222,
             "#7201a8"
            ],
            [
             0.3333333333333333,
             "#9c179e"
            ],
            [
             0.4444444444444444,
             "#bd3786"
            ],
            [
             0.5555555555555556,
             "#d8576b"
            ],
            [
             0.6666666666666666,
             "#ed7953"
            ],
            [
             0.7777777777777778,
             "#fb9f3a"
            ],
            [
             0.8888888888888888,
             "#fdca26"
            ],
            [
             1,
             "#f0f921"
            ]
           ]
          },
          "colorway": [
           "#636efa",
           "#EF553B",
           "#00cc96",
           "#ab63fa",
           "#FFA15A",
           "#19d3f3",
           "#FF6692",
           "#B6E880",
           "#FF97FF",
           "#FECB52"
          ],
          "font": {
           "color": "#2a3f5f"
          },
          "geo": {
           "bgcolor": "white",
           "lakecolor": "white",
           "landcolor": "#E5ECF6",
           "showlakes": true,
           "showland": true,
           "subunitcolor": "white"
          },
          "hoverlabel": {
           "align": "left"
          },
          "hovermode": "closest",
          "mapbox": {
           "style": "light"
          },
          "paper_bgcolor": "white",
          "plot_bgcolor": "#E5ECF6",
          "polar": {
           "angularaxis": {
            "gridcolor": "white",
            "linecolor": "white",
            "ticks": ""
           },
           "bgcolor": "#E5ECF6",
           "radialaxis": {
            "gridcolor": "white",
            "linecolor": "white",
            "ticks": ""
           }
          },
          "scene": {
           "xaxis": {
            "backgroundcolor": "#E5ECF6",
            "gridcolor": "white",
            "gridwidth": 2,
            "linecolor": "white",
            "showbackground": true,
            "ticks": "",
            "zerolinecolor": "white"
           },
           "yaxis": {
            "backgroundcolor": "#E5ECF6",
            "gridcolor": "white",
            "gridwidth": 2,
            "linecolor": "white",
            "showbackground": true,
            "ticks": "",
            "zerolinecolor": "white"
           },
           "zaxis": {
            "backgroundcolor": "#E5ECF6",
            "gridcolor": "white",
            "gridwidth": 2,
            "linecolor": "white",
            "showbackground": true,
            "ticks": "",
            "zerolinecolor": "white"
           }
          },
          "shapedefaults": {
           "line": {
            "color": "#2a3f5f"
           }
          },
          "ternary": {
           "aaxis": {
            "gridcolor": "white",
            "linecolor": "white",
            "ticks": ""
           },
           "baxis": {
            "gridcolor": "white",
            "linecolor": "white",
            "ticks": ""
           },
           "bgcolor": "#E5ECF6",
           "caxis": {
            "gridcolor": "white",
            "linecolor": "white",
            "ticks": ""
           }
          },
          "title": {
           "x": 0.05
          },
          "xaxis": {
           "automargin": true,
           "gridcolor": "white",
           "linecolor": "white",
           "ticks": "",
           "title": {
            "standoff": 15
           },
           "zerolinecolor": "white",
           "zerolinewidth": 2
          },
          "yaxis": {
           "automargin": true,
           "gridcolor": "white",
           "linecolor": "white",
           "ticks": "",
           "title": {
            "standoff": 15
           },
           "zerolinecolor": "white",
           "zerolinewidth": 2
          }
         }
        },
        "title": {
         "text": "Laptop prices distribution"
        },
        "xaxis": {
         "anchor": "y",
         "domain": [
          0,
          1
         ],
         "title": {
          "text": "Price_in_euros"
         }
        },
        "yaxis": {
         "anchor": "x",
         "domain": [
          0,
          1
         ],
         "title": {
          "text": "count"
         }
        }
       }
      }
     },
     "metadata": {},
     "output_type": "display_data"
    }
   ],
   "source": [
    "fig = px.histogram(df, x='Price_in_euros', title='Laptop prices distribution')\n",
    "\n",
    "fig.write_image(\"images/laptop_prices_distribution.png\")\n",
    "fig.show()"
   ]
  },
  {
   "cell_type": "code",
   "execution_count": 32,
   "metadata": {},
   "outputs": [
    {
     "name": "stdout",
     "output_type": "stream",
     "text": [
      "Prices are not normally distributed\n"
     ]
    }
   ],
   "source": [
    "from scipy.stats import shapiro\n",
    "\n",
    "result = shapiro(df['Price_in_euros'])\n",
    "alpha = 0.05\n",
    "\n",
    "if result.pvalue < alpha:\n",
    "    print(\"Prices are not normally distributed\")\n",
    "else:\n",
    "    print(\"Prices are normally distributed\")\n",
    "\n"
   ]
  },
  {
   "cell_type": "code",
   "execution_count": 33,
   "metadata": {},
   "outputs": [
    {
     "data": {
      "application/vnd.plotly.v1+json": {
       "config": {
        "plotlyServerURL": "https://plot.ly"
       },
       "data": [
        {
         "alignmentgroup": "True",
         "bingroup": "x",
         "hovertemplate": "Price_in_euros=%{x}<br>count=%{y}<extra></extra>",
         "legendgroup": "",
         "marker": {
          "color": "#636efa",
          "pattern": {
           "shape": ""
          }
         },
         "name": "",
         "offsetgroup": "",
         "orientation": "v",
         "showlegend": false,
         "type": "histogram",
         "x": [
          575,
          393.9,
          344.99,
          258,
          659,
          896,
          439,
          488.69,
          879,
          398.49,
          1103,
          439,
          690,
          438.69,
          229,
          977,
          860,
          699,
          598.99,
          1197,
          1249,
          719,
          349,
          1119,
          659,
          722,
          1398.99,
          1084,
          1271,
          259,
          812,
          928,
          598,
          988,
          699,
          369,
          2014,
          1082,
          619,
          754,
          699,
          923,
          1499,
          914,
          959,
          1379,
          1045,
          349,
          1031,
          794,
          1269,
          330,
          559,
          675,
          445.9,
          1059,
          722,
          1018,
          489,
          1975,
          469,
          2449,
          980,
          1292,
          902,
          1335,
          1268,
          1144,
          716,
          279,
          1304,
          1738.27,
          439,
          639,
          389,
          1750,
          488.99,
          1191,
          499,
          469,
          1500,
          1427,
          1999,
          347,
          1099,
          589,
          1534,
          639.9,
          1699,
          1999,
          1154,
          726,
          1749,
          618.99,
          1323,
          521.47,
          889,
          1399,
          689,
          398.99,
          1799,
          1145,
          705.5,
          397,
          544.15,
          1280,
          568.9,
          1965,
          1860.99,
          389,
          649,
          719,
          1498,
          1219,
          668.48,
          1389,
          1124,
          932,
          520.9,
          364.9,
          539,
          745,
          699,
          495,
          699,
          612.61,
          569,
          1907.99,
          689,
          655.01,
          1200,
          836.6,
          489,
          650,
          2419,
          539,
          4389,
          1900,
          1099,
          1561,
          1244,
          2064.9,
          1389,
          629,
          1749,
          385,
          910,
          1870,
          615,
          2277,
          1468,
          299,
          2559,
          1349,
          910,
          839,
          1700,
          684.8,
          1799,
          1265,
          1399,
          900,
          1483,
          3100,
          1018.99,
          960,
          1296.99,
          1149,
          1165,
          1149,
          1579,
          288.9,
          1669,
          1399,
          2249,
          775,
          846.5,
          685,
          979,
          579,
          806,
          1908,
          499,
          1349,
          2089,
          1189,
          779,
          1099.99,
          1205,
          1449,
          1049.26,
          684,
          1539,
          1590,
          1887.21,
          800,
          769.99,
          2229,
          1149,
          1185.43,
          1559,
          1189,
          1060,
          1080,
          973,
          1195,
          1228.99,
          1349,
          742,
          1010.51,
          1000,
          2103.34,
          1469,
          979,
          979,
          705.15,
          499,
          1070,
          1199,
          1199,
          1090,
          940,
          2049,
          1030.99,
          1495,
          615,
          345.99,
          1599,
          500,
          2899,
          398,
          1699,
          1969,
          1690,
          1513,
          1895,
          1129,
          629,
          752,
          3949.4,
          2171.72,
          1629,
          2229,
          1799,
          1899,
          2296.95,
          1579,
          297,
          478.89,
          2041,
          899,
          476.99,
          249,
          679,
          1159,
          650,
          799,
          485,
          1327,
          579,
          529,
          478,
          2198.19,
          1099.99,
          399,
          549.99,
          209,
          764,
          549.99,
          209,
          764,
          549.99,
          209,
          764
         ],
         "xaxis": "x",
         "yaxis": "y"
        }
       ],
       "layout": {
        "barmode": "relative",
        "legend": {
         "tracegroupgap": 0
        },
        "template": {
         "data": {
          "bar": [
           {
            "error_x": {
             "color": "#2a3f5f"
            },
            "error_y": {
             "color": "#2a3f5f"
            },
            "marker": {
             "line": {
              "color": "#E5ECF6",
              "width": 0.5
             },
             "pattern": {
              "fillmode": "overlay",
              "size": 10,
              "solidity": 0.2
             }
            },
            "type": "bar"
           }
          ],
          "barpolar": [
           {
            "marker": {
             "line": {
              "color": "#E5ECF6",
              "width": 0.5
             },
             "pattern": {
              "fillmode": "overlay",
              "size": 10,
              "solidity": 0.2
             }
            },
            "type": "barpolar"
           }
          ],
          "carpet": [
           {
            "aaxis": {
             "endlinecolor": "#2a3f5f",
             "gridcolor": "white",
             "linecolor": "white",
             "minorgridcolor": "white",
             "startlinecolor": "#2a3f5f"
            },
            "baxis": {
             "endlinecolor": "#2a3f5f",
             "gridcolor": "white",
             "linecolor": "white",
             "minorgridcolor": "white",
             "startlinecolor": "#2a3f5f"
            },
            "type": "carpet"
           }
          ],
          "choropleth": [
           {
            "colorbar": {
             "outlinewidth": 0,
             "ticks": ""
            },
            "type": "choropleth"
           }
          ],
          "contour": [
           {
            "colorbar": {
             "outlinewidth": 0,
             "ticks": ""
            },
            "colorscale": [
             [
              0,
              "#0d0887"
             ],
             [
              0.1111111111111111,
              "#46039f"
             ],
             [
              0.2222222222222222,
              "#7201a8"
             ],
             [
              0.3333333333333333,
              "#9c179e"
             ],
             [
              0.4444444444444444,
              "#bd3786"
             ],
             [
              0.5555555555555556,
              "#d8576b"
             ],
             [
              0.6666666666666666,
              "#ed7953"
             ],
             [
              0.7777777777777778,
              "#fb9f3a"
             ],
             [
              0.8888888888888888,
              "#fdca26"
             ],
             [
              1,
              "#f0f921"
             ]
            ],
            "type": "contour"
           }
          ],
          "contourcarpet": [
           {
            "colorbar": {
             "outlinewidth": 0,
             "ticks": ""
            },
            "type": "contourcarpet"
           }
          ],
          "heatmap": [
           {
            "colorbar": {
             "outlinewidth": 0,
             "ticks": ""
            },
            "colorscale": [
             [
              0,
              "#0d0887"
             ],
             [
              0.1111111111111111,
              "#46039f"
             ],
             [
              0.2222222222222222,
              "#7201a8"
             ],
             [
              0.3333333333333333,
              "#9c179e"
             ],
             [
              0.4444444444444444,
              "#bd3786"
             ],
             [
              0.5555555555555556,
              "#d8576b"
             ],
             [
              0.6666666666666666,
              "#ed7953"
             ],
             [
              0.7777777777777778,
              "#fb9f3a"
             ],
             [
              0.8888888888888888,
              "#fdca26"
             ],
             [
              1,
              "#f0f921"
             ]
            ],
            "type": "heatmap"
           }
          ],
          "heatmapgl": [
           {
            "colorbar": {
             "outlinewidth": 0,
             "ticks": ""
            },
            "colorscale": [
             [
              0,
              "#0d0887"
             ],
             [
              0.1111111111111111,
              "#46039f"
             ],
             [
              0.2222222222222222,
              "#7201a8"
             ],
             [
              0.3333333333333333,
              "#9c179e"
             ],
             [
              0.4444444444444444,
              "#bd3786"
             ],
             [
              0.5555555555555556,
              "#d8576b"
             ],
             [
              0.6666666666666666,
              "#ed7953"
             ],
             [
              0.7777777777777778,
              "#fb9f3a"
             ],
             [
              0.8888888888888888,
              "#fdca26"
             ],
             [
              1,
              "#f0f921"
             ]
            ],
            "type": "heatmapgl"
           }
          ],
          "histogram": [
           {
            "marker": {
             "pattern": {
              "fillmode": "overlay",
              "size": 10,
              "solidity": 0.2
             }
            },
            "type": "histogram"
           }
          ],
          "histogram2d": [
           {
            "colorbar": {
             "outlinewidth": 0,
             "ticks": ""
            },
            "colorscale": [
             [
              0,
              "#0d0887"
             ],
             [
              0.1111111111111111,
              "#46039f"
             ],
             [
              0.2222222222222222,
              "#7201a8"
             ],
             [
              0.3333333333333333,
              "#9c179e"
             ],
             [
              0.4444444444444444,
              "#bd3786"
             ],
             [
              0.5555555555555556,
              "#d8576b"
             ],
             [
              0.6666666666666666,
              "#ed7953"
             ],
             [
              0.7777777777777778,
              "#fb9f3a"
             ],
             [
              0.8888888888888888,
              "#fdca26"
             ],
             [
              1,
              "#f0f921"
             ]
            ],
            "type": "histogram2d"
           }
          ],
          "histogram2dcontour": [
           {
            "colorbar": {
             "outlinewidth": 0,
             "ticks": ""
            },
            "colorscale": [
             [
              0,
              "#0d0887"
             ],
             [
              0.1111111111111111,
              "#46039f"
             ],
             [
              0.2222222222222222,
              "#7201a8"
             ],
             [
              0.3333333333333333,
              "#9c179e"
             ],
             [
              0.4444444444444444,
              "#bd3786"
             ],
             [
              0.5555555555555556,
              "#d8576b"
             ],
             [
              0.6666666666666666,
              "#ed7953"
             ],
             [
              0.7777777777777778,
              "#fb9f3a"
             ],
             [
              0.8888888888888888,
              "#fdca26"
             ],
             [
              1,
              "#f0f921"
             ]
            ],
            "type": "histogram2dcontour"
           }
          ],
          "mesh3d": [
           {
            "colorbar": {
             "outlinewidth": 0,
             "ticks": ""
            },
            "type": "mesh3d"
           }
          ],
          "parcoords": [
           {
            "line": {
             "colorbar": {
              "outlinewidth": 0,
              "ticks": ""
             }
            },
            "type": "parcoords"
           }
          ],
          "pie": [
           {
            "automargin": true,
            "type": "pie"
           }
          ],
          "scatter": [
           {
            "fillpattern": {
             "fillmode": "overlay",
             "size": 10,
             "solidity": 0.2
            },
            "type": "scatter"
           }
          ],
          "scatter3d": [
           {
            "line": {
             "colorbar": {
              "outlinewidth": 0,
              "ticks": ""
             }
            },
            "marker": {
             "colorbar": {
              "outlinewidth": 0,
              "ticks": ""
             }
            },
            "type": "scatter3d"
           }
          ],
          "scattercarpet": [
           {
            "marker": {
             "colorbar": {
              "outlinewidth": 0,
              "ticks": ""
             }
            },
            "type": "scattercarpet"
           }
          ],
          "scattergeo": [
           {
            "marker": {
             "colorbar": {
              "outlinewidth": 0,
              "ticks": ""
             }
            },
            "type": "scattergeo"
           }
          ],
          "scattergl": [
           {
            "marker": {
             "colorbar": {
              "outlinewidth": 0,
              "ticks": ""
             }
            },
            "type": "scattergl"
           }
          ],
          "scattermapbox": [
           {
            "marker": {
             "colorbar": {
              "outlinewidth": 0,
              "ticks": ""
             }
            },
            "type": "scattermapbox"
           }
          ],
          "scatterpolar": [
           {
            "marker": {
             "colorbar": {
              "outlinewidth": 0,
              "ticks": ""
             }
            },
            "type": "scatterpolar"
           }
          ],
          "scatterpolargl": [
           {
            "marker": {
             "colorbar": {
              "outlinewidth": 0,
              "ticks": ""
             }
            },
            "type": "scatterpolargl"
           }
          ],
          "scatterternary": [
           {
            "marker": {
             "colorbar": {
              "outlinewidth": 0,
              "ticks": ""
             }
            },
            "type": "scatterternary"
           }
          ],
          "surface": [
           {
            "colorbar": {
             "outlinewidth": 0,
             "ticks": ""
            },
            "colorscale": [
             [
              0,
              "#0d0887"
             ],
             [
              0.1111111111111111,
              "#46039f"
             ],
             [
              0.2222222222222222,
              "#7201a8"
             ],
             [
              0.3333333333333333,
              "#9c179e"
             ],
             [
              0.4444444444444444,
              "#bd3786"
             ],
             [
              0.5555555555555556,
              "#d8576b"
             ],
             [
              0.6666666666666666,
              "#ed7953"
             ],
             [
              0.7777777777777778,
              "#fb9f3a"
             ],
             [
              0.8888888888888888,
              "#fdca26"
             ],
             [
              1,
              "#f0f921"
             ]
            ],
            "type": "surface"
           }
          ],
          "table": [
           {
            "cells": {
             "fill": {
              "color": "#EBF0F8"
             },
             "line": {
              "color": "white"
             }
            },
            "header": {
             "fill": {
              "color": "#C8D4E3"
             },
             "line": {
              "color": "white"
             }
            },
            "type": "table"
           }
          ]
         },
         "layout": {
          "annotationdefaults": {
           "arrowcolor": "#2a3f5f",
           "arrowhead": 0,
           "arrowwidth": 1
          },
          "autotypenumbers": "strict",
          "coloraxis": {
           "colorbar": {
            "outlinewidth": 0,
            "ticks": ""
           }
          },
          "colorscale": {
           "diverging": [
            [
             0,
             "#8e0152"
            ],
            [
             0.1,
             "#c51b7d"
            ],
            [
             0.2,
             "#de77ae"
            ],
            [
             0.3,
             "#f1b6da"
            ],
            [
             0.4,
             "#fde0ef"
            ],
            [
             0.5,
             "#f7f7f7"
            ],
            [
             0.6,
             "#e6f5d0"
            ],
            [
             0.7,
             "#b8e186"
            ],
            [
             0.8,
             "#7fbc41"
            ],
            [
             0.9,
             "#4d9221"
            ],
            [
             1,
             "#276419"
            ]
           ],
           "sequential": [
            [
             0,
             "#0d0887"
            ],
            [
             0.1111111111111111,
             "#46039f"
            ],
            [
             0.2222222222222222,
             "#7201a8"
            ],
            [
             0.3333333333333333,
             "#9c179e"
            ],
            [
             0.4444444444444444,
             "#bd3786"
            ],
            [
             0.5555555555555556,
             "#d8576b"
            ],
            [
             0.6666666666666666,
             "#ed7953"
            ],
            [
             0.7777777777777778,
             "#fb9f3a"
            ],
            [
             0.8888888888888888,
             "#fdca26"
            ],
            [
             1,
             "#f0f921"
            ]
           ],
           "sequentialminus": [
            [
             0,
             "#0d0887"
            ],
            [
             0.1111111111111111,
             "#46039f"
            ],
            [
             0.2222222222222222,
             "#7201a8"
            ],
            [
             0.3333333333333333,
             "#9c179e"
            ],
            [
             0.4444444444444444,
             "#bd3786"
            ],
            [
             0.5555555555555556,
             "#d8576b"
            ],
            [
             0.6666666666666666,
             "#ed7953"
            ],
            [
             0.7777777777777778,
             "#fb9f3a"
            ],
            [
             0.8888888888888888,
             "#fdca26"
            ],
            [
             1,
             "#f0f921"
            ]
           ]
          },
          "colorway": [
           "#636efa",
           "#EF553B",
           "#00cc96",
           "#ab63fa",
           "#FFA15A",
           "#19d3f3",
           "#FF6692",
           "#B6E880",
           "#FF97FF",
           "#FECB52"
          ],
          "font": {
           "color": "#2a3f5f"
          },
          "geo": {
           "bgcolor": "white",
           "lakecolor": "white",
           "landcolor": "#E5ECF6",
           "showlakes": true,
           "showland": true,
           "subunitcolor": "white"
          },
          "hoverlabel": {
           "align": "left"
          },
          "hovermode": "closest",
          "mapbox": {
           "style": "light"
          },
          "paper_bgcolor": "white",
          "plot_bgcolor": "#E5ECF6",
          "polar": {
           "angularaxis": {
            "gridcolor": "white",
            "linecolor": "white",
            "ticks": ""
           },
           "bgcolor": "#E5ECF6",
           "radialaxis": {
            "gridcolor": "white",
            "linecolor": "white",
            "ticks": ""
           }
          },
          "scene": {
           "xaxis": {
            "backgroundcolor": "#E5ECF6",
            "gridcolor": "white",
            "gridwidth": 2,
            "linecolor": "white",
            "showbackground": true,
            "ticks": "",
            "zerolinecolor": "white"
           },
           "yaxis": {
            "backgroundcolor": "#E5ECF6",
            "gridcolor": "white",
            "gridwidth": 2,
            "linecolor": "white",
            "showbackground": true,
            "ticks": "",
            "zerolinecolor": "white"
           },
           "zaxis": {
            "backgroundcolor": "#E5ECF6",
            "gridcolor": "white",
            "gridwidth": 2,
            "linecolor": "white",
            "showbackground": true,
            "ticks": "",
            "zerolinecolor": "white"
           }
          },
          "shapedefaults": {
           "line": {
            "color": "#2a3f5f"
           }
          },
          "ternary": {
           "aaxis": {
            "gridcolor": "white",
            "linecolor": "white",
            "ticks": ""
           },
           "baxis": {
            "gridcolor": "white",
            "linecolor": "white",
            "ticks": ""
           },
           "bgcolor": "#E5ECF6",
           "caxis": {
            "gridcolor": "white",
            "linecolor": "white",
            "ticks": ""
           }
          },
          "title": {
           "x": 0.05
          },
          "xaxis": {
           "automargin": true,
           "gridcolor": "white",
           "linecolor": "white",
           "ticks": "",
           "title": {
            "standoff": 15
           },
           "zerolinecolor": "white",
           "zerolinewidth": 2
          },
          "yaxis": {
           "automargin": true,
           "gridcolor": "white",
           "linecolor": "white",
           "ticks": "",
           "title": {
            "standoff": 15
           },
           "zerolinecolor": "white",
           "zerolinewidth": 2
          }
         }
        },
        "title": {
         "text": "Laptop prices distribution"
        },
        "xaxis": {
         "anchor": "y",
         "domain": [
          0,
          1
         ],
         "title": {
          "text": "Price_in_euros"
         }
        },
        "yaxis": {
         "anchor": "x",
         "domain": [
          0,
          1
         ],
         "title": {
          "text": "count"
         }
        }
       }
      }
     },
     "metadata": {},
     "output_type": "display_data"
    }
   ],
   "source": [
    "df_razer = df[df['Company'] == 'HP']\n",
    "\n",
    "fix = px.histogram(df_razer, x='Price_in_euros', title='Laptop prices distribution')\n",
    "\n",
    "fix.write_image(\"images/laptop_prices_distribution_by_brand.png\")\n",
    "fix.show()\n"
   ]
  },
  {
   "cell_type": "code",
   "execution_count": 34,
   "metadata": {},
   "outputs": [
    {
     "name": "stdout",
     "output_type": "stream",
     "text": [
      "p-value: 0.07702514743218304\n",
      "Mean price of Lenovo laptops is equal to mean price of Dell laptops\n"
     ]
    }
   ],
   "source": [
    "from scipy.stats import ttest_ind\n",
    "\n",
    "# H0: mean price of Lenovo laptops = mean price of Dell laptops\n",
    "\n",
    "df_hp = df[df['Company'] == 'Lenovo']\n",
    "df_dell = df[df['Company'] == 'Dell']\n",
    "\n",
    "result = ttest_ind(df_hp['Price_in_euros'], df_dell['Price_in_euros'])\n",
    "print('p-value:', result.pvalue)\n",
    "\n",
    "alpha = 0.05\n",
    "\n",
    "if result.pvalue < alpha:\n",
    "    print(\"Mean price of Lenovo laptops is not equal to mean price of Dell laptops\")\n",
    "else:\n",
    "    print(\"Mean price of Lenovo laptops is equal to mean price of Dell laptops\")\n"
   ]
  },
  {
   "cell_type": "code",
   "execution_count": 35,
   "metadata": {},
   "outputs": [
    {
     "data": {
      "application/vnd.plotly.v1+json": {
       "config": {
        "plotlyServerURL": "https://plot.ly"
       },
       "data": [
        {
         "domain": {
          "x": [
           0,
           1
          ],
          "y": [
           0,
           1
          ]
         },
         "hovertemplate": "Company=%{label}<br>laptop_ID=%{value}<extra></extra>",
         "labels": [
          "Acer",
          "Apple",
          "Asus",
          "Chuwi",
          "Dell",
          "Fujitsu",
          "Google",
          "HP",
          "Huawei",
          "LG",
          "Lenovo",
          "MSI",
          "Mediacom",
          "Microsoft",
          "Razer",
          "Samsung",
          "Toshiba",
          "Vero",
          "Xiaomi"
         ],
         "legendgroup": "",
         "name": "",
         "showlegend": true,
         "textinfo": "label+percent",
         "textposition": "inside",
         "type": "pie",
         "values": [
          103,
          21,
          158,
          3,
          297,
          3,
          3,
          274,
          2,
          3,
          297,
          54,
          7,
          6,
          7,
          9,
          48,
          4,
          4
         ]
        }
       ],
       "layout": {
        "legend": {
         "tracegroupgap": 0
        },
        "template": {
         "data": {
          "bar": [
           {
            "error_x": {
             "color": "#2a3f5f"
            },
            "error_y": {
             "color": "#2a3f5f"
            },
            "marker": {
             "line": {
              "color": "#E5ECF6",
              "width": 0.5
             },
             "pattern": {
              "fillmode": "overlay",
              "size": 10,
              "solidity": 0.2
             }
            },
            "type": "bar"
           }
          ],
          "barpolar": [
           {
            "marker": {
             "line": {
              "color": "#E5ECF6",
              "width": 0.5
             },
             "pattern": {
              "fillmode": "overlay",
              "size": 10,
              "solidity": 0.2
             }
            },
            "type": "barpolar"
           }
          ],
          "carpet": [
           {
            "aaxis": {
             "endlinecolor": "#2a3f5f",
             "gridcolor": "white",
             "linecolor": "white",
             "minorgridcolor": "white",
             "startlinecolor": "#2a3f5f"
            },
            "baxis": {
             "endlinecolor": "#2a3f5f",
             "gridcolor": "white",
             "linecolor": "white",
             "minorgridcolor": "white",
             "startlinecolor": "#2a3f5f"
            },
            "type": "carpet"
           }
          ],
          "choropleth": [
           {
            "colorbar": {
             "outlinewidth": 0,
             "ticks": ""
            },
            "type": "choropleth"
           }
          ],
          "contour": [
           {
            "colorbar": {
             "outlinewidth": 0,
             "ticks": ""
            },
            "colorscale": [
             [
              0,
              "#0d0887"
             ],
             [
              0.1111111111111111,
              "#46039f"
             ],
             [
              0.2222222222222222,
              "#7201a8"
             ],
             [
              0.3333333333333333,
              "#9c179e"
             ],
             [
              0.4444444444444444,
              "#bd3786"
             ],
             [
              0.5555555555555556,
              "#d8576b"
             ],
             [
              0.6666666666666666,
              "#ed7953"
             ],
             [
              0.7777777777777778,
              "#fb9f3a"
             ],
             [
              0.8888888888888888,
              "#fdca26"
             ],
             [
              1,
              "#f0f921"
             ]
            ],
            "type": "contour"
           }
          ],
          "contourcarpet": [
           {
            "colorbar": {
             "outlinewidth": 0,
             "ticks": ""
            },
            "type": "contourcarpet"
           }
          ],
          "heatmap": [
           {
            "colorbar": {
             "outlinewidth": 0,
             "ticks": ""
            },
            "colorscale": [
             [
              0,
              "#0d0887"
             ],
             [
              0.1111111111111111,
              "#46039f"
             ],
             [
              0.2222222222222222,
              "#7201a8"
             ],
             [
              0.3333333333333333,
              "#9c179e"
             ],
             [
              0.4444444444444444,
              "#bd3786"
             ],
             [
              0.5555555555555556,
              "#d8576b"
             ],
             [
              0.6666666666666666,
              "#ed7953"
             ],
             [
              0.7777777777777778,
              "#fb9f3a"
             ],
             [
              0.8888888888888888,
              "#fdca26"
             ],
             [
              1,
              "#f0f921"
             ]
            ],
            "type": "heatmap"
           }
          ],
          "heatmapgl": [
           {
            "colorbar": {
             "outlinewidth": 0,
             "ticks": ""
            },
            "colorscale": [
             [
              0,
              "#0d0887"
             ],
             [
              0.1111111111111111,
              "#46039f"
             ],
             [
              0.2222222222222222,
              "#7201a8"
             ],
             [
              0.3333333333333333,
              "#9c179e"
             ],
             [
              0.4444444444444444,
              "#bd3786"
             ],
             [
              0.5555555555555556,
              "#d8576b"
             ],
             [
              0.6666666666666666,
              "#ed7953"
             ],
             [
              0.7777777777777778,
              "#fb9f3a"
             ],
             [
              0.8888888888888888,
              "#fdca26"
             ],
             [
              1,
              "#f0f921"
             ]
            ],
            "type": "heatmapgl"
           }
          ],
          "histogram": [
           {
            "marker": {
             "pattern": {
              "fillmode": "overlay",
              "size": 10,
              "solidity": 0.2
             }
            },
            "type": "histogram"
           }
          ],
          "histogram2d": [
           {
            "colorbar": {
             "outlinewidth": 0,
             "ticks": ""
            },
            "colorscale": [
             [
              0,
              "#0d0887"
             ],
             [
              0.1111111111111111,
              "#46039f"
             ],
             [
              0.2222222222222222,
              "#7201a8"
             ],
             [
              0.3333333333333333,
              "#9c179e"
             ],
             [
              0.4444444444444444,
              "#bd3786"
             ],
             [
              0.5555555555555556,
              "#d8576b"
             ],
             [
              0.6666666666666666,
              "#ed7953"
             ],
             [
              0.7777777777777778,
              "#fb9f3a"
             ],
             [
              0.8888888888888888,
              "#fdca26"
             ],
             [
              1,
              "#f0f921"
             ]
            ],
            "type": "histogram2d"
           }
          ],
          "histogram2dcontour": [
           {
            "colorbar": {
             "outlinewidth": 0,
             "ticks": ""
            },
            "colorscale": [
             [
              0,
              "#0d0887"
             ],
             [
              0.1111111111111111,
              "#46039f"
             ],
             [
              0.2222222222222222,
              "#7201a8"
             ],
             [
              0.3333333333333333,
              "#9c179e"
             ],
             [
              0.4444444444444444,
              "#bd3786"
             ],
             [
              0.5555555555555556,
              "#d8576b"
             ],
             [
              0.6666666666666666,
              "#ed7953"
             ],
             [
              0.7777777777777778,
              "#fb9f3a"
             ],
             [
              0.8888888888888888,
              "#fdca26"
             ],
             [
              1,
              "#f0f921"
             ]
            ],
            "type": "histogram2dcontour"
           }
          ],
          "mesh3d": [
           {
            "colorbar": {
             "outlinewidth": 0,
             "ticks": ""
            },
            "type": "mesh3d"
           }
          ],
          "parcoords": [
           {
            "line": {
             "colorbar": {
              "outlinewidth": 0,
              "ticks": ""
             }
            },
            "type": "parcoords"
           }
          ],
          "pie": [
           {
            "automargin": true,
            "type": "pie"
           }
          ],
          "scatter": [
           {
            "fillpattern": {
             "fillmode": "overlay",
             "size": 10,
             "solidity": 0.2
            },
            "type": "scatter"
           }
          ],
          "scatter3d": [
           {
            "line": {
             "colorbar": {
              "outlinewidth": 0,
              "ticks": ""
             }
            },
            "marker": {
             "colorbar": {
              "outlinewidth": 0,
              "ticks": ""
             }
            },
            "type": "scatter3d"
           }
          ],
          "scattercarpet": [
           {
            "marker": {
             "colorbar": {
              "outlinewidth": 0,
              "ticks": ""
             }
            },
            "type": "scattercarpet"
           }
          ],
          "scattergeo": [
           {
            "marker": {
             "colorbar": {
              "outlinewidth": 0,
              "ticks": ""
             }
            },
            "type": "scattergeo"
           }
          ],
          "scattergl": [
           {
            "marker": {
             "colorbar": {
              "outlinewidth": 0,
              "ticks": ""
             }
            },
            "type": "scattergl"
           }
          ],
          "scattermapbox": [
           {
            "marker": {
             "colorbar": {
              "outlinewidth": 0,
              "ticks": ""
             }
            },
            "type": "scattermapbox"
           }
          ],
          "scatterpolar": [
           {
            "marker": {
             "colorbar": {
              "outlinewidth": 0,
              "ticks": ""
             }
            },
            "type": "scatterpolar"
           }
          ],
          "scatterpolargl": [
           {
            "marker": {
             "colorbar": {
              "outlinewidth": 0,
              "ticks": ""
             }
            },
            "type": "scatterpolargl"
           }
          ],
          "scatterternary": [
           {
            "marker": {
             "colorbar": {
              "outlinewidth": 0,
              "ticks": ""
             }
            },
            "type": "scatterternary"
           }
          ],
          "surface": [
           {
            "colorbar": {
             "outlinewidth": 0,
             "ticks": ""
            },
            "colorscale": [
             [
              0,
              "#0d0887"
             ],
             [
              0.1111111111111111,
              "#46039f"
             ],
             [
              0.2222222222222222,
              "#7201a8"
             ],
             [
              0.3333333333333333,
              "#9c179e"
             ],
             [
              0.4444444444444444,
              "#bd3786"
             ],
             [
              0.5555555555555556,
              "#d8576b"
             ],
             [
              0.6666666666666666,
              "#ed7953"
             ],
             [
              0.7777777777777778,
              "#fb9f3a"
             ],
             [
              0.8888888888888888,
              "#fdca26"
             ],
             [
              1,
              "#f0f921"
             ]
            ],
            "type": "surface"
           }
          ],
          "table": [
           {
            "cells": {
             "fill": {
              "color": "#EBF0F8"
             },
             "line": {
              "color": "white"
             }
            },
            "header": {
             "fill": {
              "color": "#C8D4E3"
             },
             "line": {
              "color": "white"
             }
            },
            "type": "table"
           }
          ]
         },
         "layout": {
          "annotationdefaults": {
           "arrowcolor": "#2a3f5f",
           "arrowhead": 0,
           "arrowwidth": 1
          },
          "autotypenumbers": "strict",
          "coloraxis": {
           "colorbar": {
            "outlinewidth": 0,
            "ticks": ""
           }
          },
          "colorscale": {
           "diverging": [
            [
             0,
             "#8e0152"
            ],
            [
             0.1,
             "#c51b7d"
            ],
            [
             0.2,
             "#de77ae"
            ],
            [
             0.3,
             "#f1b6da"
            ],
            [
             0.4,
             "#fde0ef"
            ],
            [
             0.5,
             "#f7f7f7"
            ],
            [
             0.6,
             "#e6f5d0"
            ],
            [
             0.7,
             "#b8e186"
            ],
            [
             0.8,
             "#7fbc41"
            ],
            [
             0.9,
             "#4d9221"
            ],
            [
             1,
             "#276419"
            ]
           ],
           "sequential": [
            [
             0,
             "#0d0887"
            ],
            [
             0.1111111111111111,
             "#46039f"
            ],
            [
             0.2222222222222222,
             "#7201a8"
            ],
            [
             0.3333333333333333,
             "#9c179e"
            ],
            [
             0.4444444444444444,
             "#bd3786"
            ],
            [
             0.5555555555555556,
             "#d8576b"
            ],
            [
             0.6666666666666666,
             "#ed7953"
            ],
            [
             0.7777777777777778,
             "#fb9f3a"
            ],
            [
             0.8888888888888888,
             "#fdca26"
            ],
            [
             1,
             "#f0f921"
            ]
           ],
           "sequentialminus": [
            [
             0,
             "#0d0887"
            ],
            [
             0.1111111111111111,
             "#46039f"
            ],
            [
             0.2222222222222222,
             "#7201a8"
            ],
            [
             0.3333333333333333,
             "#9c179e"
            ],
            [
             0.4444444444444444,
             "#bd3786"
            ],
            [
             0.5555555555555556,
             "#d8576b"
            ],
            [
             0.6666666666666666,
             "#ed7953"
            ],
            [
             0.7777777777777778,
             "#fb9f3a"
            ],
            [
             0.8888888888888888,
             "#fdca26"
            ],
            [
             1,
             "#f0f921"
            ]
           ]
          },
          "colorway": [
           "#636efa",
           "#EF553B",
           "#00cc96",
           "#ab63fa",
           "#FFA15A",
           "#19d3f3",
           "#FF6692",
           "#B6E880",
           "#FF97FF",
           "#FECB52"
          ],
          "font": {
           "color": "#2a3f5f"
          },
          "geo": {
           "bgcolor": "white",
           "lakecolor": "white",
           "landcolor": "#E5ECF6",
           "showlakes": true,
           "showland": true,
           "subunitcolor": "white"
          },
          "hoverlabel": {
           "align": "left"
          },
          "hovermode": "closest",
          "mapbox": {
           "style": "light"
          },
          "paper_bgcolor": "white",
          "plot_bgcolor": "#E5ECF6",
          "polar": {
           "angularaxis": {
            "gridcolor": "white",
            "linecolor": "white",
            "ticks": ""
           },
           "bgcolor": "#E5ECF6",
           "radialaxis": {
            "gridcolor": "white",
            "linecolor": "white",
            "ticks": ""
           }
          },
          "scene": {
           "xaxis": {
            "backgroundcolor": "#E5ECF6",
            "gridcolor": "white",
            "gridwidth": 2,
            "linecolor": "white",
            "showbackground": true,
            "ticks": "",
            "zerolinecolor": "white"
           },
           "yaxis": {
            "backgroundcolor": "#E5ECF6",
            "gridcolor": "white",
            "gridwidth": 2,
            "linecolor": "white",
            "showbackground": true,
            "ticks": "",
            "zerolinecolor": "white"
           },
           "zaxis": {
            "backgroundcolor": "#E5ECF6",
            "gridcolor": "white",
            "gridwidth": 2,
            "linecolor": "white",
            "showbackground": true,
            "ticks": "",
            "zerolinecolor": "white"
           }
          },
          "shapedefaults": {
           "line": {
            "color": "#2a3f5f"
           }
          },
          "ternary": {
           "aaxis": {
            "gridcolor": "white",
            "linecolor": "white",
            "ticks": ""
           },
           "baxis": {
            "gridcolor": "white",
            "linecolor": "white",
            "ticks": ""
           },
           "bgcolor": "#E5ECF6",
           "caxis": {
            "gridcolor": "white",
            "linecolor": "white",
            "ticks": ""
           }
          },
          "title": {
           "x": 0.05
          },
          "xaxis": {
           "automargin": true,
           "gridcolor": "white",
           "linecolor": "white",
           "ticks": "",
           "title": {
            "standoff": 15
           },
           "zerolinecolor": "white",
           "zerolinewidth": 2
          },
          "yaxis": {
           "automargin": true,
           "gridcolor": "white",
           "linecolor": "white",
           "ticks": "",
           "title": {
            "standoff": 15
           },
           "zerolinecolor": "white",
           "zerolinewidth": 2
          }
         }
        },
        "title": {
         "text": "Company Distribution"
        }
       }
      }
     },
     "metadata": {},
     "output_type": "display_data"
    }
   ],
   "source": [
    "df_need = df.groupby(['Company']).agg({'laptop_ID':'count'}).reset_index()\n",
    "\n",
    "fig = px.pie(df_need,values = 'laptop_ID',\n",
    "  names = 'Company',\n",
    "  title = 'Company Distribution',\n",
    ")\n",
    "\n",
    "fig.update_traces(textposition='inside', textinfo='label+percent')\n",
    "fig.write_image(\"images/laptop_by_brand_pie.png\")\n",
    "\n",
    "fig.show()"
   ]
  },
  {
   "cell_type": "code",
   "execution_count": 36,
   "metadata": {},
   "outputs": [
    {
     "data": {
      "application/vnd.plotly.v1+json": {
       "config": {
        "plotlyServerURL": "https://plot.ly"
       },
       "data": [
        {
         "domain": {
          "x": [
           0,
           1
          ],
          "y": [
           0,
           1
          ]
         },
         "hovertemplate": "OpSys=%{label}<br>laptop_ID=%{value}<extra></extra>",
         "labels": [
          "Android",
          "Chrome OS",
          "Linux",
          "Mac OS X",
          "No OS",
          "Windows 10",
          "Windows 10 S",
          "Windows 7",
          "macOS"
         ],
         "legendgroup": "",
         "name": "",
         "showlegend": true,
         "textinfo": "label+percent",
         "textposition": "inside",
         "type": "pie",
         "values": [
          2,
          27,
          62,
          8,
          66,
          1072,
          8,
          45,
          13
         ]
        }
       ],
       "layout": {
        "legend": {
         "tracegroupgap": 0
        },
        "template": {
         "data": {
          "bar": [
           {
            "error_x": {
             "color": "#2a3f5f"
            },
            "error_y": {
             "color": "#2a3f5f"
            },
            "marker": {
             "line": {
              "color": "#E5ECF6",
              "width": 0.5
             },
             "pattern": {
              "fillmode": "overlay",
              "size": 10,
              "solidity": 0.2
             }
            },
            "type": "bar"
           }
          ],
          "barpolar": [
           {
            "marker": {
             "line": {
              "color": "#E5ECF6",
              "width": 0.5
             },
             "pattern": {
              "fillmode": "overlay",
              "size": 10,
              "solidity": 0.2
             }
            },
            "type": "barpolar"
           }
          ],
          "carpet": [
           {
            "aaxis": {
             "endlinecolor": "#2a3f5f",
             "gridcolor": "white",
             "linecolor": "white",
             "minorgridcolor": "white",
             "startlinecolor": "#2a3f5f"
            },
            "baxis": {
             "endlinecolor": "#2a3f5f",
             "gridcolor": "white",
             "linecolor": "white",
             "minorgridcolor": "white",
             "startlinecolor": "#2a3f5f"
            },
            "type": "carpet"
           }
          ],
          "choropleth": [
           {
            "colorbar": {
             "outlinewidth": 0,
             "ticks": ""
            },
            "type": "choropleth"
           }
          ],
          "contour": [
           {
            "colorbar": {
             "outlinewidth": 0,
             "ticks": ""
            },
            "colorscale": [
             [
              0,
              "#0d0887"
             ],
             [
              0.1111111111111111,
              "#46039f"
             ],
             [
              0.2222222222222222,
              "#7201a8"
             ],
             [
              0.3333333333333333,
              "#9c179e"
             ],
             [
              0.4444444444444444,
              "#bd3786"
             ],
             [
              0.5555555555555556,
              "#d8576b"
             ],
             [
              0.6666666666666666,
              "#ed7953"
             ],
             [
              0.7777777777777778,
              "#fb9f3a"
             ],
             [
              0.8888888888888888,
              "#fdca26"
             ],
             [
              1,
              "#f0f921"
             ]
            ],
            "type": "contour"
           }
          ],
          "contourcarpet": [
           {
            "colorbar": {
             "outlinewidth": 0,
             "ticks": ""
            },
            "type": "contourcarpet"
           }
          ],
          "heatmap": [
           {
            "colorbar": {
             "outlinewidth": 0,
             "ticks": ""
            },
            "colorscale": [
             [
              0,
              "#0d0887"
             ],
             [
              0.1111111111111111,
              "#46039f"
             ],
             [
              0.2222222222222222,
              "#7201a8"
             ],
             [
              0.3333333333333333,
              "#9c179e"
             ],
             [
              0.4444444444444444,
              "#bd3786"
             ],
             [
              0.5555555555555556,
              "#d8576b"
             ],
             [
              0.6666666666666666,
              "#ed7953"
             ],
             [
              0.7777777777777778,
              "#fb9f3a"
             ],
             [
              0.8888888888888888,
              "#fdca26"
             ],
             [
              1,
              "#f0f921"
             ]
            ],
            "type": "heatmap"
           }
          ],
          "heatmapgl": [
           {
            "colorbar": {
             "outlinewidth": 0,
             "ticks": ""
            },
            "colorscale": [
             [
              0,
              "#0d0887"
             ],
             [
              0.1111111111111111,
              "#46039f"
             ],
             [
              0.2222222222222222,
              "#7201a8"
             ],
             [
              0.3333333333333333,
              "#9c179e"
             ],
             [
              0.4444444444444444,
              "#bd3786"
             ],
             [
              0.5555555555555556,
              "#d8576b"
             ],
             [
              0.6666666666666666,
              "#ed7953"
             ],
             [
              0.7777777777777778,
              "#fb9f3a"
             ],
             [
              0.8888888888888888,
              "#fdca26"
             ],
             [
              1,
              "#f0f921"
             ]
            ],
            "type": "heatmapgl"
           }
          ],
          "histogram": [
           {
            "marker": {
             "pattern": {
              "fillmode": "overlay",
              "size": 10,
              "solidity": 0.2
             }
            },
            "type": "histogram"
           }
          ],
          "histogram2d": [
           {
            "colorbar": {
             "outlinewidth": 0,
             "ticks": ""
            },
            "colorscale": [
             [
              0,
              "#0d0887"
             ],
             [
              0.1111111111111111,
              "#46039f"
             ],
             [
              0.2222222222222222,
              "#7201a8"
             ],
             [
              0.3333333333333333,
              "#9c179e"
             ],
             [
              0.4444444444444444,
              "#bd3786"
             ],
             [
              0.5555555555555556,
              "#d8576b"
             ],
             [
              0.6666666666666666,
              "#ed7953"
             ],
             [
              0.7777777777777778,
              "#fb9f3a"
             ],
             [
              0.8888888888888888,
              "#fdca26"
             ],
             [
              1,
              "#f0f921"
             ]
            ],
            "type": "histogram2d"
           }
          ],
          "histogram2dcontour": [
           {
            "colorbar": {
             "outlinewidth": 0,
             "ticks": ""
            },
            "colorscale": [
             [
              0,
              "#0d0887"
             ],
             [
              0.1111111111111111,
              "#46039f"
             ],
             [
              0.2222222222222222,
              "#7201a8"
             ],
             [
              0.3333333333333333,
              "#9c179e"
             ],
             [
              0.4444444444444444,
              "#bd3786"
             ],
             [
              0.5555555555555556,
              "#d8576b"
             ],
             [
              0.6666666666666666,
              "#ed7953"
             ],
             [
              0.7777777777777778,
              "#fb9f3a"
             ],
             [
              0.8888888888888888,
              "#fdca26"
             ],
             [
              1,
              "#f0f921"
             ]
            ],
            "type": "histogram2dcontour"
           }
          ],
          "mesh3d": [
           {
            "colorbar": {
             "outlinewidth": 0,
             "ticks": ""
            },
            "type": "mesh3d"
           }
          ],
          "parcoords": [
           {
            "line": {
             "colorbar": {
              "outlinewidth": 0,
              "ticks": ""
             }
            },
            "type": "parcoords"
           }
          ],
          "pie": [
           {
            "automargin": true,
            "type": "pie"
           }
          ],
          "scatter": [
           {
            "fillpattern": {
             "fillmode": "overlay",
             "size": 10,
             "solidity": 0.2
            },
            "type": "scatter"
           }
          ],
          "scatter3d": [
           {
            "line": {
             "colorbar": {
              "outlinewidth": 0,
              "ticks": ""
             }
            },
            "marker": {
             "colorbar": {
              "outlinewidth": 0,
              "ticks": ""
             }
            },
            "type": "scatter3d"
           }
          ],
          "scattercarpet": [
           {
            "marker": {
             "colorbar": {
              "outlinewidth": 0,
              "ticks": ""
             }
            },
            "type": "scattercarpet"
           }
          ],
          "scattergeo": [
           {
            "marker": {
             "colorbar": {
              "outlinewidth": 0,
              "ticks": ""
             }
            },
            "type": "scattergeo"
           }
          ],
          "scattergl": [
           {
            "marker": {
             "colorbar": {
              "outlinewidth": 0,
              "ticks": ""
             }
            },
            "type": "scattergl"
           }
          ],
          "scattermapbox": [
           {
            "marker": {
             "colorbar": {
              "outlinewidth": 0,
              "ticks": ""
             }
            },
            "type": "scattermapbox"
           }
          ],
          "scatterpolar": [
           {
            "marker": {
             "colorbar": {
              "outlinewidth": 0,
              "ticks": ""
             }
            },
            "type": "scatterpolar"
           }
          ],
          "scatterpolargl": [
           {
            "marker": {
             "colorbar": {
              "outlinewidth": 0,
              "ticks": ""
             }
            },
            "type": "scatterpolargl"
           }
          ],
          "scatterternary": [
           {
            "marker": {
             "colorbar": {
              "outlinewidth": 0,
              "ticks": ""
             }
            },
            "type": "scatterternary"
           }
          ],
          "surface": [
           {
            "colorbar": {
             "outlinewidth": 0,
             "ticks": ""
            },
            "colorscale": [
             [
              0,
              "#0d0887"
             ],
             [
              0.1111111111111111,
              "#46039f"
             ],
             [
              0.2222222222222222,
              "#7201a8"
             ],
             [
              0.3333333333333333,
              "#9c179e"
             ],
             [
              0.4444444444444444,
              "#bd3786"
             ],
             [
              0.5555555555555556,
              "#d8576b"
             ],
             [
              0.6666666666666666,
              "#ed7953"
             ],
             [
              0.7777777777777778,
              "#fb9f3a"
             ],
             [
              0.8888888888888888,
              "#fdca26"
             ],
             [
              1,
              "#f0f921"
             ]
            ],
            "type": "surface"
           }
          ],
          "table": [
           {
            "cells": {
             "fill": {
              "color": "#EBF0F8"
             },
             "line": {
              "color": "white"
             }
            },
            "header": {
             "fill": {
              "color": "#C8D4E3"
             },
             "line": {
              "color": "white"
             }
            },
            "type": "table"
           }
          ]
         },
         "layout": {
          "annotationdefaults": {
           "arrowcolor": "#2a3f5f",
           "arrowhead": 0,
           "arrowwidth": 1
          },
          "autotypenumbers": "strict",
          "coloraxis": {
           "colorbar": {
            "outlinewidth": 0,
            "ticks": ""
           }
          },
          "colorscale": {
           "diverging": [
            [
             0,
             "#8e0152"
            ],
            [
             0.1,
             "#c51b7d"
            ],
            [
             0.2,
             "#de77ae"
            ],
            [
             0.3,
             "#f1b6da"
            ],
            [
             0.4,
             "#fde0ef"
            ],
            [
             0.5,
             "#f7f7f7"
            ],
            [
             0.6,
             "#e6f5d0"
            ],
            [
             0.7,
             "#b8e186"
            ],
            [
             0.8,
             "#7fbc41"
            ],
            [
             0.9,
             "#4d9221"
            ],
            [
             1,
             "#276419"
            ]
           ],
           "sequential": [
            [
             0,
             "#0d0887"
            ],
            [
             0.1111111111111111,
             "#46039f"
            ],
            [
             0.2222222222222222,
             "#7201a8"
            ],
            [
             0.3333333333333333,
             "#9c179e"
            ],
            [
             0.4444444444444444,
             "#bd3786"
            ],
            [
             0.5555555555555556,
             "#d8576b"
            ],
            [
             0.6666666666666666,
             "#ed7953"
            ],
            [
             0.7777777777777778,
             "#fb9f3a"
            ],
            [
             0.8888888888888888,
             "#fdca26"
            ],
            [
             1,
             "#f0f921"
            ]
           ],
           "sequentialminus": [
            [
             0,
             "#0d0887"
            ],
            [
             0.1111111111111111,
             "#46039f"
            ],
            [
             0.2222222222222222,
             "#7201a8"
            ],
            [
             0.3333333333333333,
             "#9c179e"
            ],
            [
             0.4444444444444444,
             "#bd3786"
            ],
            [
             0.5555555555555556,
             "#d8576b"
            ],
            [
             0.6666666666666666,
             "#ed7953"
            ],
            [
             0.7777777777777778,
             "#fb9f3a"
            ],
            [
             0.8888888888888888,
             "#fdca26"
            ],
            [
             1,
             "#f0f921"
            ]
           ]
          },
          "colorway": [
           "#636efa",
           "#EF553B",
           "#00cc96",
           "#ab63fa",
           "#FFA15A",
           "#19d3f3",
           "#FF6692",
           "#B6E880",
           "#FF97FF",
           "#FECB52"
          ],
          "font": {
           "color": "#2a3f5f"
          },
          "geo": {
           "bgcolor": "white",
           "lakecolor": "white",
           "landcolor": "#E5ECF6",
           "showlakes": true,
           "showland": true,
           "subunitcolor": "white"
          },
          "hoverlabel": {
           "align": "left"
          },
          "hovermode": "closest",
          "mapbox": {
           "style": "light"
          },
          "paper_bgcolor": "white",
          "plot_bgcolor": "#E5ECF6",
          "polar": {
           "angularaxis": {
            "gridcolor": "white",
            "linecolor": "white",
            "ticks": ""
           },
           "bgcolor": "#E5ECF6",
           "radialaxis": {
            "gridcolor": "white",
            "linecolor": "white",
            "ticks": ""
           }
          },
          "scene": {
           "xaxis": {
            "backgroundcolor": "#E5ECF6",
            "gridcolor": "white",
            "gridwidth": 2,
            "linecolor": "white",
            "showbackground": true,
            "ticks": "",
            "zerolinecolor": "white"
           },
           "yaxis": {
            "backgroundcolor": "#E5ECF6",
            "gridcolor": "white",
            "gridwidth": 2,
            "linecolor": "white",
            "showbackground": true,
            "ticks": "",
            "zerolinecolor": "white"
           },
           "zaxis": {
            "backgroundcolor": "#E5ECF6",
            "gridcolor": "white",
            "gridwidth": 2,
            "linecolor": "white",
            "showbackground": true,
            "ticks": "",
            "zerolinecolor": "white"
           }
          },
          "shapedefaults": {
           "line": {
            "color": "#2a3f5f"
           }
          },
          "ternary": {
           "aaxis": {
            "gridcolor": "white",
            "linecolor": "white",
            "ticks": ""
           },
           "baxis": {
            "gridcolor": "white",
            "linecolor": "white",
            "ticks": ""
           },
           "bgcolor": "#E5ECF6",
           "caxis": {
            "gridcolor": "white",
            "linecolor": "white",
            "ticks": ""
           }
          },
          "title": {
           "x": 0.05
          },
          "xaxis": {
           "automargin": true,
           "gridcolor": "white",
           "linecolor": "white",
           "ticks": "",
           "title": {
            "standoff": 15
           },
           "zerolinecolor": "white",
           "zerolinewidth": 2
          },
          "yaxis": {
           "automargin": true,
           "gridcolor": "white",
           "linecolor": "white",
           "ticks": "",
           "title": {
            "standoff": 15
           },
           "zerolinecolor": "white",
           "zerolinewidth": 2
          }
         }
        },
        "title": {
         "text": "Operating System Distribution"
        }
       }
      }
     },
     "metadata": {},
     "output_type": "display_data"
    }
   ],
   "source": [
    "df_need = df.groupby(['OpSys']).agg({'laptop_ID':'count'}).reset_index()\n",
    "\n",
    "fig = px.pie(df_need,values = 'laptop_ID',\n",
    "  names = 'OpSys',\n",
    "  title = 'Operating System Distribution',\n",
    ")\n",
    "\n",
    "fig.update_traces(textposition='inside', textinfo='label+percent')\n",
    "fig.write_image(\"images/laptop_by_OpSys_pie.png\")\n",
    "\n",
    "fig.show()\n"
   ]
  },
  {
   "cell_type": "code",
   "execution_count": 37,
   "metadata": {},
   "outputs": [
    {
     "data": {
      "text/html": [
       "<div>\n",
       "<style scoped>\n",
       "    .dataframe tbody tr th:only-of-type {\n",
       "        vertical-align: middle;\n",
       "    }\n",
       "\n",
       "    .dataframe tbody tr th {\n",
       "        vertical-align: top;\n",
       "    }\n",
       "\n",
       "    .dataframe thead th {\n",
       "        text-align: right;\n",
       "    }\n",
       "</style>\n",
       "<table border=\"1\" class=\"dataframe\">\n",
       "  <thead>\n",
       "    <tr style=\"text-align: right;\">\n",
       "      <th></th>\n",
       "      <th>laptop_ID</th>\n",
       "      <th>Company</th>\n",
       "      <th>Product</th>\n",
       "      <th>TypeName</th>\n",
       "      <th>Inches</th>\n",
       "      <th>ScreenResolution</th>\n",
       "      <th>Cpu</th>\n",
       "      <th>Ram</th>\n",
       "      <th>Memory</th>\n",
       "      <th>Gpu</th>\n",
       "      <th>OpSys</th>\n",
       "      <th>Weight</th>\n",
       "      <th>Price_in_euros</th>\n",
       "    </tr>\n",
       "  </thead>\n",
       "  <tbody>\n",
       "    <tr>\n",
       "      <th>50</th>\n",
       "      <td>51</td>\n",
       "      <td>Lenovo</td>\n",
       "      <td>Yoga Book</td>\n",
       "      <td>2 in 1 Convertible</td>\n",
       "      <td>10.1</td>\n",
       "      <td>IPS Panel Touchscreen 1920x1200</td>\n",
       "      <td>Intel Atom x5-Z8550 1.44GHz</td>\n",
       "      <td>4GB</td>\n",
       "      <td>64GB Flash Storage</td>\n",
       "      <td>Intel HD Graphics 400</td>\n",
       "      <td>Android</td>\n",
       "      <td>0.69kg</td>\n",
       "      <td>319.0</td>\n",
       "    </tr>\n",
       "    <tr>\n",
       "      <th>1114</th>\n",
       "      <td>1129</td>\n",
       "      <td>Lenovo</td>\n",
       "      <td>Yoga Book</td>\n",
       "      <td>2 in 1 Convertible</td>\n",
       "      <td>10.1</td>\n",
       "      <td>IPS Panel Touchscreen 1920x1200</td>\n",
       "      <td>Intel Atom x5-Z8550 1.44GHz</td>\n",
       "      <td>4GB</td>\n",
       "      <td>64GB Flash Storage</td>\n",
       "      <td>Intel HD Graphics 400</td>\n",
       "      <td>Android</td>\n",
       "      <td>0.69kg</td>\n",
       "      <td>549.0</td>\n",
       "    </tr>\n",
       "  </tbody>\n",
       "</table>\n",
       "</div>"
      ],
      "text/plain": [
       "      laptop_ID Company    Product            TypeName  Inches  \\\n",
       "50           51  Lenovo  Yoga Book  2 in 1 Convertible    10.1   \n",
       "1114       1129  Lenovo  Yoga Book  2 in 1 Convertible    10.1   \n",
       "\n",
       "                     ScreenResolution                          Cpu  Ram  \\\n",
       "50    IPS Panel Touchscreen 1920x1200  Intel Atom x5-Z8550 1.44GHz  4GB   \n",
       "1114  IPS Panel Touchscreen 1920x1200  Intel Atom x5-Z8550 1.44GHz  4GB   \n",
       "\n",
       "                  Memory                    Gpu    OpSys  Weight  \\\n",
       "50    64GB Flash Storage  Intel HD Graphics 400  Android  0.69kg   \n",
       "1114  64GB Flash Storage  Intel HD Graphics 400  Android  0.69kg   \n",
       "\n",
       "      Price_in_euros  \n",
       "50             319.0  \n",
       "1114           549.0  "
      ]
     },
     "execution_count": 37,
     "metadata": {},
     "output_type": "execute_result"
    }
   ],
   "source": [
    "df_android = df[df['OpSys'] == 'Android']\n",
    "\n",
    "df_android.head()"
   ]
  },
  {
   "cell_type": "code",
   "execution_count": 38,
   "metadata": {},
   "outputs": [
    {
     "data": {
      "application/vnd.plotly.v1+json": {
       "config": {
        "plotlyServerURL": "https://plot.ly"
       },
       "data": [
        {
         "alignmentgroup": "True",
         "bingroup": "x",
         "hovertemplate": "Weight=%{x}<br>count=%{y}<extra></extra>",
         "legendgroup": "",
         "marker": {
          "color": "#636efa",
          "pattern": {
           "shape": ""
          }
         },
         "name": "",
         "offsetgroup": "",
         "orientation": "v",
         "showlegend": false,
         "type": "histogram",
         "x": [
          1.37,
          1.34,
          1.86,
          1.83,
          1.37,
          2.1,
          2.04,
          1.34,
          1.3,
          1.6,
          1.86,
          1.86,
          1.83,
          2.2,
          0.92,
          1.37,
          2.2,
          1.83,
          2.2,
          1.22,
          0.98,
          2.5,
          1.86,
          1.62,
          1.91,
          2.3,
          1.35,
          2.2,
          1.88,
          2.5,
          1.89,
          1.65,
          2.71,
          1.2,
          1.35,
          1.44,
          2.1,
          2.8,
          1.86,
          2.1,
          2,
          2.65,
          2.3,
          2.2,
          2.77,
          1.37,
          2.2,
          3.2,
          2.3,
          2.8,
          0.69,
          2.2,
          1.86,
          1.49,
          2.4,
          2.13,
          1.91,
          2,
          2.43,
          2,
          2.8,
          1.7,
          1.7,
          1.4,
          1.86,
          1.8,
          1.86,
          1.44,
          1.9,
          3,
          1.252,
          1.4,
          2.2,
          2.7,
          2.1,
          2.2,
          2.2,
          2.02,
          2.2,
          2.5,
          1.88,
          0.92,
          1.63,
          2.2,
          2.1,
          2.65,
          1.83,
          1.96,
          2.2,
          1.21,
          2.45,
          2.2,
          1.49,
          2.65,
          1.25,
          1.5,
          2.2,
          2.2,
          2,
          2.62,
          1.91,
          2.1,
          2.2,
          1.38,
          1.252,
          1.58,
          1.85,
          1.3,
          2.2,
          1.58,
          1.5,
          1.23,
          1.37,
          1.63,
          1.21,
          1.26,
          1.63,
          2.16,
          2,
          1.7,
          2.1,
          1.8,
          2.2,
          2.5,
          2.1,
          1.86,
          1.63,
          1.65,
          2.8,
          2.5,
          2.36,
          2.2,
          1.6,
          2.2,
          2.05,
          1.63,
          1.9,
          3,
          2.2,
          1.32,
          3,
          1.75,
          2.4,
          2.1,
          1.86,
          1.25,
          0.97,
          2,
          2.9,
          2.1,
          2.56,
          2.62,
          1.9,
          2.8,
          1.48,
          1.91,
          1.74,
          1.1,
          1.56,
          2.1,
          2.03,
          3,
          2.13,
          2.5,
          2.1,
          2.4,
          2.1,
          2.56,
          3,
          1.49,
          1.05,
          2.71,
          2.2,
          2,
          2.5,
          2.3,
          2.1,
          4.4,
          1.9,
          1.29,
          2.02,
          1.23,
          1.4,
          2,
          1.95,
          2.77,
          2.06,
          2.4,
          1.12,
          2.8,
          1.42,
          1.3,
          1.3,
          2.8,
          1.62,
          2.5,
          3.49,
          1.49,
          3.35,
          2.5,
          2.65,
          2.1,
          2.23,
          3.2,
          2.8,
          2.4,
          2.3,
          1.21,
          1.2,
          2.2,
          2.4,
          2.9,
          2.1,
          2.2,
          1.05,
          1.4,
          2.8,
          1.63,
          1.6,
          1.62,
          2.2,
          1.74,
          1.2,
          2.1,
          4.42,
          2.2,
          2.3,
          2,
          2.69,
          1.9,
          2.37,
          2.1,
          3.2,
          1.6,
          1.6,
          2.36,
          2.1,
          2.2,
          4.7,
          2.5,
          2.2,
          2.1,
          2.69,
          2.56,
          1.38,
          2.2,
          2.04,
          3.6,
          1.49,
          1.37,
          2.08,
          4.3,
          1.68,
          1.37,
          3,
          1.41,
          1.91,
          2.9,
          4.14,
          2,
          2.8,
          2.2,
          2.1,
          2.18,
          2.24,
          2.67,
          1.1,
          2.2,
          2.5,
          2.05,
          1.37,
          3.2,
          2.14,
          1.36,
          2.2,
          2.3,
          2.8,
          2.2,
          2.8,
          2.8,
          2.8,
          2.25,
          2.5,
          2.2,
          3,
          2.15,
          1.95,
          1.7,
          2.5,
          2.2,
          2.19,
          3,
          2.54,
          2,
          2.05,
          3.2,
          2.5,
          3.42,
          2.4,
          1.63,
          1.3,
          2.9,
          2.8,
          2.2,
          2.5,
          2.2,
          1.28,
          2.2,
          2.3,
          1.86,
          1.1,
          1.21,
          2.8,
          2.23,
          1.1,
          2.33,
          1.29,
          1.45,
          1.95,
          1.4,
          1.48,
          2.79,
          2,
          2.1,
          2.2,
          1.44,
          2.23,
          1.7,
          1.26,
          2.06,
          2.7,
          2,
          2,
          1.85,
          2.5,
          1.48,
          1.9,
          1.84,
          2,
          2,
          2.2,
          2.2,
          2.1,
          1.4,
          1.2,
          2.4,
          1.44,
          1.88,
          1.5,
          1.9,
          2.06,
          1.84,
          2.7,
          2.6,
          2.4,
          2.02,
          2.2,
          2.65,
          2.36,
          1.36,
          1.86,
          2,
          2.8,
          1.86,
          2.2,
          2.04,
          2.8,
          2.4,
          2.33,
          1.36,
          2.26,
          2.1,
          3.25,
          2.6,
          1.62,
          1.91,
          1.59,
          1.8,
          1.5,
          2.4,
          3.35,
          1.85,
          2.3,
          1.5,
          1.1,
          1.13,
          1.5,
          2.23,
          2,
          1.42,
          3,
          3,
          2.2,
          2.7,
          2.33,
          1.91,
          2.1,
          1.9,
          1.78,
          1.13,
          2.2,
          2.9,
          2.1,
          2.5,
          2.8,
          1.1,
          1.2,
          1.36,
          2.2,
          1.15,
          2.67,
          1.7,
          2.1,
          1.6,
          1.27,
          2.3,
          1.65,
          1.43,
          2.14,
          1.75,
          2,
          1.4,
          2.31,
          2.3,
          4.42,
          2.62,
          2.02,
          1.6,
          3.35,
          1.16,
          1.15,
          1.4,
          1.7,
          2.3,
          2.5,
          3.2,
          2.1,
          1.1,
          1.32,
          2,
          2.8,
          2.2,
          1.36,
          2.2,
          2.2,
          1.64,
          2.4,
          2.23,
          2.2,
          1.25,
          1.91,
          2.17,
          2.31,
          1.65,
          2.36,
          1.47,
          4.42,
          1.252,
          1.25,
          2.5,
          2.23,
          1.4,
          2.37,
          1.5,
          2.67,
          2,
          2.2,
          2.02,
          3.78,
          1.4,
          1.29,
          1.9,
          1.1,
          1.42,
          2.06,
          1.79,
          1.78,
          1.7,
          2.2,
          1.05,
          2.16,
          2.18,
          1.49,
          1.89,
          2.3,
          1.75,
          2.17,
          2.06,
          1.36,
          0.91,
          2.3,
          1.05,
          1.99,
          2.2,
          4.33,
          1.3,
          2.17,
          1.48,
          1.4,
          2.3,
          1.2,
          1.91,
          1.4,
          2.1,
          1.25,
          1.44,
          2,
          2.2,
          1.34,
          2.4,
          1.29,
          2.2,
          2.18,
          2.2,
          1.95,
          1.1,
          2.04,
          2.24,
          2.04,
          3,
          3.2,
          1.32,
          1.64,
          1.63,
          2.8,
          2.02,
          2.2,
          2.2,
          2.3,
          1.9,
          4.42,
          2,
          2,
          1.2,
          2.3,
          1.93,
          2.2,
          1.86,
          2.62,
          1.87,
          1.2,
          1.6,
          1.34,
          2.4,
          2,
          2.1,
          1.87,
          2.15,
          1.86,
          1.99,
          2.2,
          1.9,
          4.42,
          2.65,
          2.63,
          2,
          1.35,
          2.8,
          1.91,
          2.18,
          1.25,
          2.05,
          1.16,
          3.4,
          2.5,
          1.21,
          1.93,
          2.2,
          2.2,
          2.02,
          3.14,
          1.94,
          1.95,
          2.3,
          2.05,
          1.4,
          1.24,
          4.6,
          4.14,
          2.2,
          1.45,
          1.9,
          1.49,
          1.93,
          1.26,
          4.5,
          3.78,
          1.4,
          2.2,
          2.73,
          2.2,
          2.2,
          1.39,
          2.5,
          2.8,
          2.29,
          1.37,
          1.7,
          1.34,
          2.06,
          1.84,
          2.1,
          1.6,
          4.14,
          2.18,
          1.8,
          2.2,
          2.4,
          2,
          1.6,
          2.5,
          2.59,
          2.18,
          2.25,
          1.93,
          3,
          2.18,
          1.84,
          2.94,
          1.25,
          2.31,
          1.65,
          2.2,
          2.2,
          1.88,
          2.2,
          1.4,
          2.2,
          1.5,
          2,
          1.1,
          2.62,
          1.8,
          2.2,
          2,
          1.99,
          1.23,
          1.42,
          1.37,
          2.06,
          2.5,
          2.6,
          1.14,
          2.5,
          2.4,
          1.43,
          1.8,
          1.95,
          1.2,
          1.36,
          3.8,
          2.4,
          1.2,
          2.2,
          1.86,
          2,
          2.2,
          2.2,
          3.31,
          4.42,
          1.56,
          2.2,
          2.2,
          2.04,
          2.7,
          2.1,
          2.06,
          2.1,
          2,
          2.1,
          1.252,
          1.9,
          1.3,
          2.2,
          1.63,
          2.4,
          1.1,
          1.4,
          1.09,
          2.5,
          2.2,
          1.86,
          3.21,
          2.5,
          1.19,
          3.49,
          1.86,
          2.2,
          2.65,
          2.1,
          1.45,
          1.7,
          3.14,
          1.42,
          1.5,
          1.4,
          1.38,
          1.2,
          1.36,
          2.1,
          2.56,
          2.2,
          2.2,
          2.1,
          1.9,
          2.18,
          1.6,
          2.18,
          1.8,
          2.71,
          2.5,
          1.64,
          1.98,
          1.5,
          1.93,
          1.87,
          1.9,
          2.19,
          1.4,
          2.63,
          1.17,
          1.58,
          1.32,
          4.36,
          2.7,
          1.9,
          2.2,
          1.71,
          2.32,
          2.1,
          4.2,
          2.25,
          2.1,
          2.4,
          1.44,
          1.85,
          2.6,
          1.55,
          1.8,
          2.4,
          2,
          2,
          1.25,
          1.7,
          2.5,
          1.68,
          0.81,
          1.86,
          1.6,
          3,
          1.4,
          1.84,
          2.45,
          1.7,
          2.37,
          1.3,
          2.2,
          2.59,
          4.42,
          2.1,
          2.5,
          1.18,
          1.1,
          1.2,
          1.65,
          1.6,
          2.8,
          2.72,
          1.31,
          2.1,
          2.3,
          1.71,
          1.75,
          2.62,
          1.26,
          2.3,
          2.5,
          1.8,
          1.95,
          2,
          4.42,
          4.3,
          1.47,
          2.2,
          1.7,
          1.6,
          2.2,
          2.4,
          4.2,
          2.62,
          2.24,
          1.22,
          1.37,
          2.08,
          0.92,
          1.42,
          1.63,
          1.95,
          1.38,
          2,
          3.14,
          2.37,
          1.29,
          2.06,
          1.63,
          1.26,
          2.1,
          2.04,
          2.62,
          2.4,
          3.74,
          2.9,
          0.81,
          1.98,
          2.18,
          1.32,
          1.29,
          1.23,
          4.36,
          1.76,
          2.1,
          1.25,
          1.13,
          2.4,
          1.13,
          1.75,
          1.1,
          1.76,
          1.35,
          1.5,
          3.49,
          1.1,
          2.1,
          1.7,
          1.32,
          3.21,
          2.9,
          2,
          1.5,
          2.3,
          2.73,
          4.42,
          2.63,
          2.18,
          1.54,
          2.18,
          1.4,
          1.45,
          1.28,
          1.54,
          1.86,
          2.1,
          2.83,
          1.96,
          2.3,
          1.9,
          2,
          1.28,
          1.62,
          2.2,
          2.3,
          1.84,
          1.05,
          2.5,
          1.29,
          2.07,
          1.2,
          1.37,
          1.56,
          2.23,
          2.38,
          2.2,
          2,
          1.44,
          1.23,
          1.6,
          2,
          1.28,
          2.18,
          2.04,
          1.28,
          2.3,
          1.65,
          2.2,
          2.2,
          1.28,
          2.18,
          2.2,
          1.25,
          2.8,
          1.95,
          1.42,
          1.17,
          1.32,
          2.43,
          1.05,
          2.62,
          2.04,
          2.18,
          1.9,
          1.24,
          3.58,
          1.22,
          1.13,
          1.95,
          1.08,
          1.26,
          2.2,
          2.6,
          0.98,
          1.6,
          1.09,
          2.2,
          2.04,
          2.4,
          1.44,
          1.49,
          2.7,
          2.6,
          2.2,
          2.18,
          1.84,
          1.39,
          2.4,
          1.37,
          1.95,
          1.36,
          2.31,
          2.18,
          1.95,
          2.2,
          1.26,
          1.86,
          1.3,
          1.47,
          1.26,
          2.18,
          2.2,
          1.36,
          4.36,
          2.75,
          2.8,
          2.23,
          2.2,
          1.1,
          2.5,
          1.36,
          2.2,
          2.36,
          1.68,
          2,
          1.36,
          1.2,
          1.2,
          1.7,
          4.36,
          1.24,
          1.45,
          1.3,
          1.25,
          1.2,
          1.36,
          2.4,
          1.1,
          2.04,
          2.25,
          1.9,
          2.04,
          4.42,
          2.4,
          1.22,
          1.5,
          4.42,
          1.95,
          2.73,
          2.04,
          1.7,
          2.3,
          2.04,
          2.99,
          2.19,
          1.2,
          2.2,
          2.3,
          1.75,
          2.25,
          2.04,
          2.5,
          2.36,
          1.6,
          0.97,
          2.1,
          1.9,
          2.3,
          1.68,
          1.4,
          1.11,
          2.4,
          2.5,
          1.48,
          2.7,
          1.34,
          2.18,
          1.64,
          1.2,
          1.48,
          1.95,
          1.43,
          1.64,
          1.64,
          2.65,
          1.26,
          1.48,
          1.54,
          1.49,
          1.5,
          2.04,
          2.4,
          1.47,
          1.43,
          2.08,
          1.2,
          1.11,
          1.64,
          2.09,
          1.26,
          2.31,
          1.95,
          1.29,
          2.63,
          1.64,
          2.1,
          2.7,
          1.95,
          1.84,
          1.26,
          2.04,
          1.47,
          2.09,
          1.64,
          1.8,
          1.45,
          2.4,
          2.3,
          1.54,
          1.84,
          1.43,
          3.78,
          4.6,
          1.2,
          1.1,
          1.91,
          2.3,
          2.04,
          1.2,
          2.31,
          1.96,
          2.4,
          1.6,
          2.94,
          2.04,
          4,
          2.25,
          2.32,
          1.8,
          1.29,
          3.58,
          1.62,
          3.21,
          0.92,
          2.06,
          2.31,
          1.26,
          1.49,
          1.3,
          3,
          2.3,
          3.78,
          2.1,
          2.31,
          0.99,
          4.6,
          0.69,
          1.3,
          2.18,
          1.54,
          1.9,
          1.7,
          1.29,
          2.4,
          2.2,
          1.86,
          2.7,
          1.4,
          2.4,
          2.4,
          2.36,
          2.6,
          1.96,
          4.3,
          1.5,
          1.5,
          2.2,
          3,
          2.4,
          1.5,
          2.9,
          2.1,
          2.1,
          2.59,
          1.16,
          2.24,
          2.1,
          1.16,
          0.69,
          1.23,
          4.6,
          1.25,
          1.05,
          3.52,
          1.35,
          1.16,
          1.43,
          2.09,
          2,
          1.8,
          0.69,
          1.26,
          2.4,
          3.35,
          2.04,
          1.8,
          1.5,
          1.84,
          2.23,
          2.5,
          3,
          2.5,
          3.78,
          1.88,
          2.8,
          2.4,
          1.48,
          2.59,
          1.48,
          2,
          1.26,
          2.18,
          1.88,
          1.27,
          1.9,
          1.86,
          2.32,
          2.62,
          2.04,
          1.91,
          2.7,
          1.4,
          2.5,
          1.48,
          1.7,
          1.7,
          2.62,
          2.2,
          2.1,
          2.62,
          1.95,
          2.2,
          1.44,
          2.2,
          1.96,
          2.1,
          2.2,
          2.1,
          2.2,
          2,
          2.32,
          3.31,
          1.91,
          2.07,
          1.36,
          1.54,
          1.98,
          2.1,
          2.18,
          2.591,
          2.09,
          2.23,
          1.23,
          4.2,
          2.4,
          1.15,
          1.86,
          0.92,
          1.6,
          2.21,
          1.9,
          4.3,
          2.1,
          2.43,
          2.3,
          2.2,
          2,
          1.2,
          2.2,
          2.36,
          1.91,
          2.2,
          3.3,
          2.2,
          0.92,
          2.2,
          2.43,
          2.191,
          2.9,
          1.3,
          3.3,
          2.8,
          2.6,
          1.2,
          2.3,
          2.2,
          2.1,
          1.26,
          2.08,
          2.65,
          1.29,
          2.18,
          2.6,
          2.2,
          1.3,
          1.95,
          2.3,
          2.7,
          1.08,
          2.1,
          1.54,
          2.24,
          2.3,
          1.4,
          2.2,
          1.45,
          2.4,
          2.77,
          1.54,
          2.5,
          1.6,
          2.34,
          2.3,
          1.24,
          2.2,
          1.86,
          2.4,
          1.9,
          2.2,
          2,
          4,
          2.29,
          2.32,
          2.4,
          1.8,
          1.2,
          2.3,
          2.4,
          2.2,
          2.6,
          2.04,
          2.3,
          1.17,
          2.2,
          1.8,
          1.3,
          1.5,
          2.19,
          2.2,
          1.2,
          2.3,
          2.4,
          2.2,
          2.6,
          2.04,
          2.3,
          1.17,
          2.2,
          1.8,
          1.3,
          1.5,
          2.19,
          2.2,
          1.2,
          2.3,
          2.4,
          2.2,
          2.6,
          2.04,
          2.3,
          1.17,
          2.2,
          1.8,
          1.3,
          1.5,
          2.19,
          2.2
         ],
         "xaxis": "x",
         "yaxis": "y"
        }
       ],
       "layout": {
        "barmode": "relative",
        "legend": {
         "tracegroupgap": 0
        },
        "template": {
         "data": {
          "bar": [
           {
            "error_x": {
             "color": "#2a3f5f"
            },
            "error_y": {
             "color": "#2a3f5f"
            },
            "marker": {
             "line": {
              "color": "#E5ECF6",
              "width": 0.5
             },
             "pattern": {
              "fillmode": "overlay",
              "size": 10,
              "solidity": 0.2
             }
            },
            "type": "bar"
           }
          ],
          "barpolar": [
           {
            "marker": {
             "line": {
              "color": "#E5ECF6",
              "width": 0.5
             },
             "pattern": {
              "fillmode": "overlay",
              "size": 10,
              "solidity": 0.2
             }
            },
            "type": "barpolar"
           }
          ],
          "carpet": [
           {
            "aaxis": {
             "endlinecolor": "#2a3f5f",
             "gridcolor": "white",
             "linecolor": "white",
             "minorgridcolor": "white",
             "startlinecolor": "#2a3f5f"
            },
            "baxis": {
             "endlinecolor": "#2a3f5f",
             "gridcolor": "white",
             "linecolor": "white",
             "minorgridcolor": "white",
             "startlinecolor": "#2a3f5f"
            },
            "type": "carpet"
           }
          ],
          "choropleth": [
           {
            "colorbar": {
             "outlinewidth": 0,
             "ticks": ""
            },
            "type": "choropleth"
           }
          ],
          "contour": [
           {
            "colorbar": {
             "outlinewidth": 0,
             "ticks": ""
            },
            "colorscale": [
             [
              0,
              "#0d0887"
             ],
             [
              0.1111111111111111,
              "#46039f"
             ],
             [
              0.2222222222222222,
              "#7201a8"
             ],
             [
              0.3333333333333333,
              "#9c179e"
             ],
             [
              0.4444444444444444,
              "#bd3786"
             ],
             [
              0.5555555555555556,
              "#d8576b"
             ],
             [
              0.6666666666666666,
              "#ed7953"
             ],
             [
              0.7777777777777778,
              "#fb9f3a"
             ],
             [
              0.8888888888888888,
              "#fdca26"
             ],
             [
              1,
              "#f0f921"
             ]
            ],
            "type": "contour"
           }
          ],
          "contourcarpet": [
           {
            "colorbar": {
             "outlinewidth": 0,
             "ticks": ""
            },
            "type": "contourcarpet"
           }
          ],
          "heatmap": [
           {
            "colorbar": {
             "outlinewidth": 0,
             "ticks": ""
            },
            "colorscale": [
             [
              0,
              "#0d0887"
             ],
             [
              0.1111111111111111,
              "#46039f"
             ],
             [
              0.2222222222222222,
              "#7201a8"
             ],
             [
              0.3333333333333333,
              "#9c179e"
             ],
             [
              0.4444444444444444,
              "#bd3786"
             ],
             [
              0.5555555555555556,
              "#d8576b"
             ],
             [
              0.6666666666666666,
              "#ed7953"
             ],
             [
              0.7777777777777778,
              "#fb9f3a"
             ],
             [
              0.8888888888888888,
              "#fdca26"
             ],
             [
              1,
              "#f0f921"
             ]
            ],
            "type": "heatmap"
           }
          ],
          "heatmapgl": [
           {
            "colorbar": {
             "outlinewidth": 0,
             "ticks": ""
            },
            "colorscale": [
             [
              0,
              "#0d0887"
             ],
             [
              0.1111111111111111,
              "#46039f"
             ],
             [
              0.2222222222222222,
              "#7201a8"
             ],
             [
              0.3333333333333333,
              "#9c179e"
             ],
             [
              0.4444444444444444,
              "#bd3786"
             ],
             [
              0.5555555555555556,
              "#d8576b"
             ],
             [
              0.6666666666666666,
              "#ed7953"
             ],
             [
              0.7777777777777778,
              "#fb9f3a"
             ],
             [
              0.8888888888888888,
              "#fdca26"
             ],
             [
              1,
              "#f0f921"
             ]
            ],
            "type": "heatmapgl"
           }
          ],
          "histogram": [
           {
            "marker": {
             "pattern": {
              "fillmode": "overlay",
              "size": 10,
              "solidity": 0.2
             }
            },
            "type": "histogram"
           }
          ],
          "histogram2d": [
           {
            "colorbar": {
             "outlinewidth": 0,
             "ticks": ""
            },
            "colorscale": [
             [
              0,
              "#0d0887"
             ],
             [
              0.1111111111111111,
              "#46039f"
             ],
             [
              0.2222222222222222,
              "#7201a8"
             ],
             [
              0.3333333333333333,
              "#9c179e"
             ],
             [
              0.4444444444444444,
              "#bd3786"
             ],
             [
              0.5555555555555556,
              "#d8576b"
             ],
             [
              0.6666666666666666,
              "#ed7953"
             ],
             [
              0.7777777777777778,
              "#fb9f3a"
             ],
             [
              0.8888888888888888,
              "#fdca26"
             ],
             [
              1,
              "#f0f921"
             ]
            ],
            "type": "histogram2d"
           }
          ],
          "histogram2dcontour": [
           {
            "colorbar": {
             "outlinewidth": 0,
             "ticks": ""
            },
            "colorscale": [
             [
              0,
              "#0d0887"
             ],
             [
              0.1111111111111111,
              "#46039f"
             ],
             [
              0.2222222222222222,
              "#7201a8"
             ],
             [
              0.3333333333333333,
              "#9c179e"
             ],
             [
              0.4444444444444444,
              "#bd3786"
             ],
             [
              0.5555555555555556,
              "#d8576b"
             ],
             [
              0.6666666666666666,
              "#ed7953"
             ],
             [
              0.7777777777777778,
              "#fb9f3a"
             ],
             [
              0.8888888888888888,
              "#fdca26"
             ],
             [
              1,
              "#f0f921"
             ]
            ],
            "type": "histogram2dcontour"
           }
          ],
          "mesh3d": [
           {
            "colorbar": {
             "outlinewidth": 0,
             "ticks": ""
            },
            "type": "mesh3d"
           }
          ],
          "parcoords": [
           {
            "line": {
             "colorbar": {
              "outlinewidth": 0,
              "ticks": ""
             }
            },
            "type": "parcoords"
           }
          ],
          "pie": [
           {
            "automargin": true,
            "type": "pie"
           }
          ],
          "scatter": [
           {
            "fillpattern": {
             "fillmode": "overlay",
             "size": 10,
             "solidity": 0.2
            },
            "type": "scatter"
           }
          ],
          "scatter3d": [
           {
            "line": {
             "colorbar": {
              "outlinewidth": 0,
              "ticks": ""
             }
            },
            "marker": {
             "colorbar": {
              "outlinewidth": 0,
              "ticks": ""
             }
            },
            "type": "scatter3d"
           }
          ],
          "scattercarpet": [
           {
            "marker": {
             "colorbar": {
              "outlinewidth": 0,
              "ticks": ""
             }
            },
            "type": "scattercarpet"
           }
          ],
          "scattergeo": [
           {
            "marker": {
             "colorbar": {
              "outlinewidth": 0,
              "ticks": ""
             }
            },
            "type": "scattergeo"
           }
          ],
          "scattergl": [
           {
            "marker": {
             "colorbar": {
              "outlinewidth": 0,
              "ticks": ""
             }
            },
            "type": "scattergl"
           }
          ],
          "scattermapbox": [
           {
            "marker": {
             "colorbar": {
              "outlinewidth": 0,
              "ticks": ""
             }
            },
            "type": "scattermapbox"
           }
          ],
          "scatterpolar": [
           {
            "marker": {
             "colorbar": {
              "outlinewidth": 0,
              "ticks": ""
             }
            },
            "type": "scatterpolar"
           }
          ],
          "scatterpolargl": [
           {
            "marker": {
             "colorbar": {
              "outlinewidth": 0,
              "ticks": ""
             }
            },
            "type": "scatterpolargl"
           }
          ],
          "scatterternary": [
           {
            "marker": {
             "colorbar": {
              "outlinewidth": 0,
              "ticks": ""
             }
            },
            "type": "scatterternary"
           }
          ],
          "surface": [
           {
            "colorbar": {
             "outlinewidth": 0,
             "ticks": ""
            },
            "colorscale": [
             [
              0,
              "#0d0887"
             ],
             [
              0.1111111111111111,
              "#46039f"
             ],
             [
              0.2222222222222222,
              "#7201a8"
             ],
             [
              0.3333333333333333,
              "#9c179e"
             ],
             [
              0.4444444444444444,
              "#bd3786"
             ],
             [
              0.5555555555555556,
              "#d8576b"
             ],
             [
              0.6666666666666666,
              "#ed7953"
             ],
             [
              0.7777777777777778,
              "#fb9f3a"
             ],
             [
              0.8888888888888888,
              "#fdca26"
             ],
             [
              1,
              "#f0f921"
             ]
            ],
            "type": "surface"
           }
          ],
          "table": [
           {
            "cells": {
             "fill": {
              "color": "#EBF0F8"
             },
             "line": {
              "color": "white"
             }
            },
            "header": {
             "fill": {
              "color": "#C8D4E3"
             },
             "line": {
              "color": "white"
             }
            },
            "type": "table"
           }
          ]
         },
         "layout": {
          "annotationdefaults": {
           "arrowcolor": "#2a3f5f",
           "arrowhead": 0,
           "arrowwidth": 1
          },
          "autotypenumbers": "strict",
          "coloraxis": {
           "colorbar": {
            "outlinewidth": 0,
            "ticks": ""
           }
          },
          "colorscale": {
           "diverging": [
            [
             0,
             "#8e0152"
            ],
            [
             0.1,
             "#c51b7d"
            ],
            [
             0.2,
             "#de77ae"
            ],
            [
             0.3,
             "#f1b6da"
            ],
            [
             0.4,
             "#fde0ef"
            ],
            [
             0.5,
             "#f7f7f7"
            ],
            [
             0.6,
             "#e6f5d0"
            ],
            [
             0.7,
             "#b8e186"
            ],
            [
             0.8,
             "#7fbc41"
            ],
            [
             0.9,
             "#4d9221"
            ],
            [
             1,
             "#276419"
            ]
           ],
           "sequential": [
            [
             0,
             "#0d0887"
            ],
            [
             0.1111111111111111,
             "#46039f"
            ],
            [
             0.2222222222222222,
             "#7201a8"
            ],
            [
             0.3333333333333333,
             "#9c179e"
            ],
            [
             0.4444444444444444,
             "#bd3786"
            ],
            [
             0.5555555555555556,
             "#d8576b"
            ],
            [
             0.6666666666666666,
             "#ed7953"
            ],
            [
             0.7777777777777778,
             "#fb9f3a"
            ],
            [
             0.8888888888888888,
             "#fdca26"
            ],
            [
             1,
             "#f0f921"
            ]
           ],
           "sequentialminus": [
            [
             0,
             "#0d0887"
            ],
            [
             0.1111111111111111,
             "#46039f"
            ],
            [
             0.2222222222222222,
             "#7201a8"
            ],
            [
             0.3333333333333333,
             "#9c179e"
            ],
            [
             0.4444444444444444,
             "#bd3786"
            ],
            [
             0.5555555555555556,
             "#d8576b"
            ],
            [
             0.6666666666666666,
             "#ed7953"
            ],
            [
             0.7777777777777778,
             "#fb9f3a"
            ],
            [
             0.8888888888888888,
             "#fdca26"
            ],
            [
             1,
             "#f0f921"
            ]
           ]
          },
          "colorway": [
           "#636efa",
           "#EF553B",
           "#00cc96",
           "#ab63fa",
           "#FFA15A",
           "#19d3f3",
           "#FF6692",
           "#B6E880",
           "#FF97FF",
           "#FECB52"
          ],
          "font": {
           "color": "#2a3f5f"
          },
          "geo": {
           "bgcolor": "white",
           "lakecolor": "white",
           "landcolor": "#E5ECF6",
           "showlakes": true,
           "showland": true,
           "subunitcolor": "white"
          },
          "hoverlabel": {
           "align": "left"
          },
          "hovermode": "closest",
          "mapbox": {
           "style": "light"
          },
          "paper_bgcolor": "white",
          "plot_bgcolor": "#E5ECF6",
          "polar": {
           "angularaxis": {
            "gridcolor": "white",
            "linecolor": "white",
            "ticks": ""
           },
           "bgcolor": "#E5ECF6",
           "radialaxis": {
            "gridcolor": "white",
            "linecolor": "white",
            "ticks": ""
           }
          },
          "scene": {
           "xaxis": {
            "backgroundcolor": "#E5ECF6",
            "gridcolor": "white",
            "gridwidth": 2,
            "linecolor": "white",
            "showbackground": true,
            "ticks": "",
            "zerolinecolor": "white"
           },
           "yaxis": {
            "backgroundcolor": "#E5ECF6",
            "gridcolor": "white",
            "gridwidth": 2,
            "linecolor": "white",
            "showbackground": true,
            "ticks": "",
            "zerolinecolor": "white"
           },
           "zaxis": {
            "backgroundcolor": "#E5ECF6",
            "gridcolor": "white",
            "gridwidth": 2,
            "linecolor": "white",
            "showbackground": true,
            "ticks": "",
            "zerolinecolor": "white"
           }
          },
          "shapedefaults": {
           "line": {
            "color": "#2a3f5f"
           }
          },
          "ternary": {
           "aaxis": {
            "gridcolor": "white",
            "linecolor": "white",
            "ticks": ""
           },
           "baxis": {
            "gridcolor": "white",
            "linecolor": "white",
            "ticks": ""
           },
           "bgcolor": "#E5ECF6",
           "caxis": {
            "gridcolor": "white",
            "linecolor": "white",
            "ticks": ""
           }
          },
          "title": {
           "x": 0.05
          },
          "xaxis": {
           "automargin": true,
           "gridcolor": "white",
           "linecolor": "white",
           "ticks": "",
           "title": {
            "standoff": 15
           },
           "zerolinecolor": "white",
           "zerolinewidth": 2
          },
          "yaxis": {
           "automargin": true,
           "gridcolor": "white",
           "linecolor": "white",
           "ticks": "",
           "title": {
            "standoff": 15
           },
           "zerolinecolor": "white",
           "zerolinewidth": 2
          }
         }
        },
        "title": {
         "text": "Weight distribution of laptops"
        },
        "xaxis": {
         "anchor": "y",
         "domain": [
          0,
          1
         ],
         "title": {
          "text": "Weight"
         }
        },
        "yaxis": {
         "anchor": "x",
         "domain": [
          0,
          1
         ],
         "title": {
          "text": "count"
         }
        }
       }
      }
     },
     "metadata": {},
     "output_type": "display_data"
    }
   ],
   "source": [
    "df['Weight'] = df['Weight'].str.replace('kg', '')\n",
    "df['Weight'] = df['Weight'].astype(float)\n",
    "\n",
    "fig = px.histogram(df, x='Weight', title='Weight distribution of laptops')\n",
    "\n",
    "fig.write_image(\"images/weight_distribution_of_Android_laptops.png\")\n",
    "fig.show()"
   ]
  },
  {
   "cell_type": "code",
   "execution_count": 39,
   "metadata": {},
   "outputs": [
    {
     "data": {
      "application/vnd.plotly.v1+json": {
       "config": {
        "plotlyServerURL": "https://plot.ly"
       },
       "data": [
        {
         "alignmentgroup": "True",
         "bingroup": "x",
         "hovertemplate": "Inches=%{x}<br>count=%{y}<extra></extra>",
         "legendgroup": "",
         "marker": {
          "color": "#636efa",
          "pattern": {
           "shape": ""
          }
         },
         "name": "",
         "offsetgroup": "",
         "orientation": "v",
         "showlegend": false,
         "type": "histogram",
         "x": [
          13.3,
          13.3,
          15.6,
          15.4,
          13.3,
          15.6,
          15.4,
          13.3,
          14,
          14,
          15.6,
          15.6,
          15.4,
          15.6,
          12,
          13.3,
          15.6,
          15.4,
          15.6,
          13.3,
          11.6,
          15.6,
          15.6,
          13.3,
          15.6,
          15.6,
          13.3,
          15.6,
          15.6,
          17.3,
          15.6,
          14,
          17.3,
          13.3,
          13.3,
          14,
          15.6,
          17.3,
          15.6,
          15.6,
          15.6,
          15.6,
          15.6,
          15.6,
          17.3,
          13.3,
          15.6,
          17.3,
          15.6,
          17.3,
          10.1,
          15.6,
          15.6,
          13.3,
          15.6,
          15.6,
          15.6,
          15.6,
          17.3,
          15.6,
          17.3,
          14,
          14,
          14,
          15.6,
          15.6,
          15.6,
          14,
          15.6,
          17.3,
          13.5,
          13.3,
          15.6,
          17.3,
          14,
          15.6,
          15.6,
          15.6,
          15.6,
          17.3,
          15.6,
          12,
          14,
          15.6,
          15.6,
          15.6,
          15.6,
          15.6,
          15.6,
          13.3,
          15.6,
          15.6,
          13.3,
          15.6,
          14,
          13.3,
          15.6,
          15.6,
          15.6,
          15.6,
          15.6,
          15.6,
          15.6,
          13.3,
          13.5,
          14,
          15.6,
          14,
          15.6,
          14,
          15.6,
          13.3,
          13.3,
          14,
          13.3,
          13.3,
          14,
          15.6,
          17.3,
          15.6,
          15.6,
          15.6,
          15.6,
          17.3,
          15.6,
          15.6,
          14,
          14,
          17.3,
          17.3,
          15.6,
          15.6,
          14,
          15.6,
          15.6,
          14,
          15.6,
          17.3,
          15.6,
          13.3,
          17.3,
          14,
          15.6,
          15.6,
          15.6,
          14,
          12.5,
          15.6,
          17.3,
          15.6,
          15.6,
          15.6,
          15.6,
          17.3,
          14,
          15.6,
          14,
          13.3,
          15.6,
          15.6,
          15.6,
          17.3,
          15.6,
          15.6,
          15.6,
          15.6,
          15.6,
          15.6,
          17.3,
          13.3,
          13,
          17.3,
          15.6,
          15.6,
          17.3,
          15.6,
          15.6,
          18.4,
          15.6,
          13.3,
          15.6,
          13.3,
          13.9,
          15.6,
          15.6,
          17.3,
          15.6,
          15.6,
          13.3,
          17.3,
          14,
          14,
          13.3,
          17.3,
          13.3,
          17.3,
          17.3,
          13.3,
          17.3,
          17.3,
          15.6,
          15.6,
          15.6,
          15.6,
          15.6,
          15.6,
          15.6,
          13.3,
          13.3,
          15.6,
          15.6,
          17.3,
          15.6,
          15.6,
          13,
          13.3,
          17.3,
          14,
          14,
          13.3,
          15.6,
          14,
          13.3,
          15.6,
          17.3,
          15.6,
          15.6,
          15.6,
          17.3,
          15.6,
          15.6,
          15.6,
          15.6,
          14,
          13.3,
          15.6,
          15.6,
          15.6,
          17.3,
          15.6,
          15.6,
          17.3,
          17.3,
          15.6,
          13.9,
          15.6,
          15.6,
          17.3,
          13.3,
          13.3,
          15.6,
          17.3,
          15.6,
          13.9,
          17.3,
          13.3,
          15.6,
          17.3,
          17.3,
          15.6,
          17.3,
          15.6,
          15.6,
          15.6,
          15.6,
          15.6,
          13.3,
          15.6,
          17.3,
          15.6,
          13.3,
          17.3,
          15.6,
          14,
          15.6,
          15.6,
          17.3,
          15.6,
          17.3,
          17.3,
          17.3,
          15.6,
          15.6,
          15.6,
          15.6,
          15.6,
          15.6,
          15.6,
          15.6,
          15.6,
          15.6,
          17.3,
          17.3,
          15.6,
          15.6,
          15.6,
          15.6,
          17.3,
          15.6,
          15.6,
          14,
          17.3,
          17.3,
          15.6,
          15.6,
          15.6,
          13.3,
          15.6,
          15.6,
          15.6,
          13.3,
          13.3,
          15.6,
          15.6,
          11.6,
          15.6,
          13.3,
          13.3,
          14,
          11.6,
          14,
          17.3,
          14,
          15.6,
          15.6,
          14,
          15.6,
          15.6,
          12.5,
          15.6,
          17.3,
          15.6,
          14,
          15.6,
          15.6,
          14,
          15.6,
          15.6,
          15.6,
          15.6,
          15.6,
          15.6,
          15.6,
          13.9,
          13.3,
          15.6,
          14,
          15.6,
          11.6,
          15.6,
          15.6,
          15.6,
          17.3,
          15.6,
          15.6,
          15.6,
          15.6,
          15.6,
          15.6,
          14,
          15.6,
          14,
          17.3,
          15.6,
          15.6,
          15.6,
          17.3,
          15.6,
          15.6,
          14,
          15.6,
          15.6,
          17.3,
          17.3,
          13.3,
          15.6,
          11.6,
          15.6,
          14,
          15.6,
          17.3,
          15.6,
          15.6,
          14,
          13.3,
          14,
          13.3,
          15.6,
          15.6,
          14,
          17.3,
          17.3,
          15.6,
          17.3,
          15.6,
          15.6,
          15.6,
          14,
          15.6,
          14,
          15.6,
          17.3,
          15.6,
          15.6,
          17.3,
          14,
          13.3,
          14,
          15.6,
          11.6,
          15.6,
          14,
          15.6,
          13.3,
          13.3,
          15.6,
          13.3,
          14,
          15.6,
          14,
          15.6,
          12.3,
          15.6,
          15.6,
          17.3,
          15.6,
          15.6,
          14,
          17.3,
          11.6,
          11.6,
          13.3,
          14,
          15.6,
          15.6,
          17.3,
          15.6,
          12.3,
          14,
          15.6,
          17.3,
          15.6,
          12.5,
          15.6,
          15.6,
          14,
          15.6,
          15.6,
          15.6,
          13.5,
          15.6,
          15.6,
          15.6,
          14,
          15.6,
          11.6,
          17.3,
          13.5,
          13.5,
          17.3,
          15.6,
          11.6,
          15.6,
          14,
          15.6,
          15.6,
          15.6,
          15.6,
          17.3,
          14,
          13.3,
          15.6,
          12.3,
          13.3,
          15.6,
          14,
          15.6,
          14,
          15.6,
          13.3,
          15.6,
          15.6,
          13.3,
          15.6,
          15.6,
          14,
          15.6,
          15.6,
          12.5,
          12.5,
          15.6,
          13.3,
          15.6,
          15.6,
          17.3,
          12.5,
          15.6,
          14,
          13.3,
          15.6,
          11.6,
          15.6,
          13.9,
          14,
          11.6,
          13.3,
          15.6,
          15.6,
          13.3,
          15.6,
          13.3,
          15.6,
          15.6,
          15.6,
          15.6,
          11.6,
          15.6,
          15.6,
          15.6,
          17.3,
          15.6,
          13.3,
          14,
          15.6,
          17.3,
          14,
          15.6,
          15.6,
          15.6,
          15.6,
          17.3,
          15.6,
          15.6,
          13.3,
          15.6,
          15.6,
          15.6,
          15.6,
          17.3,
          14,
          13.3,
          14,
          13.3,
          15.6,
          15.6,
          15.6,
          14,
          15.6,
          15.6,
          15.6,
          15.6,
          15.6,
          17.3,
          17.3,
          17.3,
          15.6,
          13.3,
          17.3,
          15.6,
          15.6,
          11.6,
          15.6,
          13.3,
          17.3,
          15.6,
          13.3,
          15.6,
          15.6,
          15.6,
          14,
          17.3,
          14,
          15.6,
          15.6,
          15.6,
          14,
          14,
          17.3,
          17.3,
          15.6,
          14,
          15.6,
          13.3,
          15.6,
          11.6,
          17.3,
          17.3,
          14,
          15.6,
          17.3,
          15.6,
          15.6,
          11.6,
          15.6,
          17.3,
          15.6,
          13.3,
          14,
          12.5,
          15.6,
          15.6,
          15.6,
          14,
          17.3,
          15.6,
          15.6,
          15.6,
          15.6,
          15.6,
          14,
          15.6,
          15.6,
          15.6,
          15.6,
          15.6,
          17.3,
          15.6,
          15.6,
          15.6,
          11.6,
          14,
          14,
          15.6,
          15.6,
          15.6,
          15.6,
          14,
          15.6,
          13.3,
          15.6,
          14,
          15.6,
          15.6,
          15.6,
          15.6,
          15.6,
          13.3,
          14,
          13.3,
          15.6,
          15.6,
          17,
          14,
          15.6,
          15.6,
          14,
          14,
          14,
          13.3,
          12.5,
          17.3,
          15.6,
          13.3,
          15.6,
          15.6,
          15.6,
          15.6,
          15.6,
          15.6,
          17.3,
          14,
          15.6,
          15.6,
          15.6,
          17.3,
          15.6,
          15.6,
          15.6,
          15.6,
          15.6,
          13.5,
          15.6,
          13.3,
          15.6,
          14,
          15.6,
          14,
          11.6,
          15.6,
          15.6,
          15.6,
          15.6,
          15.6,
          17.3,
          13.3,
          15.6,
          15.6,
          15.6,
          17.3,
          15.6,
          14,
          14,
          17.3,
          14,
          13.3,
          11.6,
          14,
          12.5,
          13.3,
          15.6,
          15.6,
          15.6,
          15.6,
          15.6,
          15.6,
          15.6,
          13.3,
          15.6,
          14,
          17.3,
          15.6,
          14,
          15.6,
          14,
          15.6,
          14,
          15.6,
          15.6,
          14,
          17.3,
          14,
          13.3,
          14,
          17.3,
          17.3,
          15.6,
          15.6,
          13.3,
          15.6,
          15.6,
          17.3,
          15.6,
          15.6,
          15.6,
          13.3,
          15.6,
          15.6,
          13.3,
          15.6,
          15.6,
          15.6,
          15.6,
          14,
          14,
          15.6,
          14,
          13.3,
          15.6,
          14,
          17.3,
          11.6,
          15.6,
          15.6,
          14,
          15.6,
          13.3,
          15.6,
          15.6,
          15.6,
          15.6,
          15.6,
          12.5,
          12.3,
          13.3,
          13.3,
          13.3,
          17.3,
          15.6,
          13.3,
          15.6,
          15.6,
          15,
          14,
          15.6,
          12.5,
          15.6,
          15.6,
          14,
          14,
          15.6,
          17.3,
          17.3,
          14,
          15.6,
          14,
          14,
          15.6,
          15.6,
          17.3,
          15.6,
          15.6,
          14,
          13.3,
          15.6,
          12,
          14,
          14,
          15.6,
          13.9,
          15.6,
          15.6,
          15.6,
          13.3,
          15.6,
          11.6,
          12.5,
          15.6,
          15.6,
          15.6,
          15.6,
          17.3,
          17.3,
          13.3,
          15.6,
          15.6,
          14,
          12.5,
          11.6,
          17.3,
          14,
          15.6,
          14,
          14,
          15.6,
          14,
          14,
          13.3,
          14,
          11.6,
          14,
          17.3,
          14,
          15.6,
          14,
          14,
          15.6,
          17.3,
          15.6,
          14,
          15.6,
          17.3,
          17.3,
          17.3,
          15.6,
          14,
          15.6,
          11.6,
          13.3,
          13.3,
          14,
          15.6,
          15.6,
          17.3,
          14,
          15.6,
          15.6,
          15.6,
          13.3,
          13.3,
          15.6,
          15.6,
          15.6,
          13.3,
          15.6,
          13.3,
          15.6,
          13.3,
          13.3,
          14,
          15.6,
          15.6,
          15.6,
          15.6,
          13.3,
          15,
          12.5,
          15.6,
          13.3,
          15.6,
          15.6,
          13.3,
          15.6,
          14.1,
          15.6,
          15.6,
          13.3,
          15.6,
          17.3,
          11.6,
          17.3,
          14,
          13.3,
          15,
          14,
          17.3,
          13.3,
          15.6,
          15.6,
          15.6,
          15.6,
          13.3,
          17.3,
          13.3,
          14,
          15.6,
          15.6,
          12.5,
          15.6,
          15.6,
          14,
          14,
          12.5,
          15.6,
          15.6,
          15.6,
          13.3,
          13.3,
          17.3,
          15.6,
          15.6,
          15.6,
          15.6,
          13.3,
          15.6,
          13.3,
          15.6,
          12.5,
          15.6,
          15.6,
          14,
          15.6,
          12.5,
          15.6,
          13.3,
          14,
          12.5,
          15.6,
          15.6,
          14,
          17.3,
          17.3,
          17.3,
          15.6,
          15.6,
          11.3,
          15.6,
          12.5,
          15.6,
          17.3,
          14,
          15.6,
          14,
          13.3,
          12.5,
          14,
          17.3,
          13.3,
          11.6,
          13.3,
          11.6,
          13.3,
          12.5,
          15.6,
          12.5,
          15.6,
          15.6,
          15.6,
          15.6,
          17.3,
          15.6,
          13.3,
          14,
          17.3,
          14,
          17.3,
          15.6,
          14,
          15.6,
          15.6,
          17.3,
          15.6,
          13.3,
          15.6,
          15.6,
          14,
          15.6,
          15.6,
          15.6,
          15.6,
          14,
          12.5,
          15.6,
          15.6,
          15.6,
          13.3,
          13.3,
          13.3,
          15.6,
          15.6,
          14,
          15.6,
          13.3,
          15.6,
          14,
          13.3,
          14,
          14,
          14,
          14,
          14,
          15.6,
          12.5,
          14,
          14,
          13.3,
          13.3,
          15.6,
          17.3,
          14,
          14,
          15.6,
          13.3,
          13.3,
          14,
          15.6,
          12.5,
          14,
          14,
          13.3,
          17.3,
          14,
          15.6,
          17.3,
          14,
          15.6,
          12.5,
          15.6,
          14,
          15.6,
          14,
          15.6,
          14,
          15.6,
          15.6,
          14,
          15.6,
          14,
          17.3,
          17.3,
          11.6,
          14,
          15.6,
          15.6,
          15.6,
          13.3,
          15.6,
          15.6,
          15.6,
          13.3,
          15.6,
          15.6,
          17.3,
          15.6,
          15.6,
          15.6,
          13.3,
          17.3,
          13.3,
          15.6,
          12,
          15.6,
          15.6,
          12.5,
          13.3,
          12.5,
          17.3,
          15.6,
          17.3,
          15.6,
          15.6,
          12.5,
          17.3,
          10.1,
          13.3,
          15.6,
          14,
          15.6,
          14,
          13.3,
          15.6,
          15.6,
          15.6,
          17.3,
          13.3,
          12.5,
          15.6,
          15.6,
          17.3,
          15.6,
          17.3,
          12.5,
          12.5,
          15.6,
          17.3,
          15.6,
          12.5,
          17.3,
          15.6,
          15.6,
          15.6,
          13.3,
          15.6,
          15.6,
          13.3,
          10.1,
          13.3,
          17.3,
          12.5,
          13.3,
          17.3,
          13.3,
          13.3,
          14,
          15.6,
          15.6,
          14,
          10.1,
          12.5,
          15.6,
          17.3,
          15.6,
          14,
          14,
          15.6,
          15.6,
          15.6,
          17.3,
          15.6,
          17.3,
          15.6,
          14,
          15.6,
          13.3,
          15.6,
          13.3,
          15.6,
          12.5,
          15.6,
          15.6,
          14,
          15.6,
          15.6,
          15.6,
          15.6,
          15.6,
          15.6,
          17.3,
          14,
          15.6,
          13.3,
          14,
          14,
          15.6,
          15.6,
          15.6,
          15.6,
          15.6,
          15.6,
          14,
          15.6,
          15.6,
          15.6,
          15.6,
          15.6,
          15.6,
          14,
          15.6,
          15.6,
          15.6,
          15.6,
          14,
          15.6,
          15.6,
          15.6,
          15.6,
          15.6,
          15.6,
          15.6,
          13.3,
          17.3,
          15.6,
          12.3,
          15.6,
          12,
          13.3,
          15.6,
          15.6,
          17.3,
          15.6,
          17.3,
          15.6,
          15.6,
          15.6,
          13.3,
          15.6,
          15.6,
          15.6,
          15.6,
          17.3,
          15.6,
          12,
          15.6,
          17.3,
          15.6,
          17.3,
          11.6,
          17.3,
          17.3,
          15.6,
          14,
          15.6,
          15.6,
          15.6,
          12.5,
          15,
          15.6,
          13.3,
          15.6,
          15.6,
          15.6,
          12.5,
          14,
          15.6,
          17.3,
          11.6,
          15.6,
          14,
          15.6,
          15.6,
          13.3,
          15.6,
          13.3,
          15.6,
          17.3,
          14,
          15.6,
          14,
          15.6,
          15.6,
          13.3,
          15.6,
          15.6,
          15.6,
          14,
          15.6,
          15.6,
          17.3,
          15.6,
          15.6,
          15.6,
          14,
          13.3,
          15.6,
          15.6,
          15.6,
          15.6,
          15.6,
          15.6,
          11.6,
          15.6,
          14,
          13.3,
          14,
          15.6,
          15.6,
          13.3,
          15.6,
          15.6,
          15.6,
          15.6,
          15.6,
          15.6,
          11.6,
          15.6,
          14,
          13.3,
          14,
          15.6,
          15.6,
          13.3,
          15.6,
          15.6,
          15.6,
          15.6,
          15.6,
          15.6,
          11.6,
          15.6,
          14,
          13.3,
          14,
          15.6,
          15.6
         ],
         "xaxis": "x",
         "yaxis": "y"
        }
       ],
       "layout": {
        "barmode": "relative",
        "legend": {
         "tracegroupgap": 0
        },
        "template": {
         "data": {
          "bar": [
           {
            "error_x": {
             "color": "#2a3f5f"
            },
            "error_y": {
             "color": "#2a3f5f"
            },
            "marker": {
             "line": {
              "color": "#E5ECF6",
              "width": 0.5
             },
             "pattern": {
              "fillmode": "overlay",
              "size": 10,
              "solidity": 0.2
             }
            },
            "type": "bar"
           }
          ],
          "barpolar": [
           {
            "marker": {
             "line": {
              "color": "#E5ECF6",
              "width": 0.5
             },
             "pattern": {
              "fillmode": "overlay",
              "size": 10,
              "solidity": 0.2
             }
            },
            "type": "barpolar"
           }
          ],
          "carpet": [
           {
            "aaxis": {
             "endlinecolor": "#2a3f5f",
             "gridcolor": "white",
             "linecolor": "white",
             "minorgridcolor": "white",
             "startlinecolor": "#2a3f5f"
            },
            "baxis": {
             "endlinecolor": "#2a3f5f",
             "gridcolor": "white",
             "linecolor": "white",
             "minorgridcolor": "white",
             "startlinecolor": "#2a3f5f"
            },
            "type": "carpet"
           }
          ],
          "choropleth": [
           {
            "colorbar": {
             "outlinewidth": 0,
             "ticks": ""
            },
            "type": "choropleth"
           }
          ],
          "contour": [
           {
            "colorbar": {
             "outlinewidth": 0,
             "ticks": ""
            },
            "colorscale": [
             [
              0,
              "#0d0887"
             ],
             [
              0.1111111111111111,
              "#46039f"
             ],
             [
              0.2222222222222222,
              "#7201a8"
             ],
             [
              0.3333333333333333,
              "#9c179e"
             ],
             [
              0.4444444444444444,
              "#bd3786"
             ],
             [
              0.5555555555555556,
              "#d8576b"
             ],
             [
              0.6666666666666666,
              "#ed7953"
             ],
             [
              0.7777777777777778,
              "#fb9f3a"
             ],
             [
              0.8888888888888888,
              "#fdca26"
             ],
             [
              1,
              "#f0f921"
             ]
            ],
            "type": "contour"
           }
          ],
          "contourcarpet": [
           {
            "colorbar": {
             "outlinewidth": 0,
             "ticks": ""
            },
            "type": "contourcarpet"
           }
          ],
          "heatmap": [
           {
            "colorbar": {
             "outlinewidth": 0,
             "ticks": ""
            },
            "colorscale": [
             [
              0,
              "#0d0887"
             ],
             [
              0.1111111111111111,
              "#46039f"
             ],
             [
              0.2222222222222222,
              "#7201a8"
             ],
             [
              0.3333333333333333,
              "#9c179e"
             ],
             [
              0.4444444444444444,
              "#bd3786"
             ],
             [
              0.5555555555555556,
              "#d8576b"
             ],
             [
              0.6666666666666666,
              "#ed7953"
             ],
             [
              0.7777777777777778,
              "#fb9f3a"
             ],
             [
              0.8888888888888888,
              "#fdca26"
             ],
             [
              1,
              "#f0f921"
             ]
            ],
            "type": "heatmap"
           }
          ],
          "heatmapgl": [
           {
            "colorbar": {
             "outlinewidth": 0,
             "ticks": ""
            },
            "colorscale": [
             [
              0,
              "#0d0887"
             ],
             [
              0.1111111111111111,
              "#46039f"
             ],
             [
              0.2222222222222222,
              "#7201a8"
             ],
             [
              0.3333333333333333,
              "#9c179e"
             ],
             [
              0.4444444444444444,
              "#bd3786"
             ],
             [
              0.5555555555555556,
              "#d8576b"
             ],
             [
              0.6666666666666666,
              "#ed7953"
             ],
             [
              0.7777777777777778,
              "#fb9f3a"
             ],
             [
              0.8888888888888888,
              "#fdca26"
             ],
             [
              1,
              "#f0f921"
             ]
            ],
            "type": "heatmapgl"
           }
          ],
          "histogram": [
           {
            "marker": {
             "pattern": {
              "fillmode": "overlay",
              "size": 10,
              "solidity": 0.2
             }
            },
            "type": "histogram"
           }
          ],
          "histogram2d": [
           {
            "colorbar": {
             "outlinewidth": 0,
             "ticks": ""
            },
            "colorscale": [
             [
              0,
              "#0d0887"
             ],
             [
              0.1111111111111111,
              "#46039f"
             ],
             [
              0.2222222222222222,
              "#7201a8"
             ],
             [
              0.3333333333333333,
              "#9c179e"
             ],
             [
              0.4444444444444444,
              "#bd3786"
             ],
             [
              0.5555555555555556,
              "#d8576b"
             ],
             [
              0.6666666666666666,
              "#ed7953"
             ],
             [
              0.7777777777777778,
              "#fb9f3a"
             ],
             [
              0.8888888888888888,
              "#fdca26"
             ],
             [
              1,
              "#f0f921"
             ]
            ],
            "type": "histogram2d"
           }
          ],
          "histogram2dcontour": [
           {
            "colorbar": {
             "outlinewidth": 0,
             "ticks": ""
            },
            "colorscale": [
             [
              0,
              "#0d0887"
             ],
             [
              0.1111111111111111,
              "#46039f"
             ],
             [
              0.2222222222222222,
              "#7201a8"
             ],
             [
              0.3333333333333333,
              "#9c179e"
             ],
             [
              0.4444444444444444,
              "#bd3786"
             ],
             [
              0.5555555555555556,
              "#d8576b"
             ],
             [
              0.6666666666666666,
              "#ed7953"
             ],
             [
              0.7777777777777778,
              "#fb9f3a"
             ],
             [
              0.8888888888888888,
              "#fdca26"
             ],
             [
              1,
              "#f0f921"
             ]
            ],
            "type": "histogram2dcontour"
           }
          ],
          "mesh3d": [
           {
            "colorbar": {
             "outlinewidth": 0,
             "ticks": ""
            },
            "type": "mesh3d"
           }
          ],
          "parcoords": [
           {
            "line": {
             "colorbar": {
              "outlinewidth": 0,
              "ticks": ""
             }
            },
            "type": "parcoords"
           }
          ],
          "pie": [
           {
            "automargin": true,
            "type": "pie"
           }
          ],
          "scatter": [
           {
            "fillpattern": {
             "fillmode": "overlay",
             "size": 10,
             "solidity": 0.2
            },
            "type": "scatter"
           }
          ],
          "scatter3d": [
           {
            "line": {
             "colorbar": {
              "outlinewidth": 0,
              "ticks": ""
             }
            },
            "marker": {
             "colorbar": {
              "outlinewidth": 0,
              "ticks": ""
             }
            },
            "type": "scatter3d"
           }
          ],
          "scattercarpet": [
           {
            "marker": {
             "colorbar": {
              "outlinewidth": 0,
              "ticks": ""
             }
            },
            "type": "scattercarpet"
           }
          ],
          "scattergeo": [
           {
            "marker": {
             "colorbar": {
              "outlinewidth": 0,
              "ticks": ""
             }
            },
            "type": "scattergeo"
           }
          ],
          "scattergl": [
           {
            "marker": {
             "colorbar": {
              "outlinewidth": 0,
              "ticks": ""
             }
            },
            "type": "scattergl"
           }
          ],
          "scattermapbox": [
           {
            "marker": {
             "colorbar": {
              "outlinewidth": 0,
              "ticks": ""
             }
            },
            "type": "scattermapbox"
           }
          ],
          "scatterpolar": [
           {
            "marker": {
             "colorbar": {
              "outlinewidth": 0,
              "ticks": ""
             }
            },
            "type": "scatterpolar"
           }
          ],
          "scatterpolargl": [
           {
            "marker": {
             "colorbar": {
              "outlinewidth": 0,
              "ticks": ""
             }
            },
            "type": "scatterpolargl"
           }
          ],
          "scatterternary": [
           {
            "marker": {
             "colorbar": {
              "outlinewidth": 0,
              "ticks": ""
             }
            },
            "type": "scatterternary"
           }
          ],
          "surface": [
           {
            "colorbar": {
             "outlinewidth": 0,
             "ticks": ""
            },
            "colorscale": [
             [
              0,
              "#0d0887"
             ],
             [
              0.1111111111111111,
              "#46039f"
             ],
             [
              0.2222222222222222,
              "#7201a8"
             ],
             [
              0.3333333333333333,
              "#9c179e"
             ],
             [
              0.4444444444444444,
              "#bd3786"
             ],
             [
              0.5555555555555556,
              "#d8576b"
             ],
             [
              0.6666666666666666,
              "#ed7953"
             ],
             [
              0.7777777777777778,
              "#fb9f3a"
             ],
             [
              0.8888888888888888,
              "#fdca26"
             ],
             [
              1,
              "#f0f921"
             ]
            ],
            "type": "surface"
           }
          ],
          "table": [
           {
            "cells": {
             "fill": {
              "color": "#EBF0F8"
             },
             "line": {
              "color": "white"
             }
            },
            "header": {
             "fill": {
              "color": "#C8D4E3"
             },
             "line": {
              "color": "white"
             }
            },
            "type": "table"
           }
          ]
         },
         "layout": {
          "annotationdefaults": {
           "arrowcolor": "#2a3f5f",
           "arrowhead": 0,
           "arrowwidth": 1
          },
          "autotypenumbers": "strict",
          "coloraxis": {
           "colorbar": {
            "outlinewidth": 0,
            "ticks": ""
           }
          },
          "colorscale": {
           "diverging": [
            [
             0,
             "#8e0152"
            ],
            [
             0.1,
             "#c51b7d"
            ],
            [
             0.2,
             "#de77ae"
            ],
            [
             0.3,
             "#f1b6da"
            ],
            [
             0.4,
             "#fde0ef"
            ],
            [
             0.5,
             "#f7f7f7"
            ],
            [
             0.6,
             "#e6f5d0"
            ],
            [
             0.7,
             "#b8e186"
            ],
            [
             0.8,
             "#7fbc41"
            ],
            [
             0.9,
             "#4d9221"
            ],
            [
             1,
             "#276419"
            ]
           ],
           "sequential": [
            [
             0,
             "#0d0887"
            ],
            [
             0.1111111111111111,
             "#46039f"
            ],
            [
             0.2222222222222222,
             "#7201a8"
            ],
            [
             0.3333333333333333,
             "#9c179e"
            ],
            [
             0.4444444444444444,
             "#bd3786"
            ],
            [
             0.5555555555555556,
             "#d8576b"
            ],
            [
             0.6666666666666666,
             "#ed7953"
            ],
            [
             0.7777777777777778,
             "#fb9f3a"
            ],
            [
             0.8888888888888888,
             "#fdca26"
            ],
            [
             1,
             "#f0f921"
            ]
           ],
           "sequentialminus": [
            [
             0,
             "#0d0887"
            ],
            [
             0.1111111111111111,
             "#46039f"
            ],
            [
             0.2222222222222222,
             "#7201a8"
            ],
            [
             0.3333333333333333,
             "#9c179e"
            ],
            [
             0.4444444444444444,
             "#bd3786"
            ],
            [
             0.5555555555555556,
             "#d8576b"
            ],
            [
             0.6666666666666666,
             "#ed7953"
            ],
            [
             0.7777777777777778,
             "#fb9f3a"
            ],
            [
             0.8888888888888888,
             "#fdca26"
            ],
            [
             1,
             "#f0f921"
            ]
           ]
          },
          "colorway": [
           "#636efa",
           "#EF553B",
           "#00cc96",
           "#ab63fa",
           "#FFA15A",
           "#19d3f3",
           "#FF6692",
           "#B6E880",
           "#FF97FF",
           "#FECB52"
          ],
          "font": {
           "color": "#2a3f5f"
          },
          "geo": {
           "bgcolor": "white",
           "lakecolor": "white",
           "landcolor": "#E5ECF6",
           "showlakes": true,
           "showland": true,
           "subunitcolor": "white"
          },
          "hoverlabel": {
           "align": "left"
          },
          "hovermode": "closest",
          "mapbox": {
           "style": "light"
          },
          "paper_bgcolor": "white",
          "plot_bgcolor": "#E5ECF6",
          "polar": {
           "angularaxis": {
            "gridcolor": "white",
            "linecolor": "white",
            "ticks": ""
           },
           "bgcolor": "#E5ECF6",
           "radialaxis": {
            "gridcolor": "white",
            "linecolor": "white",
            "ticks": ""
           }
          },
          "scene": {
           "xaxis": {
            "backgroundcolor": "#E5ECF6",
            "gridcolor": "white",
            "gridwidth": 2,
            "linecolor": "white",
            "showbackground": true,
            "ticks": "",
            "zerolinecolor": "white"
           },
           "yaxis": {
            "backgroundcolor": "#E5ECF6",
            "gridcolor": "white",
            "gridwidth": 2,
            "linecolor": "white",
            "showbackground": true,
            "ticks": "",
            "zerolinecolor": "white"
           },
           "zaxis": {
            "backgroundcolor": "#E5ECF6",
            "gridcolor": "white",
            "gridwidth": 2,
            "linecolor": "white",
            "showbackground": true,
            "ticks": "",
            "zerolinecolor": "white"
           }
          },
          "shapedefaults": {
           "line": {
            "color": "#2a3f5f"
           }
          },
          "ternary": {
           "aaxis": {
            "gridcolor": "white",
            "linecolor": "white",
            "ticks": ""
           },
           "baxis": {
            "gridcolor": "white",
            "linecolor": "white",
            "ticks": ""
           },
           "bgcolor": "#E5ECF6",
           "caxis": {
            "gridcolor": "white",
            "linecolor": "white",
            "ticks": ""
           }
          },
          "title": {
           "x": 0.05
          },
          "xaxis": {
           "automargin": true,
           "gridcolor": "white",
           "linecolor": "white",
           "ticks": "",
           "title": {
            "standoff": 15
           },
           "zerolinecolor": "white",
           "zerolinewidth": 2
          },
          "yaxis": {
           "automargin": true,
           "gridcolor": "white",
           "linecolor": "white",
           "ticks": "",
           "title": {
            "standoff": 15
           },
           "zerolinecolor": "white",
           "zerolinewidth": 2
          }
         }
        },
        "title": {
         "text": "Inches distribution of laptops"
        },
        "xaxis": {
         "anchor": "y",
         "domain": [
          0,
          1
         ],
         "title": {
          "text": "Inches"
         }
        },
        "yaxis": {
         "anchor": "x",
         "domain": [
          0,
          1
         ],
         "title": {
          "text": "count"
         }
        }
       }
      }
     },
     "metadata": {},
     "output_type": "display_data"
    }
   ],
   "source": [
    "fig = px.histogram(df, x='Inches', title='Inches distribution of laptops')\n",
    "\n",
    "fig.write_image(\"images/inches_distribution_of_Android_laptops.png\")\n",
    "fig.show()"
   ]
  },
  {
   "cell_type": "code",
   "execution_count": 40,
   "metadata": {},
   "outputs": [
    {
     "data": {
      "application/vnd.plotly.v1+json": {
       "config": {
        "plotlyServerURL": "https://plot.ly"
       },
       "data": [
        {
         "alignmentgroup": "True",
         "hovertemplate": "Company=%{x}<br>Inches=%{y}<extra></extra>",
         "legendgroup": "",
         "marker": {
          "color": "#636efa"
         },
         "name": "",
         "notched": false,
         "offsetgroup": "",
         "orientation": "v",
         "showlegend": false,
         "type": "box",
         "x": [
          "Apple",
          "Apple",
          "HP",
          "Apple",
          "Apple",
          "Acer",
          "Apple",
          "Apple",
          "Asus",
          "Acer",
          "HP",
          "HP",
          "Apple",
          "Dell",
          "Apple",
          "Apple",
          "Dell",
          "Apple",
          "Lenovo",
          "Dell",
          "Asus",
          "Lenovo",
          "HP",
          "Dell",
          "HP",
          "Dell",
          "Apple",
          "Dell",
          "Dell",
          "HP",
          "Chuwi",
          "Asus",
          "HP",
          "Dell",
          "Apple",
          "Lenovo",
          "Acer",
          "Dell",
          "HP",
          "HP",
          "Asus",
          "Dell",
          "Asus",
          "Acer",
          "Dell",
          "Apple",
          "Lenovo",
          "Asus",
          "Dell",
          "Asus",
          "Lenovo",
          "Acer",
          "HP",
          "HP",
          "Acer",
          "Dell",
          "HP",
          "Asus",
          "MSI",
          "Asus",
          "Dell",
          "Dell",
          "Lenovo",
          "Asus",
          "HP",
          "Asus",
          "HP",
          "HP",
          "Lenovo",
          "Asus",
          "Microsoft",
          "Dell",
          "Dell",
          "MSI",
          "Acer",
          "Asus",
          "Lenovo",
          "Dell",
          "Acer",
          "HP",
          "Dell",
          "Apple",
          "HP",
          "Lenovo",
          "Acer",
          "Dell",
          "HP",
          "HP",
          "Asus",
          "Dell",
          "Asus",
          "Acer",
          "HP",
          "Dell",
          "Asus",
          "Acer",
          "Dell",
          "Dell",
          "Asus",
          "HP",
          "HP",
          "HP",
          "Dell",
          "HP",
          "Microsoft",
          "HP",
          "Lenovo",
          "Asus",
          "MSI",
          "Lenovo",
          "Asus",
          "Dell",
          "Lenovo",
          "HP",
          "Dell",
          "HP",
          "HP",
          "Dell",
          "Asus",
          "Asus",
          "Acer",
          "MSI",
          "Lenovo",
          "HP",
          "Acer",
          "HP",
          "HP",
          "Asus",
          "Dell",
          "HP",
          "Dell",
          "Dell",
          "Acer",
          "Acer",
          "HP",
          "HP",
          "Lenovo",
          "Asus",
          "Lenovo",
          "HP",
          "Acer",
          "Lenovo",
          "Lenovo",
          "Toshiba",
          "HP",
          "Asus",
          "HP",
          "Asus",
          "MSI",
          "Acer",
          "Dell",
          "Dell",
          "Lenovo",
          "MSI",
          "HP",
          "HP",
          "Lenovo",
          "Asus",
          "Dell",
          "Toshiba",
          "Asus",
          "Acer",
          "Dell",
          "Lenovo",
          "Acer",
          "MSI",
          "Acer",
          "Dell",
          "Acer",
          "HP",
          "Huawei",
          "HP",
          "Lenovo",
          "Toshiba",
          "HP",
          "Dell",
          "Acer",
          "MSI",
          "Lenovo",
          "HP",
          "Dell",
          "Dell",
          "Lenovo",
          "Toshiba",
          "Xiaomi",
          "Dell",
          "Dell",
          "Lenovo",
          "Acer",
          "Dell",
          "Lenovo",
          "Vero",
          "Xiaomi",
          "Lenovo",
          "Dell",
          "HP",
          "Razer",
          "HP",
          "HP",
          "HP",
          "Dell",
          "Lenovo",
          "Acer",
          "Lenovo",
          "Dell",
          "Lenovo",
          "Dell",
          "Dell",
          "Dell",
          "Lenovo",
          "Acer",
          "Asus",
          "HP",
          "Lenovo",
          "Huawei",
          "Dell",
          "Lenovo",
          "HP",
          "Dell",
          "Dell",
          "Dell",
          "Lenovo",
          "Toshiba",
          "HP",
          "Dell",
          "Acer",
          "Dell",
          "Asus",
          "Asus",
          "HP",
          "Asus",
          "HP",
          "Lenovo",
          "Dell",
          "Acer",
          "Dell",
          "Acer",
          "Asus",
          "Asus",
          "Acer",
          "Lenovo",
          "Asus",
          "Asus",
          "Dell",
          "Lenovo",
          "Dell",
          "HP",
          "Asus",
          "HP",
          "Apple",
          "Dell",
          "Asus",
          "Asus",
          "Lenovo",
          "Acer",
          "Dell",
          "HP",
          "HP",
          "MSI",
          "Lenovo",
          "Dell",
          "Lenovo",
          "HP",
          "Dell",
          "Dell",
          "Dell",
          "Asus",
          "Lenovo",
          "HP",
          "Lenovo",
          "Apple",
          "Asus",
          "Dell",
          "Lenovo",
          "Toshiba",
          "Dell",
          "Dell",
          "Acer",
          "Lenovo",
          "Lenovo",
          "Lenovo",
          "Dell",
          "Lenovo",
          "Lenovo",
          "Acer",
          "Acer",
          "Lenovo",
          "Asus",
          "Lenovo",
          "Lenovo",
          "Acer",
          "Asus",
          "HP",
          "Dell",
          "Lenovo",
          "Lenovo",
          "Acer",
          "Dell",
          "Lenovo",
          "Asus",
          "Asus",
          "Asus",
          "Lenovo",
          "Lenovo",
          "Asus",
          "Lenovo",
          "HP",
          "Toshiba",
          "Lenovo",
          "HP",
          "Lenovo",
          "Dell",
          "MSI",
          "Acer",
          "Asus",
          "Dell",
          "HP",
          "Lenovo",
          "HP",
          "Acer",
          "HP",
          "Lenovo",
          "Asus",
          "HP",
          "Acer",
          "Lenovo",
          "Acer",
          "Asus",
          "HP",
          "Dell",
          "MSI",
          "Toshiba",
          "Asus",
          "Lenovo",
          "Asus",
          "HP",
          "Dell",
          "HP",
          "Asus",
          "Dell",
          "Dell",
          "Lenovo",
          "HP",
          "Lenovo",
          "Dell",
          "Lenovo",
          "HP",
          "Dell",
          "Asus",
          "Dell",
          "Dell",
          "HP",
          "MSI",
          "HP",
          "Toshiba",
          "Dell",
          "Lenovo",
          "Dell",
          "Dell",
          "Dell",
          "HP",
          "Asus",
          "Lenovo",
          "HP",
          "Lenovo",
          "HP",
          "Dell",
          "Lenovo",
          "Dell",
          "HP",
          "Asus",
          "Acer",
          "Asus",
          "Lenovo",
          "Dell",
          "HP",
          "Lenovo",
          "Dell",
          "Asus",
          "Acer",
          "HP",
          "Lenovo",
          "Asus",
          "Lenovo",
          "Asus",
          "Lenovo",
          "Lenovo",
          "Dell",
          "Dell",
          "Lenovo",
          "Asus",
          "Asus",
          "Acer",
          "MSI",
          "Dell",
          "HP",
          "Lenovo",
          "Lenovo",
          "Dell",
          "Lenovo",
          "Lenovo",
          "Asus",
          "Lenovo",
          "Acer",
          "MSI",
          "Asus",
          "Toshiba",
          "Dell",
          "Lenovo",
          "Lenovo",
          "Lenovo",
          "Lenovo",
          "HP",
          "Acer",
          "Asus",
          "Dell",
          "Dell",
          "HP",
          "Dell",
          "Lenovo",
          "Lenovo",
          "Chuwi",
          "HP",
          "Asus",
          "Dell",
          "Dell",
          "Dell",
          "Dell",
          "HP",
          "Mediacom",
          "Samsung",
          "Lenovo",
          "Lenovo",
          "Lenovo",
          "Lenovo",
          "Asus",
          "HP",
          "Google",
          "Lenovo",
          "Asus",
          "Lenovo",
          "Dell",
          "Lenovo",
          "Lenovo",
          "HP",
          "Dell",
          "Acer",
          "Dell",
          "MSI",
          "Microsoft",
          "HP",
          "Dell",
          "HP",
          "Lenovo",
          "Dell",
          "Dell",
          "Dell",
          "Microsoft",
          "Microsoft",
          "HP",
          "Acer",
          "Acer",
          "Asus",
          "Lenovo",
          "Lenovo",
          "Asus",
          "Acer",
          "Dell",
          "HP",
          "Lenovo",
          "HP",
          "HP",
          "Google",
          "Dell",
          "Asus",
          "Dell",
          "Dell",
          "Lenovo",
          "Dell",
          "Toshiba",
          "Dell",
          "Dell",
          "HP",
          "Chuwi",
          "Lenovo",
          "Lenovo",
          "Dell",
          "Dell",
          "Lenovo",
          "Asus",
          "Lenovo",
          "Toshiba",
          "Asus",
          "Acer",
          "Asus",
          "Lenovo",
          "Lenovo",
          "HP",
          "Lenovo",
          "Lenovo",
          "Asus",
          "HP",
          "Lenovo",
          "Lenovo",
          "Lenovo",
          "Lenovo",
          "Asus",
          "Acer",
          "HP",
          "Lenovo",
          "Dell",
          "Acer",
          "Dell",
          "Dell",
          "Xiaomi",
          "Asus",
          "HP",
          "Asus",
          "HP",
          "Asus",
          "Lenovo",
          "HP",
          "Dell",
          "HP",
          "Dell",
          "Lenovo",
          "Lenovo",
          "Lenovo",
          "Dell",
          "Dell",
          "Dell",
          "Toshiba",
          "Asus",
          "Mediacom",
          "Asus",
          "Dell",
          "Dell",
          "HP",
          "HP",
          "Lenovo",
          "Dell",
          "Dell",
          "HP",
          "Acer",
          "Asus",
          "HP",
          "Lenovo",
          "Lenovo",
          "HP",
          "Lenovo",
          "Lenovo",
          "Dell",
          "Dell",
          "HP",
          "HP",
          "Asus",
          "Mediacom",
          "Lenovo",
          "HP",
          "Dell",
          "Acer",
          "Lenovo",
          "HP",
          "Lenovo",
          "Asus",
          "Dell",
          "Dell",
          "Fujitsu",
          "Lenovo",
          "Lenovo",
          "HP",
          "HP",
          "HP",
          "Lenovo",
          "Lenovo",
          "Mediacom",
          "Toshiba",
          "Lenovo",
          "MSI",
          "Dell",
          "Mediacom",
          "Dell",
          "HP",
          "Dell",
          "Dell",
          "MSI",
          "HP",
          "Lenovo",
          "Lenovo",
          "Asus",
          "Asus",
          "Lenovo",
          "Dell",
          "Samsung",
          "Lenovo",
          "Lenovo",
          "Lenovo",
          "Lenovo",
          "Dell",
          "Dell",
          "HP",
          "HP",
          "Acer",
          "MSI",
          "Dell",
          "MSI",
          "Toshiba",
          "Lenovo",
          "Lenovo",
          "Acer",
          "Lenovo",
          "Dell",
          "Dell",
          "Dell",
          "Dell",
          "Asus",
          "Dell",
          "HP",
          "MSI",
          "Acer",
          "HP",
          "Lenovo",
          "Dell",
          "Fujitsu",
          "HP",
          "Lenovo",
          "Mediacom",
          "Lenovo",
          "Asus",
          "Dell",
          "Asus",
          "Dell",
          "Lenovo",
          "Lenovo",
          "Asus",
          "Asus",
          "Dell",
          "Lenovo",
          "Lenovo",
          "Dell",
          "Lenovo",
          "HP",
          "Lenovo",
          "Asus",
          "Acer",
          "Lenovo",
          "Acer",
          "Razer",
          "Toshiba",
          "Lenovo",
          "Asus",
          "Acer",
          "Dell",
          "MSI",
          "HP",
          "Toshiba",
          "Dell",
          "Dell",
          "Lenovo",
          "Dell",
          "Dell",
          "Lenovo",
          "Lenovo",
          "HP",
          "MSI",
          "Toshiba",
          "Dell",
          "HP",
          "Toshiba",
          "Acer",
          "Microsoft",
          "Lenovo",
          "Lenovo",
          "Lenovo",
          "HP",
          "MSI",
          "Asus",
          "HP",
          "LG",
          "Acer",
          "MSI",
          "Asus",
          "Dell",
          "HP",
          "Lenovo",
          "Dell",
          "HP",
          "Dell",
          "HP",
          "Lenovo",
          "Acer",
          "Lenovo",
          "HP",
          "Lenovo",
          "Toshiba",
          "Acer",
          "Lenovo",
          "Asus",
          "Toshiba",
          "HP",
          "Dell",
          "Lenovo",
          "Lenovo",
          "Lenovo",
          "Lenovo",
          "Dell",
          "Acer",
          "Lenovo",
          "Lenovo",
          "HP",
          "Lenovo",
          "Dell",
          "Dell",
          "Asus",
          "Dell",
          "Lenovo",
          "Dell",
          "Lenovo",
          "Mediacom",
          "HP",
          "Lenovo",
          "HP",
          "Lenovo",
          "Dell",
          "MSI",
          "Lenovo",
          "Dell",
          "Dell",
          "Dell",
          "HP",
          "Acer",
          "Dell",
          "HP",
          "Acer",
          "Lenovo",
          "Lenovo",
          "HP",
          "Dell",
          "MSI",
          "Acer",
          "Dell",
          "Dell",
          "Toshiba",
          "Lenovo",
          "Lenovo",
          "Acer",
          "Samsung",
          "HP",
          "Dell",
          "HP",
          "Lenovo",
          "HP",
          "Asus",
          "Lenovo",
          "Asus",
          "Lenovo",
          "HP",
          "HP",
          "Dell",
          "Acer",
          "Lenovo",
          "Dell",
          "Google",
          "Asus",
          "Dell",
          "Acer",
          "Asus",
          "Dell",
          "Samsung",
          "Acer",
          "Dell",
          "Samsung",
          "Toshiba",
          "Dell",
          "HP",
          "Asus",
          "Lenovo",
          "Acer",
          "Razer",
          "Asus",
          "Dell",
          "Asus",
          "Toshiba",
          "Lenovo",
          "Lenovo",
          "MSI",
          "MSI",
          "Lenovo",
          "Acer",
          "Dell",
          "Asus",
          "Vero",
          "Lenovo",
          "Lenovo",
          "Apple",
          "Lenovo",
          "Asus",
          "Dell",
          "Lenovo",
          "Dell",
          "HP",
          "Asus",
          "Dell",
          "Dell",
          "Dell",
          "HP",
          "Toshiba",
          "HP",
          "Dell",
          "Lenovo",
          "HP",
          "MSI",
          "Samsung",
          "Dell",
          "Dell",
          "Lenovo",
          "Razer",
          "HP",
          "Dell",
          "Dell",
          "Lenovo",
          "Toshiba",
          "Lenovo",
          "MSI",
          "Lenovo",
          "Toshiba",
          "Asus",
          "Dell",
          "Acer",
          "Acer",
          "Razer",
          "Lenovo",
          "Asus",
          "Lenovo",
          "Lenovo",
          "Dell",
          "Asus",
          "Toshiba",
          "Lenovo",
          "Asus",
          "Asus",
          "Dell",
          "HP",
          "Dell",
          "HP",
          "Dell",
          "HP",
          "Asus",
          "HP",
          "HP",
          "HP",
          "Asus",
          "Dell",
          "Lenovo",
          "Asus",
          "Dell",
          "Asus",
          "HP",
          "Dell",
          "Lenovo",
          "Lenovo",
          "HP",
          "Toshiba",
          "Lenovo",
          "Dell",
          "HP",
          "Toshiba",
          "Lenovo",
          "Acer",
          "Dell",
          "Lenovo",
          "Lenovo",
          "Toshiba",
          "Lenovo",
          "Samsung",
          "Dell",
          "Asus",
          "Xiaomi",
          "Dell",
          "HP",
          "HP",
          "HP",
          "Asus",
          "Lenovo",
          "Dell",
          "HP",
          "Dell",
          "Asus",
          "Acer",
          "Lenovo",
          "HP",
          "HP",
          "Samsung",
          "Lenovo",
          "MSI",
          "Toshiba",
          "Dell",
          "HP",
          "Dell",
          "Dell",
          "Dell",
          "Asus",
          "Dell",
          "Lenovo",
          "Lenovo",
          "LG",
          "HP",
          "Acer",
          "Lenovo",
          "LG",
          "Dell",
          "HP",
          "Lenovo",
          "HP",
          "Acer",
          "Lenovo",
          "HP",
          "MSI",
          "Dell",
          "MSI",
          "Dell",
          "HP",
          "HP",
          "Toshiba",
          "Lenovo",
          "Dell",
          "Lenovo",
          "HP",
          "Dell",
          "HP",
          "Lenovo",
          "HP",
          "HP",
          "Lenovo",
          "Toshiba",
          "HP",
          "Dell",
          "MSI",
          "Dell",
          "Dell",
          "HP",
          "Asus",
          "Acer",
          "Toshiba",
          "Lenovo",
          "Lenovo",
          "Dell",
          "Lenovo",
          "Dell",
          "Acer",
          "HP",
          "Dell",
          "Toshiba",
          "Asus",
          "Lenovo",
          "Dell",
          "Dell",
          "HP",
          "Dell",
          "Acer",
          "Toshiba",
          "Lenovo",
          "Acer",
          "Toshiba",
          "HP",
          "Dell",
          "Dell",
          "HP",
          "Dell",
          "Lenovo",
          "Dell",
          "Dell",
          "Dell",
          "Toshiba",
          "Asus",
          "HP",
          "Lenovo",
          "Asus",
          "HP",
          "Asus",
          "Dell",
          "Toshiba",
          "Lenovo",
          "Fujitsu",
          "Toshiba",
          "Dell",
          "HP",
          "Lenovo",
          "Dell",
          "Dell",
          "HP",
          "HP",
          "Lenovo",
          "Lenovo",
          "Dell",
          "Asus",
          "HP",
          "Acer",
          "Asus",
          "HP",
          "Acer",
          "HP",
          "Dell",
          "HP",
          "Toshiba",
          "HP",
          "HP",
          "HP",
          "HP",
          "HP",
          "Dell",
          "HP",
          "HP",
          "HP",
          "HP",
          "Toshiba",
          "HP",
          "Lenovo",
          "Toshiba",
          "HP",
          "Dell",
          "Toshiba",
          "HP",
          "HP",
          "Dell",
          "HP",
          "HP",
          "HP",
          "Dell",
          "HP",
          "HP",
          "Acer",
          "MSI",
          "HP",
          "HP",
          "HP",
          "HP",
          "Toshiba",
          "Dell",
          "HP",
          "Lenovo",
          "Vero",
          "Toshiba",
          "Lenovo",
          "HP",
          "HP",
          "HP",
          "MSI",
          "Lenovo",
          "Asus",
          "Lenovo",
          "HP",
          "Dell",
          "HP",
          "Dell",
          "HP",
          "HP",
          "Acer",
          "Dell",
          "MSI",
          "HP",
          "Asus",
          "Dell",
          "Dell",
          "MSI",
          "Dell",
          "Asus",
          "Dell",
          "Dell",
          "Apple",
          "Dell",
          "HP",
          "HP",
          "HP",
          "Lenovo",
          "Lenovo",
          "Lenovo",
          "MSI",
          "Lenovo",
          "HP",
          "Lenovo",
          "Lenovo",
          "Lenovo",
          "HP",
          "Dell",
          "HP",
          "HP",
          "Lenovo",
          "HP",
          "Acer",
          "Dell",
          "HP",
          "Asus",
          "Dell",
          "HP",
          "Acer",
          "Dell",
          "MSI",
          "HP",
          "Asus",
          "Dell",
          "Dell",
          "Acer",
          "HP",
          "Lenovo",
          "Dell",
          "MSI",
          "Lenovo",
          "HP",
          "Asus",
          "HP",
          "Dell",
          "Lenovo",
          "HP",
          "Lenovo",
          "Dell",
          "Lenovo",
          "Razer",
          "Toshiba",
          "Asus",
          "Vero",
          "HP",
          "HP",
          "Dell",
          "Asus",
          "Lenovo",
          "Lenovo",
          "HP",
          "Lenovo",
          "HP",
          "HP",
          "Lenovo",
          "Asus",
          "HP",
          "Acer",
          "Lenovo",
          "HP",
          "Dell",
          "MSI",
          "HP",
          "Lenovo",
          "MSI",
          "HP",
          "HP",
          "HP",
          "HP",
          "HP",
          "Dell",
          "HP",
          "Lenovo",
          "Lenovo",
          "HP",
          "Lenovo",
          "Dell",
          "Dell",
          "HP",
          "MSI",
          "Lenovo",
          "Lenovo",
          "HP",
          "Lenovo",
          "MSI",
          "HP",
          "Lenovo",
          "HP",
          "Dell",
          "Lenovo",
          "Lenovo",
          "HP",
          "MSI",
          "HP",
          "HP",
          "Asus",
          "Lenovo",
          "Lenovo",
          "Asus",
          "Lenovo",
          "Lenovo",
          "MSI",
          "HP",
          "Lenovo",
          "Lenovo",
          "Dell",
          "Acer",
          "HP",
          "Asus",
          "Dell",
          "Acer",
          "Dell",
          "Acer",
          "Lenovo",
          "Samsung",
          "HP",
          "Apple",
          "Dell",
          "HP",
          "Lenovo",
          "Asus",
          "Acer",
          "MSI",
          "Dell",
          "Lenovo",
          "Dell",
          "Dell",
          "Asus",
          "Dell",
          "HP",
          "Lenovo",
          "Acer",
          "Asus",
          "Apple",
          "Asus",
          "MSI",
          "Dell",
          "Asus",
          "Acer",
          "Acer",
          "Lenovo",
          "Lenovo",
          "Acer",
          "Lenovo",
          "MSI",
          "HP",
          "Dell",
          "Dell",
          "Asus",
          "Dell",
          "Dell",
          "Lenovo",
          "MSI",
          "Lenovo",
          "Razer",
          "Dell",
          "MSI",
          "Apple",
          "HP",
          "HP",
          "Dell",
          "MSI",
          "Lenovo",
          "Lenovo",
          "Asus",
          "Acer",
          "Dell",
          "HP",
          "Asus",
          "Dell",
          "Asus",
          "Lenovo",
          "Dell",
          "Dell",
          "HP",
          "Lenovo",
          "Lenovo",
          "Dell",
          "Asus",
          "Asus",
          "Dell",
          "Lenovo",
          "MSI",
          "Lenovo",
          "Asus",
          "Dell",
          "Acer",
          "Dell",
          "Lenovo",
          "HP",
          "Dell",
          "HP",
          "Asus",
          "Lenovo",
          "Lenovo",
          "Lenovo",
          "HP",
          "Asus",
          "Asus",
          "Dell",
          "Acer",
          "Dell",
          "Lenovo",
          "HP",
          "Dell",
          "HP",
          "Asus",
          "Lenovo",
          "Lenovo",
          "Lenovo",
          "HP",
          "Asus",
          "Asus",
          "Dell",
          "Acer",
          "Dell",
          "Lenovo",
          "HP",
          "Dell",
          "HP",
          "Asus",
          "Lenovo",
          "Lenovo",
          "Lenovo",
          "HP",
          "Asus"
         ],
         "x0": " ",
         "xaxis": "x",
         "y": [
          13.3,
          13.3,
          15.6,
          15.4,
          13.3,
          15.6,
          15.4,
          13.3,
          14,
          14,
          15.6,
          15.6,
          15.4,
          15.6,
          12,
          13.3,
          15.6,
          15.4,
          15.6,
          13.3,
          11.6,
          15.6,
          15.6,
          13.3,
          15.6,
          15.6,
          13.3,
          15.6,
          15.6,
          17.3,
          15.6,
          14,
          17.3,
          13.3,
          13.3,
          14,
          15.6,
          17.3,
          15.6,
          15.6,
          15.6,
          15.6,
          15.6,
          15.6,
          17.3,
          13.3,
          15.6,
          17.3,
          15.6,
          17.3,
          10.1,
          15.6,
          15.6,
          13.3,
          15.6,
          15.6,
          15.6,
          15.6,
          17.3,
          15.6,
          17.3,
          14,
          14,
          14,
          15.6,
          15.6,
          15.6,
          14,
          15.6,
          17.3,
          13.5,
          13.3,
          15.6,
          17.3,
          14,
          15.6,
          15.6,
          15.6,
          15.6,
          17.3,
          15.6,
          12,
          14,
          15.6,
          15.6,
          15.6,
          15.6,
          15.6,
          15.6,
          13.3,
          15.6,
          15.6,
          13.3,
          15.6,
          14,
          13.3,
          15.6,
          15.6,
          15.6,
          15.6,
          15.6,
          15.6,
          15.6,
          13.3,
          13.5,
          14,
          15.6,
          14,
          15.6,
          14,
          15.6,
          13.3,
          13.3,
          14,
          13.3,
          13.3,
          14,
          15.6,
          17.3,
          15.6,
          15.6,
          15.6,
          15.6,
          17.3,
          15.6,
          15.6,
          14,
          14,
          17.3,
          17.3,
          15.6,
          15.6,
          14,
          15.6,
          15.6,
          14,
          15.6,
          17.3,
          15.6,
          13.3,
          17.3,
          14,
          15.6,
          15.6,
          15.6,
          14,
          12.5,
          15.6,
          17.3,
          15.6,
          15.6,
          15.6,
          15.6,
          17.3,
          14,
          15.6,
          14,
          13.3,
          15.6,
          15.6,
          15.6,
          17.3,
          15.6,
          15.6,
          15.6,
          15.6,
          15.6,
          15.6,
          17.3,
          13.3,
          13,
          17.3,
          15.6,
          15.6,
          17.3,
          15.6,
          15.6,
          18.4,
          15.6,
          13.3,
          15.6,
          13.3,
          13.9,
          15.6,
          15.6,
          17.3,
          15.6,
          15.6,
          13.3,
          17.3,
          14,
          14,
          13.3,
          17.3,
          13.3,
          17.3,
          17.3,
          13.3,
          17.3,
          17.3,
          15.6,
          15.6,
          15.6,
          15.6,
          15.6,
          15.6,
          15.6,
          13.3,
          13.3,
          15.6,
          15.6,
          17.3,
          15.6,
          15.6,
          13,
          13.3,
          17.3,
          14,
          14,
          13.3,
          15.6,
          14,
          13.3,
          15.6,
          17.3,
          15.6,
          15.6,
          15.6,
          17.3,
          15.6,
          15.6,
          15.6,
          15.6,
          14,
          13.3,
          15.6,
          15.6,
          15.6,
          17.3,
          15.6,
          15.6,
          17.3,
          17.3,
          15.6,
          13.9,
          15.6,
          15.6,
          17.3,
          13.3,
          13.3,
          15.6,
          17.3,
          15.6,
          13.9,
          17.3,
          13.3,
          15.6,
          17.3,
          17.3,
          15.6,
          17.3,
          15.6,
          15.6,
          15.6,
          15.6,
          15.6,
          13.3,
          15.6,
          17.3,
          15.6,
          13.3,
          17.3,
          15.6,
          14,
          15.6,
          15.6,
          17.3,
          15.6,
          17.3,
          17.3,
          17.3,
          15.6,
          15.6,
          15.6,
          15.6,
          15.6,
          15.6,
          15.6,
          15.6,
          15.6,
          15.6,
          17.3,
          17.3,
          15.6,
          15.6,
          15.6,
          15.6,
          17.3,
          15.6,
          15.6,
          14,
          17.3,
          17.3,
          15.6,
          15.6,
          15.6,
          13.3,
          15.6,
          15.6,
          15.6,
          13.3,
          13.3,
          15.6,
          15.6,
          11.6,
          15.6,
          13.3,
          13.3,
          14,
          11.6,
          14,
          17.3,
          14,
          15.6,
          15.6,
          14,
          15.6,
          15.6,
          12.5,
          15.6,
          17.3,
          15.6,
          14,
          15.6,
          15.6,
          14,
          15.6,
          15.6,
          15.6,
          15.6,
          15.6,
          15.6,
          15.6,
          13.9,
          13.3,
          15.6,
          14,
          15.6,
          11.6,
          15.6,
          15.6,
          15.6,
          17.3,
          15.6,
          15.6,
          15.6,
          15.6,
          15.6,
          15.6,
          14,
          15.6,
          14,
          17.3,
          15.6,
          15.6,
          15.6,
          17.3,
          15.6,
          15.6,
          14,
          15.6,
          15.6,
          17.3,
          17.3,
          13.3,
          15.6,
          11.6,
          15.6,
          14,
          15.6,
          17.3,
          15.6,
          15.6,
          14,
          13.3,
          14,
          13.3,
          15.6,
          15.6,
          14,
          17.3,
          17.3,
          15.6,
          17.3,
          15.6,
          15.6,
          15.6,
          14,
          15.6,
          14,
          15.6,
          17.3,
          15.6,
          15.6,
          17.3,
          14,
          13.3,
          14,
          15.6,
          11.6,
          15.6,
          14,
          15.6,
          13.3,
          13.3,
          15.6,
          13.3,
          14,
          15.6,
          14,
          15.6,
          12.3,
          15.6,
          15.6,
          17.3,
          15.6,
          15.6,
          14,
          17.3,
          11.6,
          11.6,
          13.3,
          14,
          15.6,
          15.6,
          17.3,
          15.6,
          12.3,
          14,
          15.6,
          17.3,
          15.6,
          12.5,
          15.6,
          15.6,
          14,
          15.6,
          15.6,
          15.6,
          13.5,
          15.6,
          15.6,
          15.6,
          14,
          15.6,
          11.6,
          17.3,
          13.5,
          13.5,
          17.3,
          15.6,
          11.6,
          15.6,
          14,
          15.6,
          15.6,
          15.6,
          15.6,
          17.3,
          14,
          13.3,
          15.6,
          12.3,
          13.3,
          15.6,
          14,
          15.6,
          14,
          15.6,
          13.3,
          15.6,
          15.6,
          13.3,
          15.6,
          15.6,
          14,
          15.6,
          15.6,
          12.5,
          12.5,
          15.6,
          13.3,
          15.6,
          15.6,
          17.3,
          12.5,
          15.6,
          14,
          13.3,
          15.6,
          11.6,
          15.6,
          13.9,
          14,
          11.6,
          13.3,
          15.6,
          15.6,
          13.3,
          15.6,
          13.3,
          15.6,
          15.6,
          15.6,
          15.6,
          11.6,
          15.6,
          15.6,
          15.6,
          17.3,
          15.6,
          13.3,
          14,
          15.6,
          17.3,
          14,
          15.6,
          15.6,
          15.6,
          15.6,
          17.3,
          15.6,
          15.6,
          13.3,
          15.6,
          15.6,
          15.6,
          15.6,
          17.3,
          14,
          13.3,
          14,
          13.3,
          15.6,
          15.6,
          15.6,
          14,
          15.6,
          15.6,
          15.6,
          15.6,
          15.6,
          17.3,
          17.3,
          17.3,
          15.6,
          13.3,
          17.3,
          15.6,
          15.6,
          11.6,
          15.6,
          13.3,
          17.3,
          15.6,
          13.3,
          15.6,
          15.6,
          15.6,
          14,
          17.3,
          14,
          15.6,
          15.6,
          15.6,
          14,
          14,
          17.3,
          17.3,
          15.6,
          14,
          15.6,
          13.3,
          15.6,
          11.6,
          17.3,
          17.3,
          14,
          15.6,
          17.3,
          15.6,
          15.6,
          11.6,
          15.6,
          17.3,
          15.6,
          13.3,
          14,
          12.5,
          15.6,
          15.6,
          15.6,
          14,
          17.3,
          15.6,
          15.6,
          15.6,
          15.6,
          15.6,
          14,
          15.6,
          15.6,
          15.6,
          15.6,
          15.6,
          17.3,
          15.6,
          15.6,
          15.6,
          11.6,
          14,
          14,
          15.6,
          15.6,
          15.6,
          15.6,
          14,
          15.6,
          13.3,
          15.6,
          14,
          15.6,
          15.6,
          15.6,
          15.6,
          15.6,
          13.3,
          14,
          13.3,
          15.6,
          15.6,
          17,
          14,
          15.6,
          15.6,
          14,
          14,
          14,
          13.3,
          12.5,
          17.3,
          15.6,
          13.3,
          15.6,
          15.6,
          15.6,
          15.6,
          15.6,
          15.6,
          17.3,
          14,
          15.6,
          15.6,
          15.6,
          17.3,
          15.6,
          15.6,
          15.6,
          15.6,
          15.6,
          13.5,
          15.6,
          13.3,
          15.6,
          14,
          15.6,
          14,
          11.6,
          15.6,
          15.6,
          15.6,
          15.6,
          15.6,
          17.3,
          13.3,
          15.6,
          15.6,
          15.6,
          17.3,
          15.6,
          14,
          14,
          17.3,
          14,
          13.3,
          11.6,
          14,
          12.5,
          13.3,
          15.6,
          15.6,
          15.6,
          15.6,
          15.6,
          15.6,
          15.6,
          13.3,
          15.6,
          14,
          17.3,
          15.6,
          14,
          15.6,
          14,
          15.6,
          14,
          15.6,
          15.6,
          14,
          17.3,
          14,
          13.3,
          14,
          17.3,
          17.3,
          15.6,
          15.6,
          13.3,
          15.6,
          15.6,
          17.3,
          15.6,
          15.6,
          15.6,
          13.3,
          15.6,
          15.6,
          13.3,
          15.6,
          15.6,
          15.6,
          15.6,
          14,
          14,
          15.6,
          14,
          13.3,
          15.6,
          14,
          17.3,
          11.6,
          15.6,
          15.6,
          14,
          15.6,
          13.3,
          15.6,
          15.6,
          15.6,
          15.6,
          15.6,
          12.5,
          12.3,
          13.3,
          13.3,
          13.3,
          17.3,
          15.6,
          13.3,
          15.6,
          15.6,
          15,
          14,
          15.6,
          12.5,
          15.6,
          15.6,
          14,
          14,
          15.6,
          17.3,
          17.3,
          14,
          15.6,
          14,
          14,
          15.6,
          15.6,
          17.3,
          15.6,
          15.6,
          14,
          13.3,
          15.6,
          12,
          14,
          14,
          15.6,
          13.9,
          15.6,
          15.6,
          15.6,
          13.3,
          15.6,
          11.6,
          12.5,
          15.6,
          15.6,
          15.6,
          15.6,
          17.3,
          17.3,
          13.3,
          15.6,
          15.6,
          14,
          12.5,
          11.6,
          17.3,
          14,
          15.6,
          14,
          14,
          15.6,
          14,
          14,
          13.3,
          14,
          11.6,
          14,
          17.3,
          14,
          15.6,
          14,
          14,
          15.6,
          17.3,
          15.6,
          14,
          15.6,
          17.3,
          17.3,
          17.3,
          15.6,
          14,
          15.6,
          11.6,
          13.3,
          13.3,
          14,
          15.6,
          15.6,
          17.3,
          14,
          15.6,
          15.6,
          15.6,
          13.3,
          13.3,
          15.6,
          15.6,
          15.6,
          13.3,
          15.6,
          13.3,
          15.6,
          13.3,
          13.3,
          14,
          15.6,
          15.6,
          15.6,
          15.6,
          13.3,
          15,
          12.5,
          15.6,
          13.3,
          15.6,
          15.6,
          13.3,
          15.6,
          14.1,
          15.6,
          15.6,
          13.3,
          15.6,
          17.3,
          11.6,
          17.3,
          14,
          13.3,
          15,
          14,
          17.3,
          13.3,
          15.6,
          15.6,
          15.6,
          15.6,
          13.3,
          17.3,
          13.3,
          14,
          15.6,
          15.6,
          12.5,
          15.6,
          15.6,
          14,
          14,
          12.5,
          15.6,
          15.6,
          15.6,
          13.3,
          13.3,
          17.3,
          15.6,
          15.6,
          15.6,
          15.6,
          13.3,
          15.6,
          13.3,
          15.6,
          12.5,
          15.6,
          15.6,
          14,
          15.6,
          12.5,
          15.6,
          13.3,
          14,
          12.5,
          15.6,
          15.6,
          14,
          17.3,
          17.3,
          17.3,
          15.6,
          15.6,
          11.3,
          15.6,
          12.5,
          15.6,
          17.3,
          14,
          15.6,
          14,
          13.3,
          12.5,
          14,
          17.3,
          13.3,
          11.6,
          13.3,
          11.6,
          13.3,
          12.5,
          15.6,
          12.5,
          15.6,
          15.6,
          15.6,
          15.6,
          17.3,
          15.6,
          13.3,
          14,
          17.3,
          14,
          17.3,
          15.6,
          14,
          15.6,
          15.6,
          17.3,
          15.6,
          13.3,
          15.6,
          15.6,
          14,
          15.6,
          15.6,
          15.6,
          15.6,
          14,
          12.5,
          15.6,
          15.6,
          15.6,
          13.3,
          13.3,
          13.3,
          15.6,
          15.6,
          14,
          15.6,
          13.3,
          15.6,
          14,
          13.3,
          14,
          14,
          14,
          14,
          14,
          15.6,
          12.5,
          14,
          14,
          13.3,
          13.3,
          15.6,
          17.3,
          14,
          14,
          15.6,
          13.3,
          13.3,
          14,
          15.6,
          12.5,
          14,
          14,
          13.3,
          17.3,
          14,
          15.6,
          17.3,
          14,
          15.6,
          12.5,
          15.6,
          14,
          15.6,
          14,
          15.6,
          14,
          15.6,
          15.6,
          14,
          15.6,
          14,
          17.3,
          17.3,
          11.6,
          14,
          15.6,
          15.6,
          15.6,
          13.3,
          15.6,
          15.6,
          15.6,
          13.3,
          15.6,
          15.6,
          17.3,
          15.6,
          15.6,
          15.6,
          13.3,
          17.3,
          13.3,
          15.6,
          12,
          15.6,
          15.6,
          12.5,
          13.3,
          12.5,
          17.3,
          15.6,
          17.3,
          15.6,
          15.6,
          12.5,
          17.3,
          10.1,
          13.3,
          15.6,
          14,
          15.6,
          14,
          13.3,
          15.6,
          15.6,
          15.6,
          17.3,
          13.3,
          12.5,
          15.6,
          15.6,
          17.3,
          15.6,
          17.3,
          12.5,
          12.5,
          15.6,
          17.3,
          15.6,
          12.5,
          17.3,
          15.6,
          15.6,
          15.6,
          13.3,
          15.6,
          15.6,
          13.3,
          10.1,
          13.3,
          17.3,
          12.5,
          13.3,
          17.3,
          13.3,
          13.3,
          14,
          15.6,
          15.6,
          14,
          10.1,
          12.5,
          15.6,
          17.3,
          15.6,
          14,
          14,
          15.6,
          15.6,
          15.6,
          17.3,
          15.6,
          17.3,
          15.6,
          14,
          15.6,
          13.3,
          15.6,
          13.3,
          15.6,
          12.5,
          15.6,
          15.6,
          14,
          15.6,
          15.6,
          15.6,
          15.6,
          15.6,
          15.6,
          17.3,
          14,
          15.6,
          13.3,
          14,
          14,
          15.6,
          15.6,
          15.6,
          15.6,
          15.6,
          15.6,
          14,
          15.6,
          15.6,
          15.6,
          15.6,
          15.6,
          15.6,
          14,
          15.6,
          15.6,
          15.6,
          15.6,
          14,
          15.6,
          15.6,
          15.6,
          15.6,
          15.6,
          15.6,
          15.6,
          13.3,
          17.3,
          15.6,
          12.3,
          15.6,
          12,
          13.3,
          15.6,
          15.6,
          17.3,
          15.6,
          17.3,
          15.6,
          15.6,
          15.6,
          13.3,
          15.6,
          15.6,
          15.6,
          15.6,
          17.3,
          15.6,
          12,
          15.6,
          17.3,
          15.6,
          17.3,
          11.6,
          17.3,
          17.3,
          15.6,
          14,
          15.6,
          15.6,
          15.6,
          12.5,
          15,
          15.6,
          13.3,
          15.6,
          15.6,
          15.6,
          12.5,
          14,
          15.6,
          17.3,
          11.6,
          15.6,
          14,
          15.6,
          15.6,
          13.3,
          15.6,
          13.3,
          15.6,
          17.3,
          14,
          15.6,
          14,
          15.6,
          15.6,
          13.3,
          15.6,
          15.6,
          15.6,
          14,
          15.6,
          15.6,
          17.3,
          15.6,
          15.6,
          15.6,
          14,
          13.3,
          15.6,
          15.6,
          15.6,
          15.6,
          15.6,
          15.6,
          11.6,
          15.6,
          14,
          13.3,
          14,
          15.6,
          15.6,
          13.3,
          15.6,
          15.6,
          15.6,
          15.6,
          15.6,
          15.6,
          11.6,
          15.6,
          14,
          13.3,
          14,
          15.6,
          15.6,
          13.3,
          15.6,
          15.6,
          15.6,
          15.6,
          15.6,
          15.6,
          11.6,
          15.6,
          14,
          13.3,
          14,
          15.6,
          15.6
         ],
         "y0": " ",
         "yaxis": "y"
        }
       ],
       "layout": {
        "boxmode": "group",
        "legend": {
         "tracegroupgap": 0
        },
        "template": {
         "data": {
          "bar": [
           {
            "error_x": {
             "color": "#2a3f5f"
            },
            "error_y": {
             "color": "#2a3f5f"
            },
            "marker": {
             "line": {
              "color": "#E5ECF6",
              "width": 0.5
             },
             "pattern": {
              "fillmode": "overlay",
              "size": 10,
              "solidity": 0.2
             }
            },
            "type": "bar"
           }
          ],
          "barpolar": [
           {
            "marker": {
             "line": {
              "color": "#E5ECF6",
              "width": 0.5
             },
             "pattern": {
              "fillmode": "overlay",
              "size": 10,
              "solidity": 0.2
             }
            },
            "type": "barpolar"
           }
          ],
          "carpet": [
           {
            "aaxis": {
             "endlinecolor": "#2a3f5f",
             "gridcolor": "white",
             "linecolor": "white",
             "minorgridcolor": "white",
             "startlinecolor": "#2a3f5f"
            },
            "baxis": {
             "endlinecolor": "#2a3f5f",
             "gridcolor": "white",
             "linecolor": "white",
             "minorgridcolor": "white",
             "startlinecolor": "#2a3f5f"
            },
            "type": "carpet"
           }
          ],
          "choropleth": [
           {
            "colorbar": {
             "outlinewidth": 0,
             "ticks": ""
            },
            "type": "choropleth"
           }
          ],
          "contour": [
           {
            "colorbar": {
             "outlinewidth": 0,
             "ticks": ""
            },
            "colorscale": [
             [
              0,
              "#0d0887"
             ],
             [
              0.1111111111111111,
              "#46039f"
             ],
             [
              0.2222222222222222,
              "#7201a8"
             ],
             [
              0.3333333333333333,
              "#9c179e"
             ],
             [
              0.4444444444444444,
              "#bd3786"
             ],
             [
              0.5555555555555556,
              "#d8576b"
             ],
             [
              0.6666666666666666,
              "#ed7953"
             ],
             [
              0.7777777777777778,
              "#fb9f3a"
             ],
             [
              0.8888888888888888,
              "#fdca26"
             ],
             [
              1,
              "#f0f921"
             ]
            ],
            "type": "contour"
           }
          ],
          "contourcarpet": [
           {
            "colorbar": {
             "outlinewidth": 0,
             "ticks": ""
            },
            "type": "contourcarpet"
           }
          ],
          "heatmap": [
           {
            "colorbar": {
             "outlinewidth": 0,
             "ticks": ""
            },
            "colorscale": [
             [
              0,
              "#0d0887"
             ],
             [
              0.1111111111111111,
              "#46039f"
             ],
             [
              0.2222222222222222,
              "#7201a8"
             ],
             [
              0.3333333333333333,
              "#9c179e"
             ],
             [
              0.4444444444444444,
              "#bd3786"
             ],
             [
              0.5555555555555556,
              "#d8576b"
             ],
             [
              0.6666666666666666,
              "#ed7953"
             ],
             [
              0.7777777777777778,
              "#fb9f3a"
             ],
             [
              0.8888888888888888,
              "#fdca26"
             ],
             [
              1,
              "#f0f921"
             ]
            ],
            "type": "heatmap"
           }
          ],
          "heatmapgl": [
           {
            "colorbar": {
             "outlinewidth": 0,
             "ticks": ""
            },
            "colorscale": [
             [
              0,
              "#0d0887"
             ],
             [
              0.1111111111111111,
              "#46039f"
             ],
             [
              0.2222222222222222,
              "#7201a8"
             ],
             [
              0.3333333333333333,
              "#9c179e"
             ],
             [
              0.4444444444444444,
              "#bd3786"
             ],
             [
              0.5555555555555556,
              "#d8576b"
             ],
             [
              0.6666666666666666,
              "#ed7953"
             ],
             [
              0.7777777777777778,
              "#fb9f3a"
             ],
             [
              0.8888888888888888,
              "#fdca26"
             ],
             [
              1,
              "#f0f921"
             ]
            ],
            "type": "heatmapgl"
           }
          ],
          "histogram": [
           {
            "marker": {
             "pattern": {
              "fillmode": "overlay",
              "size": 10,
              "solidity": 0.2
             }
            },
            "type": "histogram"
           }
          ],
          "histogram2d": [
           {
            "colorbar": {
             "outlinewidth": 0,
             "ticks": ""
            },
            "colorscale": [
             [
              0,
              "#0d0887"
             ],
             [
              0.1111111111111111,
              "#46039f"
             ],
             [
              0.2222222222222222,
              "#7201a8"
             ],
             [
              0.3333333333333333,
              "#9c179e"
             ],
             [
              0.4444444444444444,
              "#bd3786"
             ],
             [
              0.5555555555555556,
              "#d8576b"
             ],
             [
              0.6666666666666666,
              "#ed7953"
             ],
             [
              0.7777777777777778,
              "#fb9f3a"
             ],
             [
              0.8888888888888888,
              "#fdca26"
             ],
             [
              1,
              "#f0f921"
             ]
            ],
            "type": "histogram2d"
           }
          ],
          "histogram2dcontour": [
           {
            "colorbar": {
             "outlinewidth": 0,
             "ticks": ""
            },
            "colorscale": [
             [
              0,
              "#0d0887"
             ],
             [
              0.1111111111111111,
              "#46039f"
             ],
             [
              0.2222222222222222,
              "#7201a8"
             ],
             [
              0.3333333333333333,
              "#9c179e"
             ],
             [
              0.4444444444444444,
              "#bd3786"
             ],
             [
              0.5555555555555556,
              "#d8576b"
             ],
             [
              0.6666666666666666,
              "#ed7953"
             ],
             [
              0.7777777777777778,
              "#fb9f3a"
             ],
             [
              0.8888888888888888,
              "#fdca26"
             ],
             [
              1,
              "#f0f921"
             ]
            ],
            "type": "histogram2dcontour"
           }
          ],
          "mesh3d": [
           {
            "colorbar": {
             "outlinewidth": 0,
             "ticks": ""
            },
            "type": "mesh3d"
           }
          ],
          "parcoords": [
           {
            "line": {
             "colorbar": {
              "outlinewidth": 0,
              "ticks": ""
             }
            },
            "type": "parcoords"
           }
          ],
          "pie": [
           {
            "automargin": true,
            "type": "pie"
           }
          ],
          "scatter": [
           {
            "fillpattern": {
             "fillmode": "overlay",
             "size": 10,
             "solidity": 0.2
            },
            "type": "scatter"
           }
          ],
          "scatter3d": [
           {
            "line": {
             "colorbar": {
              "outlinewidth": 0,
              "ticks": ""
             }
            },
            "marker": {
             "colorbar": {
              "outlinewidth": 0,
              "ticks": ""
             }
            },
            "type": "scatter3d"
           }
          ],
          "scattercarpet": [
           {
            "marker": {
             "colorbar": {
              "outlinewidth": 0,
              "ticks": ""
             }
            },
            "type": "scattercarpet"
           }
          ],
          "scattergeo": [
           {
            "marker": {
             "colorbar": {
              "outlinewidth": 0,
              "ticks": ""
             }
            },
            "type": "scattergeo"
           }
          ],
          "scattergl": [
           {
            "marker": {
             "colorbar": {
              "outlinewidth": 0,
              "ticks": ""
             }
            },
            "type": "scattergl"
           }
          ],
          "scattermapbox": [
           {
            "marker": {
             "colorbar": {
              "outlinewidth": 0,
              "ticks": ""
             }
            },
            "type": "scattermapbox"
           }
          ],
          "scatterpolar": [
           {
            "marker": {
             "colorbar": {
              "outlinewidth": 0,
              "ticks": ""
             }
            },
            "type": "scatterpolar"
           }
          ],
          "scatterpolargl": [
           {
            "marker": {
             "colorbar": {
              "outlinewidth": 0,
              "ticks": ""
             }
            },
            "type": "scatterpolargl"
           }
          ],
          "scatterternary": [
           {
            "marker": {
             "colorbar": {
              "outlinewidth": 0,
              "ticks": ""
             }
            },
            "type": "scatterternary"
           }
          ],
          "surface": [
           {
            "colorbar": {
             "outlinewidth": 0,
             "ticks": ""
            },
            "colorscale": [
             [
              0,
              "#0d0887"
             ],
             [
              0.1111111111111111,
              "#46039f"
             ],
             [
              0.2222222222222222,
              "#7201a8"
             ],
             [
              0.3333333333333333,
              "#9c179e"
             ],
             [
              0.4444444444444444,
              "#bd3786"
             ],
             [
              0.5555555555555556,
              "#d8576b"
             ],
             [
              0.6666666666666666,
              "#ed7953"
             ],
             [
              0.7777777777777778,
              "#fb9f3a"
             ],
             [
              0.8888888888888888,
              "#fdca26"
             ],
             [
              1,
              "#f0f921"
             ]
            ],
            "type": "surface"
           }
          ],
          "table": [
           {
            "cells": {
             "fill": {
              "color": "#EBF0F8"
             },
             "line": {
              "color": "white"
             }
            },
            "header": {
             "fill": {
              "color": "#C8D4E3"
             },
             "line": {
              "color": "white"
             }
            },
            "type": "table"
           }
          ]
         },
         "layout": {
          "annotationdefaults": {
           "arrowcolor": "#2a3f5f",
           "arrowhead": 0,
           "arrowwidth": 1
          },
          "autotypenumbers": "strict",
          "coloraxis": {
           "colorbar": {
            "outlinewidth": 0,
            "ticks": ""
           }
          },
          "colorscale": {
           "diverging": [
            [
             0,
             "#8e0152"
            ],
            [
             0.1,
             "#c51b7d"
            ],
            [
             0.2,
             "#de77ae"
            ],
            [
             0.3,
             "#f1b6da"
            ],
            [
             0.4,
             "#fde0ef"
            ],
            [
             0.5,
             "#f7f7f7"
            ],
            [
             0.6,
             "#e6f5d0"
            ],
            [
             0.7,
             "#b8e186"
            ],
            [
             0.8,
             "#7fbc41"
            ],
            [
             0.9,
             "#4d9221"
            ],
            [
             1,
             "#276419"
            ]
           ],
           "sequential": [
            [
             0,
             "#0d0887"
            ],
            [
             0.1111111111111111,
             "#46039f"
            ],
            [
             0.2222222222222222,
             "#7201a8"
            ],
            [
             0.3333333333333333,
             "#9c179e"
            ],
            [
             0.4444444444444444,
             "#bd3786"
            ],
            [
             0.5555555555555556,
             "#d8576b"
            ],
            [
             0.6666666666666666,
             "#ed7953"
            ],
            [
             0.7777777777777778,
             "#fb9f3a"
            ],
            [
             0.8888888888888888,
             "#fdca26"
            ],
            [
             1,
             "#f0f921"
            ]
           ],
           "sequentialminus": [
            [
             0,
             "#0d0887"
            ],
            [
             0.1111111111111111,
             "#46039f"
            ],
            [
             0.2222222222222222,
             "#7201a8"
            ],
            [
             0.3333333333333333,
             "#9c179e"
            ],
            [
             0.4444444444444444,
             "#bd3786"
            ],
            [
             0.5555555555555556,
             "#d8576b"
            ],
            [
             0.6666666666666666,
             "#ed7953"
            ],
            [
             0.7777777777777778,
             "#fb9f3a"
            ],
            [
             0.8888888888888888,
             "#fdca26"
            ],
            [
             1,
             "#f0f921"
            ]
           ]
          },
          "colorway": [
           "#636efa",
           "#EF553B",
           "#00cc96",
           "#ab63fa",
           "#FFA15A",
           "#19d3f3",
           "#FF6692",
           "#B6E880",
           "#FF97FF",
           "#FECB52"
          ],
          "font": {
           "color": "#2a3f5f"
          },
          "geo": {
           "bgcolor": "white",
           "lakecolor": "white",
           "landcolor": "#E5ECF6",
           "showlakes": true,
           "showland": true,
           "subunitcolor": "white"
          },
          "hoverlabel": {
           "align": "left"
          },
          "hovermode": "closest",
          "mapbox": {
           "style": "light"
          },
          "paper_bgcolor": "white",
          "plot_bgcolor": "#E5ECF6",
          "polar": {
           "angularaxis": {
            "gridcolor": "white",
            "linecolor": "white",
            "ticks": ""
           },
           "bgcolor": "#E5ECF6",
           "radialaxis": {
            "gridcolor": "white",
            "linecolor": "white",
            "ticks": ""
           }
          },
          "scene": {
           "xaxis": {
            "backgroundcolor": "#E5ECF6",
            "gridcolor": "white",
            "gridwidth": 2,
            "linecolor": "white",
            "showbackground": true,
            "ticks": "",
            "zerolinecolor": "white"
           },
           "yaxis": {
            "backgroundcolor": "#E5ECF6",
            "gridcolor": "white",
            "gridwidth": 2,
            "linecolor": "white",
            "showbackground": true,
            "ticks": "",
            "zerolinecolor": "white"
           },
           "zaxis": {
            "backgroundcolor": "#E5ECF6",
            "gridcolor": "white",
            "gridwidth": 2,
            "linecolor": "white",
            "showbackground": true,
            "ticks": "",
            "zerolinecolor": "white"
           }
          },
          "shapedefaults": {
           "line": {
            "color": "#2a3f5f"
           }
          },
          "ternary": {
           "aaxis": {
            "gridcolor": "white",
            "linecolor": "white",
            "ticks": ""
           },
           "baxis": {
            "gridcolor": "white",
            "linecolor": "white",
            "ticks": ""
           },
           "bgcolor": "#E5ECF6",
           "caxis": {
            "gridcolor": "white",
            "linecolor": "white",
            "ticks": ""
           }
          },
          "title": {
           "x": 0.05
          },
          "xaxis": {
           "automargin": true,
           "gridcolor": "white",
           "linecolor": "white",
           "ticks": "",
           "title": {
            "standoff": 15
           },
           "zerolinecolor": "white",
           "zerolinewidth": 2
          },
          "yaxis": {
           "automargin": true,
           "gridcolor": "white",
           "linecolor": "white",
           "ticks": "",
           "title": {
            "standoff": 15
           },
           "zerolinecolor": "white",
           "zerolinewidth": 2
          }
         }
        },
        "title": {
         "text": "Screen size distribution of laptops by brand"
        },
        "xaxis": {
         "anchor": "y",
         "domain": [
          0,
          1
         ],
         "title": {
          "text": "Company"
         }
        },
        "yaxis": {
         "anchor": "x",
         "domain": [
          0,
          1
         ],
         "title": {
          "text": "Inches"
         }
        }
       }
      }
     },
     "metadata": {},
     "output_type": "display_data"
    }
   ],
   "source": [
    "fig = px.box(df, x='Company', y='Inches', title='Screen size distribution of laptops by brand')\n",
    "\n",
    "fig.write_image(\"images/weight_distribution_of_Android_laptops_by_brand.png\")\n",
    "fig.show()"
   ]
  },
  {
   "cell_type": "code",
   "execution_count": 41,
   "metadata": {},
   "outputs": [
    {
     "name": "stdout",
     "output_type": "stream",
     "text": [
      "p-value: 0.013808550905012235\n",
      "There is a correlation between price and screen resolution\n"
     ]
    }
   ],
   "source": [
    "from scipy.stats import pearsonr\n",
    "\n",
    "result = pearsonr(df['Price_in_euros'], df['Inches'])\n",
    "print('p-value:', result.pvalue)\n",
    "\n",
    "alpha = 0.05\n",
    "\n",
    "if result.pvalue < alpha:\n",
    "  print(\"There is a correlation between price and screen resolution\")\n",
    "else:\n",
    "  print(\"There is no correlation between price and screen resolution\")\n"
   ]
  },
  {
   "cell_type": "code",
   "execution_count": 42,
   "metadata": {},
   "outputs": [
    {
     "data": {
      "application/vnd.plotly.v1+json": {
       "config": {
        "plotlyServerURL": "https://plot.ly"
       },
       "data": [
        {
         "domain": {
          "x": [
           0,
           1
          ],
          "y": [
           0,
           1
          ]
         },
         "hovertemplate": "Company=%{label}<br>laptop_ID=%{value}<extra></extra>",
         "labels": [
          "Lenovo",
          "HP",
          "HP",
          "HP",
          "HP",
          "HP",
          "HP",
          "HP",
          "HP",
          "HP",
          "HP",
          "HP",
          "HP",
          "HP",
          "HP",
          "HP",
          "HP",
          "HP",
          "HP",
          "HP",
          "HP",
          "HP",
          "HP",
          "HP",
          "HP",
          "HP",
          "HP",
          "HP",
          "HP",
          "HP",
          "HP",
          "HP",
          "HP",
          "HP",
          "HP",
          "HP",
          "HP",
          "HP",
          "HP",
          "HP",
          "HP",
          "HP",
          "HP",
          "HP",
          "HP",
          "HP",
          "HP",
          "HP",
          "HP",
          "HP",
          "HP",
          "HP",
          "Lenovo",
          "Asus",
          "Acer",
          "Dell",
          "Dell",
          "Acer",
          "Acer",
          "Acer",
          "Acer",
          "Acer",
          "Acer",
          "Acer",
          "Acer",
          "Acer",
          "Acer",
          "Acer",
          "Acer",
          "Acer",
          "Acer",
          "Acer",
          "Acer",
          "Acer",
          "Acer",
          "Acer",
          "Acer",
          "Acer",
          "Acer",
          "Acer",
          "Acer",
          "Lenovo",
          "Lenovo",
          "Lenovo",
          "Lenovo",
          "Razer",
          "Razer",
          "Acer",
          "Acer",
          "Acer",
          "Dell",
          "HP",
          "HP",
          "Acer",
          "Acer",
          "Samsung",
          "Asus",
          "Acer",
          "Acer",
          "Acer",
          "Acer",
          "Asus",
          "Lenovo",
          "Samsung",
          "HP",
          "Asus",
          "Asus",
          "Acer",
          "HP",
          "Acer",
          "HP",
          "HP",
          "HP",
          "HP",
          "HP",
          "HP",
          "HP",
          "HP",
          "HP",
          "HP",
          "HP",
          "HP",
          "HP",
          "HP",
          "HP",
          "HP",
          "HP",
          "HP",
          "HP",
          "Acer",
          "Acer",
          "Asus",
          "Asus",
          "Asus",
          "Asus",
          "Asus",
          "Asus",
          "Asus",
          "Asus",
          "Asus",
          "Asus",
          "Asus",
          "Asus",
          "Asus",
          "Asus",
          "Asus",
          "Lenovo",
          "Mediacom",
          "Asus",
          "Asus",
          "MSI",
          "MSI",
          "MSI",
          "MSI",
          "MSI",
          "MSI",
          "MSI",
          "MSI",
          "MSI",
          "Asus",
          "MSI",
          "MSI",
          "MSI",
          "MSI",
          "MSI",
          "MSI",
          "MSI",
          "MSI",
          "MSI",
          "MSI",
          "MSI",
          "MSI",
          "MSI",
          "MSI",
          "MSI",
          "MSI",
          "MSI",
          "MSI",
          "MSI",
          "MSI",
          "MSI",
          "MSI",
          "MSI",
          "MSI",
          "MSI",
          "MSI",
          "MSI",
          "MSI",
          "MSI",
          "MSI",
          "MSI",
          "MSI",
          "MSI",
          "MSI",
          "MSI",
          "LG",
          "LG",
          "LG",
          "Lenovo",
          "Lenovo",
          "Lenovo",
          "Lenovo",
          "Lenovo",
          "Lenovo",
          "Lenovo",
          "Lenovo",
          "Lenovo",
          "Lenovo",
          "Lenovo",
          "Lenovo",
          "Lenovo",
          "Lenovo",
          "Lenovo",
          "Lenovo",
          "Lenovo",
          "Lenovo",
          "Lenovo",
          "Lenovo",
          "Lenovo",
          "Lenovo",
          "Lenovo",
          "Lenovo",
          "Lenovo",
          "Lenovo",
          "Lenovo",
          "Lenovo",
          "Lenovo",
          "Lenovo",
          "Lenovo",
          "Lenovo",
          "Lenovo",
          "Lenovo",
          "Lenovo",
          "Lenovo",
          "Lenovo",
          "Lenovo",
          "Lenovo",
          "Lenovo",
          "Dell",
          "Dell",
          "Dell",
          "Dell",
          "Dell",
          "Dell",
          "Dell",
          "Dell",
          "Dell",
          "Dell",
          "Dell",
          "Dell",
          "Dell",
          "Dell",
          "Dell",
          "Dell",
          "Dell",
          "Dell",
          "Dell",
          "Dell",
          "Dell",
          "Dell",
          "Dell",
          "Dell",
          "Dell",
          "Dell",
          "Dell",
          "Vero",
          "Vero",
          "Asus",
          "Asus",
          "Asus",
          "Asus",
          "Chuwi",
          "Chuwi",
          "Chuwi",
          "MSI",
          "Dell",
          "Dell",
          "Dell",
          "Dell",
          "Dell",
          "Dell",
          "Dell",
          "Dell",
          "Dell",
          "Dell",
          "Dell",
          "Dell",
          "Dell",
          "Dell",
          "Dell",
          "Dell",
          "Dell",
          "Dell",
          "Lenovo",
          "Lenovo",
          "Lenovo",
          "MSI",
          "Fujitsu",
          "Fujitsu",
          "Fujitsu",
          "Apple",
          "Apple",
          "Apple",
          "Apple",
          "Huawei",
          "Xiaomi",
          "Lenovo",
          "Lenovo",
          "Acer",
          "Acer",
          "HP",
          "Samsung",
          "Samsung",
          "HP",
          "HP",
          "HP",
          "HP",
          "HP",
          "HP",
          "HP",
          "HP",
          "HP",
          "HP",
          "HP",
          "MSI",
          "HP",
          "HP",
          "HP",
          "HP",
          "HP",
          "HP",
          "HP",
          "HP",
          "Google",
          "Toshiba",
          "Toshiba",
          "Toshiba",
          "Toshiba",
          "Toshiba",
          "Toshiba",
          "Toshiba",
          "Toshiba",
          "Toshiba",
          "Toshiba",
          "Toshiba",
          "Toshiba",
          "Toshiba",
          "Toshiba",
          "Toshiba",
          "Toshiba",
          "Toshiba",
          "Dell",
          "Dell",
          "Dell",
          "Dell",
          "Dell",
          "Dell",
          "Acer",
          "Acer",
          "Asus",
          "Asus",
          "Asus",
          "Asus",
          "HP",
          "HP",
          "HP",
          "HP",
          "HP",
          "HP",
          "HP",
          "HP",
          "HP",
          "HP",
          "HP",
          "HP",
          "HP",
          "Asus",
          "Asus",
          "Asus",
          "Asus",
          "Asus",
          "Asus",
          "Asus",
          "Asus",
          "Asus",
          "Asus",
          "Asus",
          "Asus",
          "Asus",
          "Asus",
          "Asus",
          "Asus",
          "Asus",
          "Asus",
          "Asus",
          "Asus",
          "Asus",
          "Asus",
          "Asus",
          "Asus",
          "Asus",
          "Asus",
          "Asus",
          "Asus",
          "Asus",
          "Asus",
          "Asus",
          "Asus",
          "Asus",
          "Asus",
          "Asus",
          "Acer",
          "Acer",
          "Toshiba",
          "Mediacom",
          "Mediacom",
          "Mediacom",
          "Mediacom",
          "Mediacom",
          "HP",
          "HP",
          "HP",
          "HP",
          "HP",
          "Acer",
          "Acer",
          "Acer",
          "HP",
          "HP",
          "HP",
          "HP",
          "Microsoft",
          "Acer",
          "Acer",
          "Acer",
          "Acer",
          "Asus",
          "Toshiba",
          "Toshiba",
          "Toshiba",
          "Toshiba",
          "Toshiba",
          "Toshiba",
          "Toshiba",
          "Toshiba",
          "Toshiba",
          "Toshiba",
          "Toshiba",
          "Toshiba",
          "Toshiba",
          "Toshiba",
          "Toshiba",
          "Toshiba",
          "Toshiba",
          "Toshiba",
          "Lenovo",
          "Lenovo",
          "Lenovo",
          "Lenovo",
          "Lenovo",
          "Lenovo",
          "Lenovo",
          "Lenovo",
          "Lenovo",
          "Lenovo",
          "Lenovo",
          "Lenovo",
          "Lenovo",
          "Lenovo",
          "Lenovo",
          "Lenovo",
          "Lenovo",
          "Lenovo",
          "Lenovo",
          "Lenovo",
          "Lenovo",
          "Lenovo",
          "Lenovo",
          "Lenovo",
          "Lenovo",
          "Lenovo",
          "Lenovo",
          "Lenovo",
          "Lenovo",
          "Lenovo",
          "Lenovo",
          "Lenovo",
          "Lenovo",
          "Lenovo",
          "Lenovo",
          "Lenovo",
          "Lenovo",
          "Lenovo",
          "Lenovo",
          "Lenovo",
          "Lenovo",
          "Lenovo",
          "Acer",
          "Acer",
          "Acer",
          "Acer",
          "Asus",
          "Asus",
          "Asus",
          "Asus",
          "Lenovo",
          "Lenovo",
          "Lenovo",
          "Lenovo",
          "Lenovo",
          "Lenovo",
          "Lenovo",
          "Lenovo",
          "Lenovo",
          "Lenovo",
          "Lenovo",
          "Vero",
          "Vero",
          "Lenovo",
          "Lenovo",
          "Lenovo",
          "Lenovo",
          "Lenovo",
          "Lenovo",
          "Lenovo",
          "Lenovo",
          "Lenovo",
          "Lenovo",
          "Lenovo",
          "Lenovo",
          "Lenovo",
          "Lenovo",
          "Lenovo",
          "Lenovo",
          "Lenovo",
          "Asus",
          "Asus",
          "Asus",
          "Asus",
          "Asus",
          "Asus",
          "Asus",
          "Asus",
          "Asus",
          "Asus",
          "Asus",
          "Asus",
          "Asus",
          "Dell",
          "Dell",
          "Dell",
          "Dell",
          "Dell",
          "Dell",
          "Asus",
          "Asus",
          "Asus",
          "Asus",
          "Asus",
          "Asus",
          "Asus",
          "Asus",
          "Asus",
          "Asus",
          "Asus",
          "Asus",
          "Asus",
          "Asus",
          "Asus",
          "Asus",
          "Asus",
          "Asus",
          "Asus",
          "Asus",
          "Asus",
          "Asus",
          "Asus",
          "Asus",
          "Dell",
          "Dell",
          "Lenovo",
          "Lenovo",
          "Lenovo",
          "Lenovo",
          "Lenovo",
          "Lenovo",
          "Lenovo",
          "Lenovo",
          "Lenovo",
          "Lenovo",
          "Lenovo",
          "Lenovo",
          "Lenovo",
          "Lenovo",
          "Lenovo",
          "HP",
          "HP",
          "HP",
          "HP",
          "HP",
          "HP",
          "Asus",
          "Asus",
          "Asus",
          "Asus",
          "Asus",
          "Asus",
          "Asus",
          "Asus",
          "Asus",
          "Asus",
          "Asus",
          "Asus",
          "Asus",
          "Asus",
          "Asus",
          "Asus",
          "Asus",
          "Asus",
          "Asus"
         ],
         "legendgroup": "",
         "name": "",
         "showlegend": true,
         "textinfo": "label+percent",
         "textposition": "inside",
         "type": "pie",
         "values": [
          1,
          1,
          3,
          1,
          1,
          1,
          1,
          1,
          1,
          1,
          1,
          1,
          1,
          1,
          1,
          1,
          1,
          1,
          1,
          1,
          1,
          1,
          1,
          1,
          1,
          1,
          1,
          1,
          1,
          1,
          1,
          1,
          1,
          1,
          1,
          1,
          1,
          1,
          1,
          1,
          1,
          1,
          1,
          1,
          1,
          1,
          1,
          1,
          1,
          3,
          21,
          4,
          1,
          1,
          1,
          4,
          15,
          1,
          12,
          7,
          4,
          2,
          3,
          4,
          1,
          1,
          1,
          3,
          1,
          1,
          2,
          5,
          1,
          2,
          3,
          1,
          3,
          1,
          1,
          2,
          1,
          1,
          1,
          1,
          1,
          5,
          2,
          1,
          1,
          1,
          1,
          1,
          1,
          3,
          1,
          1,
          1,
          1,
          1,
          1,
          1,
          2,
          1,
          1,
          2,
          1,
          1,
          1,
          1,
          1,
          2,
          5,
          9,
          12,
          10,
          2,
          5,
          1,
          4,
          2,
          2,
          1,
          1,
          1,
          1,
          1,
          1,
          1,
          1,
          1,
          1,
          1,
          1,
          1,
          1,
          1,
          1,
          1,
          1,
          1,
          1,
          1,
          1,
          1,
          1,
          1,
          1,
          1,
          1,
          1,
          1,
          1,
          1,
          1,
          2,
          1,
          1,
          1,
          1,
          1,
          1,
          1,
          2,
          1,
          1,
          2,
          2,
          1,
          1,
          1,
          1,
          1,
          1,
          1,
          1,
          1,
          1,
          1,
          1,
          2,
          1,
          1,
          1,
          1,
          2,
          1,
          1,
          2,
          1,
          1,
          1,
          1,
          1,
          1,
          1,
          1,
          1,
          1,
          5,
          1,
          3,
          2,
          2,
          1,
          1,
          5,
          3,
          1,
          5,
          6,
          6,
          5,
          8,
          8,
          7,
          2,
          1,
          1,
          1,
          2,
          1,
          1,
          1,
          1,
          1,
          1,
          1,
          8,
          3,
          1,
          1,
          1,
          1,
          1,
          1,
          1,
          1,
          1,
          1,
          1,
          9,
          29,
          6,
          2,
          3,
          2,
          5,
          14,
          1,
          18,
          4,
          3,
          4,
          1,
          8,
          2,
          2,
          1,
          10,
          4,
          6,
          2,
          2,
          1,
          1,
          1,
          1,
          1,
          1,
          1,
          1,
          1,
          1,
          1,
          1,
          1,
          2,
          2,
          1,
          3,
          1,
          8,
          1,
          12,
          3,
          3,
          1,
          4,
          3,
          1,
          3,
          1,
          2,
          19,
          4,
          1,
          1,
          1,
          1,
          1,
          6,
          3,
          10,
          2,
          2,
          4,
          1,
          1,
          1,
          1,
          1,
          6,
          1,
          1,
          1,
          1,
          1,
          1,
          1,
          1,
          1,
          1,
          1,
          1,
          1,
          1,
          3,
          1,
          1,
          1,
          1,
          2,
          1,
          3,
          1,
          1,
          1,
          1,
          1,
          1,
          1,
          1,
          1,
          1,
          1,
          1,
          1,
          1,
          1,
          1,
          1,
          1,
          5,
          1,
          1,
          1,
          2,
          1,
          2,
          1,
          1,
          1,
          1,
          7,
          6,
          18,
          8,
          4,
          6,
          1,
          3,
          7,
          4,
          4,
          2,
          2,
          1,
          1,
          1,
          1,
          1,
          1,
          1,
          1,
          1,
          1,
          1,
          4,
          1,
          1,
          1,
          1,
          1,
          1,
          1,
          1,
          1,
          1,
          1,
          1,
          1,
          1,
          1,
          1,
          1,
          1,
          1,
          1,
          1,
          1,
          6,
          1,
          1,
          13,
          1,
          1,
          1,
          2,
          1,
          1,
          1,
          5,
          1,
          5,
          1,
          2,
          1,
          3,
          1,
          1,
          1,
          6,
          5,
          1,
          1,
          1,
          1,
          1,
          1,
          1,
          1,
          1,
          1,
          1,
          1,
          1,
          1,
          1,
          1,
          1,
          1,
          1,
          1,
          1,
          1,
          6,
          1,
          3,
          2,
          2,
          1,
          3,
          2,
          1,
          1,
          1,
          1,
          3,
          1,
          2,
          1,
          5,
          1,
          3,
          12,
          2,
          8,
          2,
          2,
          2,
          1,
          1,
          3,
          1,
          1,
          3,
          1,
          2,
          2,
          2,
          1,
          1,
          2,
          4,
          1,
          3,
          2,
          2,
          1,
          1,
          1,
          1,
          1,
          1,
          1,
          1,
          1,
          1,
          1,
          1,
          1,
          1,
          1,
          1,
          1,
          1,
          1,
          1,
          1,
          1,
          1,
          1,
          1,
          1,
          1,
          1,
          1,
          1,
          1,
          1,
          1,
          1,
          1,
          1,
          1,
          1,
          1,
          2,
          2,
          1,
          4,
          3,
          1,
          4,
          1,
          1,
          1,
          1,
          2,
          19,
          1,
          2,
          1,
          8,
          1,
          1,
          1,
          1,
          1,
          1,
          1,
          1,
          1,
          1,
          1,
          1,
          1,
          1,
          1,
          1,
          3,
          1,
          1,
          3,
          1,
          1,
          1,
          1,
          30,
          9,
          1,
          1,
          3,
          2,
          1,
          2,
          1,
          1,
          3,
          1,
          5,
          1,
          3,
          4,
          4,
          3,
          3,
          5,
          2,
          1,
          1,
          1,
          5,
          2,
          3,
          1,
          1,
          1,
          1,
          1,
          1,
          1,
          1,
          2,
          1,
          1,
          1,
          1,
          1,
          1
         ]
        }
       ],
       "layout": {
        "legend": {
         "tracegroupgap": 0
        },
        "template": {
         "data": {
          "bar": [
           {
            "error_x": {
             "color": "#2a3f5f"
            },
            "error_y": {
             "color": "#2a3f5f"
            },
            "marker": {
             "line": {
              "color": "#E5ECF6",
              "width": 0.5
             },
             "pattern": {
              "fillmode": "overlay",
              "size": 10,
              "solidity": 0.2
             }
            },
            "type": "bar"
           }
          ],
          "barpolar": [
           {
            "marker": {
             "line": {
              "color": "#E5ECF6",
              "width": 0.5
             },
             "pattern": {
              "fillmode": "overlay",
              "size": 10,
              "solidity": 0.2
             }
            },
            "type": "barpolar"
           }
          ],
          "carpet": [
           {
            "aaxis": {
             "endlinecolor": "#2a3f5f",
             "gridcolor": "white",
             "linecolor": "white",
             "minorgridcolor": "white",
             "startlinecolor": "#2a3f5f"
            },
            "baxis": {
             "endlinecolor": "#2a3f5f",
             "gridcolor": "white",
             "linecolor": "white",
             "minorgridcolor": "white",
             "startlinecolor": "#2a3f5f"
            },
            "type": "carpet"
           }
          ],
          "choropleth": [
           {
            "colorbar": {
             "outlinewidth": 0,
             "ticks": ""
            },
            "type": "choropleth"
           }
          ],
          "contour": [
           {
            "colorbar": {
             "outlinewidth": 0,
             "ticks": ""
            },
            "colorscale": [
             [
              0,
              "#0d0887"
             ],
             [
              0.1111111111111111,
              "#46039f"
             ],
             [
              0.2222222222222222,
              "#7201a8"
             ],
             [
              0.3333333333333333,
              "#9c179e"
             ],
             [
              0.4444444444444444,
              "#bd3786"
             ],
             [
              0.5555555555555556,
              "#d8576b"
             ],
             [
              0.6666666666666666,
              "#ed7953"
             ],
             [
              0.7777777777777778,
              "#fb9f3a"
             ],
             [
              0.8888888888888888,
              "#fdca26"
             ],
             [
              1,
              "#f0f921"
             ]
            ],
            "type": "contour"
           }
          ],
          "contourcarpet": [
           {
            "colorbar": {
             "outlinewidth": 0,
             "ticks": ""
            },
            "type": "contourcarpet"
           }
          ],
          "heatmap": [
           {
            "colorbar": {
             "outlinewidth": 0,
             "ticks": ""
            },
            "colorscale": [
             [
              0,
              "#0d0887"
             ],
             [
              0.1111111111111111,
              "#46039f"
             ],
             [
              0.2222222222222222,
              "#7201a8"
             ],
             [
              0.3333333333333333,
              "#9c179e"
             ],
             [
              0.4444444444444444,
              "#bd3786"
             ],
             [
              0.5555555555555556,
              "#d8576b"
             ],
             [
              0.6666666666666666,
              "#ed7953"
             ],
             [
              0.7777777777777778,
              "#fb9f3a"
             ],
             [
              0.8888888888888888,
              "#fdca26"
             ],
             [
              1,
              "#f0f921"
             ]
            ],
            "type": "heatmap"
           }
          ],
          "heatmapgl": [
           {
            "colorbar": {
             "outlinewidth": 0,
             "ticks": ""
            },
            "colorscale": [
             [
              0,
              "#0d0887"
             ],
             [
              0.1111111111111111,
              "#46039f"
             ],
             [
              0.2222222222222222,
              "#7201a8"
             ],
             [
              0.3333333333333333,
              "#9c179e"
             ],
             [
              0.4444444444444444,
              "#bd3786"
             ],
             [
              0.5555555555555556,
              "#d8576b"
             ],
             [
              0.6666666666666666,
              "#ed7953"
             ],
             [
              0.7777777777777778,
              "#fb9f3a"
             ],
             [
              0.8888888888888888,
              "#fdca26"
             ],
             [
              1,
              "#f0f921"
             ]
            ],
            "type": "heatmapgl"
           }
          ],
          "histogram": [
           {
            "marker": {
             "pattern": {
              "fillmode": "overlay",
              "size": 10,
              "solidity": 0.2
             }
            },
            "type": "histogram"
           }
          ],
          "histogram2d": [
           {
            "colorbar": {
             "outlinewidth": 0,
             "ticks": ""
            },
            "colorscale": [
             [
              0,
              "#0d0887"
             ],
             [
              0.1111111111111111,
              "#46039f"
             ],
             [
              0.2222222222222222,
              "#7201a8"
             ],
             [
              0.3333333333333333,
              "#9c179e"
             ],
             [
              0.4444444444444444,
              "#bd3786"
             ],
             [
              0.5555555555555556,
              "#d8576b"
             ],
             [
              0.6666666666666666,
              "#ed7953"
             ],
             [
              0.7777777777777778,
              "#fb9f3a"
             ],
             [
              0.8888888888888888,
              "#fdca26"
             ],
             [
              1,
              "#f0f921"
             ]
            ],
            "type": "histogram2d"
           }
          ],
          "histogram2dcontour": [
           {
            "colorbar": {
             "outlinewidth": 0,
             "ticks": ""
            },
            "colorscale": [
             [
              0,
              "#0d0887"
             ],
             [
              0.1111111111111111,
              "#46039f"
             ],
             [
              0.2222222222222222,
              "#7201a8"
             ],
             [
              0.3333333333333333,
              "#9c179e"
             ],
             [
              0.4444444444444444,
              "#bd3786"
             ],
             [
              0.5555555555555556,
              "#d8576b"
             ],
             [
              0.6666666666666666,
              "#ed7953"
             ],
             [
              0.7777777777777778,
              "#fb9f3a"
             ],
             [
              0.8888888888888888,
              "#fdca26"
             ],
             [
              1,
              "#f0f921"
             ]
            ],
            "type": "histogram2dcontour"
           }
          ],
          "mesh3d": [
           {
            "colorbar": {
             "outlinewidth": 0,
             "ticks": ""
            },
            "type": "mesh3d"
           }
          ],
          "parcoords": [
           {
            "line": {
             "colorbar": {
              "outlinewidth": 0,
              "ticks": ""
             }
            },
            "type": "parcoords"
           }
          ],
          "pie": [
           {
            "automargin": true,
            "type": "pie"
           }
          ],
          "scatter": [
           {
            "fillpattern": {
             "fillmode": "overlay",
             "size": 10,
             "solidity": 0.2
            },
            "type": "scatter"
           }
          ],
          "scatter3d": [
           {
            "line": {
             "colorbar": {
              "outlinewidth": 0,
              "ticks": ""
             }
            },
            "marker": {
             "colorbar": {
              "outlinewidth": 0,
              "ticks": ""
             }
            },
            "type": "scatter3d"
           }
          ],
          "scattercarpet": [
           {
            "marker": {
             "colorbar": {
              "outlinewidth": 0,
              "ticks": ""
             }
            },
            "type": "scattercarpet"
           }
          ],
          "scattergeo": [
           {
            "marker": {
             "colorbar": {
              "outlinewidth": 0,
              "ticks": ""
             }
            },
            "type": "scattergeo"
           }
          ],
          "scattergl": [
           {
            "marker": {
             "colorbar": {
              "outlinewidth": 0,
              "ticks": ""
             }
            },
            "type": "scattergl"
           }
          ],
          "scattermapbox": [
           {
            "marker": {
             "colorbar": {
              "outlinewidth": 0,
              "ticks": ""
             }
            },
            "type": "scattermapbox"
           }
          ],
          "scatterpolar": [
           {
            "marker": {
             "colorbar": {
              "outlinewidth": 0,
              "ticks": ""
             }
            },
            "type": "scatterpolar"
           }
          ],
          "scatterpolargl": [
           {
            "marker": {
             "colorbar": {
              "outlinewidth": 0,
              "ticks": ""
             }
            },
            "type": "scatterpolargl"
           }
          ],
          "scatterternary": [
           {
            "marker": {
             "colorbar": {
              "outlinewidth": 0,
              "ticks": ""
             }
            },
            "type": "scatterternary"
           }
          ],
          "surface": [
           {
            "colorbar": {
             "outlinewidth": 0,
             "ticks": ""
            },
            "colorscale": [
             [
              0,
              "#0d0887"
             ],
             [
              0.1111111111111111,
              "#46039f"
             ],
             [
              0.2222222222222222,
              "#7201a8"
             ],
             [
              0.3333333333333333,
              "#9c179e"
             ],
             [
              0.4444444444444444,
              "#bd3786"
             ],
             [
              0.5555555555555556,
              "#d8576b"
             ],
             [
              0.6666666666666666,
              "#ed7953"
             ],
             [
              0.7777777777777778,
              "#fb9f3a"
             ],
             [
              0.8888888888888888,
              "#fdca26"
             ],
             [
              1,
              "#f0f921"
             ]
            ],
            "type": "surface"
           }
          ],
          "table": [
           {
            "cells": {
             "fill": {
              "color": "#EBF0F8"
             },
             "line": {
              "color": "white"
             }
            },
            "header": {
             "fill": {
              "color": "#C8D4E3"
             },
             "line": {
              "color": "white"
             }
            },
            "type": "table"
           }
          ]
         },
         "layout": {
          "annotationdefaults": {
           "arrowcolor": "#2a3f5f",
           "arrowhead": 0,
           "arrowwidth": 1
          },
          "autotypenumbers": "strict",
          "coloraxis": {
           "colorbar": {
            "outlinewidth": 0,
            "ticks": ""
           }
          },
          "colorscale": {
           "diverging": [
            [
             0,
             "#8e0152"
            ],
            [
             0.1,
             "#c51b7d"
            ],
            [
             0.2,
             "#de77ae"
            ],
            [
             0.3,
             "#f1b6da"
            ],
            [
             0.4,
             "#fde0ef"
            ],
            [
             0.5,
             "#f7f7f7"
            ],
            [
             0.6,
             "#e6f5d0"
            ],
            [
             0.7,
             "#b8e186"
            ],
            [
             0.8,
             "#7fbc41"
            ],
            [
             0.9,
             "#4d9221"
            ],
            [
             1,
             "#276419"
            ]
           ],
           "sequential": [
            [
             0,
             "#0d0887"
            ],
            [
             0.1111111111111111,
             "#46039f"
            ],
            [
             0.2222222222222222,
             "#7201a8"
            ],
            [
             0.3333333333333333,
             "#9c179e"
            ],
            [
             0.4444444444444444,
             "#bd3786"
            ],
            [
             0.5555555555555556,
             "#d8576b"
            ],
            [
             0.6666666666666666,
             "#ed7953"
            ],
            [
             0.7777777777777778,
             "#fb9f3a"
            ],
            [
             0.8888888888888888,
             "#fdca26"
            ],
            [
             1,
             "#f0f921"
            ]
           ],
           "sequentialminus": [
            [
             0,
             "#0d0887"
            ],
            [
             0.1111111111111111,
             "#46039f"
            ],
            [
             0.2222222222222222,
             "#7201a8"
            ],
            [
             0.3333333333333333,
             "#9c179e"
            ],
            [
             0.4444444444444444,
             "#bd3786"
            ],
            [
             0.5555555555555556,
             "#d8576b"
            ],
            [
             0.6666666666666666,
             "#ed7953"
            ],
            [
             0.7777777777777778,
             "#fb9f3a"
            ],
            [
             0.8888888888888888,
             "#fdca26"
            ],
            [
             1,
             "#f0f921"
            ]
           ]
          },
          "colorway": [
           "#636efa",
           "#EF553B",
           "#00cc96",
           "#ab63fa",
           "#FFA15A",
           "#19d3f3",
           "#FF6692",
           "#B6E880",
           "#FF97FF",
           "#FECB52"
          ],
          "font": {
           "color": "#2a3f5f"
          },
          "geo": {
           "bgcolor": "white",
           "lakecolor": "white",
           "landcolor": "#E5ECF6",
           "showlakes": true,
           "showland": true,
           "subunitcolor": "white"
          },
          "hoverlabel": {
           "align": "left"
          },
          "hovermode": "closest",
          "mapbox": {
           "style": "light"
          },
          "paper_bgcolor": "white",
          "plot_bgcolor": "#E5ECF6",
          "polar": {
           "angularaxis": {
            "gridcolor": "white",
            "linecolor": "white",
            "ticks": ""
           },
           "bgcolor": "#E5ECF6",
           "radialaxis": {
            "gridcolor": "white",
            "linecolor": "white",
            "ticks": ""
           }
          },
          "scene": {
           "xaxis": {
            "backgroundcolor": "#E5ECF6",
            "gridcolor": "white",
            "gridwidth": 2,
            "linecolor": "white",
            "showbackground": true,
            "ticks": "",
            "zerolinecolor": "white"
           },
           "yaxis": {
            "backgroundcolor": "#E5ECF6",
            "gridcolor": "white",
            "gridwidth": 2,
            "linecolor": "white",
            "showbackground": true,
            "ticks": "",
            "zerolinecolor": "white"
           },
           "zaxis": {
            "backgroundcolor": "#E5ECF6",
            "gridcolor": "white",
            "gridwidth": 2,
            "linecolor": "white",
            "showbackground": true,
            "ticks": "",
            "zerolinecolor": "white"
           }
          },
          "shapedefaults": {
           "line": {
            "color": "#2a3f5f"
           }
          },
          "ternary": {
           "aaxis": {
            "gridcolor": "white",
            "linecolor": "white",
            "ticks": ""
           },
           "baxis": {
            "gridcolor": "white",
            "linecolor": "white",
            "ticks": ""
           },
           "bgcolor": "#E5ECF6",
           "caxis": {
            "gridcolor": "white",
            "linecolor": "white",
            "ticks": ""
           }
          },
          "title": {
           "x": 0.05
          },
          "xaxis": {
           "automargin": true,
           "gridcolor": "white",
           "linecolor": "white",
           "ticks": "",
           "title": {
            "standoff": 15
           },
           "zerolinecolor": "white",
           "zerolinewidth": 2
          },
          "yaxis": {
           "automargin": true,
           "gridcolor": "white",
           "linecolor": "white",
           "ticks": "",
           "title": {
            "standoff": 15
           },
           "zerolinecolor": "white",
           "zerolinewidth": 2
          }
         }
        },
        "title": {
         "text": "Product Distribution"
        }
       }
      }
     },
     "metadata": {},
     "output_type": "display_data"
    }
   ],
   "source": [
    "df_need = df.groupby(['Product', 'Company']).agg({'laptop_ID':'count'}).reset_index()\n",
    "\n",
    "fig = px.pie(df_need,\n",
    "  values = 'laptop_ID',\n",
    "  names = 'Company',\n",
    "  title = 'Product Distribution',\n",
    ")\n",
    "fig.update_traces(textposition='inside', textinfo='label+percent')\n",
    "\n",
    "\n",
    "fig.write_image(\"images/amount_of_product_variants.png\")\n",
    "fig.show()"
   ]
  },
  {
   "cell_type": "code",
   "execution_count": 43,
   "metadata": {},
   "outputs": [
    {
     "data": {
      "application/vnd.plotly.v1+json": {
       "config": {
        "plotlyServerURL": "https://plot.ly"
       },
       "data": [
        {
         "domain": {
          "x": [
           0,
           1
          ],
          "y": [
           0,
           1
          ]
         },
         "hovertemplate": "Company=%{label}<br>laptop_ID=%{value}<extra></extra>",
         "labels": [
          "Dell",
          "Dell",
          "HP",
          "Dell",
          "Lenovo",
          "HP",
          "Dell",
          "Dell",
          "Dell",
          "Toshiba"
         ],
         "legendgroup": "",
         "name": "",
         "showlegend": true,
         "textinfo": "label+percent",
         "textposition": "inside",
         "type": "pie",
         "values": [
          30,
          29,
          21,
          19,
          19,
          18,
          18,
          15,
          14,
          13
         ]
        }
       ],
       "layout": {
        "legend": {
         "tracegroupgap": 0
        },
        "template": {
         "data": {
          "bar": [
           {
            "error_x": {
             "color": "#2a3f5f"
            },
            "error_y": {
             "color": "#2a3f5f"
            },
            "marker": {
             "line": {
              "color": "#E5ECF6",
              "width": 0.5
             },
             "pattern": {
              "fillmode": "overlay",
              "size": 10,
              "solidity": 0.2
             }
            },
            "type": "bar"
           }
          ],
          "barpolar": [
           {
            "marker": {
             "line": {
              "color": "#E5ECF6",
              "width": 0.5
             },
             "pattern": {
              "fillmode": "overlay",
              "size": 10,
              "solidity": 0.2
             }
            },
            "type": "barpolar"
           }
          ],
          "carpet": [
           {
            "aaxis": {
             "endlinecolor": "#2a3f5f",
             "gridcolor": "white",
             "linecolor": "white",
             "minorgridcolor": "white",
             "startlinecolor": "#2a3f5f"
            },
            "baxis": {
             "endlinecolor": "#2a3f5f",
             "gridcolor": "white",
             "linecolor": "white",
             "minorgridcolor": "white",
             "startlinecolor": "#2a3f5f"
            },
            "type": "carpet"
           }
          ],
          "choropleth": [
           {
            "colorbar": {
             "outlinewidth": 0,
             "ticks": ""
            },
            "type": "choropleth"
           }
          ],
          "contour": [
           {
            "colorbar": {
             "outlinewidth": 0,
             "ticks": ""
            },
            "colorscale": [
             [
              0,
              "#0d0887"
             ],
             [
              0.1111111111111111,
              "#46039f"
             ],
             [
              0.2222222222222222,
              "#7201a8"
             ],
             [
              0.3333333333333333,
              "#9c179e"
             ],
             [
              0.4444444444444444,
              "#bd3786"
             ],
             [
              0.5555555555555556,
              "#d8576b"
             ],
             [
              0.6666666666666666,
              "#ed7953"
             ],
             [
              0.7777777777777778,
              "#fb9f3a"
             ],
             [
              0.8888888888888888,
              "#fdca26"
             ],
             [
              1,
              "#f0f921"
             ]
            ],
            "type": "contour"
           }
          ],
          "contourcarpet": [
           {
            "colorbar": {
             "outlinewidth": 0,
             "ticks": ""
            },
            "type": "contourcarpet"
           }
          ],
          "heatmap": [
           {
            "colorbar": {
             "outlinewidth": 0,
             "ticks": ""
            },
            "colorscale": [
             [
              0,
              "#0d0887"
             ],
             [
              0.1111111111111111,
              "#46039f"
             ],
             [
              0.2222222222222222,
              "#7201a8"
             ],
             [
              0.3333333333333333,
              "#9c179e"
             ],
             [
              0.4444444444444444,
              "#bd3786"
             ],
             [
              0.5555555555555556,
              "#d8576b"
             ],
             [
              0.6666666666666666,
              "#ed7953"
             ],
             [
              0.7777777777777778,
              "#fb9f3a"
             ],
             [
              0.8888888888888888,
              "#fdca26"
             ],
             [
              1,
              "#f0f921"
             ]
            ],
            "type": "heatmap"
           }
          ],
          "heatmapgl": [
           {
            "colorbar": {
             "outlinewidth": 0,
             "ticks": ""
            },
            "colorscale": [
             [
              0,
              "#0d0887"
             ],
             [
              0.1111111111111111,
              "#46039f"
             ],
             [
              0.2222222222222222,
              "#7201a8"
             ],
             [
              0.3333333333333333,
              "#9c179e"
             ],
             [
              0.4444444444444444,
              "#bd3786"
             ],
             [
              0.5555555555555556,
              "#d8576b"
             ],
             [
              0.6666666666666666,
              "#ed7953"
             ],
             [
              0.7777777777777778,
              "#fb9f3a"
             ],
             [
              0.8888888888888888,
              "#fdca26"
             ],
             [
              1,
              "#f0f921"
             ]
            ],
            "type": "heatmapgl"
           }
          ],
          "histogram": [
           {
            "marker": {
             "pattern": {
              "fillmode": "overlay",
              "size": 10,
              "solidity": 0.2
             }
            },
            "type": "histogram"
           }
          ],
          "histogram2d": [
           {
            "colorbar": {
             "outlinewidth": 0,
             "ticks": ""
            },
            "colorscale": [
             [
              0,
              "#0d0887"
             ],
             [
              0.1111111111111111,
              "#46039f"
             ],
             [
              0.2222222222222222,
              "#7201a8"
             ],
             [
              0.3333333333333333,
              "#9c179e"
             ],
             [
              0.4444444444444444,
              "#bd3786"
             ],
             [
              0.5555555555555556,
              "#d8576b"
             ],
             [
              0.6666666666666666,
              "#ed7953"
             ],
             [
              0.7777777777777778,
              "#fb9f3a"
             ],
             [
              0.8888888888888888,
              "#fdca26"
             ],
             [
              1,
              "#f0f921"
             ]
            ],
            "type": "histogram2d"
           }
          ],
          "histogram2dcontour": [
           {
            "colorbar": {
             "outlinewidth": 0,
             "ticks": ""
            },
            "colorscale": [
             [
              0,
              "#0d0887"
             ],
             [
              0.1111111111111111,
              "#46039f"
             ],
             [
              0.2222222222222222,
              "#7201a8"
             ],
             [
              0.3333333333333333,
              "#9c179e"
             ],
             [
              0.4444444444444444,
              "#bd3786"
             ],
             [
              0.5555555555555556,
              "#d8576b"
             ],
             [
              0.6666666666666666,
              "#ed7953"
             ],
             [
              0.7777777777777778,
              "#fb9f3a"
             ],
             [
              0.8888888888888888,
              "#fdca26"
             ],
             [
              1,
              "#f0f921"
             ]
            ],
            "type": "histogram2dcontour"
           }
          ],
          "mesh3d": [
           {
            "colorbar": {
             "outlinewidth": 0,
             "ticks": ""
            },
            "type": "mesh3d"
           }
          ],
          "parcoords": [
           {
            "line": {
             "colorbar": {
              "outlinewidth": 0,
              "ticks": ""
             }
            },
            "type": "parcoords"
           }
          ],
          "pie": [
           {
            "automargin": true,
            "type": "pie"
           }
          ],
          "scatter": [
           {
            "fillpattern": {
             "fillmode": "overlay",
             "size": 10,
             "solidity": 0.2
            },
            "type": "scatter"
           }
          ],
          "scatter3d": [
           {
            "line": {
             "colorbar": {
              "outlinewidth": 0,
              "ticks": ""
             }
            },
            "marker": {
             "colorbar": {
              "outlinewidth": 0,
              "ticks": ""
             }
            },
            "type": "scatter3d"
           }
          ],
          "scattercarpet": [
           {
            "marker": {
             "colorbar": {
              "outlinewidth": 0,
              "ticks": ""
             }
            },
            "type": "scattercarpet"
           }
          ],
          "scattergeo": [
           {
            "marker": {
             "colorbar": {
              "outlinewidth": 0,
              "ticks": ""
             }
            },
            "type": "scattergeo"
           }
          ],
          "scattergl": [
           {
            "marker": {
             "colorbar": {
              "outlinewidth": 0,
              "ticks": ""
             }
            },
            "type": "scattergl"
           }
          ],
          "scattermapbox": [
           {
            "marker": {
             "colorbar": {
              "outlinewidth": 0,
              "ticks": ""
             }
            },
            "type": "scattermapbox"
           }
          ],
          "scatterpolar": [
           {
            "marker": {
             "colorbar": {
              "outlinewidth": 0,
              "ticks": ""
             }
            },
            "type": "scatterpolar"
           }
          ],
          "scatterpolargl": [
           {
            "marker": {
             "colorbar": {
              "outlinewidth": 0,
              "ticks": ""
             }
            },
            "type": "scatterpolargl"
           }
          ],
          "scatterternary": [
           {
            "marker": {
             "colorbar": {
              "outlinewidth": 0,
              "ticks": ""
             }
            },
            "type": "scatterternary"
           }
          ],
          "surface": [
           {
            "colorbar": {
             "outlinewidth": 0,
             "ticks": ""
            },
            "colorscale": [
             [
              0,
              "#0d0887"
             ],
             [
              0.1111111111111111,
              "#46039f"
             ],
             [
              0.2222222222222222,
              "#7201a8"
             ],
             [
              0.3333333333333333,
              "#9c179e"
             ],
             [
              0.4444444444444444,
              "#bd3786"
             ],
             [
              0.5555555555555556,
              "#d8576b"
             ],
             [
              0.6666666666666666,
              "#ed7953"
             ],
             [
              0.7777777777777778,
              "#fb9f3a"
             ],
             [
              0.8888888888888888,
              "#fdca26"
             ],
             [
              1,
              "#f0f921"
             ]
            ],
            "type": "surface"
           }
          ],
          "table": [
           {
            "cells": {
             "fill": {
              "color": "#EBF0F8"
             },
             "line": {
              "color": "white"
             }
            },
            "header": {
             "fill": {
              "color": "#C8D4E3"
             },
             "line": {
              "color": "white"
             }
            },
            "type": "table"
           }
          ]
         },
         "layout": {
          "annotationdefaults": {
           "arrowcolor": "#2a3f5f",
           "arrowhead": 0,
           "arrowwidth": 1
          },
          "autotypenumbers": "strict",
          "coloraxis": {
           "colorbar": {
            "outlinewidth": 0,
            "ticks": ""
           }
          },
          "colorscale": {
           "diverging": [
            [
             0,
             "#8e0152"
            ],
            [
             0.1,
             "#c51b7d"
            ],
            [
             0.2,
             "#de77ae"
            ],
            [
             0.3,
             "#f1b6da"
            ],
            [
             0.4,
             "#fde0ef"
            ],
            [
             0.5,
             "#f7f7f7"
            ],
            [
             0.6,
             "#e6f5d0"
            ],
            [
             0.7,
             "#b8e186"
            ],
            [
             0.8,
             "#7fbc41"
            ],
            [
             0.9,
             "#4d9221"
            ],
            [
             1,
             "#276419"
            ]
           ],
           "sequential": [
            [
             0,
             "#0d0887"
            ],
            [
             0.1111111111111111,
             "#46039f"
            ],
            [
             0.2222222222222222,
             "#7201a8"
            ],
            [
             0.3333333333333333,
             "#9c179e"
            ],
            [
             0.4444444444444444,
             "#bd3786"
            ],
            [
             0.5555555555555556,
             "#d8576b"
            ],
            [
             0.6666666666666666,
             "#ed7953"
            ],
            [
             0.7777777777777778,
             "#fb9f3a"
            ],
            [
             0.8888888888888888,
             "#fdca26"
            ],
            [
             1,
             "#f0f921"
            ]
           ],
           "sequentialminus": [
            [
             0,
             "#0d0887"
            ],
            [
             0.1111111111111111,
             "#46039f"
            ],
            [
             0.2222222222222222,
             "#7201a8"
            ],
            [
             0.3333333333333333,
             "#9c179e"
            ],
            [
             0.4444444444444444,
             "#bd3786"
            ],
            [
             0.5555555555555556,
             "#d8576b"
            ],
            [
             0.6666666666666666,
             "#ed7953"
            ],
            [
             0.7777777777777778,
             "#fb9f3a"
            ],
            [
             0.8888888888888888,
             "#fdca26"
            ],
            [
             1,
             "#f0f921"
            ]
           ]
          },
          "colorway": [
           "#636efa",
           "#EF553B",
           "#00cc96",
           "#ab63fa",
           "#FFA15A",
           "#19d3f3",
           "#FF6692",
           "#B6E880",
           "#FF97FF",
           "#FECB52"
          ],
          "font": {
           "color": "#2a3f5f"
          },
          "geo": {
           "bgcolor": "white",
           "lakecolor": "white",
           "landcolor": "#E5ECF6",
           "showlakes": true,
           "showland": true,
           "subunitcolor": "white"
          },
          "hoverlabel": {
           "align": "left"
          },
          "hovermode": "closest",
          "mapbox": {
           "style": "light"
          },
          "paper_bgcolor": "white",
          "plot_bgcolor": "#E5ECF6",
          "polar": {
           "angularaxis": {
            "gridcolor": "white",
            "linecolor": "white",
            "ticks": ""
           },
           "bgcolor": "#E5ECF6",
           "radialaxis": {
            "gridcolor": "white",
            "linecolor": "white",
            "ticks": ""
           }
          },
          "scene": {
           "xaxis": {
            "backgroundcolor": "#E5ECF6",
            "gridcolor": "white",
            "gridwidth": 2,
            "linecolor": "white",
            "showbackground": true,
            "ticks": "",
            "zerolinecolor": "white"
           },
           "yaxis": {
            "backgroundcolor": "#E5ECF6",
            "gridcolor": "white",
            "gridwidth": 2,
            "linecolor": "white",
            "showbackground": true,
            "ticks": "",
            "zerolinecolor": "white"
           },
           "zaxis": {
            "backgroundcolor": "#E5ECF6",
            "gridcolor": "white",
            "gridwidth": 2,
            "linecolor": "white",
            "showbackground": true,
            "ticks": "",
            "zerolinecolor": "white"
           }
          },
          "shapedefaults": {
           "line": {
            "color": "#2a3f5f"
           }
          },
          "ternary": {
           "aaxis": {
            "gridcolor": "white",
            "linecolor": "white",
            "ticks": ""
           },
           "baxis": {
            "gridcolor": "white",
            "linecolor": "white",
            "ticks": ""
           },
           "bgcolor": "#E5ECF6",
           "caxis": {
            "gridcolor": "white",
            "linecolor": "white",
            "ticks": ""
           }
          },
          "title": {
           "x": 0.05
          },
          "xaxis": {
           "automargin": true,
           "gridcolor": "white",
           "linecolor": "white",
           "ticks": "",
           "title": {
            "standoff": 15
           },
           "zerolinecolor": "white",
           "zerolinewidth": 2
          },
          "yaxis": {
           "automargin": true,
           "gridcolor": "white",
           "linecolor": "white",
           "ticks": "",
           "title": {
            "standoff": 15
           },
           "zerolinecolor": "white",
           "zerolinewidth": 2
          }
         }
        },
        "title": {
         "text": "Product Distribution"
        }
       }
      }
     },
     "metadata": {},
     "output_type": "display_data"
    }
   ],
   "source": [
    "df_need = df.groupby(['Product', 'Company']).agg({'laptop_ID':'count'}).reset_index()\n",
    "df_need = df_need.sort_values(by=['laptop_ID'], ascending=False).head(10)\n",
    "\n",
    "fig = px.pie(df_need,\n",
    "  values = 'laptop_ID',\n",
    "  names = 'Company',\n",
    "  title = 'Product Distribution',\n",
    ")\n",
    "fig.update_traces(textposition='inside', textinfo='label+percent')\n",
    "\n",
    "\n",
    "fig.write_image(\"images/amount_of_product_variants.png\")\n",
    "fig.show()"
   ]
  },
  {
   "cell_type": "code",
   "execution_count": 44,
   "metadata": {},
   "outputs": [
    {
     "data": {
      "application/vnd.plotly.v1+json": {
       "config": {
        "plotlyServerURL": "https://plot.ly"
       },
       "data": [
        {
         "alignmentgroup": "True",
         "bingroup": "x",
         "hovertemplate": "Company=%{x}<br>count=%{y}<extra></extra>",
         "legendgroup": "",
         "marker": {
          "color": "#636efa",
          "pattern": {
           "shape": ""
          }
         },
         "name": "",
         "offsetgroup": "",
         "orientation": "v",
         "showlegend": false,
         "type": "histogram",
         "x": [
          "Apple",
          "Apple",
          "HP",
          "Acer",
          "Asus",
          "Acer",
          "Dell",
          "Apple",
          "Lenovo",
          "Dell",
          "Asus",
          "Lenovo",
          "HP",
          "Dell",
          "HP",
          "Apple",
          "Dell",
          "Dell",
          "HP",
          "Chuwi",
          "Asus",
          "HP",
          "Lenovo",
          "Dell",
          "HP",
          "Asus",
          "Dell",
          "Asus",
          "Acer",
          "Dell",
          "Lenovo",
          "Asus",
          "Asus",
          "Lenovo",
          "HP",
          "Dell",
          "HP",
          "Asus",
          "MSI",
          "Asus",
          "Dell",
          "Lenovo",
          "Asus",
          "Asus",
          "HP",
          "Lenovo",
          "Asus",
          "Microsoft",
          "Dell",
          "MSI",
          "Acer",
          "Asus",
          "Lenovo",
          "Acer",
          "HP",
          "Lenovo",
          "HP",
          "Asus",
          "Asus",
          "Acer",
          "HP",
          "Asus",
          "Acer",
          "Asus",
          "HP",
          "HP",
          "HP",
          "HP",
          "HP",
          "Lenovo",
          "Asus",
          "MSI",
          "Lenovo",
          "Asus",
          "Lenovo",
          "HP",
          "HP",
          "Dell",
          "Asus",
          "Acer",
          "MSI",
          "HP",
          "Asus",
          "Dell",
          "Acer",
          "HP",
          "Lenovo",
          "Asus",
          "HP",
          "Lenovo",
          "Toshiba",
          "Asus",
          "HP",
          "Asus",
          "MSI",
          "Acer",
          "Dell",
          "Dell",
          "Lenovo",
          "MSI",
          "HP",
          "HP",
          "Lenovo",
          "Asus",
          "Dell",
          "Asus",
          "Acer",
          "Acer",
          "MSI",
          "Huawei",
          "HP",
          "MSI",
          "Lenovo",
          "Lenovo",
          "Xiaomi",
          "Dell",
          "Acer",
          "Lenovo",
          "Vero",
          "Lenovo",
          "Razer",
          "HP",
          "Lenovo",
          "Acer",
          "Lenovo",
          "Dell",
          "Acer",
          "Asus",
          "HP",
          "Lenovo",
          "Dell",
          "Toshiba",
          "Dell",
          "Asus",
          "Asus",
          "HP",
          "Asus",
          "HP",
          "Dell",
          "Acer",
          "Asus",
          "Asus",
          "Acer",
          "Asus",
          "Asus",
          "Lenovo",
          "HP",
          "Asus",
          "Asus",
          "Asus",
          "Dell",
          "HP",
          "HP",
          "MSI",
          "Lenovo",
          "Dell",
          "Lenovo",
          "Lenovo",
          "Lenovo",
          "Lenovo",
          "Acer",
          "Lenovo",
          "Acer",
          "Asus",
          "HP",
          "Lenovo",
          "Acer",
          "Dell",
          "Lenovo",
          "Asus",
          "Asus",
          "Asus",
          "Asus",
          "Lenovo",
          "HP",
          "Lenovo",
          "MSI",
          "Acer",
          "Asus",
          "Lenovo",
          "HP",
          "Acer",
          "HP",
          "Asus",
          "Acer",
          "HP",
          "MSI",
          "Asus",
          "Lenovo",
          "Asus",
          "HP",
          "Asus",
          "Dell",
          "Lenovo",
          "HP",
          "MSI",
          "HP",
          "Toshiba",
          "Dell",
          "Asus",
          "HP",
          "HP",
          "Lenovo",
          "HP",
          "Lenovo",
          "Asus",
          "HP",
          "Lenovo",
          "Asus",
          "Lenovo",
          "Asus",
          "Lenovo",
          "Lenovo",
          "Dell",
          "Dell",
          "Asus",
          "Asus",
          "MSI",
          "HP",
          "Lenovo",
          "Lenovo",
          "Dell",
          "Asus",
          "MSI",
          "Asus",
          "Toshiba",
          "Lenovo",
          "Lenovo",
          "Lenovo",
          "HP",
          "Dell",
          "HP",
          "Chuwi",
          "HP",
          "Asus",
          "Dell",
          "HP",
          "Mediacom",
          "Samsung",
          "Lenovo",
          "Lenovo",
          "Lenovo",
          "HP",
          "Google",
          "Lenovo",
          "Lenovo",
          "HP",
          "Acer",
          "Dell",
          "MSI",
          "HP",
          "Lenovo",
          "Dell",
          "HP",
          "Asus",
          "Lenovo",
          "Asus",
          "HP",
          "Lenovo",
          "Dell",
          "Dell",
          "Toshiba",
          "Chuwi",
          "Lenovo",
          "Lenovo",
          "Asus",
          "Lenovo",
          "Toshiba",
          "Asus",
          "Lenovo",
          "Lenovo",
          "Lenovo",
          "Asus",
          "HP",
          "Lenovo",
          "Lenovo",
          "Asus",
          "Acer",
          "HP",
          "Dell",
          "Asus",
          "HP",
          "Asus",
          "HP",
          "Asus",
          "HP",
          "Dell",
          "Asus",
          "Mediacom",
          "HP",
          "Lenovo",
          "HP",
          "Asus",
          "Lenovo",
          "Lenovo",
          "Lenovo",
          "HP",
          "Asus",
          "Mediacom",
          "HP",
          "Acer",
          "Lenovo",
          "HP",
          "Lenovo",
          "Asus",
          "Fujitsu",
          "HP",
          "HP",
          "HP",
          "Lenovo",
          "Mediacom",
          "Toshiba",
          "Lenovo",
          "MSI",
          "Dell",
          "MSI",
          "HP",
          "Lenovo",
          "Asus",
          "Dell",
          "Samsung",
          "Lenovo",
          "Lenovo",
          "Dell",
          "HP",
          "Acer",
          "MSI",
          "MSI",
          "Toshiba",
          "Lenovo",
          "Acer",
          "Dell",
          "Asus",
          "MSI",
          "Acer",
          "Fujitsu",
          "Mediacom",
          "Asus",
          "Asus",
          "Lenovo",
          "Lenovo",
          "Asus",
          "Lenovo",
          "HP",
          "Asus",
          "Acer",
          "Toshiba",
          "Asus",
          "Acer",
          "MSI",
          "Toshiba",
          "Lenovo",
          "Dell",
          "Lenovo",
          "HP",
          "MSI",
          "Dell",
          "HP",
          "Toshiba",
          "Lenovo",
          "Lenovo",
          "HP",
          "MSI",
          "HP",
          "LG",
          "Acer",
          "MSI",
          "Asus",
          "Dell",
          "HP",
          "Lenovo",
          "HP",
          "Lenovo",
          "Acer",
          "Lenovo",
          "Acer",
          "Asus",
          "Toshiba",
          "HP",
          "Lenovo",
          "Lenovo",
          "Lenovo",
          "Lenovo",
          "HP",
          "Lenovo",
          "Mediacom",
          "Lenovo",
          "Dell",
          "HP",
          "Acer",
          "HP",
          "Acer",
          "Lenovo",
          "HP",
          "Dell",
          "Toshiba",
          "Lenovo",
          "Lenovo",
          "Samsung",
          "HP",
          "Lenovo",
          "Asus",
          "Lenovo",
          "Asus",
          "Lenovo",
          "HP",
          "Dell",
          "Asus",
          "Acer",
          "Asus",
          "Toshiba",
          "HP",
          "Asus",
          "Lenovo",
          "Asus",
          "Asus",
          "Toshiba",
          "Lenovo",
          "MSI",
          "MSI",
          "Acer",
          "Asus",
          "Vero",
          "Lenovo",
          "Asus",
          "Asus",
          "Dell",
          "HP",
          "HP",
          "Lenovo",
          "Razer",
          "Dell",
          "Lenovo",
          "Toshiba",
          "MSI",
          "Asus",
          "Lenovo",
          "Asus",
          "Asus",
          "Asus",
          "Asus",
          "Dell",
          "Lenovo",
          "Asus",
          "Asus",
          "Dell",
          "Toshiba",
          "Toshiba",
          "Acer",
          "Toshiba",
          "Asus",
          "HP",
          "Asus",
          "Lenovo",
          "Asus",
          "Acer",
          "HP",
          "HP",
          "MSI",
          "Toshiba",
          "Asus",
          "LG",
          "Acer",
          "LG",
          "HP",
          "Lenovo",
          "MSI",
          "HP",
          "Toshiba",
          "HP",
          "Toshiba",
          "MSI",
          "HP",
          "Asus",
          "Acer",
          "Toshiba",
          "Lenovo",
          "Lenovo",
          "Dell",
          "HP",
          "Toshiba",
          "HP",
          "Acer",
          "Toshiba",
          "Acer",
          "Toshiba",
          "Toshiba",
          "Lenovo",
          "Asus",
          "HP",
          "Asus",
          "Dell",
          "Toshiba",
          "Fujitsu",
          "Toshiba",
          "HP",
          "Lenovo",
          "Lenovo",
          "Asus",
          "HP",
          "Acer",
          "Asus",
          "Acer",
          "HP",
          "Toshiba",
          "Toshiba",
          "Lenovo",
          "Toshiba",
          "Dell",
          "Toshiba",
          "HP",
          "Dell",
          "Toshiba",
          "Lenovo",
          "Vero",
          "Toshiba",
          "Lenovo",
          "MSI",
          "Lenovo",
          "Asus",
          "HP",
          "Dell",
          "HP",
          "Acer",
          "Dell",
          "MSI",
          "Asus",
          "MSI",
          "Asus",
          "Dell",
          "Lenovo",
          "Lenovo",
          "MSI",
          "Lenovo",
          "Lenovo",
          "HP",
          "Asus",
          "Acer",
          "MSI",
          "Asus",
          "Dell",
          "Acer",
          "MSI",
          "HP",
          "Asus",
          "Dell",
          "Lenovo",
          "HP",
          "Toshiba",
          "Asus",
          "Vero",
          "HP",
          "HP",
          "Lenovo",
          "Asus",
          "Lenovo",
          "MSI",
          "Lenovo",
          "HP",
          "Lenovo",
          "HP",
          "MSI",
          "Lenovo",
          "Lenovo",
          "MSI",
          "HP",
          "Lenovo",
          "HP",
          "Lenovo",
          "HP",
          "MSI",
          "Asus",
          "Lenovo",
          "Asus",
          "Lenovo",
          "MSI",
          "HP",
          "Asus",
          "Samsung",
          "HP",
          "Lenovo",
          "Asus",
          "MSI",
          "Asus",
          "HP",
          "Acer",
          "Asus",
          "Acer",
          "Acer",
          "Acer",
          "Lenovo",
          "MSI",
          "HP",
          "Dell",
          "Asus",
          "MSI",
          "MSI",
          "HP",
          "MSI",
          "Asus",
          "Dell",
          "Asus",
          "Asus",
          "Lenovo",
          "Lenovo",
          "Asus",
          "Asus",
          "Lenovo",
          "MSI",
          "Lenovo",
          "Asus",
          "Acer",
          "HP",
          "HP",
          "Asus",
          "Lenovo",
          "HP",
          "Asus"
         ],
         "xaxis": "x",
         "yaxis": "y"
        }
       ],
       "layout": {
        "barmode": "relative",
        "legend": {
         "tracegroupgap": 0
        },
        "template": {
         "data": {
          "bar": [
           {
            "error_x": {
             "color": "#2a3f5f"
            },
            "error_y": {
             "color": "#2a3f5f"
            },
            "marker": {
             "line": {
              "color": "#E5ECF6",
              "width": 0.5
             },
             "pattern": {
              "fillmode": "overlay",
              "size": 10,
              "solidity": 0.2
             }
            },
            "type": "bar"
           }
          ],
          "barpolar": [
           {
            "marker": {
             "line": {
              "color": "#E5ECF6",
              "width": 0.5
             },
             "pattern": {
              "fillmode": "overlay",
              "size": 10,
              "solidity": 0.2
             }
            },
            "type": "barpolar"
           }
          ],
          "carpet": [
           {
            "aaxis": {
             "endlinecolor": "#2a3f5f",
             "gridcolor": "white",
             "linecolor": "white",
             "minorgridcolor": "white",
             "startlinecolor": "#2a3f5f"
            },
            "baxis": {
             "endlinecolor": "#2a3f5f",
             "gridcolor": "white",
             "linecolor": "white",
             "minorgridcolor": "white",
             "startlinecolor": "#2a3f5f"
            },
            "type": "carpet"
           }
          ],
          "choropleth": [
           {
            "colorbar": {
             "outlinewidth": 0,
             "ticks": ""
            },
            "type": "choropleth"
           }
          ],
          "contour": [
           {
            "colorbar": {
             "outlinewidth": 0,
             "ticks": ""
            },
            "colorscale": [
             [
              0,
              "#0d0887"
             ],
             [
              0.1111111111111111,
              "#46039f"
             ],
             [
              0.2222222222222222,
              "#7201a8"
             ],
             [
              0.3333333333333333,
              "#9c179e"
             ],
             [
              0.4444444444444444,
              "#bd3786"
             ],
             [
              0.5555555555555556,
              "#d8576b"
             ],
             [
              0.6666666666666666,
              "#ed7953"
             ],
             [
              0.7777777777777778,
              "#fb9f3a"
             ],
             [
              0.8888888888888888,
              "#fdca26"
             ],
             [
              1,
              "#f0f921"
             ]
            ],
            "type": "contour"
           }
          ],
          "contourcarpet": [
           {
            "colorbar": {
             "outlinewidth": 0,
             "ticks": ""
            },
            "type": "contourcarpet"
           }
          ],
          "heatmap": [
           {
            "colorbar": {
             "outlinewidth": 0,
             "ticks": ""
            },
            "colorscale": [
             [
              0,
              "#0d0887"
             ],
             [
              0.1111111111111111,
              "#46039f"
             ],
             [
              0.2222222222222222,
              "#7201a8"
             ],
             [
              0.3333333333333333,
              "#9c179e"
             ],
             [
              0.4444444444444444,
              "#bd3786"
             ],
             [
              0.5555555555555556,
              "#d8576b"
             ],
             [
              0.6666666666666666,
              "#ed7953"
             ],
             [
              0.7777777777777778,
              "#fb9f3a"
             ],
             [
              0.8888888888888888,
              "#fdca26"
             ],
             [
              1,
              "#f0f921"
             ]
            ],
            "type": "heatmap"
           }
          ],
          "heatmapgl": [
           {
            "colorbar": {
             "outlinewidth": 0,
             "ticks": ""
            },
            "colorscale": [
             [
              0,
              "#0d0887"
             ],
             [
              0.1111111111111111,
              "#46039f"
             ],
             [
              0.2222222222222222,
              "#7201a8"
             ],
             [
              0.3333333333333333,
              "#9c179e"
             ],
             [
              0.4444444444444444,
              "#bd3786"
             ],
             [
              0.5555555555555556,
              "#d8576b"
             ],
             [
              0.6666666666666666,
              "#ed7953"
             ],
             [
              0.7777777777777778,
              "#fb9f3a"
             ],
             [
              0.8888888888888888,
              "#fdca26"
             ],
             [
              1,
              "#f0f921"
             ]
            ],
            "type": "heatmapgl"
           }
          ],
          "histogram": [
           {
            "marker": {
             "pattern": {
              "fillmode": "overlay",
              "size": 10,
              "solidity": 0.2
             }
            },
            "type": "histogram"
           }
          ],
          "histogram2d": [
           {
            "colorbar": {
             "outlinewidth": 0,
             "ticks": ""
            },
            "colorscale": [
             [
              0,
              "#0d0887"
             ],
             [
              0.1111111111111111,
              "#46039f"
             ],
             [
              0.2222222222222222,
              "#7201a8"
             ],
             [
              0.3333333333333333,
              "#9c179e"
             ],
             [
              0.4444444444444444,
              "#bd3786"
             ],
             [
              0.5555555555555556,
              "#d8576b"
             ],
             [
              0.6666666666666666,
              "#ed7953"
             ],
             [
              0.7777777777777778,
              "#fb9f3a"
             ],
             [
              0.8888888888888888,
              "#fdca26"
             ],
             [
              1,
              "#f0f921"
             ]
            ],
            "type": "histogram2d"
           }
          ],
          "histogram2dcontour": [
           {
            "colorbar": {
             "outlinewidth": 0,
             "ticks": ""
            },
            "colorscale": [
             [
              0,
              "#0d0887"
             ],
             [
              0.1111111111111111,
              "#46039f"
             ],
             [
              0.2222222222222222,
              "#7201a8"
             ],
             [
              0.3333333333333333,
              "#9c179e"
             ],
             [
              0.4444444444444444,
              "#bd3786"
             ],
             [
              0.5555555555555556,
              "#d8576b"
             ],
             [
              0.6666666666666666,
              "#ed7953"
             ],
             [
              0.7777777777777778,
              "#fb9f3a"
             ],
             [
              0.8888888888888888,
              "#fdca26"
             ],
             [
              1,
              "#f0f921"
             ]
            ],
            "type": "histogram2dcontour"
           }
          ],
          "mesh3d": [
           {
            "colorbar": {
             "outlinewidth": 0,
             "ticks": ""
            },
            "type": "mesh3d"
           }
          ],
          "parcoords": [
           {
            "line": {
             "colorbar": {
              "outlinewidth": 0,
              "ticks": ""
             }
            },
            "type": "parcoords"
           }
          ],
          "pie": [
           {
            "automargin": true,
            "type": "pie"
           }
          ],
          "scatter": [
           {
            "fillpattern": {
             "fillmode": "overlay",
             "size": 10,
             "solidity": 0.2
            },
            "type": "scatter"
           }
          ],
          "scatter3d": [
           {
            "line": {
             "colorbar": {
              "outlinewidth": 0,
              "ticks": ""
             }
            },
            "marker": {
             "colorbar": {
              "outlinewidth": 0,
              "ticks": ""
             }
            },
            "type": "scatter3d"
           }
          ],
          "scattercarpet": [
           {
            "marker": {
             "colorbar": {
              "outlinewidth": 0,
              "ticks": ""
             }
            },
            "type": "scattercarpet"
           }
          ],
          "scattergeo": [
           {
            "marker": {
             "colorbar": {
              "outlinewidth": 0,
              "ticks": ""
             }
            },
            "type": "scattergeo"
           }
          ],
          "scattergl": [
           {
            "marker": {
             "colorbar": {
              "outlinewidth": 0,
              "ticks": ""
             }
            },
            "type": "scattergl"
           }
          ],
          "scattermapbox": [
           {
            "marker": {
             "colorbar": {
              "outlinewidth": 0,
              "ticks": ""
             }
            },
            "type": "scattermapbox"
           }
          ],
          "scatterpolar": [
           {
            "marker": {
             "colorbar": {
              "outlinewidth": 0,
              "ticks": ""
             }
            },
            "type": "scatterpolar"
           }
          ],
          "scatterpolargl": [
           {
            "marker": {
             "colorbar": {
              "outlinewidth": 0,
              "ticks": ""
             }
            },
            "type": "scatterpolargl"
           }
          ],
          "scatterternary": [
           {
            "marker": {
             "colorbar": {
              "outlinewidth": 0,
              "ticks": ""
             }
            },
            "type": "scatterternary"
           }
          ],
          "surface": [
           {
            "colorbar": {
             "outlinewidth": 0,
             "ticks": ""
            },
            "colorscale": [
             [
              0,
              "#0d0887"
             ],
             [
              0.1111111111111111,
              "#46039f"
             ],
             [
              0.2222222222222222,
              "#7201a8"
             ],
             [
              0.3333333333333333,
              "#9c179e"
             ],
             [
              0.4444444444444444,
              "#bd3786"
             ],
             [
              0.5555555555555556,
              "#d8576b"
             ],
             [
              0.6666666666666666,
              "#ed7953"
             ],
             [
              0.7777777777777778,
              "#fb9f3a"
             ],
             [
              0.8888888888888888,
              "#fdca26"
             ],
             [
              1,
              "#f0f921"
             ]
            ],
            "type": "surface"
           }
          ],
          "table": [
           {
            "cells": {
             "fill": {
              "color": "#EBF0F8"
             },
             "line": {
              "color": "white"
             }
            },
            "header": {
             "fill": {
              "color": "#C8D4E3"
             },
             "line": {
              "color": "white"
             }
            },
            "type": "table"
           }
          ]
         },
         "layout": {
          "annotationdefaults": {
           "arrowcolor": "#2a3f5f",
           "arrowhead": 0,
           "arrowwidth": 1
          },
          "autotypenumbers": "strict",
          "coloraxis": {
           "colorbar": {
            "outlinewidth": 0,
            "ticks": ""
           }
          },
          "colorscale": {
           "diverging": [
            [
             0,
             "#8e0152"
            ],
            [
             0.1,
             "#c51b7d"
            ],
            [
             0.2,
             "#de77ae"
            ],
            [
             0.3,
             "#f1b6da"
            ],
            [
             0.4,
             "#fde0ef"
            ],
            [
             0.5,
             "#f7f7f7"
            ],
            [
             0.6,
             "#e6f5d0"
            ],
            [
             0.7,
             "#b8e186"
            ],
            [
             0.8,
             "#7fbc41"
            ],
            [
             0.9,
             "#4d9221"
            ],
            [
             1,
             "#276419"
            ]
           ],
           "sequential": [
            [
             0,
             "#0d0887"
            ],
            [
             0.1111111111111111,
             "#46039f"
            ],
            [
             0.2222222222222222,
             "#7201a8"
            ],
            [
             0.3333333333333333,
             "#9c179e"
            ],
            [
             0.4444444444444444,
             "#bd3786"
            ],
            [
             0.5555555555555556,
             "#d8576b"
            ],
            [
             0.6666666666666666,
             "#ed7953"
            ],
            [
             0.7777777777777778,
             "#fb9f3a"
            ],
            [
             0.8888888888888888,
             "#fdca26"
            ],
            [
             1,
             "#f0f921"
            ]
           ],
           "sequentialminus": [
            [
             0,
             "#0d0887"
            ],
            [
             0.1111111111111111,
             "#46039f"
            ],
            [
             0.2222222222222222,
             "#7201a8"
            ],
            [
             0.3333333333333333,
             "#9c179e"
            ],
            [
             0.4444444444444444,
             "#bd3786"
            ],
            [
             0.5555555555555556,
             "#d8576b"
            ],
            [
             0.6666666666666666,
             "#ed7953"
            ],
            [
             0.7777777777777778,
             "#fb9f3a"
            ],
            [
             0.8888888888888888,
             "#fdca26"
            ],
            [
             1,
             "#f0f921"
            ]
           ]
          },
          "colorway": [
           "#636efa",
           "#EF553B",
           "#00cc96",
           "#ab63fa",
           "#FFA15A",
           "#19d3f3",
           "#FF6692",
           "#B6E880",
           "#FF97FF",
           "#FECB52"
          ],
          "font": {
           "color": "#2a3f5f"
          },
          "geo": {
           "bgcolor": "white",
           "lakecolor": "white",
           "landcolor": "#E5ECF6",
           "showlakes": true,
           "showland": true,
           "subunitcolor": "white"
          },
          "hoverlabel": {
           "align": "left"
          },
          "hovermode": "closest",
          "mapbox": {
           "style": "light"
          },
          "paper_bgcolor": "white",
          "plot_bgcolor": "#E5ECF6",
          "polar": {
           "angularaxis": {
            "gridcolor": "white",
            "linecolor": "white",
            "ticks": ""
           },
           "bgcolor": "#E5ECF6",
           "radialaxis": {
            "gridcolor": "white",
            "linecolor": "white",
            "ticks": ""
           }
          },
          "scene": {
           "xaxis": {
            "backgroundcolor": "#E5ECF6",
            "gridcolor": "white",
            "gridwidth": 2,
            "linecolor": "white",
            "showbackground": true,
            "ticks": "",
            "zerolinecolor": "white"
           },
           "yaxis": {
            "backgroundcolor": "#E5ECF6",
            "gridcolor": "white",
            "gridwidth": 2,
            "linecolor": "white",
            "showbackground": true,
            "ticks": "",
            "zerolinecolor": "white"
           },
           "zaxis": {
            "backgroundcolor": "#E5ECF6",
            "gridcolor": "white",
            "gridwidth": 2,
            "linecolor": "white",
            "showbackground": true,
            "ticks": "",
            "zerolinecolor": "white"
           }
          },
          "shapedefaults": {
           "line": {
            "color": "#2a3f5f"
           }
          },
          "ternary": {
           "aaxis": {
            "gridcolor": "white",
            "linecolor": "white",
            "ticks": ""
           },
           "baxis": {
            "gridcolor": "white",
            "linecolor": "white",
            "ticks": ""
           },
           "bgcolor": "#E5ECF6",
           "caxis": {
            "gridcolor": "white",
            "linecolor": "white",
            "ticks": ""
           }
          },
          "title": {
           "x": 0.05
          },
          "xaxis": {
           "automargin": true,
           "gridcolor": "white",
           "linecolor": "white",
           "ticks": "",
           "title": {
            "standoff": 15
           },
           "zerolinecolor": "white",
           "zerolinewidth": 2
          },
          "yaxis": {
           "automargin": true,
           "gridcolor": "white",
           "linecolor": "white",
           "ticks": "",
           "title": {
            "standoff": 15
           },
           "zerolinecolor": "white",
           "zerolinewidth": 2
          }
         }
        },
        "title": {
         "text": "Product distribution"
        },
        "xaxis": {
         "anchor": "y",
         "domain": [
          0,
          1
         ],
         "title": {
          "text": "Company"
         }
        },
        "yaxis": {
         "anchor": "x",
         "domain": [
          0,
          1
         ],
         "title": {
          "text": "count"
         }
        }
       }
      }
     },
     "metadata": {},
     "output_type": "display_data"
    }
   ],
   "source": [
    "df_product_unique = df.drop_duplicates(subset=['Product'])\n",
    "\n",
    "fig = px.histogram(df_product_unique, x='Company', title='Product distribution')\n",
    "\n",
    "fig.write_image(\"images/product_distribution_unique.png\")\n",
    "fig.show()"
   ]
  }
 ],
 "metadata": {
  "kernelspec": {
   "display_name": "Python 3",
   "language": "python",
   "name": "python3"
  },
  "language_info": {
   "codemirror_mode": {
    "name": "ipython",
    "version": 3
   },
   "file_extension": ".py",
   "mimetype": "text/x-python",
   "name": "python",
   "nbconvert_exporter": "python",
   "pygments_lexer": "ipython3",
   "version": "3.8.0"
  },
  "orig_nbformat": 4
 },
 "nbformat": 4,
 "nbformat_minor": 2
}
